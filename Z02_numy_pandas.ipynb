{
 "cells": [
  {
   "cell_type": "markdown",
   "metadata": {
    "collapsed": true
   },
   "source": [
    "# NumPy - operacje arytmetyczne w Pythonie\n",
    "\n",
    "Standardowe typy danych i procedury Pythona nie nadają się do poważnych zastosowań numerycznych. Konieczne było opracowanie zoptymalizowanych pod względem typowych operacji numerycznych typów danych i procedur. Stworzony został Numerical Python, zwany w skrócie NumPy. Podczas rozwoju tego pakietu kierowano się podejściem zastosowanym w takich językach jak Basis, MATLAB, rodzina języków APL, FORTRAN i innych. Tak więc NumPy jest biblioteką Pythona służącą do obliczeń naukowych. Dostarcza ona listę matematycznych funkcji użytecznych w takich zagadnieniach jak:\n",
    "  \n",
    "  * algebra liniowa,\n",
    "  * transformacje Fouriera,\n",
    "  * generowanie liczb losowych,\n",
    "  * oraz wszystkie operacje na tablicach i macierzach, które są podstawowymi obiektami w Numpy.\n",
    "  \n",
    "Żeby można korzystać z dobrodziejstwa tej biblioteki należy ją zaimportować:"
   ]
  },
  {
   "cell_type": "code",
   "execution_count": 3,
   "metadata": {},
   "outputs": [],
   "source": [
    "import numpy\n",
    "# lub\n",
    "import numpy as np "
   ]
  },
  {
   "cell_type": "markdown",
   "metadata": {},
   "source": [
    "## Tworzenie macierzy\n",
    "Do stworzenia tablicy jedno-, dwu- i wielowymiarowej używamy funkcji **array**:"
   ]
  },
  {
   "cell_type": "code",
   "execution_count": 4,
   "metadata": {},
   "outputs": [
    {
     "name": "stdout",
     "output_type": "stream",
     "text": [
      "[1 2 3]\n",
      "\n",
      " \n",
      "\n",
      "[[1 2 3]\n",
      " [4 5 6]]\n",
      "\n",
      " \n",
      "\n",
      "[[[1 1 1]\n",
      "  [1 1 1]]\n",
      "\n",
      " [[2 2 2]\n",
      "  [2 2 2]]]\n"
     ]
    }
   ],
   "source": [
    "x = np.array([1,2,3]) # tablica jednowymiarowa\n",
    "A = np.array([[1,2,3] , [4,5,6]]) # tablica dwuwymiarowa\n",
    "B = np.array( [[[1,1,1],[1,1,1]], [[2,2,2],[2,2,2]]]) # wielowymiarowa\n",
    "\n",
    "print(x)\n",
    "print(\"\\n \\n\")\n",
    "print(A)\n",
    "print(\"\\n \\n\")\n",
    "print(B)"
   ]
  },
  {
   "cell_type": "markdown",
   "metadata": {},
   "source": [
    "Przy tworzeniu tablicy istnieje możliwość zadeklarowania jej typu:"
   ]
  },
  {
   "cell_type": "code",
   "execution_count": 5,
   "metadata": {},
   "outputs": [
    {
     "name": "stdout",
     "output_type": "stream",
     "text": [
      "[[1.+0.j 0.+0.j]\n",
      " [0.+0.j 1.+0.j]]\n"
     ]
    }
   ],
   "source": [
    "z = np.array( [[1,0], [0,1]], dtype=complex) # tablica liczb zespolonych\n",
    "print(z) "
   ]
  },
  {
   "cell_type": "markdown",
   "metadata": {},
   "source": [
    "Do tworzenia tablicy jednowymiarowej (wektora) składającego się z elementów z danego zakresu używamy polecenia **arange(start, stop, krok)**:"
   ]
  },
  {
   "cell_type": "code",
   "execution_count": 6,
   "metadata": {},
   "outputs": [
    {
     "name": "stdout",
     "output_type": "stream",
     "text": [
      "[0 1 2 3 4 5 6 7 8 9]\n",
      " \n",
      "[0 2 4 6 8]\n",
      " \n",
      "[0.  0.5 1.  1.5 2.  2.5 3.  3.5 4.  4.5 5.  5.5 6.  6.5 7.  7.5 8.  8.5\n",
      " 9.  9.5]\n"
     ]
    }
   ],
   "source": [
    "print(np.arange(10), end='\\n \\n')\n",
    "print(np.arange(0, 10, 2), end='\\n \\n')\n",
    "print(np.arange(0., 10, 0.5))"
   ]
  },
  {
   "cell_type": "markdown",
   "metadata": {},
   "source": [
    "Jeśli chcemy wygenerować tablicę o określonej liczbie z danego przedziału, używamy funkcji **linspace**:"
   ]
  },
  {
   "cell_type": "code",
   "execution_count": 7,
   "metadata": {},
   "outputs": [
    {
     "name": "stdout",
     "output_type": "stream",
     "text": [
      "[ 0.  5. 10.]\n",
      " \n",
      "[0.   0.25 0.5  0.75 1.  ]\n"
     ]
    }
   ],
   "source": [
    "print(np.linspace(0., 10., 3), end='\\n \\n')\n",
    "print(np.linspace(0., 1, 5) )"
   ]
  },
  {
   "cell_type": "markdown",
   "metadata": {},
   "source": [
    "Biblioteka Numpy oferuje wiele możliwości budowania typowych tablic:"
   ]
  },
  {
   "cell_type": "code",
   "execution_count": 8,
   "metadata": {},
   "outputs": [
    {
     "name": "stdout",
     "output_type": "stream",
     "text": [
      "[[1. 1. 1.]\n",
      " [1. 1. 1.]\n",
      " [1. 1. 1.]] \n",
      "\n",
      "[[0. 0.]\n",
      " [0. 0.]\n",
      " [0. 0.]] \n",
      "\n",
      "[[1. 0. 0. 0.]\n",
      " [0. 1. 0. 0.]\n",
      " [0. 0. 1. 0.]\n",
      " [0. 0. 0. 1.]]\n"
     ]
    }
   ],
   "source": [
    "print(np.ones((3,3)), '\\n') # dwuwymiarowa tablica (3x3) wypełniona jedynkami\n",
    "print(np.zeros((3,2)), '\\n') # dwuwymiarowa tablica (3x2) wypełniona zerami\n",
    "print(np.eye(4)) # macierz jednostkowa 4x4"
   ]
  },
  {
   "cell_type": "markdown",
   "metadata": {},
   "source": [
    "Korzystając z powyższych funkcji możemy w łatwy sposób tworzyć dowolne macierze, zmieniając ich rozmiary."
   ]
  },
  {
   "cell_type": "code",
   "execution_count": 9,
   "metadata": {},
   "outputs": [
    {
     "name": "stdout",
     "output_type": "stream",
     "text": [
      "[[ 0  1  2]\n",
      " [ 3  4  5]\n",
      " [ 6  7  8]\n",
      " [ 9 10 11]\n",
      " [12 13 14]] \n",
      "\n",
      "[[0.         0.07142857 0.14285714]\n",
      " [0.21428571 0.28571429 0.35714286]\n",
      " [0.42857143 0.5        0.57142857]\n",
      " [0.64285714 0.71428571 0.78571429]\n",
      " [0.85714286 0.92857143 1.        ]]\n"
     ]
    }
   ],
   "source": [
    "print(np.arange(15).reshape(5,3), '\\n')\n",
    "print(np.linspace(0., 1, 15).reshape(5,3))"
   ]
  },
  {
   "cell_type": "markdown",
   "metadata": {},
   "source": [
    "# Operacje na indeksach tablicy\n",
    "Żeby odwołać się do konkretnej wartości tablicy należy użyć **[]** z odpowiednim indeksem (pamiętamy, że w Pythonie zaczynamy indeksować od 0)."
   ]
  },
  {
   "cell_type": "code",
   "execution_count": 10,
   "metadata": {},
   "outputs": [
    {
     "name": "stdout",
     "output_type": "stream",
     "text": [
      "[ 0  1  2  3  4  5  6  7  8  9 10 11 12 13 14] \n",
      "\n",
      "3 \n",
      "\n",
      "[[ 0  1  2  3]\n",
      " [ 4  5  6  7]\n",
      " [ 8  9 10 11]\n",
      " [12 13 14 15]\n",
      " [16 17 18 19]] \n",
      "\n",
      "11\n",
      "11 \n",
      "\n",
      "[ 8  9 10 11] \n",
      "\n",
      "[ 2  6 10 14 18]\n"
     ]
    }
   ],
   "source": [
    "x = np.arange(15)\n",
    "print(x, '\\n')\n",
    "print(x[3], '\\n')\n",
    "\n",
    "A = np.arange(20).reshape(5,4)\n",
    "print(A, '\\n')\n",
    "print(A[2, 3])\n",
    "print(A[2][3], '\\n') # równoważnie\n",
    "print(A[2], '\\n') # trzeci wiersz\n",
    "print(A[:, 2]) # trzecia kolumna"
   ]
  },
  {
   "cell_type": "markdown",
   "metadata": {},
   "source": [
    "Aby wyświetlić fragment tablicy od  $n-1$  do  $m-1$  elementów używamy składni: **tablica[n:m]**, analogicznie aby wyświetlić elementy tablicy pomiędzy  $n-1$ , a  $m-1$  przesuwając się o wartość  $k$  używamy składni **tablica[n:m:k]**. \n"
   ]
  },
  {
   "cell_type": "code",
   "execution_count": 11,
   "metadata": {},
   "outputs": [
    {
     "name": "stdout",
     "output_type": "stream",
     "text": [
      "[ 0  1  2  3  4  5  6  7  8  9 10 11 12 13 14] \n",
      "\n",
      "[ 3  4  5  6  7  8  9 10]\n",
      "[3 5 7 9] \n",
      "\n",
      "[[ 8  9 10 11]\n",
      " [12 13 14 15]] \n",
      "\n",
      "[[ 2  3]\n",
      " [ 6  7]\n",
      " [10 11]\n",
      " [14 15]\n",
      " [18 19]] \n",
      "\n",
      "[[ 2  3]\n",
      " [ 6  7]\n",
      " [10 11]\n",
      " [14 15]\n",
      " [18 19]]\n"
     ]
    }
   ],
   "source": [
    "x = np.arange(15)\n",
    "print(x, '\\n')\n",
    "print(x[3:11])\n",
    "print(x[3:11:2], '\\n')\n",
    "\n",
    "A = np.arange(20).reshape(5,4)\n",
    "print(A[2:4], '\\n') # wiersze od trzeciego do czwartego\n",
    "print(A[:,2:4], '\\n') # trzecia i czwarta kolumnę\n",
    "print(A[:,[2,3]]) # równoważnie"
   ]
  },
  {
   "cell_type": "markdown",
   "metadata": {},
   "source": [
    "Jak widać z powyższych przykładów, przecinek w nawiasach **[]** rozdziela poszczególne wymiary tablic."
   ]
  },
  {
   "cell_type": "code",
   "execution_count": 12,
   "metadata": {},
   "outputs": [
    {
     "name": "stdout",
     "output_type": "stream",
     "text": [
      "[5 6 7] \n",
      "\n",
      "[[4 5]\n",
      " [8 9]] \n",
      "\n",
      "[4 6]\n"
     ]
    }
   ],
   "source": [
    "print(A[1,1:5], '\\n') # elementy z drugiego wiersza i od drugiej do piątej kolumny \n",
    "print(A[1:3, :2], '\\n') # elementy od drugiego do trzeciego wiersza, \n",
    "                 # znajdujące się w kolumnach od pierwszej do drugiej\n",
    "print(A[1,0:5:2]) # elementy drugiego wiersza i kolumny od pierwszej do piątej co dwie"
   ]
  },
  {
   "cell_type": "markdown",
   "metadata": {},
   "source": [
    "Tablice można też budować w oparciu o już istniejące:"
   ]
  },
  {
   "cell_type": "code",
   "execution_count": 13,
   "metadata": {},
   "outputs": [
    {
     "name": "stdout",
     "output_type": "stream",
     "text": [
      "[[ 0  1  2  3]\n",
      " [ 4  5  6  7]\n",
      " [ 8  9 10 11]\n",
      " [12 13 14 15]\n",
      " [16 17 18 19]] \n",
      "\n",
      "[[10 11]\n",
      " [14 15]]\n"
     ]
    }
   ],
   "source": [
    "A = np.arange(20).reshape(5,4)\n",
    "print(A, '\\n')\n",
    "\n",
    "B = A[2:4, 2:]\n",
    "print(B)"
   ]
  },
  {
   "cell_type": "markdown",
   "metadata": {},
   "source": [
    "# Zmiana rozmiaru, kształtu tablicy\n",
    "Do zmiany rozmiaru tablicy już utworzonej służy funkcja: reshape. Operacja ta nie zmieni zawartości oryginalnej tablicy, pokaże jedynie jej elementy w zadanej postaci."
   ]
  },
  {
   "cell_type": "code",
   "execution_count": 14,
   "metadata": {},
   "outputs": [
    {
     "name": "stdout",
     "output_type": "stream",
     "text": [
      "[0 1 2 3 4 5 6 7] \n",
      "\n",
      "[[0 1 2 3]\n",
      " [4 5 6 7]] \n",
      "\n",
      "[0 1 2 3 4 5 6 7]\n"
     ]
    }
   ],
   "source": [
    "A = np.arange(8)\n",
    "print(A,'\\n')\n",
    "print(A.reshape((2, 4)), '\\n')\n",
    "print(A)"
   ]
  },
  {
   "cell_type": "markdown",
   "metadata": {},
   "source": [
    "Aby zmienić kształt tablicy za pomocą funkcji reshape możemy zrobić tak:"
   ]
  },
  {
   "cell_type": "code",
   "execution_count": 15,
   "metadata": {},
   "outputs": [
    {
     "name": "stdout",
     "output_type": "stream",
     "text": [
      "[0 1 2 3 4 5 6 7] \n",
      "\n",
      "[[0 1 2 3]\n",
      " [4 5 6 7]]\n"
     ]
    }
   ],
   "source": [
    "A = np.arange(8)\n",
    "print(A,'\\n')\n",
    "A = A.reshape((2, 4))\n",
    "print(A)"
   ]
  },
  {
   "cell_type": "markdown",
   "metadata": {},
   "source": [
    "lub użyć funkcję **resize**:"
   ]
  },
  {
   "cell_type": "code",
   "execution_count": 16,
   "metadata": {},
   "outputs": [
    {
     "name": "stdout",
     "output_type": "stream",
     "text": [
      "[0 1 2 3 4 5 6 7] \n",
      "\n",
      "[[0 1 2 3]\n",
      " [4 5 6 7]]\n"
     ]
    }
   ],
   "source": [
    "A = np.arange(8)\n",
    "print(A,'\\n')\n",
    "A.resize(2, 4)\n",
    "# print A.resize(2, 4), '\\n'\n",
    "print(A)"
   ]
  },
  {
   "cell_type": "markdown",
   "metadata": {},
   "source": [
    "Do sprawdzenia wymiaru tablicy służy funkcja **shape**:"
   ]
  },
  {
   "cell_type": "code",
   "execution_count": 17,
   "metadata": {},
   "outputs": [
    {
     "name": "stdout",
     "output_type": "stream",
     "text": [
      "(5, 4) \n",
      "\n",
      "5 \n",
      "\n",
      "4 \n",
      "\n",
      "20\n"
     ]
    }
   ],
   "source": [
    "A = np.arange(20).reshape(5,4)\n",
    "print(A.shape, '\\n') # wymiar tablicy\n",
    "print(A.shape[0], '\\n') # pierwszy wymiar\n",
    "print(A.shape[1], '\\n') # drugi wymiar\n",
    "print(A.size) # liczba wszystkich elementów w tablicy "
   ]
  },
  {
   "cell_type": "markdown",
   "metadata": {},
   "source": [
    "Transpozycja macierzy:"
   ]
  },
  {
   "cell_type": "code",
   "execution_count": 18,
   "metadata": {},
   "outputs": [
    {
     "name": "stdout",
     "output_type": "stream",
     "text": [
      "[[0 1 2 3]\n",
      " [4 5 6 7]] \n",
      "\n",
      "[[0 4]\n",
      " [1 5]\n",
      " [2 6]\n",
      " [3 7]] \n",
      "\n",
      "[[0 4]\n",
      " [1 5]\n",
      " [2 6]\n",
      " [3 7]]\n"
     ]
    }
   ],
   "source": [
    "A = np.arange(8).reshape(2,4)\n",
    "print(A, '\\n')\n",
    "print(A.T, '\\n')\n",
    "print(np.transpose(A))"
   ]
  },
  {
   "cell_type": "markdown",
   "metadata": {},
   "source": [
    "Podobnie jak przy funkcji reshape aby zachować wynik transpozycji macierzy musimy go przypisać do nowej zmiennej."
   ]
  },
  {
   "cell_type": "code",
   "execution_count": 19,
   "metadata": {},
   "outputs": [
    {
     "name": "stdout",
     "output_type": "stream",
     "text": [
      "[[0 1 2 3]\n",
      " [4 5 6 7]] \n",
      "\n",
      "[[0 4]\n",
      " [1 5]\n",
      " [2 6]\n",
      " [3 7]]\n"
     ]
    }
   ],
   "source": [
    "print(A, '\\n')\n",
    "A = A.T\n",
    "print(A)"
   ]
  },
  {
   "cell_type": "markdown",
   "metadata": {},
   "source": [
    "Podobnie jest z poleceniem **swapaxes(tablica, oś1, oś2)**, które wyświetli zmienione wiersze z kolumnami dla tablicy dwuwymiarowej. Dla wielowymiarowych tablic zmieni ono elementy dla zadanych osi."
   ]
  },
  {
   "cell_type": "code",
   "execution_count": 20,
   "metadata": {},
   "outputs": [
    {
     "name": "stdout",
     "output_type": "stream",
     "text": [
      "[[1 2 3]] \n",
      "\n",
      "[[1]\n",
      " [2]\n",
      " [3]] \n",
      "\n",
      "[[[0 1]\n",
      "  [2 3]]\n",
      "\n",
      " [[4 5]\n",
      "  [6 7]]] \n",
      "\n",
      "[[[0 4]\n",
      "  [2 6]]\n",
      "\n",
      " [[1 5]\n",
      "  [3 7]]]\n"
     ]
    }
   ],
   "source": [
    "x = np.array([[1,2,3]])\n",
    "print(x, '\\n')\n",
    "print(np.swapaxes(x,0,1), '\\n')\n",
    "\n",
    "x = np.array([[[0,1],[2,3]],[[4,5],[6,7]]])\n",
    "print(x, '\\n')\n",
    "print(np.swapaxes(x, 0, 2))"
   ]
  },
  {
   "cell_type": "markdown",
   "metadata": {},
   "source": [
    "Aby zmienić tablicę na jednowymiarową, możemy użyć polecenia:"
   ]
  },
  {
   "cell_type": "code",
   "execution_count": 21,
   "metadata": {},
   "outputs": [
    {
     "name": "stdout",
     "output_type": "stream",
     "text": [
      "[[0 1 2 3]\n",
      " [4 5 6 7]] \n",
      "\n",
      "[0 1 2 3 4 5 6 7] \n",
      "\n",
      "[0 1 2 3 4 5 6 7]\n"
     ]
    }
   ],
   "source": [
    "A = np.arange(8).reshape(2,4)\n",
    "print(A, '\\n')\n",
    "print(np.ravel(A), '\\n')\n",
    "print(A.reshape(-1,))"
   ]
  },
  {
   "cell_type": "markdown",
   "metadata": {},
   "source": [
    "# Podstawowe operacje na tablicach\n",
    "\n",
    "  * dodawanie:"
   ]
  },
  {
   "cell_type": "code",
   "execution_count": 22,
   "metadata": {},
   "outputs": [
    {
     "name": "stdout",
     "output_type": "stream",
     "text": [
      "[1 5 8 5 9]\n",
      "[1 5 8 5 9] \n",
      "\n",
      "[2 5 7 3 6] \n",
      "\n",
      "[[15 17 19]\n",
      " [21 23 25]\n",
      " [27 29 31]\n",
      " [33 35 37]\n",
      " [39 41 43]]\n",
      "[[15 17 19]\n",
      " [21 23 25]\n",
      " [27 29 31]\n",
      " [33 35 37]\n",
      " [39 41 43]] \n",
      "\n",
      "[[20 21 22]\n",
      " [23 24 25]\n",
      " [26 27 28]\n",
      " [29 30 31]\n",
      " [32 33 34]] \n",
      "\n",
      "[[15 16 17]\n",
      " [18 19 20]\n",
      " [21 22 23]\n",
      " [24 25 26]\n",
      " [27 28 29]] \n",
      "\n",
      "[1 2 3] \n",
      "\n",
      "[[16 18 20]\n",
      " [19 21 23]\n",
      " [22 24 26]\n",
      " [25 27 29]\n",
      " [28 30 32]]\n"
     ]
    }
   ],
   "source": [
    "x = np.array([1,4,6,2,5])\n",
    "v = np.arange(5)\n",
    "print(x+v)\n",
    "print(np.add(x, v), '\\n') # równoważnie\n",
    "print(x+1, '\\n')\n",
    "\n",
    "A = np.arange(15, 30).reshape((5, 3))\n",
    "B = np.arange(15).reshape((5, 3))\n",
    "print(A+B)\n",
    "print(np.add(A, B), '\\n')\n",
    "print(A+5, '\\n')\n",
    "\n",
    "x = np.array([1,2,3])\n",
    "print(A, '\\n')\n",
    "print(x, '\\n')\n",
    "print(np.add(A, x)) # dodawanie do każdego wiersza wektora x"
   ]
  },
  {
   "cell_type": "markdown",
   "metadata": {},
   "source": [
    "* odejmowanie:"
   ]
  },
  {
   "cell_type": "code",
   "execution_count": 23,
   "metadata": {},
   "outputs": [
    {
     "name": "stdout",
     "output_type": "stream",
     "text": [
      "[ 1  3  4 -1  1]\n",
      "[ 1  3  4 -1  1] \n",
      "\n",
      "[0 3 5 1 4]\n",
      "[[15 15 15]\n",
      " [15 15 15]\n",
      " [15 15 15]\n",
      " [15 15 15]\n",
      " [15 15 15]]\n",
      "[[15 15 15]\n",
      " [15 15 15]\n",
      " [15 15 15]\n",
      " [15 15 15]\n",
      " [15 15 15]] \n",
      "\n",
      "[[14 15 16]\n",
      " [17 18 19]\n",
      " [20 21 22]\n",
      " [23 24 25]\n",
      " [26 27 28]] \n",
      "\n",
      "[[14 14 14]\n",
      " [17 17 17]\n",
      " [20 20 20]\n",
      " [23 23 23]\n",
      " [26 26 26]]\n"
     ]
    }
   ],
   "source": [
    "x = np.array([1,4,6,2,5])\n",
    "v = np.arange(5)\n",
    "print(x-v)\n",
    "print(np.subtract(x, v), '\\n') # równoważnie\n",
    "print(x-1)\n",
    "\n",
    "A = np.arange(15, 30).reshape((5, 3))\n",
    "B = np.arange(15).reshape((5, 3))\n",
    "print(A-B)\n",
    "print(np.subtract(A, B), '\\n')\n",
    "print(A-1, '\\n')\n",
    "\n",
    "x = np.array([1,2,3])\n",
    "print(np.subtract(A, x)) # odjęcie od każdego wiersza wektora x"
   ]
  },
  {
   "cell_type": "markdown",
   "metadata": {},
   "source": [
    "* mnożenie:"
   ]
  },
  {
   "cell_type": "code",
   "execution_count": 24,
   "metadata": {},
   "outputs": [
    {
     "name": "stdout",
     "output_type": "stream",
     "text": [
      "[ 5 20 30 10 25] \n",
      "\n",
      "42 \n",
      "\n",
      "[ 0  4 12  6 20] \n",
      "\n",
      "[[ 5 15]\n",
      " [ 0 30]] \n",
      "\n",
      "[[ 22   0]\n",
      " [ 48 -12]] \n",
      "\n",
      "[[ -2  18]\n",
      " [  0 -12]]\n"
     ]
    }
   ],
   "source": [
    "x = np.array([1,4,6,2,5])\n",
    "v = np.arange(5)\n",
    "print(x*5, '\\n')\n",
    "print(np.dot(x,v), '\\n') # iloczyn skalarny\n",
    "print(x*v, '\\n' )# to nie, mnożony jest element przez element! \n",
    "\n",
    "A = np.array([[1, 3], [0, 6]])\n",
    "print(A*5, '\\n')\n",
    "\n",
    "B = np.array([[-2, 6], [8, -2]])\n",
    "print(np.dot(A, B), '\\n')\n",
    "print(A*B) # to nie, mnożony jest element przez element! "
   ]
  },
  {
   "cell_type": "markdown",
   "metadata": {},
   "source": [
    "NumPy ma możliwość deklarowania macierzy, różnią się one w tym środowisku od tablic tym, że operacja mnożenia nie dotyczy mnożenia elementów, tylko klasycznego mnożenia macierzy:"
   ]
  },
  {
   "cell_type": "code",
   "execution_count": 25,
   "metadata": {},
   "outputs": [
    {
     "name": "stdout",
     "output_type": "stream",
     "text": [
      "[[17  1]\n",
      " [28  1]] \n",
      "\n",
      "[[17  1]\n",
      " [28  1]]\n"
     ]
    }
   ],
   "source": [
    "A = np.matrix( ((2,3), (3, 5)) )\n",
    "B = np.matrix( ((1,2), (5, -1)) )\n",
    "\n",
    "print(A * B, '\\n')\n",
    "print(np.dot(A, B))"
   ]
  },
  {
   "cell_type": "markdown",
   "metadata": {},
   "source": [
    "  * potęgowanie:"
   ]
  },
  {
   "cell_type": "code",
   "execution_count": 26,
   "metadata": {},
   "outputs": [
    {
     "name": "stdout",
     "output_type": "stream",
     "text": [
      "[1 4 6 2 5] \n",
      "\n",
      "[ 1 16 36  4 25]\n",
      "[ 1 16 36  4 25] \n",
      "\n",
      "[[0 1 2]\n",
      " [3 4 5]\n",
      " [6 7 8]] \n",
      "\n",
      "[[ 0  1  4]\n",
      " [ 9 16 25]\n",
      " [36 49 64]] \n",
      "\n",
      "[[ 0  1  4]\n",
      " [ 9 16 25]\n",
      " [36 49 64]]\n"
     ]
    }
   ],
   "source": [
    "x = np.array([1,4,6,2,5])\n",
    "print(x, '\\n')\n",
    "\n",
    "print(x**2)\n",
    "print(np.power(x, 2), '\\n') # równoważnie\n",
    "\n",
    "A = np.arange(9).reshape((3, 3))\n",
    "print(A, '\\n')\n",
    "print(A**2, '\\n') # kwadrat elementów tablicy\n",
    "print(np.power(A, 2)) # równoważnie"
   ]
  },
  {
   "cell_type": "markdown",
   "metadata": {},
   "source": [
    "Więcej funkcji można znaleźć tutaj: [https://docs.scipy.org/doc/numpy/reference/routines.math.html]."
   ]
  },
  {
   "cell_type": "markdown",
   "metadata": {},
   "source": [
    "## Porównania elementów tablic"
   ]
  },
  {
   "cell_type": "code",
   "execution_count": 27,
   "metadata": {},
   "outputs": [
    {
     "name": "stdout",
     "output_type": "stream",
     "text": [
      "[[False False False]\n",
      " [False False False]\n",
      " [False False False]\n",
      " [False False False]\n",
      " [False False False]] \n",
      "\n",
      "[[ True  True  True]\n",
      " [ True  True  True]\n",
      " [ True  True  True]\n",
      " [ True  True  True]\n",
      " [ True  True  True]] \n",
      "\n",
      "[[False False False]\n",
      " [False False False]\n",
      " [False False False]\n",
      " [False False False]\n",
      " [ True False False]] \n",
      "\n",
      "True \n",
      "\n",
      "False\n"
     ]
    }
   ],
   "source": [
    "A = np.arange(5, 20).reshape((5, 3))\n",
    "B = np.arange(15).reshape((5, 3))\n",
    "\n",
    "print(A < B, '\\n')\n",
    "print(A == A, '\\n')\n",
    "print(A == 17, '\\n')\n",
    "print(np.any( A > 17 ), '\\n') # prawdziwe, jeśli każdy element z osobna spełnia warunek \n",
    "print(np.all( A > 17 )) # prawdziwe jeśli wszystkie elementy spełniają warunek"
   ]
  },
  {
   "cell_type": "markdown",
   "metadata": {},
   "source": [
    "## Łączenie i dzielenie tablic\n",
    "Biblioteka <i>NumPy</i> daje nam narzędzia dzięki, którym możemy łączyć i dzielić tablice. Zaczniemy od omówienia problemu łączenia tablic:"
   ]
  },
  {
   "cell_type": "code",
   "execution_count": 28,
   "metadata": {},
   "outputs": [
    {
     "name": "stdout",
     "output_type": "stream",
     "text": [
      "[[1 2]\n",
      " [3 4]] \n",
      "\n",
      "[[5 6]] \n",
      "\n",
      "[[1 2]\n",
      " [3 4]\n",
      " [5 6]] \n",
      "\n",
      "[[1 2]\n",
      " [3 4]\n",
      " [5 6]] \n",
      "\n",
      "[[1 2 5]\n",
      " [3 4 6]] \n",
      "\n",
      "[[1 2 5]\n",
      " [3 4 6]]\n"
     ]
    }
   ],
   "source": [
    "x = np.array([[1, 2], [3, 4]])\n",
    "y = np.array([[5, 6]])\n",
    "\n",
    "print(x, '\\n')\n",
    "print(y, '\\n')\n",
    "\n",
    "# łączenie wierszowe\n",
    "print(np.concatenate((x, y), axis=0), '\\n')\n",
    "print(np.vstack((x,y)), '\\n')\n",
    "\n",
    "# łączenie kolumnowe\n",
    "print(np.concatenate((x,y.T), axis=1), '\\n')\n",
    "print(np.hstack((x,y.T)))"
   ]
  },
  {
   "cell_type": "markdown",
   "metadata": {},
   "source": [
    "## Wybrane metody z algebry linowej\n",
    "Do części funkcji typowych dla algebry liniowej możemy się odwołać po zaimportowaniu biblioteki **linalg** będącej integralną częścią biblioteki NumPy."
   ]
  },
  {
   "cell_type": "code",
   "execution_count": 29,
   "metadata": {},
   "outputs": [],
   "source": [
    "import numpy.linalg as alg "
   ]
  },
  {
   "cell_type": "markdown",
   "metadata": {},
   "source": [
    "Można tam znaleźć funkcję obliczającą:\n",
    "\n",
    "* macierz odwrotną:"
   ]
  },
  {
   "cell_type": "code",
   "execution_count": 30,
   "metadata": {},
   "outputs": [
    {
     "name": "stdout",
     "output_type": "stream",
     "text": [
      "[[-2.   1. ]\n",
      " [ 1.5 -0.5]] \n",
      "\n",
      "[[1.0000000e+00 0.0000000e+00]\n",
      " [8.8817842e-16 1.0000000e+00]]\n"
     ]
    }
   ],
   "source": [
    "A = np.array([[1., 2.], [3., 4.]])\n",
    "invA = alg.inv(A)\n",
    "print(invA, '\\n')\n",
    "print(np.dot(A, invA))"
   ]
  },
  {
   "cell_type": "markdown",
   "metadata": {},
   "source": [
    "  * wyznacznik:"
   ]
  },
  {
   "cell_type": "code",
   "execution_count": 31,
   "metadata": {},
   "outputs": [
    {
     "name": "stdout",
     "output_type": "stream",
     "text": [
      "[[1. 2.]\n",
      " [3. 4.]] \n",
      "\n",
      "-2.0000000000000004\n"
     ]
    }
   ],
   "source": [
    "print(A, '\\n')\n",
    "print(alg.det(A))"
   ]
  },
  {
   "cell_type": "markdown",
   "metadata": {},
   "source": [
    "  * ślad:"
   ]
  },
  {
   "cell_type": "code",
   "execution_count": 32,
   "metadata": {},
   "outputs": [
    {
     "name": "stdout",
     "output_type": "stream",
     "text": [
      "[[1. 2.]\n",
      " [3. 4.]] \n",
      "\n",
      "5.0\n"
     ]
    }
   ],
   "source": [
    "print(A, '\\n')\n",
    "print(np.trace(A))"
   ]
  },
  {
   "cell_type": "markdown",
   "metadata": {},
   "source": [
    "  * normę dla macierz lub wektora:"
   ]
  },
  {
   "cell_type": "code",
   "execution_count": 33,
   "metadata": {},
   "outputs": [
    {
     "name": "stdout",
     "output_type": "stream",
     "text": [
      "5.477225575051661 \n",
      "\n",
      "5.477225575051661 \n",
      "\n",
      "7.0 \n",
      "\n",
      "[3.16227766 4.47213595] \n",
      "\n",
      "[2.23606798 5.        ] \n",
      "\n"
     ]
    }
   ],
   "source": [
    "print(alg.norm(A), '\\n') # Euklidesowa\n",
    "print(alg.norm(A, 'fro'), '\\n') # Frobeniusa\n",
    "print(alg.norm(A, np.inf), '\\n') # maksimum\n",
    "\n",
    "print(alg.norm(A, axis=0), '\\n') # wierszy\n",
    "print(alg.norm(A, axis=1), '\\n') # kolumn"
   ]
  },
  {
   "cell_type": "markdown",
   "metadata": {},
   "source": [
    "  * rozwiązywanie układów równań:"
   ]
  },
  {
   "cell_type": "code",
   "execution_count": 34,
   "metadata": {},
   "outputs": [
    {
     "name": "stdout",
     "output_type": "stream",
     "text": [
      "[2.33333333 0.66666667]\n"
     ]
    }
   ],
   "source": [
    "# 4*x_1 + x_2 = 10\n",
    "# 3*x_1 = 7\n",
    "A = np.array([[4,1], [3,0]])\n",
    "b = np.array([10,7])\n",
    "print(np.linalg.solve(A, b))"
   ]
  },
  {
   "cell_type": "markdown",
   "metadata": {},
   "source": [
    "## Statystyka\n",
    "<i>NumPy</i> oferuje dużo możliwości generacji liczb losowych. Poniżej podaję niektóre z nich, więcej można znaleźć tutaj:\n",
    "[https://docs.scipy.org/doc/numpy/reference/routines.random.html]"
   ]
  },
  {
   "cell_type": "code",
   "execution_count": 35,
   "metadata": {},
   "outputs": [
    {
     "name": "stdout",
     "output_type": "stream",
     "text": [
      "[[0.24625813 0.34313692]\n",
      " [0.35368627 0.56733617]\n",
      " [0.46362098 0.98160295]] \n",
      "\n",
      "[[ 1.02363541  2.13178849 -1.79041225]\n",
      " [ 2.05254751  2.90277603  1.92362529]] \n",
      "\n",
      "[[2 1 2]\n",
      " [1 3 0]\n",
      " [2 2 0]] \n",
      "\n",
      "[0 4 1] \n",
      "\n",
      "[[0.89050408 1.01119496 0.8046013 ]\n",
      " [0.86661212 2.02408236 2.19577182]] \n",
      "\n",
      "[[3 2 1 1]\n",
      " [1 1 6 1]] \n",
      "\n",
      "[ 0.32043145 -0.06349327  1.47583663  0.62288413 -1.59784208 -1.11433287\n",
      "  0.56754983] \n",
      "\n",
      "[5 9 7 1 8 4 5 7 6 4] \n",
      "\n",
      "[[  7.46250899  -4.36262526]\n",
      " [ 10.58519589 -10.13173619]\n",
      " [  6.85144762  -5.90550736]\n",
      " [  6.67801251  -5.16892309]\n",
      " [  1.77348574  -0.60026974]\n",
      " [  4.78940521  -4.85294183]\n",
      " [  5.52729527  -4.11993908]] \n",
      "\n"
     ]
    }
   ],
   "source": [
    "# macierz losowa 3x2 (liczby z przedziału [0, 1)) \n",
    "print(np.random.rand(3,2), '\\n')\n",
    "\n",
    "# macierz losowa 2x3 o elementach z rozkładu N(mu, sigma^2) = N(1, 4)\n",
    "print(2 * np.random.randn(2, 3) + 1, '\\n')\n",
    "\n",
    "# macierz losowa 3x3 o elementach całkowitych z przedziału [0, 5)\n",
    "print(np.random.randint(5, size=(3, 3)), '\\n')\n",
    "\n",
    "# losowe wybranie 3 liczb z [0, 1, 2, 3, 4]\n",
    "print(np.random.choice(5, 3, replace=False), '\\n')\n",
    "\n",
    "# rozkład wykładniczy (scale = 1/lambda)\n",
    "print(numpy.random.exponential(scale=1.0, size=(2, 3)), '\\n')\n",
    "\n",
    "# rozkład geometryczny\n",
    "print(np.random.geometric(p=0.35, size=(2,4)), '\\n')\n",
    "\n",
    "# rozkład normalny N(mu, sigma)\n",
    "print(np.random.normal(0.0, 1, size=7), '\\n')\n",
    "\n",
    "# rozkład Poissona\n",
    "print(np.random.poisson(5, 10), '\\n')\n",
    "\n",
    "# rozkład wielowymiarowy rozkład normalny\n",
    "mean = [5, -5]\n",
    "cov = [[10, -6], [-6, 5]]\n",
    "print(np.random.multivariate_normal(mean, cov, 7), '\\n')"
   ]
  },
  {
   "cell_type": "markdown",
   "metadata": {},
   "source": [
    "Proste statystyki:"
   ]
  },
  {
   "cell_type": "code",
   "execution_count": 36,
   "metadata": {},
   "outputs": [
    {
     "name": "stdout",
     "output_type": "stream",
     "text": [
      "9.85839762981904 \n",
      "\n",
      "-0.38791855959015376 \n",
      "\n",
      "27.082742034201804 \n",
      "\n",
      "-969.6575066447582 \n",
      "\n",
      "3.868963147743115\n",
      "3.868963147743115 \n",
      "\n",
      "3.1919958274735003 \n",
      "\n",
      "3.127682358931426\n",
      "3.127682358931426 \n",
      "\n",
      "9.78239693837085\n",
      "9.78239693837085\n"
     ]
    }
   ],
   "source": [
    "x = np.random.normal(2.0, 2.5, size=7)\n",
    "\n",
    "print(x.max(),'\\n') #maksymalna wartość\n",
    "\n",
    "print(x.min(),'\\n') # minimalna wartość \n",
    "\n",
    "print(x.sum(),'\\n') # suma wszystkich elementów \n",
    "\n",
    "print(x.prod(),'\\n') # iloczyn wszystkich elementów \n",
    "\n",
    "print(x.mean()) # średnia z wszystkich elementów\n",
    "print(np.mean(x),'\\n')\n",
    "\n",
    "print(np.median(x),'\\n') # mediana\n",
    "\n",
    "print(x.std()) # odchylenie standardowe \n",
    "print(np.std(x),'\\n')\n",
    "\n",
    "print(x.var()) # wariancja\n",
    "print(np.var(x))"
   ]
  },
  {
   "cell_type": "markdown",
   "metadata": {},
   "source": [
    "# Zadanie 1\n",
    "Wygeneruj losową tablice 100 x 10, która będzie reprezentować 100 punktów w 10 wymiarowej przestrzeni. Napisz funkcję, która policzy odległość euklidesową pomiędzy każdą parą punktów, czy potrafisz zrobić to w jednej linijce, bez użycia żadnych pętli/wytworników pętli? Przypomnienie, dla dwóch wektorów  xx  i  yy  odległość euklidesową liczymy ze wzoru: \n",
    "\n",
    "$$\n",
    "d(x,y)=\\|x-y\\|_2^2=\\sum_{i=1}^n |x_i-y_i|^2.\n",
    "$$"
   ]
  },
  {
   "cell_type": "code",
   "execution_count": 37,
   "metadata": {},
   "outputs": [
    {
     "data": {
      "text/plain": "[[0.0,\n  12.884098726725126,\n  9.273618495495704,\n  13.152946437965905,\n  11.832159566199232,\n  12.84523257866513,\n  13.638181696985855,\n  16.1245154965971,\n  9.899494936611665,\n  15.0,\n  12.206555615733702,\n  14.491376746189438,\n  11.489125293076057,\n  12.206555615733702,\n  12.489995996796797,\n  15.905973720586866,\n  10.535653752852738,\n  10.246950765959598,\n  15.066519173319364,\n  13.674794331177344,\n  11.0,\n  12.649110640673518,\n  15.748015748023622,\n  8.426149773176359,\n  13.527749258468683,\n  9.1104335791443,\n  9.797958971132712,\n  6.244997998398398,\n  11.704699910719626,\n  12.767145334803704,\n  12.449899597988733,\n  10.583005244258363,\n  13.674794331177344,\n  11.224972160321824,\n  14.2828568570857,\n  5.656854249492381,\n  14.106735979665885,\n  12.0,\n  13.379088160259652,\n  13.076696830622021,\n  16.30950643030009,\n  6.48074069840786,\n  12.529964086141668,\n  11.135528725660043,\n  10.583005244258363,\n  9.695359714832659,\n  10.583005244258363,\n  12.68857754044952,\n  7.874007874011811,\n  11.832159566199232,\n  10.816653826391969,\n  11.045361017187261,\n  13.152946437965905,\n  13.228756555322953,\n  11.0,\n  12.922847983320086,\n  13.038404810405298,\n  12.727922061357855,\n  10.723805294763608,\n  12.083045973594572,\n  15.297058540778355,\n  12.328828005937952,\n  15.264337522473747,\n  12.165525060596439,\n  12.569805089976535,\n  11.575836902790225,\n  11.832159566199232,\n  11.832159566199232,\n  15.362291495737216,\n  9.539392014169456,\n  13.601470508735444,\n  11.180339887498949,\n  10.44030650891055,\n  13.341664064126334,\n  13.820274961085254,\n  11.180339887498949,\n  10.583005244258363,\n  12.165525060596439,\n  7.416198487095663,\n  12.449899597988733,\n  12.0,\n  13.601470508735444,\n  10.344080432788601,\n  8.831760866327848,\n  10.04987562112089,\n  14.422205101855956,\n  6.708203932499369,\n  12.727922061357855,\n  13.076696830622021,\n  14.317821063276353,\n  13.820274961085254,\n  14.317821063276353,\n  9.38083151964686,\n  12.288205727444508,\n  13.601470508735444,\n  12.529964086141668,\n  15.556349186104045,\n  12.884098726725126,\n  9.695359714832659,\n  11.958260743101398],\n [12.884098726725126,\n  0.0,\n  14.212670403551895,\n  13.076696830622021,\n  10.295630140987,\n  16.64331697709324,\n  15.684387141358123,\n  12.649110640673518,\n  11.135528725660043,\n  16.46207763315433,\n  13.96424004376894,\n  12.649110640673518,\n  12.083045973594572,\n  9.746794344808963,\n  14.352700094407323,\n  12.609520212918492,\n  11.874342087037917,\n  11.357816691600547,\n  10.908712114635714,\n  13.45362404707371,\n  12.922847983320086,\n  14.89966442575134,\n  14.071247279470288,\n  11.874342087037917,\n  14.317821063276353,\n  10.816653826391969,\n  9.695359714832659,\n  9.0,\n  11.445523142259598,\n  12.12435565298214,\n  7.681145747868608,\n  12.0,\n  10.04987562112089,\n  14.352700094407323,\n  10.954451150103322,\n  15.0996688705415,\n  10.816653826391969,\n  13.19090595827292,\n  11.704699910719626,\n  8.54400374531753,\n  9.591663046625438,\n  12.649110640673518,\n  10.14889156509222,\n  10.770329614269007,\n  10.770329614269007,\n  12.083045973594572,\n  9.899494936611665,\n  13.820274961085254,\n  11.313708498984761,\n  11.224972160321824,\n  12.529964086141668,\n  11.313708498984761,\n  9.1104335791443,\n  10.63014581273465,\n  11.874342087037917,\n  11.958260743101398,\n  12.489995996796797,\n  11.74734012447073,\n  10.344080432788601,\n  13.038404810405298,\n  8.717797887081348,\n  11.135528725660043,\n  11.0,\n  13.564659966250536,\n  11.661903789690601,\n  15.231546211727817,\n  15.033296378372908,\n  14.2828568570857,\n  12.328828005937952,\n  13.45362404707371,\n  9.9498743710662,\n  11.61895003862225,\n  12.529964086141668,\n  11.40175425099138,\n  9.327379053088816,\n  8.888194417315589,\n  14.0,\n  12.806248474865697,\n  10.44030650891055,\n  14.247806848775006,\n  10.770329614269007,\n  12.041594578792296,\n  9.643650760992955,\n  12.569805089976535,\n  13.601470508735444,\n  13.784048752090222,\n  10.816653826391969,\n  13.490737563232042,\n  10.816653826391969,\n  9.219544457292887,\n  12.36931687685298,\n  10.44030650891055,\n  14.212670403551895,\n  8.888194417315589,\n  11.532562594670797,\n  12.36931687685298,\n  9.38083151964686,\n  9.16515138991168,\n  10.295630140987,\n  10.63014581273465],\n [9.273618495495704,\n  14.212670403551895,\n  0.0,\n  12.041594578792296,\n  14.0,\n  9.746794344808963,\n  11.135528725660043,\n  14.560219778561036,\n  10.488088481701515,\n  9.9498743710662,\n  13.076696830622021,\n  11.313708498984761,\n  10.198039027185569,\n  11.958260743101398,\n  12.649110640673518,\n  13.820274961085254,\n  12.84523257866513,\n  14.247806848775006,\n  13.674794331177344,\n  17.578395831246947,\n  11.532562594670797,\n  12.083045973594572,\n  10.954451150103322,\n  12.36931687685298,\n  14.798648586948742,\n  9.643650760992955,\n  14.628738838327793,\n  9.539392014169456,\n  13.379088160259652,\n  14.594519519326424,\n  13.30413469565007,\n  11.489125293076057,\n  12.609520212918492,\n  11.832159566199232,\n  17.944358444926362,\n  10.862780491200215,\n  14.106735979665885,\n  10.488088481701515,\n  12.041594578792296,\n  15.0,\n  15.362291495737216,\n  10.295630140987,\n  12.206555615733702,\n  8.12403840463596,\n  12.0,\n  12.884098726725126,\n  10.954451150103322,\n  11.269427669584644,\n  6.928203230275509,\n  10.392304845413264,\n  8.306623862918075,\n  10.488088481701515,\n  13.96424004376894,\n  14.45683229480096,\n  10.63014581273465,\n  14.798648586948742,\n  13.92838827718412,\n  11.661903789690601,\n  11.789826122551595,\n  13.784048752090222,\n  12.649110640673518,\n  12.727922061357855,\n  13.152946437965905,\n  11.135528725660043,\n  12.489995996796797,\n  11.661903789690601,\n  13.711309200802088,\n  16.431676725154983,\n  12.165525060596439,\n  12.609520212918492,\n  13.892443989449804,\n  13.601470508735444,\n  12.449899597988733,\n  14.696938456699069,\n  14.035668847618199,\n  14.247806848775006,\n  8.246211251235321,\n  9.38083151964686,\n  9.1104335791443,\n  15.198684153570664,\n  13.416407864998739,\n  9.219544457292887,\n  12.288205727444508,\n  8.246211251235321,\n  13.674794331177344,\n  11.224972160321824,\n  9.0,\n  9.486832980505138,\n  9.9498743710662,\n  15.329709716755891,\n  11.532562594670797,\n  12.84523257866513,\n  10.677078252031311,\n  11.704699910719626,\n  13.892443989449804,\n  15.7797338380595,\n  14.832396974191326,\n  13.038404810405298,\n  11.313708498984761,\n  9.1104335791443],\n [13.152946437965905,\n  13.076696830622021,\n  12.041594578792296,\n  0.0,\n  10.246950765959598,\n  12.489995996796797,\n  12.449899597988733,\n  14.594519519326424,\n  12.68857754044952,\n  15.684387141358123,\n  11.224972160321824,\n  13.30413469565007,\n  10.535653752852738,\n  10.099504938362077,\n  13.228756555322953,\n  11.661903789690601,\n  9.695359714832659,\n  12.806248474865697,\n  15.033296378372908,\n  13.416407864998739,\n  14.212670403551895,\n  8.54400374531753,\n  12.529964086141668,\n  12.727922061357855,\n  14.422205101855956,\n  9.273618495495704,\n  15.716233645501712,\n  12.649110640673518,\n  11.74734012447073,\n  16.792855623746664,\n  11.832159566199232,\n  12.84523257866513,\n  13.038404810405298,\n  14.866068747318506,\n  14.730919862656235,\n  15.198684153570664,\n  6.782329983125268,\n  10.344080432788601,\n  10.954451150103322,\n  13.114877048604,\n  11.958260743101398,\n  11.958260743101398,\n  16.1245154965971,\n  11.180339887498949,\n  13.152946437965905,\n  10.04987562112089,\n  11.874342087037917,\n  13.490737563232042,\n  10.246950765959598,\n  13.96424004376894,\n  9.055385138137417,\n  11.958260743101398,\n  11.40175425099138,\n  17.378147196982766,\n  7.483314773547883,\n  14.212670403551895,\n  15.716233645501712,\n  11.357816691600547,\n  11.575836902790225,\n  9.539392014169456,\n  14.38749456993816,\n  10.816653826391969,\n  12.24744871391589,\n  8.660254037844387,\n  13.152946437965905,\n  15.459624833740307,\n  11.357816691600547,\n  16.09347693943108,\n  8.306623862918075,\n  15.231546211727817,\n  14.696938456699069,\n  12.489995996796797,\n  12.24744871391589,\n  7.937253933193772,\n  13.341664064126334,\n  13.92838827718412,\n  10.63014581273465,\n  13.0,\n  12.806248474865697,\n  14.142135623730951,\n  12.288205727444508,\n  10.770329614269007,\n  14.0,\n  14.730919862656235,\n  13.19090595827292,\n  14.38749456993816,\n  12.727922061357855,\n  16.15549442140351,\n  12.489995996796797,\n  13.711309200802088,\n  12.0,\n  14.071247279470288,\n  7.937253933193772,\n  11.135528725660043,\n  13.341664064126334,\n  10.488088481701515,\n  13.228756555322953,\n  14.66287829861518,\n  14.594519519326424,\n  12.165525060596439],\n [11.832159566199232,\n  10.295630140987,\n  14.0,\n  10.246950765959598,\n  0.0,\n  12.529964086141668,\n  13.784048752090222,\n  16.3707055437449,\n  12.165525060596439,\n  17.291616465790582,\n  13.228756555322953,\n  15.491933384829668,\n  12.806248474865697,\n  8.774964387392123,\n  13.19090595827292,\n  12.449899597988733,\n  10.63014581273465,\n  7.416198487095663,\n  11.958260743101398,\n  7.54983443527075,\n  10.535653752852738,\n  11.489125293076057,\n  15.811388300841896,\n  12.041594578792296,\n  12.767145334803704,\n  10.816653826391969,\n  14.0,\n  10.44030650891055,\n  11.532562594670797,\n  11.874342087037917,\n  10.246950765959598,\n  9.273618495495704,\n  12.206555615733702,\n  11.74734012447073,\n  7.615773105863909,\n  14.071247279470288,\n  8.660254037844387,\n  14.422205101855956,\n  12.041594578792296,\n  7.937253933193772,\n  8.831760866327848,\n  10.583005244258363,\n  12.68857754044952,\n  11.489125293076057,\n  11.575836902790225,\n  9.273618495495704,\n  6.928203230275509,\n  14.66287829861518,\n  12.409673645990857,\n  11.224972160321824,\n  9.1104335791443,\n  12.489995996796797,\n  11.090536506409418,\n  14.866068747318506,\n  10.44030650891055,\n  9.848857801796104,\n  11.313708498984761,\n  12.727922061357855,\n  11.357816691600547,\n  8.717797887081348,\n  12.884098726725126,\n  12.569805089976535,\n  11.180339887498949,\n  13.341664064126334,\n  12.489995996796797,\n  12.806248474865697,\n  12.083045973594572,\n  12.083045973594572,\n  12.409673645990857,\n  11.61895003862225,\n  10.44030650891055,\n  12.922847983320086,\n  12.206555615733702,\n  10.392304845413264,\n  12.609520212918492,\n  9.746794344808963,\n  12.328828005937952,\n  14.560219778561036,\n  11.789826122551595,\n  10.14889156509222,\n  11.916375287812984,\n  12.206555615733702,\n  12.529964086141668,\n  13.19090595827292,\n  10.816653826391969,\n  14.491376746189438,\n  9.433981132056603,\n  15.0996688705415,\n  14.317821063276353,\n  8.306623862918075,\n  15.0,\n  10.04987562112089,\n  9.38083151964686,\n  12.609520212918492,\n  9.9498743710662,\n  11.958260743101398,\n  10.0,\n  12.328828005937952,\n  12.24744871391589,\n  10.816653826391969],\n [12.84523257866513,\n  16.64331697709324,\n  9.746794344808963,\n  12.489995996796797,\n  12.529964086141668,\n  0.0,\n  11.61895003862225,\n  15.198684153570664,\n  12.206555615733702,\n  11.224972160321824,\n  14.628738838327793,\n  11.357816691600547,\n  14.730919862656235,\n  14.966629547095765,\n  13.820274961085254,\n  14.89966442575134,\n  13.784048752090222,\n  15.427248620541512,\n  14.89966442575134,\n  14.352700094407323,\n  10.488088481701515,\n  11.357816691600547,\n  12.529964086141668,\n  14.422205101855956,\n  13.038404810405298,\n  11.832159566199232,\n  17.233687939614086,\n  13.341664064126334,\n  12.24744871391589,\n  12.489995996796797,\n  12.727922061357855,\n  11.180339887498949,\n  15.620499351813308,\n  7.0,\n  15.905973720586866,\n  13.076696830622021,\n  12.24744871391589,\n  10.816653826391969,\n  14.89966442575134,\n  14.628738838327793,\n  15.588457268119896,\n  12.68857754044952,\n  14.071247279470288,\n  12.767145334803704,\n  16.76305461424021,\n  11.269427669584644,\n  11.0,\n  9.695359714832659,\n  11.532562594670797,\n  14.730919862656235,\n  11.045361017187261,\n  12.36931687685298,\n  14.966629547095765,\n  16.0,\n  11.313708498984761,\n  11.224972160321824,\n  10.908712114635714,\n  16.583123951777,\n  14.89966442575134,\n  14.594519519326424,\n  14.594519519326424,\n  14.52583904633395,\n  13.416407864998739,\n  12.922847983320086,\n  13.152946437965905,\n  7.810249675906654,\n  11.445523142259598,\n  17.52141546793523,\n  12.609520212918492,\n  13.564659966250536,\n  13.711309200802088,\n  15.231546211727817,\n  10.770329614269007,\n  13.527749258468683,\n  13.638181696985855,\n  14.142135623730951,\n  10.535653752852738,\n  15.329709716755891,\n  12.24744871391589,\n  13.92838827718412,\n  11.958260743101398,\n  13.038404810405298,\n  16.73320053068151,\n  10.14889156509222,\n  12.409673645990857,\n  12.84523257866513,\n  10.862780491200215,\n  13.0,\n  13.784048752090222,\n  14.491376746189438,\n  12.328828005937952,\n  15.362291495737216,\n  9.327379053088816,\n  12.649110640673518,\n  11.916375287812984,\n  16.1245154965971,\n  14.035668847618199,\n  13.820274961085254,\n  13.228756555322953,\n  8.94427190999916],\n [13.638181696985855,\n  15.684387141358123,\n  11.135528725660043,\n  12.449899597988733,\n  13.784048752090222,\n  11.61895003862225,\n  0.0,\n  19.544820285692065,\n  13.114877048604,\n  10.344080432788601,\n  15.7797338380595,\n  15.231546211727817,\n  8.831760866327848,\n  14.730919862656235,\n  13.19090595827292,\n  9.433981132056603,\n  17.291616465790582,\n  12.206555615733702,\n  12.68857754044952,\n  17.0,\n  12.12435565298214,\n  11.045361017187261,\n  8.94427190999916,\n  12.84523257866513,\n  11.180339887498949,\n  9.433981132056603,\n  16.911534525287763,\n  13.601470508735444,\n  17.406895185529212,\n  13.379088160259652,\n  12.529964086141668,\n  14.7648230602334,\n  11.704699910719626,\n  13.92838827718412,\n  16.73320053068151,\n  12.409673645990857,\n  13.674794331177344,\n  14.352700094407323,\n  12.12435565298214,\n  12.206555615733702,\n  15.231546211727817,\n  11.135528725660043,\n  10.246950765959598,\n  14.212670403551895,\n  17.776388834631177,\n  15.362291495737216,\n  9.055385138137417,\n  14.866068747318506,\n  13.416407864998739,\n  11.135528725660043,\n  10.04987562112089,\n  13.2664991614216,\n  12.12435565298214,\n  12.609520212918492,\n  14.035668847618199,\n  11.269427669584644,\n  16.186414056238647,\n  10.954451150103322,\n  14.106735979665885,\n  13.711309200802088,\n  14.832396974191326,\n  9.591663046625438,\n  14.730919862656235,\n  12.328828005937952,\n  15.0996688705415,\n  15.0996688705415,\n  10.295630140987,\n  12.409673645990857,\n  12.96148139681572,\n  10.14889156509222,\n  14.594519519326424,\n  17.291616465790582,\n  14.66287829861518,\n  11.832159566199232,\n  12.68857754044952,\n  11.874342087037917,\n  11.661903789690601,\n  9.273618495495704,\n  13.74772708486752,\n  15.84297951775486,\n  13.784048752090222,\n  14.798648586948742,\n  12.68857754044952,\n  11.135528725660043,\n  15.066519173319364,\n  17.029386365926403,\n  13.0,\n  10.954451150103322,\n  10.816653826391969,\n  12.529964086141668,\n  12.288205727444508,\n  14.45683229480096,\n  9.16515138991168,\n  15.0,\n  11.357816691600547,\n  13.96424004376894,\n  15.874507866387544,\n  14.0,\n  11.661903789690601,\n  9.0],\n [16.1245154965971,\n  12.649110640673518,\n  14.560219778561036,\n  14.594519519326424,\n  16.3707055437449,\n  15.198684153570664,\n  19.544820285692065,\n  0.0,\n  11.661903789690601,\n  16.217274740226856,\n  12.529964086141668,\n  10.0,\n  17.72004514666935,\n  15.264337522473747,\n  18.547236990991408,\n  19.519221295943137,\n  14.594519519326424,\n  19.0,\n  17.86057109949175,\n  15.7797338380595,\n  17.349351572897472,\n  16.0,\n  14.966629547095765,\n  16.522711641858304,\n  18.027756377319946,\n  14.106735979665885,\n  16.1245154965971,\n  13.0,\n  9.539392014169456,\n  15.652475842498529,\n  12.922847983320086,\n  13.92838827718412,\n  16.401219466856727,\n  15.231546211727817,\n  17.146428199482248,\n  17.029386365926403,\n  13.228756555322953,\n  9.055385138137417,\n  15.7797338380595,\n  16.278820596099706,\n  15.231546211727817,\n  16.673332000533065,\n  16.64331697709324,\n  14.832396974191326,\n  14.966629547095765,\n  11.40175425099138,\n  16.492422502470642,\n  10.44030650891055,\n  11.74734012447073,\n  18.16590212458495,\n  16.217274740226856,\n  12.489995996796797,\n  14.247806848775006,\n  16.46207763315433,\n  13.0,\n  16.583123951777,\n  13.2664991614216,\n  17.776388834631177,\n  16.217274740226856,\n  16.24807680927192,\n  13.341664064126334,\n  15.937377450509228,\n  14.594519519326424,\n  13.038404810405298,\n  13.416407864998739,\n  15.491933384829668,\n  16.792855623746664,\n  22.360679774997898,\n  12.569805089976535,\n  20.223748416156685,\n  15.905973720586866,\n  15.394804318340652,\n  13.152946437965905,\n  15.556349186104045,\n  14.52583904633395,\n  16.76305461424021,\n  13.490737563232042,\n  18.33030277982336,\n  11.958260743101398,\n  16.0312195418814,\n  12.806248474865697,\n  13.74772708486752,\n  17.406895185529212,\n  14.628738838327793,\n  14.52583904633395,\n  8.831760866327848,\n  12.767145334803704,\n  15.0996688705415,\n  12.206555615733702,\n  16.15549442140351,\n  11.874342087037917,\n  16.15549442140351,\n  16.792855623746664,\n  10.14889156509222,\n  14.52583904633395,\n  14.798648586948742,\n  13.564659966250536,\n  12.884098726725126,\n  14.142135623730951,\n  13.228756555322953],\n [9.899494936611665,\n  11.135528725660043,\n  10.488088481701515,\n  12.68857754044952,\n  12.165525060596439,\n  12.206555615733702,\n  13.114877048604,\n  11.661903789690601,\n  0.0,\n  12.529964086141668,\n  13.228756555322953,\n  12.165525060596439,\n  14.142135623730951,\n  11.958260743101398,\n  14.966629547095765,\n  14.798648586948742,\n  13.45362404707371,\n  12.767145334803704,\n  14.177446878757825,\n  13.076696830622021,\n  11.090536506409418,\n  11.916375287812984,\n  13.638181696985855,\n  11.789826122551595,\n  14.52583904633395,\n  9.0,\n  13.490737563232042,\n  7.416198487095663,\n  12.36931687685298,\n  10.63014581273465,\n  8.306623862918075,\n  13.416407864998739,\n  14.38749456993816,\n  12.328828005937952,\n  15.297058540778355,\n  9.273618495495704,\n  13.379088160259652,\n  11.916375287812984,\n  15.459624833740307,\n  10.344080432788601,\n  11.40175425099138,\n  9.16515138991168,\n  9.9498743710662,\n  12.96148139681572,\n  13.784048752090222,\n  10.099504938362077,\n  11.40175425099138,\n  11.532562594670797,\n  9.055385138137417,\n  14.0,\n  12.206555615733702,\n  13.114877048604,\n  11.958260743101398,\n  12.922847983320086,\n  12.041594578792296,\n  11.180339887498949,\n  8.366600265340756,\n  14.2828568570857,\n  12.68857754044952,\n  10.295630140987,\n  14.0,\n  11.916375287812984,\n  16.0312195418814,\n  12.165525060596439,\n  14.491376746189438,\n  11.916375287812984,\n  13.038404810405298,\n  15.556349186104045,\n  12.727922061357855,\n  14.177446878757825,\n  9.539392014169456,\n  12.041594578792296,\n  12.609520212918492,\n  13.490737563232042,\n  14.106735979665885,\n  9.539392014169456,\n  7.874007874011811,\n  14.071247279470288,\n  9.9498743710662,\n  13.379088160259652,\n  12.0,\n  12.609520212918492,\n  11.269427669584644,\n  8.717797887081348,\n  12.449899597988733,\n  9.486832980505138,\n  6.4031242374328485,\n  10.099504938362077,\n  7.280109889280518,\n  10.535653752852738,\n  13.527749258468683,\n  11.180339887498949,\n  11.832159566199232,\n  10.723805294763608,\n  7.416198487095663,\n  10.816653826391969,\n  15.165750888103101,\n  10.862780491200215,\n  10.488088481701515,\n  8.18535277187245],\n [15.0,\n  16.46207763315433,\n  9.9498743710662,\n  15.684387141358123,\n  17.291616465790582,\n  11.224972160321824,\n  10.344080432788601,\n  16.217274740226856,\n  12.529964086141668,\n  0.0,\n  17.72004514666935,\n  13.30413469565007,\n  13.0,\n  16.06237840420901,\n  13.74772708486752,\n  12.328828005937952,\n  18.16590212458495,\n  17.320508075688775,\n  13.19090595827292,\n  19.44222209522358,\n  15.937377450509228,\n  11.357816691600547,\n  7.0,\n  14.2828568570857,\n  12.727922061357855,\n  13.490737563232042,\n  17.406895185529212,\n  15.165750888103101,\n  17.204650534085253,\n  15.556349186104045,\n  14.2828568570857,\n  14.52583904633395,\n  16.3707055437449,\n  13.892443989449804,\n  19.0,\n  13.527749258468683,\n  15.0996688705415,\n  12.288205727444508,\n  15.297058540778355,\n  16.55294535724685,\n  16.881943016134134,\n  13.076696830622021,\n  11.832159566199232,\n  13.228756555322953,\n  19.209372712298546,\n  16.34013463836819,\n  13.0,\n  13.416407864998739,\n  11.269427669584644,\n  14.730919862656235,\n  13.711309200802088,\n  14.933184523068078,\n  12.409673645990857,\n  14.696938456699069,\n  16.911534525287763,\n  14.628738838327793,\n  14.730919862656235,\n  14.317821063276353,\n  15.033296378372908,\n  17.11724276862369,\n  15.329709716755891,\n  15.652475842498529,\n  15.362291495737216,\n  15.652475842498529,\n  12.922847983320086,\n  12.84523257866513,\n  13.152946437965905,\n  18.520259177452136,\n  12.84523257866513,\n  13.711309200802088,\n  15.620499351813308,\n  16.30950643030009,\n  13.19090595827292,\n  15.7797338380595,\n  13.2664991614216,\n  15.297058540778355,\n  13.30413469565007,\n  11.357816691600547,\n  13.341664064126334,\n  18.384776310850235,\n  15.905973720586866,\n  12.96148139681572,\n  13.92838827718412,\n  12.206555615733702,\n  18.49324200890693,\n  12.922847983320086,\n  13.2664991614216,\n  11.090536506409418,\n  10.392304845413264,\n  16.61324772583615,\n  10.099504938362077,\n  16.3707055437449,\n  13.601470508735444,\n  14.352700094407323,\n  13.638181696985855,\n  16.73320053068151,\n  16.522711641858304,\n  10.63014581273465,\n  12.288205727444508,\n  7.615773105863909],\n [12.206555615733702,\n  13.96424004376894,\n  13.076696830622021,\n  11.224972160321824,\n  13.228756555322953,\n  14.628738838327793,\n  15.7797338380595,\n  12.529964086141668,\n  13.228756555322953,\n  17.72004514666935,\n  0.0,\n  13.0,\n  12.36931687685298,\n  11.832159566199232,\n  13.892443989449804,\n  18.16590212458495,\n  14.2828568570857,\n  12.489995996796797,\n  19.339079605813716,\n  12.489995996796797,\n  15.362291495737216,\n  14.035668847618199,\n  14.730919862656235,\n  15.297058540778355,\n  17.146428199482248,\n  11.916375287812984,\n  14.52583904633395,\n  11.224972160321824,\n  11.575836902790225,\n  14.628738838327793,\n  14.89966442575134,\n  12.041594578792296,\n  12.0,\n  15.7797338380595,\n  14.035668847618199,\n  13.601470508735444,\n  12.083045973594572,\n  10.535653752852738,\n  11.224972160321824,\n  13.856406460551018,\n  15.716233645501712,\n  11.532562594670797,\n  16.61324772583615,\n  13.96424004376894,\n  12.767145334803704,\n  7.810249675906654,\n  13.076696830622021,\n  10.770329614269007,\n  12.529964086141668,\n  13.527749258468683,\n  12.649110640673518,\n  10.44030650891055,\n  13.784048752090222,\n  14.966629547095765,\n  10.677078252031311,\n  14.832396974191326,\n  16.217274740226856,\n  11.958260743101398,\n  16.73320053068151,\n  10.723805294763608,\n  13.527749258468683,\n  12.041594578792296,\n  12.165525060596439,\n  5.744562646538029,\n  11.874342087037917,\n  15.84297951775486,\n  13.96424004376894,\n  15.264337522473747,\n  14.933184523068078,\n  15.620499351813308,\n  18.65475810617763,\n  16.186414056238647,\n  12.649110640673518,\n  13.74772708486752,\n  14.696938456699069,\n  15.491933384829668,\n  9.539392014169456,\n  14.317821063276353,\n  8.12403840463596,\n  8.366600265340756,\n  13.527749258468683,\n  15.748015748023622,\n  14.212670403551895,\n  13.228756555322953,\n  9.16515138991168,\n  14.106735979665885,\n  11.313708498984761,\n  15.264337522473747,\n  14.212670403551895,\n  15.0996688705415,\n  12.569805089976535,\n  14.2828568570857,\n  12.529964086141668,\n  12.083045973594572,\n  14.696938456699069,\n  10.295630140987,\n  15.066519173319364,\n  15.905973720586866,\n  10.723805294763608,\n  14.071247279470288],\n [14.491376746189438,\n  12.649110640673518,\n  11.313708498984761,\n  13.30413469565007,\n  15.491933384829668,\n  11.357816691600547,\n  15.231546211727817,\n  10.0,\n  12.165525060596439,\n  13.30413469565007,\n  13.0,\n  0.0,\n  14.352700094407323,\n  13.96424004376894,\n  13.490737563232042,\n  15.588457268119896,\n  13.527749258468683,\n  17.52141546793523,\n  16.76305461424021,\n  17.406895185529212,\n  12.449899597988733,\n  15.684387141358123,\n  11.575836902790225,\n  16.46207763315433,\n  17.175564037317667,\n  12.767145334803704,\n  13.19090595827292,\n  12.84523257866513,\n  11.269427669584644,\n  13.0,\n  10.63014581273465,\n  14.352700094407323,\n  13.379088160259652,\n  11.661903789690601,\n  17.08800749063506,\n  16.06237840420901,\n  12.36931687685298,\n  8.717797887081348,\n  14.866068747318506,\n  14.38749456993816,\n  15.033296378372908,\n  14.7648230602334,\n  14.177446878757825,\n  11.575836902790225,\n  16.1245154965971,\n  11.916375287812984,\n  13.711309200802088,\n  4.795831523312719,\n  11.661903789690601,\n  15.231546211727817,\n  14.730919862656235,\n  11.489125293076057,\n  14.730919862656235,\n  13.076696830622021,\n  10.44030650891055,\n  12.84523257866513,\n  12.165525060596439,\n  15.811388300841896,\n  15.84297951775486,\n  16.3707055437449,\n  9.16515138991168,\n  12.806248474865697,\n  11.180339887498949,\n  10.677078252031311,\n  12.0,\n  11.135528725660043,\n  16.0,\n  18.973665961010276,\n  13.490737563232042,\n  16.46207763315433,\n  14.45683229480096,\n  12.922847983320086,\n  10.535653752852738,\n  13.92838827718412,\n  10.63014581273465,\n  13.674794331177344,\n  11.313708498984761,\n  14.628738838327793,\n  10.344080432788601,\n  15.394804318340652,\n  10.583005244258363,\n  13.96424004376894,\n  14.933184523068078,\n  10.198039027185569,\n  13.96424004376894,\n  13.564659966250536,\n  13.228756555322953,\n  14.142135623730951,\n  12.12435565298214,\n  15.066519173319364,\n  9.643650760992955,\n  15.0,\n  14.628738838327793,\n  5.196152422706632,\n  14.035668847618199,\n  15.459624833740307,\n  13.856406460551018,\n  13.564659966250536,\n  12.083045973594572,\n  10.344080432788601],\n [11.489125293076057,\n  12.083045973594572,\n  10.198039027185569,\n  10.535653752852738,\n  12.806248474865697,\n  14.730919862656235,\n  8.831760866327848,\n  17.72004514666935,\n  14.142135623730951,\n  13.0,\n  12.36931687685298,\n  14.352700094407323,\n  0.0,\n  10.816653826391969,\n  10.488088481701515,\n  9.433981132056603,\n  13.96424004376894,\n  10.246950765959598,\n  12.449899597988733,\n  16.76305461424021,\n  14.035668847618199,\n  11.489125293076057,\n  9.273618495495704,\n  11.0,\n  12.449899597988733,\n  9.219544457292887,\n  12.727922061357855,\n  11.532562594670797,\n  15.198684153570664,\n  15.459624833740307,\n  13.228756555322953,\n  12.24744871391589,\n  8.18535277187245,\n  15.556349186104045,\n  14.7648230602334,\n  12.96148139681572,\n  11.61895003862225,\n  12.328828005937952,\n  6.855654600401044,\n  12.68857754044952,\n  14.832396974191326,\n  10.0,\n  11.874342087037917,\n  9.899494936611665,\n  12.806248474865697,\n  13.856406460551018,\n  8.94427190999916,\n  14.52583904633395,\n  10.677078252031311,\n  7.615773105863909,\n  8.660254037844387,\n  10.295630140987,\n  9.746794344808963,\n  12.041594578792296,\n  11.958260743101398,\n  13.96424004376894,\n  17.88854381999832,\n  4.242640687119285,\n  11.180339887498949,\n  12.884098726725126,\n  12.0,\n  8.94427190999916,\n  10.816653826391969,\n  10.099504938362077,\n  11.045361017187261,\n  16.24807680927192,\n  11.74734012447073,\n  11.224972160321824,\n  12.165525060596439,\n  9.433981132056603,\n  15.968719422671311,\n  14.594519519326424,\n  12.84523257866513,\n  10.770329614269007,\n  10.63014581273465,\n  12.68857754044952,\n  12.24744871391589,\n  4.0,\n  10.344080432788601,\n  14.594519519326424,\n  13.416407864998739,\n  12.288205727444508,\n  9.0,\n  12.328828005937952,\n  14.247806848775006,\n  16.61324772583615,\n  12.529964086141668,\n  12.649110640673518,\n  11.445523142259598,\n  13.892443989449804,\n  10.04987562112089,\n  13.45362404707371,\n  10.0,\n  12.609520212918492,\n  14.66287829861518,\n  12.609520212918492,\n  13.564659966250536,\n  12.806248474865697,\n  9.899494936611665,\n  11.0],\n [12.206555615733702,\n  9.746794344808963,\n  11.958260743101398,\n  10.099504938362077,\n  8.774964387392123,\n  14.966629547095765,\n  14.730919862656235,\n  15.264337522473747,\n  11.958260743101398,\n  16.06237840420901,\n  11.832159566199232,\n  13.96424004376894,\n  10.816653826391969,\n  0.0,\n  9.848857801796104,\n  11.661903789690601,\n  11.832159566199232,\n  9.695359714832659,\n  14.352700094407323,\n  13.19090595827292,\n  13.638181696985855,\n  12.041594578792296,\n  14.035668847618199,\n  14.560219778561036,\n  16.97056274847714,\n  12.806248474865697,\n  13.152946437965905,\n  11.045361017187261,\n  14.2828568570857,\n  15.231546211727817,\n  12.489995996796797,\n  12.041594578792296,\n  12.165525060596439,\n  15.905973720586866,\n  12.288205727444508,\n  15.198684153570664,\n  10.295630140987,\n  14.177446878757825,\n  12.328828005937952,\n  10.770329614269007,\n  8.18535277187245,\n  9.539392014169456,\n  13.784048752090222,\n  7.54983443527075,\n  11.269427669584644,\n  11.0,\n  10.04987562112089,\n  14.142135623730951,\n  11.0,\n  10.246950765959598,\n  10.488088481701515,\n  14.106735979665885,\n  11.489125293076057,\n  15.684387141358123,\n  11.74734012447073,\n  13.92838827718412,\n  13.527749258468683,\n  9.0,\n  12.884098726725126,\n  7.810249675906654,\n  11.180339887498949,\n  13.74772708486752,\n  9.899494936611665,\n  12.041594578792296,\n  11.090536506409418,\n  13.96424004376894,\n  15.905973720586866,\n  13.674794331177344,\n  13.30413469565007,\n  13.564659966250536,\n  13.416407864998739,\n  10.954451150103322,\n  13.114877048604,\n  13.674794331177344,\n  13.784048752090222,\n  12.24744871391589,\n  10.344080432788601,\n  11.180339887498949,\n  10.0,\n  11.313708498984761,\n  15.588457268119896,\n  10.488088481701515,\n  8.717797887081348,\n  13.74772708486752,\n  14.7648230602334,\n  13.527749258468683,\n  10.770329614269007,\n  15.524174696260024,\n  13.038404810405298,\n  12.165525060596439,\n  14.352700094407323,\n  7.615773105863909,\n  12.84523257866513,\n  10.954451150103322,\n  13.038404810405298,\n  11.916375287812984,\n  13.379088160259652,\n  12.84523257866513,\n  11.874342087037917,\n  10.954451150103322],\n [12.489995996796797,\n  14.352700094407323,\n  12.649110640673518,\n  13.228756555322953,\n  13.19090595827292,\n  13.820274961085254,\n  13.19090595827292,\n  18.547236990991408,\n  14.966629547095765,\n  13.74772708486752,\n  13.892443989449804,\n  13.490737563232042,\n  10.488088481701515,\n  9.848857801796104,\n  0.0,\n  11.445523142259598,\n  14.45683229480096,\n  11.958260743101398,\n  16.76305461424021,\n  16.0312195418814,\n  14.730919862656235,\n  12.165525060596439,\n  12.409673645990857,\n  15.264337522473747,\n  15.905973720586866,\n  15.066519173319364,\n  11.74734012447073,\n  14.66287829861518,\n  16.583123951777,\n  15.588457268119896,\n  14.66287829861518,\n  13.638181696985855,\n  14.66287829861518,\n  14.89966442575134,\n  13.784048752090222,\n  14.422205101855956,\n  11.958260743101398,\n  13.856406460551018,\n  14.52583904633395,\n  13.96424004376894,\n  15.0996688705415,\n  8.94427190999916,\n  14.933184523068078,\n  9.899494936611665,\n  17.146428199482248,\n  12.569805089976535,\n  11.40175425099138,\n  12.529964086141668,\n  12.727922061357855,\n  12.727922061357855,\n  14.177446878757825,\n  15.684387141358123,\n  12.609520212918492,\n  14.866068747318506,\n  14.730919862656235,\n  13.0,\n  15.165750888103101,\n  10.862780491200215,\n  15.7797338380595,\n  12.884098726725126,\n  13.564659966250536,\n  15.0996688705415,\n  10.723805294763608,\n  13.2664991614216,\n  9.055385138137417,\n  11.313708498984761,\n  14.696938456699069,\n  12.083045973594572,\n  16.673332000533065,\n  10.44030650891055,\n  17.233687939614086,\n  11.180339887498949,\n  9.9498743710662,\n  14.422205101855956,\n  11.958260743101398,\n  13.076696830622021,\n  12.806248474865697,\n  10.392304845413264,\n  10.14889156509222,\n  12.609520212918492,\n  16.3707055437449,\n  15.264337522473747,\n  9.1104335791443,\n  13.564659966250536,\n  16.34013463836819,\n  17.944358444926362,\n  13.820274961085254,\n  17.549928774784245,\n  16.09347693943108,\n  16.15549442140351,\n  12.529964086141668,\n  14.38749456993816,\n  12.806248474865697,\n  11.61895003862225,\n  15.7797338380595,\n  13.30413469565007,\n  16.73320053068151,\n  13.638181696985855,\n  10.862780491200215,\n  11.445523142259598],\n [15.905973720586866,\n  12.609520212918492,\n  13.820274961085254,\n  11.661903789690601,\n  12.449899597988733,\n  14.89966442575134,\n  9.433981132056603,\n  19.519221295943137,\n  14.798648586948742,\n  12.328828005937952,\n  18.16590212458495,\n  15.588457268119896,\n  9.433981132056603,\n  11.661903789690601,\n  11.445523142259598,\n  0.0,\n  15.297058540778355,\n  12.884098726725126,\n  10.099504938362077,\n  17.4928556845359,\n  14.7648230602334,\n  10.816653826391969,\n  9.746794344808963,\n  13.564659966250536,\n  12.649110640673518,\n  12.569805089976535,\n  15.588457268119896,\n  15.427248620541512,\n  17.72004514666935,\n  16.3707055437449,\n  11.74734012447073,\n  15.198684153570664,\n  13.114877048604,\n  16.09347693943108,\n  15.132745950421556,\n  16.822603841260722,\n  10.862780491200215,\n  15.459624833740307,\n  12.884098726725126,\n  12.165525060596439,\n  11.704699910719626,\n  12.84523257866513,\n  11.916375287812984,\n  11.357816691600547,\n  17.46424919657298,\n  16.401219466856727,\n  10.04987562112089,\n  16.852299546352718,\n  13.379088160259652,\n  12.12435565298214,\n  11.74734012447073,\n  15.652475842498529,\n  9.695359714832659,\n  14.832396974191326,\n  14.89966442575134,\n  12.96148139681572,\n  16.34013463836819,\n  10.344080432788601,\n  12.0,\n  14.035668847618199,\n  13.527749258468683,\n  12.68857754044952,\n  12.489995996796797,\n  15.394804318340652,\n  13.45362404707371,\n  15.84297951775486,\n  13.379088160259652,\n  14.106735979665885,\n  11.532562594670797,\n  11.916375287812984,\n  13.19090595827292,\n  13.784048752090222,\n  14.212670403551895,\n  11.0,\n  10.954451150103322,\n  11.74734012447073,\n  15.066519173319364,\n  9.539392014169456,\n  15.231546211727817,\n  17.832554500127006,\n  15.264337522473747,\n  12.328828005937952,\n  10.862780491200215,\n  15.198684153570664,\n  18.708286933869708,\n  17.69180601295413,\n  15.231546211727817,\n  15.459624833740307,\n  12.489995996796797,\n  12.806248474865697,\n  12.569805089976535,\n  13.564659966250536,\n  12.041594578792296,\n  13.490737563232042,\n  13.2664991614216,\n  14.491376746189438,\n  13.96424004376894,\n  11.958260743101398,\n  13.892443989449804,\n  9.695359714832659],\n [10.535653752852738,\n  11.874342087037917,\n  12.84523257866513,\n  9.695359714832659,\n  10.63014581273465,\n  13.784048752090222,\n  17.291616465790582,\n  14.594519519326424,\n  13.45362404707371,\n  18.16590212458495,\n  14.2828568570857,\n  13.527749258468683,\n  13.96424004376894,\n  11.832159566199232,\n  14.45683229480096,\n  15.297058540778355,\n  0.0,\n  14.2828568570857,\n  14.89966442575134,\n  14.071247279470288,\n  13.416407864998739,\n  12.922847983320086,\n  17.11724276862369,\n  10.954451150103322,\n  15.231546211727817,\n  11.224972160321824,\n  11.789826122551595,\n  11.045361017187261,\n  8.246211251235321,\n  16.792855623746664,\n  11.832159566199232,\n  11.357816691600547,\n  15.427248620541512,\n  12.206555615733702,\n  14.247806848775006,\n  14.798648586948742,\n  9.899494936611665,\n  11.0,\n  13.856406460551018,\n  14.89966442575134,\n  14.730919862656235,\n  13.076696830622021,\n  16.911534525287763,\n  9.848857801796104,\n  10.246950765959598,\n  10.04987562112089,\n  13.228756555322953,\n  13.711309200802088,\n  8.774964387392123,\n  15.394804318340652,\n  11.74734012447073,\n  11.874342087037917,\n  13.638181696985855,\n  17.663521732655695,\n  7.483314773547883,\n  15.165750888103101,\n  14.177446878757825,\n  15.394804318340652,\n  8.717797887081348,\n  13.892443989449804,\n  14.933184523068078,\n  14.177446878757825,\n  13.564659966250536,\n  13.527749258468683,\n  12.84523257866513,\n  13.30413469565007,\n  13.74772708486752,\n  17.233687939614086,\n  12.041594578792296,\n  14.966629547095765,\n  13.114877048604,\n  8.246211251235321,\n  10.099504938362077,\n  10.535653752852738,\n  13.19090595827292,\n  13.711309200802088,\n  14.247806848775006,\n  15.7797338380595,\n  12.165525060596439,\n  15.874507866387544,\n  10.816653826391969,\n  11.045361017187261,\n  14.628738838327793,\n  14.38749456993816,\n  12.806248474865697,\n  15.264337522473747,\n  12.0,\n  17.804493814764857,\n  15.556349186104045,\n  15.620499351813308,\n  13.92838827718412,\n  16.1245154965971,\n  10.535653752852738,\n  10.099504938362077,\n  16.0,\n  14.352700094407323,\n  12.529964086141668,\n  14.035668847618199,\n  15.329709716755891,\n  14.212670403551895],\n [10.246950765959598,\n  11.357816691600547,\n  14.247806848775006,\n  12.806248474865697,\n  7.416198487095663,\n  15.427248620541512,\n  12.206555615733702,\n  19.0,\n  12.767145334803704,\n  17.320508075688775,\n  12.489995996796797,\n  17.52141546793523,\n  10.246950765959598,\n  9.695359714832659,\n  11.958260743101398,\n  12.884098726725126,\n  14.2828568570857,\n  0.0,\n  13.638181696985855,\n  10.099504938362077,\n  11.916375287812984,\n  12.68857754044952,\n  15.652475842498529,\n  11.489125293076057,\n  12.96148139681572,\n  10.862780491200215,\n  12.609520212918492,\n  9.899494936611665,\n  15.033296378372908,\n  11.74734012447073,\n  12.409673645990857,\n  11.269427669584644,\n  10.770329614269007,\n  14.594519519326424,\n  8.888194417315589,\n  11.445523142259598,\n  12.328828005937952,\n  16.09347693943108,\n  11.489125293076057,\n  7.745966692414834,\n  12.206555615733702,\n  7.54983443527075,\n  11.313708498984761,\n  13.152946437965905,\n  12.609520212918492,\n  11.180339887498949,\n  6.708203932499369,\n  16.06237840420901,\n  13.527749258468683,\n  9.0,\n  10.392304845413264,\n  13.152946437965905,\n  10.862780491200215,\n  12.409673645990857,\n  13.416407864998739,\n  10.488088481701515,\n  14.45683229480096,\n  9.539392014169456,\n  13.038404810405298,\n  8.54400374531753,\n  14.106735979665885,\n  11.269427669584644,\n  13.038404810405298,\n  12.922847983320086,\n  13.0,\n  15.066519173319364,\n  12.12435565298214,\n  5.916079783099616,\n  15.716233645501712,\n  8.246211251235321,\n  13.711309200802088,\n  14.7648230602334,\n  13.638181696985855,\n  12.206555615733702,\n  13.2664991614216,\n  9.16515138991168,\n  12.36931687685298,\n  11.789826122551595,\n  10.583005244258363,\n  9.16515138991168,\n  14.035668847618199,\n  15.362291495737216,\n  9.055385138137417,\n  12.609520212918492,\n  11.224972160321824,\n  17.0,\n  9.695359714832659,\n  14.247806848775006,\n  14.2828568570857,\n  9.486832980505138,\n  15.491933384829668,\n  10.677078252031311,\n  10.344080432788601,\n  14.628738838327793,\n  11.224972160321824,\n  10.488088481701515,\n  13.820274961085254,\n  13.228756555322953,\n  9.433981132056603,\n  11.916375287812984],\n [15.066519173319364,\n  10.908712114635714,\n  13.674794331177344,\n  15.033296378372908,\n  11.958260743101398,\n  14.89966442575134,\n  12.68857754044952,\n  17.86057109949175,\n  14.177446878757825,\n  13.19090595827292,\n  19.339079605813716,\n  16.76305461424021,\n  12.449899597988733,\n  14.352700094407323,\n  16.76305461424021,\n  10.099504938362077,\n  14.89966442575134,\n  13.638181696985855,\n  0.0,\n  16.61324772583615,\n  13.92838827718412,\n  13.527749258468683,\n  12.767145334803704,\n  10.677078252031311,\n  9.695359714832659,\n  11.489125293076057,\n  15.905973720586866,\n  12.884098726725126,\n  15.033296378372908,\n  14.560219778561036,\n  11.313708498984761,\n  11.61895003862225,\n  12.727922061357855,\n  13.45362404707371,\n  14.177446878757825,\n  15.84297951775486,\n  13.114877048604,\n  15.459624833740307,\n  11.832159566199232,\n  12.569805089976535,\n  13.0,\n  14.866068747318506,\n  9.273618495495704,\n  12.206555615733702,\n  14.035668847618199,\n  16.822603841260722,\n  9.0,\n  17.832554500127006,\n  12.36931687685298,\n  11.180339887498949,\n  10.392304845413264,\n  12.767145334803704,\n  10.0,\n  13.564659966250536,\n  15.0996688705415,\n  13.564659966250536,\n  14.933184523068078,\n  13.45362404707371,\n  8.366600265340756,\n  16.76305461424021,\n  13.152946437965905,\n  13.892443989449804,\n  13.638181696985855,\n  17.86057109949175,\n  13.96424004376894,\n  16.0312195418814,\n  13.228756555322953,\n  16.278820596099706,\n  10.535653752852738,\n  12.083045973594572,\n  9.899494936611665,\n  16.06237840420901,\n  14.966629547095765,\n  12.449899597988733,\n  11.224972160321824,\n  12.165525060596439,\n  16.941074346097416,\n  12.449899597988733,\n  15.033296378372908,\n  18.708286933869708,\n  13.076696830622021,\n  10.295630140987,\n  13.564659966250536,\n  14.106735979665885,\n  16.97056274847714,\n  14.730919862656235,\n  12.649110640673518,\n  11.789826122551595,\n  11.74734012447073,\n  11.489125293076057,\n  13.2664991614216,\n  13.638181696985855,\n  13.0,\n  15.033296378372908,\n  12.569805089976535,\n  17.435595774162696,\n  9.219544457292887,\n  8.774964387392123,\n  13.527749258468683,\n  9.797958971132712],\n [13.674794331177344,\n  13.45362404707371,\n  17.578395831246947,\n  13.416407864998739,\n  7.54983443527075,\n  14.352700094407323,\n  17.0,\n  15.7797338380595,\n  13.076696830622021,\n  19.44222209522358,\n  12.489995996796797,\n  17.406895185529212,\n  16.76305461424021,\n  13.19090595827292,\n  16.0312195418814,\n  17.4928556845359,\n  14.071247279470288,\n  10.099504938362077,\n  16.61324772583615,\n  0.0,\n  14.352700094407323,\n  12.922847983320086,\n  18.303005217723125,\n  13.92838827718412,\n  13.784048752090222,\n  13.490737563232042,\n  15.7797338380595,\n  12.649110640673518,\n  11.661903789690601,\n  12.083045973594572,\n  12.806248474865697,\n  10.816653826391969,\n  15.937377450509228,\n  13.379088160259652,\n  7.0,\n  14.177446878757825,\n  10.770329614269007,\n  14.933184523068078,\n  15.165750888103101,\n  10.488088481701515,\n  12.84523257866513,\n  12.12435565298214,\n  15.620499351813308,\n  16.64331697709324,\n  15.198684153570664,\n  7.54983443527075,\n  11.269427669584644,\n  15.033296378372908,\n  15.0,\n  16.0312195418814,\n  14.0,\n  14.45683229480096,\n  12.489995996796797,\n  16.30950643030009,\n  13.784048752090222,\n  10.770329614269007,\n  11.874342087037917,\n  16.401219466856727,\n  15.748015748023622,\n  9.9498743710662,\n  16.64331697709324,\n  15.132745950421556,\n  14.696938456699069,\n  14.45683229480096,\n  13.74772708486752,\n  14.247806848775006,\n  11.958260743101398,\n  14.106735979665885,\n  15.394804318340652,\n  14.491376746189438,\n  14.560219778561036,\n  15.811388300841896,\n  12.649110640673518,\n  12.529964086141668,\n  14.89966442575134,\n  12.328828005937952,\n  14.106735979665885,\n  18.734993995195193,\n  12.806248474865697,\n  8.246211251235321,\n  13.30413469565007,\n  16.911534525287763,\n  15.684387141358123,\n  15.459624833740307,\n  9.899494936611665,\n  15.132745950421556,\n  10.677078252031311,\n  17.349351572897472,\n  16.673332000533065,\n  10.954451150103322,\n  16.30950643030009,\n  14.2828568570857,\n  11.789826122551595,\n  14.966629547095765,\n  10.677078252031311,\n  10.488088481701515,\n  13.076696830622021,\n  13.74772708486752,\n  12.922847983320086,\n  13.638181696985855],\n [11.0,\n  12.922847983320086,\n  11.532562594670797,\n  14.212670403551895,\n  10.535653752852738,\n  10.488088481701515,\n  12.12435565298214,\n  17.349351572897472,\n  11.090536506409418,\n  15.937377450509228,\n  15.362291495737216,\n  12.449899597988733,\n  14.035668847618199,\n  13.638181696985855,\n  14.730919862656235,\n  14.7648230602334,\n  13.416407864998739,\n  11.916375287812984,\n  13.92838827718412,\n  14.352700094407323,\n  0.0,\n  16.0312195418814,\n  15.905973720586866,\n  14.0,\n  15.0996688705415,\n  10.0,\n  13.74772708486752,\n  9.38083151964686,\n  13.341664064126334,\n  8.0,\n  9.16515138991168,\n  13.379088160259652,\n  11.661903789690601,\n  8.426149773176359,\n  14.66287829861518,\n  12.529964086141668,\n  14.560219778561036,\n  15.066519173319364,\n  15.033296378372908,\n  9.38083151964686,\n  13.45362404707371,\n  12.041594578792296,\n  10.099504938362077,\n  12.922847983320086,\n  14.106735979665885,\n  12.529964086141668,\n  8.660254037844387,\n  11.916375287812984,\n  13.45362404707371,\n  11.445523142259598,\n  11.135528725660043,\n  12.12435565298214,\n  15.874507866387544,\n  11.74734012447073,\n  10.198039027185569,\n  8.366600265340756,\n  10.14889156509222,\n  15.652475842498529,\n  13.856406460551018,\n  13.820274961085254,\n  11.874342087037917,\n  10.816653826391969,\n  14.142135623730951,\n  13.228756555322953,\n  15.968719422671311,\n  10.723805294763608,\n  14.52583904633395,\n  13.076696830622021,\n  15.716233645501712,\n  11.661903789690601,\n  9.16515138991168,\n  14.491376746189438,\n  13.711309200802088,\n  13.674794331177344,\n  13.19090595827292,\n  8.48528137423857,\n  10.723805294763608,\n  14.66287829861518,\n  11.832159566199232,\n  13.416407864998739,\n  10.14889156509222,\n  15.033296378372908,\n  13.856406460551018,\n  6.557438524302,\n  10.488088481701515,\n  16.15549442140351,\n  9.797958971132712,\n  11.789826122551595,\n  13.19090595827292,\n  9.591663046625438,\n  15.748015748023622,\n  11.661903789690601,\n  11.357816691600547,\n  11.74734012447073,\n  10.198039027185569,\n  15.937377450509228,\n  13.96424004376894,\n  15.0,\n  11.874342087037917,\n  10.198039027185569],\n [12.649110640673518,\n  14.89966442575134,\n  12.083045973594572,\n  8.54400374531753,\n  11.489125293076057,\n  11.357816691600547,\n  11.045361017187261,\n  16.0,\n  11.916375287812984,\n  11.357816691600547,\n  14.035668847618199,\n  15.684387141358123,\n  11.489125293076057,\n  12.041594578792296,\n  12.165525060596439,\n  10.816653826391969,\n  12.922847983320086,\n  12.68857754044952,\n  13.527749258468683,\n  12.922847983320086,\n  16.0312195418814,\n  0.0,\n  10.954451150103322,\n  10.723805294763608,\n  10.535653752852738,\n  11.090536506409418,\n  16.3707055437449,\n  13.820274961085254,\n  13.892443989449804,\n  16.583123951777,\n  13.228756555322953,\n  11.661903789690601,\n  16.217274740226856,\n  14.212670403551895,\n  14.142135623730951,\n  12.489995996796797,\n  8.660254037844387,\n  10.954451150103322,\n  12.922847983320086,\n  14.247806848775006,\n  13.638181696985855,\n  9.695359714832659,\n  14.866068747318506,\n  12.489995996796797,\n  16.1245154965971,\n  11.045361017187261,\n  11.489125293076057,\n  14.730919862656235,\n  9.486832980505138,\n  14.966629547095765,\n  10.63014581273465,\n  14.212670403551895,\n  8.774964387392123,\n  17.406895185529212,\n  13.30413469565007,\n  13.674794331177344,\n  14.628738838327793,\n  12.083045973594572,\n  11.789826122551595,\n  10.488088481701515,\n  17.146428199482248,\n  14.142135623730951,\n  14.317821063276353,\n  12.96148139681572,\n  11.575836902790225,\n  13.638181696985855,\n  8.0,\n  15.620499351813308,\n  9.38083151964686,\n  12.922847983320086,\n  15.132745950421556,\n  13.0,\n  10.816653826391969,\n  10.099504938362077,\n  13.527749258468683,\n  14.035668847618199,\n  12.165525060596439,\n  12.649110640673518,\n  12.922847983320086,\n  14.52583904633395,\n  14.560219778561036,\n  11.357816691600547,\n  13.076696830622021,\n  15.033296378372908,\n  15.264337522473747,\n  13.114877048604,\n  11.704699910719626,\n  15.297058540778355,\n  12.449899597988733,\n  14.730919862656235,\n  11.269427669584644,\n  15.524174696260024,\n  7.483314773547883,\n  13.96424004376894,\n  12.36931687685298,\n  10.44030650891055,\n  14.628738838327793,\n  11.224972160321824,\n  13.341664064126334,\n  10.14889156509222],\n [15.748015748023622,\n  14.071247279470288,\n  10.954451150103322,\n  12.529964086141668,\n  15.811388300841896,\n  12.529964086141668,\n  8.94427190999916,\n  14.966629547095765,\n  13.638181696985855,\n  7.0,\n  14.730919862656235,\n  11.575836902790225,\n  9.273618495495704,\n  14.035668847618199,\n  12.409673645990857,\n  9.746794344808963,\n  17.11724276862369,\n  15.652475842498529,\n  12.767145334803704,\n  18.303005217723125,\n  15.905973720586866,\n  10.954451150103322,\n  0.0,\n  14.247806848775006,\n  12.36931687685298,\n  11.874342087037917,\n  16.24807680927192,\n  14.866068747318506,\n  15.905973720586866,\n  15.394804318340652,\n  13.0,\n  13.92838827718412,\n  12.288205727444508,\n  15.0996688705415,\n  17.029386365926403,\n  15.297058540778355,\n  11.789826122551595,\n  10.583005244258363,\n  11.090536506409418,\n  14.594519519326424,\n  15.033296378372908,\n  13.341664064126334,\n  11.958260743101398,\n  12.24744871391589,\n  17.776388834631177,\n  15.165750888103101,\n  11.575836902790225,\n  12.449899597988733,\n  11.74734012447073,\n  12.649110640673518,\n  12.206555615733702,\n  12.409673645990857,\n  9.848857801796104,\n  12.922847983320086,\n  14.594519519326424,\n  13.820274961085254,\n  16.3707055437449,\n  10.583005244258363,\n  14.45683229480096,\n  15.620499351813308,\n  12.083045973594572,\n  12.083045973594572,\n  11.532562594670797,\n  12.0,\n  11.045361017187261,\n  15.033296378372908,\n  12.24744871391589,\n  16.911534525287763,\n  10.392304845413264,\n  13.527749258468683,\n  16.217274740226856,\n  16.278820596099706,\n  12.68857754044952,\n  12.489995996796797,\n  10.14889156509222,\n  14.52583904633395,\n  12.806248474865697,\n  8.831760866327848,\n  12.449899597988733,\n  16.822603841260722,\n  14.071247279470288,\n  12.529964086141668,\n  12.84523257866513,\n  12.96148139681572,\n  17.05872210923198,\n  14.071247279470288,\n  14.177446878757825,\n  11.832159566199232,\n  9.539392014169456,\n  14.933184523068078,\n  6.557438524302,\n  15.132745950421556,\n  12.649110640673518,\n  12.206555615733702,\n  13.45362404707371,\n  14.317821063276353,\n  13.92838827718412,\n  10.954451150103322,\n  11.135528725660043,\n  8.06225774829855],\n [8.426149773176359,\n  11.874342087037917,\n  12.36931687685298,\n  12.727922061357855,\n  12.041594578792296,\n  14.422205101855956,\n  12.84523257866513,\n  16.522711641858304,\n  11.789826122551595,\n  14.2828568570857,\n  15.297058540778355,\n  16.46207763315433,\n  11.0,\n  14.560219778561036,\n  15.264337522473747,\n  13.564659966250536,\n  10.954451150103322,\n  11.489125293076057,\n  10.677078252031311,\n  13.92838827718412,\n  14.0,\n  10.723805294763608,\n  14.247806848775006,\n  0.0,\n  7.745966692414834,\n  7.745966692414834,\n  11.532562594670797,\n  9.273618495495704,\n  11.40175425099138,\n  14.422205101855956,\n  11.40175425099138,\n  10.246950765959598,\n  13.856406460551018,\n  12.288205727444508,\n  13.45362404707371,\n  9.0,\n  12.24744871391589,\n  11.61895003862225,\n  11.489125293076057,\n  13.416407864998739,\n  16.401219466856727,\n  10.344080432788601,\n  11.916375287812984,\n  13.0,\n  11.958260743101398,\n  12.206555615733702,\n  10.535653752852738,\n  15.748015748023622,\n  8.306623862918075,\n  13.152946437965905,\n  10.677078252031311,\n  10.44030650891055,\n  9.055385138137417,\n  13.2664991614216,\n  12.489995996796797,\n  13.341664064126334,\n  15.132745950421556,\n  12.84523257866513,\n  6.164414002968976,\n  14.38749456993816,\n  16.401219466856727,\n  11.704699910719626,\n  15.811388300841896,\n  14.45683229480096,\n  12.68857754044952,\n  14.933184523068078,\n  7.937253933193772,\n  13.379088160259652,\n  11.704699910719626,\n  9.797958971132712,\n  12.884098726725126,\n  12.806248474865697,\n  10.862780491200215,\n  9.433981132056603,\n  11.489125293076057,\n  11.40175425099138,\n  14.933184523068078,\n  12.449899597988733,\n  11.575836902790225,\n  16.186414056238647,\n  10.44030650891055,\n  12.649110640673518,\n  12.0,\n  12.609520212918492,\n  12.489995996796797,\n  15.0,\n  9.797958971132712,\n  13.0,\n  12.165525060596439,\n  13.784048752090222,\n  11.832159566199232,\n  16.673332000533065,\n  8.426149773176359,\n  13.784048752090222,\n  13.416407864998739,\n  12.489995996796797,\n  12.767145334803704,\n  9.848857801796104,\n  11.445523142259598,\n  12.0],\n [13.527749258468683,\n  14.317821063276353,\n  14.798648586948742,\n  14.422205101855956,\n  12.767145334803704,\n  13.038404810405298,\n  11.180339887498949,\n  18.027756377319946,\n  14.52583904633395,\n  12.727922061357855,\n  17.146428199482248,\n  17.175564037317667,\n  12.449899597988733,\n  16.97056274847714,\n  15.905973720586866,\n  12.649110640673518,\n  15.231546211727817,\n  12.96148139681572,\n  9.695359714832659,\n  13.784048752090222,\n  15.0996688705415,\n  10.535653752852738,\n  12.36931687685298,\n  7.745966692414834,\n  0.0,\n  10.583005244258363,\n  15.329709716755891,\n  13.711309200802088,\n  13.490737563232042,\n  13.711309200802088,\n  12.489995996796797,\n  10.44030650891055,\n  14.560219778561036,\n  11.704699910719626,\n  12.529964086141668,\n  12.36931687685298,\n  11.832159566199232,\n  12.767145334803704,\n  11.832159566199232,\n  13.711309200802088,\n  17.05872210923198,\n  13.076696830622021,\n  11.832159566199232,\n  15.588457268119896,\n  16.703293088490067,\n  14.035668847618199,\n  9.848857801796104,\n  16.186414056238647,\n  12.529964086141668,\n  14.247806848775006,\n  12.083045973594572,\n  11.789826122551595,\n  8.602325267042627,\n  13.19090595827292,\n  15.231546211727817,\n  11.661903789690601,\n  15.588457268119896,\n  14.45683229480096,\n  10.862780491200215,\n  16.401219466856727,\n  16.703293088490067,\n  13.076696830622021,\n  15.0996688705415,\n  16.09347693943108,\n  12.529964086141668,\n  15.0,\n  5.5677643628300215,\n  14.317821063276353,\n  11.704699910719626,\n  9.797958971132712,\n  14.352700094407323,\n  16.73320053068151,\n  11.489125293076057,\n  9.539392014169456,\n  10.198039027185569,\n  12.569805089976535,\n  16.881943016134134,\n  13.892443989449804,\n  14.071247279470288,\n  16.55294535724685,\n  11.269427669584644,\n  14.7648230602334,\n  14.89966442575134,\n  14.177446878757825,\n  14.0,\n  16.278820596099706,\n  12.569805089976535,\n  13.45362404707371,\n  13.711309200802088,\n  13.490737563232042,\n  10.862780491200215,\n  18.0,\n  9.219544457292887,\n  15.748015748023622,\n  12.649110640673518,\n  14.212670403551895,\n  11.704699910719626,\n  9.433981132056603,\n  11.958260743101398,\n  11.045361017187261],\n [9.1104335791443,\n  10.816653826391969,\n  9.643650760992955,\n  9.273618495495704,\n  10.816653826391969,\n  11.832159566199232,\n  9.433981132056603,\n  14.106735979665885,\n  9.0,\n  13.490737563232042,\n  11.916375287812984,\n  12.767145334803704,\n  9.219544457292887,\n  12.806248474865697,\n  15.066519173319364,\n  12.569805089976535,\n  11.224972160321824,\n  10.862780491200215,\n  11.489125293076057,\n  13.490737563232042,\n  10.0,\n  11.090536506409418,\n  11.874342087037917,\n  7.745966692414834,\n  10.583005244258363,\n  0.0,\n  12.922847983320086,\n  6.928203230275509,\n  10.488088481701515,\n  11.661903789690601,\n  8.366600265340756,\n  11.357816691600547,\n  9.486832980505138,\n  11.445523142259598,\n  14.38749456993816,\n  9.643650760992955,\n  11.135528725660043,\n  10.14889156509222,\n  9.486832980505138,\n  10.295630140987,\n  13.45362404707371,\n  10.246950765959598,\n  10.0,\n  12.206555615733702,\n  11.0,\n  10.723805294763608,\n  8.774964387392123,\n  12.569805089976535,\n  8.660254037844387,\n  10.816653826391969,\n  7.483314773547883,\n  7.54983443527075,\n  10.392304845413264,\n  11.313708498984761,\n  7.874007874011811,\n  11.135528725660043,\n  13.674794331177344,\n  11.180339887498949,\n  8.717797887081348,\n  11.704699910719626,\n  12.922847983320086,\n  5.744562646538029,\n  13.92838827718412,\n  9.1104335791443,\n  13.820274961085254,\n  14.52583904633395,\n  8.888194417315589,\n  13.152946437965905,\n  9.539392014169456,\n  11.40175425099138,\n  11.045361017187261,\n  13.784048752090222,\n  12.165525060596439,\n  8.06225774829855,\n  11.224972160321824,\n  9.797958971132712,\n  9.9498743710662,\n  11.090536506409418,\n  10.392304845413264,\n  14.142135623730951,\n  7.681145747868608,\n  11.661903789690601,\n  12.083045973594572,\n  9.0,\n  9.486832980505138,\n  13.228756555322953,\n  8.48528137423857,\n  9.433981132056603,\n  8.0,\n  10.295630140987,\n  10.954451150103322,\n  13.19090595827292,\n  7.0,\n  11.135528725660043,\n  10.0,\n  11.045361017187261,\n  11.958260743101398,\n  11.958260743101398,\n  10.44030650891055,\n  9.695359714832659],\n [9.797958971132712,\n  9.695359714832659,\n  14.628738838327793,\n  15.716233645501712,\n  14.0,\n  17.233687939614086,\n  16.911534525287763,\n  16.1245154965971,\n  13.490737563232042,\n  17.406895185529212,\n  14.52583904633395,\n  13.19090595827292,\n  12.727922061357855,\n  13.152946437965905,\n  11.74734012447073,\n  15.588457268119896,\n  11.789826122551595,\n  12.609520212918492,\n  15.905973720586866,\n  15.7797338380595,\n  13.74772708486752,\n  16.3707055437449,\n  16.24807680927192,\n  11.532562594670797,\n  15.329709716755891,\n  12.922847983320086,\n  0.0,\n  10.44030650891055,\n  12.68857754044952,\n  13.379088160259652,\n  11.445523142259598,\n  13.564659966250536,\n  13.601470508735444,\n  13.784048752090222,\n  13.038404810405298,\n  12.649110640673518,\n  13.820274961085254,\n  13.19090595827292,\n  14.798648586948742,\n  12.922847983320086,\n  16.73320053068151,\n  11.135528725660043,\n  13.30413469565007,\n  12.165525060596439,\n  13.711309200802088,\n  12.083045973594572,\n  12.649110640673518,\n  12.767145334803704,\n  11.74734012447073,\n  13.92838827718412,\n  15.905973720586866,\n  12.884098726725126,\n  12.449899597988733,\n  10.816653826391969,\n  13.45362404707371,\n  12.84523257866513,\n  14.422205101855956,\n  13.856406460551018,\n  12.68857754044952,\n  15.811388300841896,\n  13.038404810405298,\n  13.038404810405298,\n  13.74772708486752,\n  14.352700094407323,\n  11.224972160321824,\n  13.490737563232042,\n  15.0996688705415,\n  12.409673645990857,\n  17.378147196982766,\n  11.180339887498949,\n  14.730919862656235,\n  9.433981132056603,\n  9.539392014169456,\n  13.2664991614216,\n  9.848857801796104,\n  10.14889156509222,\n  15.491933384829668,\n  13.416407864998739,\n  9.0,\n  14.730919862656235,\n  11.74734012447073,\n  16.583123951777,\n  9.327379053088816,\n  12.083045973594572,\n  13.601470508735444,\n  18.2208671582886,\n  12.449899597988733,\n  16.673332000533065,\n  15.264337522473747,\n  15.0,\n  12.922847983320086,\n  16.15549442140351,\n  14.422205101855956,\n  9.433981132056603,\n  15.905973720586866,\n  13.228756555322953,\n  15.033296378372908,\n  12.165525060596439,\n  9.797958971132712,\n  13.674794331177344],\n [6.244997998398398,\n  9.0,\n  9.539392014169456,\n  12.649110640673518,\n  10.44030650891055,\n  13.341664064126334,\n  13.601470508735444,\n  13.0,\n  7.416198487095663,\n  15.165750888103101,\n  11.224972160321824,\n  12.84523257866513,\n  11.532562594670797,\n  11.045361017187261,\n  14.66287829861518,\n  15.427248620541512,\n  11.045361017187261,\n  9.899494936611665,\n  12.884098726725126,\n  12.649110640673518,\n  9.38083151964686,\n  13.820274961085254,\n  14.866068747318506,\n  9.273618495495704,\n  13.711309200802088,\n  6.928203230275509,\n  10.44030650891055,\n  0.0,\n  10.099504938362077,\n  10.198039027185569,\n  9.38083151964686,\n  10.246950765959598,\n  10.392304845413264,\n  11.357816691600547,\n  13.30413469565007,\n  8.426149773176359,\n  13.341664064126334,\n  11.789826122551595,\n  11.661903789690601,\n  9.899494936611665,\n  13.0,\n  8.888194417315589,\n  9.591663046625438,\n  11.0,\n  7.937253933193772,\n  9.643650760992955,\n  9.1104335791443,\n  12.083045973594572,\n  8.306623862918075,\n  9.9498743710662,\n  9.486832980505138,\n  8.774964387392123,\n  12.0,\n  10.770329614269007,\n  9.486832980505138,\n  11.74734012447073,\n  11.357816691600547,\n  12.041594578792296,\n  10.0,\n  11.269427669584644,\n  11.874342087037917,\n  9.848857801796104,\n  13.856406460551018,\n  11.0,\n  13.076696830622021,\n  13.0,\n  12.84523257866513,\n  12.84523257866513,\n  13.30413469565007,\n  11.489125293076057,\n  10.392304845413264,\n  12.489995996796797,\n  12.165525060596439,\n  12.609520212918492,\n  12.727922061357855,\n  9.38083151964686,\n  9.433981132056603,\n  12.206555615733702,\n  7.211102550927978,\n  12.0,\n  9.848857801796104,\n  12.0,\n  10.295630140987,\n  7.416198487095663,\n  8.717797887081348,\n  11.704699910719626,\n  4.69041575982343,\n  9.433981132056603,\n  9.591663046625438,\n  10.392304845413264,\n  13.2664991614216,\n  10.770329614269007,\n  10.816653826391969,\n  10.677078252031311,\n  10.583005244258363,\n  12.083045973594572,\n  12.529964086141668,\n  11.445523142259598,\n  8.660254037844387,\n  10.295630140987],\n [11.704699910719626,\n  11.445523142259598,\n  13.379088160259652,\n  11.74734012447073,\n  11.532562594670797,\n  12.24744871391589,\n  17.406895185529212,\n  9.539392014169456,\n  12.36931687685298,\n  17.204650534085253,\n  11.575836902790225,\n  11.269427669584644,\n  15.198684153570664,\n  14.2828568570857,\n  16.583123951777,\n  17.72004514666935,\n  8.246211251235321,\n  15.033296378372908,\n  15.033296378372908,\n  11.661903789690601,\n  13.341664064126334,\n  13.892443989449804,\n  15.905973720586866,\n  11.40175425099138,\n  13.490737563232042,\n  10.488088481701515,\n  12.68857754044952,\n  10.099504938362077,\n  0.0,\n  13.490737563232042,\n  10.954451150103322,\n  8.888194417315589,\n  14.142135623730951,\n  9.848857801796104,\n  12.68857754044952,\n  14.035668847618199,\n  9.899494936611665,\n  7.681145747868608,\n  12.569805089976535,\n  14.142135623730951,\n  15.459624833740307,\n  14.247806848775006,\n  15.620499351813308,\n  12.84523257866513,\n  11.0,\n  7.681145747868608,\n  12.767145334803704,\n  10.392304845413264,\n  9.746794344808963,\n  15.652475842498529,\n  12.489995996796797,\n  8.06225774829855,\n  12.806248474865697,\n  15.033296378372908,\n  8.0,\n  13.416407864998739,\n  12.449899597988733,\n  16.522711641858304,\n  11.489125293076057,\n  14.933184523068078,\n  13.30413469565007,\n  13.228756555322953,\n  12.649110640673518,\n  11.958260743101398,\n  11.532562594670797,\n  12.84523257866513,\n  12.12435565298214,\n  18.193405398660254,\n  11.357816691600547,\n  15.620499351813308,\n  13.638181696985855,\n  12.884098726725126,\n  9.055385138137417,\n  10.63014581273465,\n  11.575836902790225,\n  13.856406460551018,\n  13.74772708486752,\n  17.11724276862369,\n  10.392304845413264,\n  13.711309200802088,\n  7.14142842854285,\n  12.727922061357855,\n  16.431676725154983,\n  12.767145334803704,\n  8.831760866327848,\n  12.288205727444508,\n  10.392304845413264,\n  15.198684153570664,\n  14.142135623730951,\n  14.212670403551895,\n  11.313708498984761,\n  16.3707055437449,\n  11.357816691600547,\n  9.591663046625438,\n  13.92838827718412,\n  13.711309200802088,\n  9.643650760992955,\n  12.288205727444508,\n  12.922847983320086,\n  13.038404810405298],\n [12.767145334803704,\n  12.12435565298214,\n  14.594519519326424,\n  16.792855623746664,\n  11.874342087037917,\n  12.489995996796797,\n  13.379088160259652,\n  15.652475842498529,\n  10.63014581273465,\n  15.556349186104045,\n  14.628738838327793,\n  13.0,\n  15.459624833740307,\n  15.231546211727817,\n  15.588457268119896,\n  16.3707055437449,\n  16.792855623746664,\n  11.74734012447073,\n  14.560219778561036,\n  12.083045973594572,\n  8.0,\n  16.583123951777,\n  15.394804318340652,\n  14.422205101855956,\n  13.711309200802088,\n  11.661903789690601,\n  13.379088160259652,\n  10.198039027185569,\n  13.490737563232042,\n  0.0,\n  9.055385138137417,\n  13.076696830622021,\n  12.165525060596439,\n  9.643650760992955,\n  12.041594578792296,\n  12.041594578792296,\n  14.89966442575134,\n  15.0,\n  15.491933384829668,\n  7.745966692414834,\n  13.96424004376894,\n  12.288205727444508,\n  8.246211251235321,\n  15.968719422671311,\n  16.401219466856727,\n  11.874342087037917,\n  9.0,\n  11.313708498984761,\n  15.066519173319364,\n  12.922847983320086,\n  14.2828568570857,\n  12.529964086141668,\n  14.0,\n  8.0,\n  14.0,\n  5.477225575051661,\n  8.888194417315589,\n  16.278820596099706,\n  16.24807680927192,\n  14.38749456993816,\n  11.958260743101398,\n  11.61895003862225,\n  14.422205101855956,\n  14.035668847618199,\n  14.730919862656235,\n  11.532562594670797,\n  13.74772708486752,\n  12.609520212918492,\n  16.881943016134134,\n  11.74734012447073,\n  11.045361017187261,\n  16.55294535724685,\n  13.19090595827292,\n  14.38749456993816,\n  11.832159566199232,\n  7.615773105863909,\n  12.36931687685298,\n  15.968719422671311,\n  10.954451150103322,\n  11.313708498984761,\n  10.344080432788601,\n  17.663521732655695,\n  13.711309200802088,\n  7.681145747868608,\n  10.0,\n  15.459624833740307,\n  9.591663046625438,\n  11.090536506409418,\n  12.884098726725126,\n  8.0,\n  14.628738838327793,\n  12.489995996796797,\n  13.601470508735444,\n  12.489995996796797,\n  7.745966692414834,\n  14.142135623730951,\n  13.601470508735444,\n  12.609520212918492,\n  8.54400374531753,\n  9.591663046625438],\n [12.449899597988733,\n  7.681145747868608,\n  13.30413469565007,\n  11.832159566199232,\n  10.246950765959598,\n  12.727922061357855,\n  12.529964086141668,\n  12.922847983320086,\n  8.306623862918075,\n  14.2828568570857,\n  14.89966442575134,\n  10.63014581273465,\n  13.228756555322953,\n  12.489995996796797,\n  14.66287829861518,\n  11.74734012447073,\n  11.832159566199232,\n  12.409673645990857,\n  11.313708498984761,\n  12.806248474865697,\n  9.16515138991168,\n  13.228756555322953,\n  13.0,\n  11.40175425099138,\n  12.489995996796797,\n  8.366600265340756,\n  11.445523142259598,\n  9.38083151964686,\n  10.954451150103322,\n  9.055385138137417,\n  0.0,\n  13.379088160259652,\n  11.74734012447073,\n  10.723805294763608,\n  12.609520212918492,\n  13.228756555322953,\n  10.392304845413264,\n  12.041594578792296,\n  13.92838827718412,\n  7.211102550927978,\n  10.04987562112089,\n  12.12435565298214,\n  8.831760866327848,\n  12.767145334803704,\n  14.317821063276353,\n  11.090536506409418,\n  9.539392014169456,\n  11.489125293076057,\n  11.357816691600547,\n  13.45362404707371,\n  12.409673645990857,\n  11.704699910719626,\n  10.392304845413264,\n  10.295630140987,\n  10.295630140987,\n  7.615773105863909,\n  9.1104335791443,\n  14.38749456993816,\n  11.045361017187261,\n  12.767145334803704,\n  10.908712114635714,\n  9.0,\n  13.341664064126334,\n  12.609520212918492,\n  13.820274961085254,\n  12.449899597988733,\n  12.288205727444508,\n  14.317821063276353,\n  11.357816691600547,\n  13.038404810405298,\n  6.6332495807108,\n  11.313708498984761,\n  11.40175425099138,\n  9.1104335791443,\n  9.055385138137417,\n  5.656854249492381,\n  12.041594578792296,\n  14.177446878757825,\n  11.74734012447073,\n  14.628738838327793,\n  7.416198487095663,\n  13.2664991614216,\n  11.832159566199232,\n  9.848857801796104,\n  12.24744871391589,\n  13.892443989449804,\n  10.295630140987,\n  12.288205727444508,\n  9.273618495495704,\n  7.3484692283495345,\n  12.0,\n  12.083045973594572,\n  11.445523142259598,\n  8.0,\n  7.483314773547883,\n  11.575836902790225,\n  11.269427669584644,\n  10.14889156509222,\n  11.0,\n  8.246211251235321],\n [10.583005244258363,\n  12.0,\n  11.489125293076057,\n  12.84523257866513,\n  9.273618495495704,\n  11.180339887498949,\n  14.7648230602334,\n  13.92838827718412,\n  13.416407864998739,\n  14.52583904633395,\n  12.041594578792296,\n  14.352700094407323,\n  12.24744871391589,\n  12.041594578792296,\n  13.638181696985855,\n  15.198684153570664,\n  11.357816691600547,\n  11.269427669584644,\n  11.61895003862225,\n  10.816653826391969,\n  13.379088160259652,\n  11.661903789690601,\n  13.92838827718412,\n  10.246950765959598,\n  10.44030650891055,\n  11.357816691600547,\n  13.564659966250536,\n  10.246950765959598,\n  8.888194417315589,\n  13.076696830622021,\n  13.379088160259652,\n  0.0,\n  12.609520212918492,\n  9.899494936611665,\n  9.797958971132712,\n  12.489995996796797,\n  10.344080432788601,\n  10.583005244258363,\n  9.433981132056603,\n  13.379088160259652,\n  14.696938456699069,\n  11.489125293076057,\n  13.30413469565007,\n  10.488088481701515,\n  10.198039027185569,\n  9.591663046625438,\n  8.48528137423857,\n  12.84523257866513,\n  9.591663046625438,\n  10.954451150103322,\n  9.1104335791443,\n  8.48528137423857,\n  10.63014581273465,\n  14.177446878757825,\n  11.61895003862225,\n  12.922847983320086,\n  13.114877048604,\n  12.884098726725126,\n  10.816653826391969,\n  13.638181696985855,\n  12.727922061357855,\n  14.422205101855956,\n  9.9498743710662,\n  13.490737563232042,\n  8.0,\n  11.832159566199232,\n  10.770329614269007,\n  14.966629547095765,\n  11.832159566199232,\n  11.0,\n  14.177446878757825,\n  14.594519519326424,\n  9.539392014169456,\n  12.328828005937952,\n  11.445523142259598,\n  13.820274961085254,\n  13.564659966250536,\n  13.490737563232042,\n  8.888194417315589,\n  11.357816691600547,\n  11.489125293076057,\n  10.816653826391969,\n  13.892443989449804,\n  12.409673645990857,\n  10.246950765959598,\n  11.74734012447073,\n  8.426149773176359,\n  13.038404810405298,\n  14.317821063276353,\n  13.45362404707371,\n  11.180339887498949,\n  13.820274961085254,\n  10.099504938362077,\n  13.0,\n  13.45362404707371,\n  14.52583904633395,\n  8.246211251235321,\n  9.797958971132712,\n  10.198039027185569,\n  10.816653826391969],\n [13.674794331177344,\n  10.04987562112089,\n  12.609520212918492,\n  13.038404810405298,\n  12.206555615733702,\n  15.620499351813308,\n  11.704699910719626,\n  16.401219466856727,\n  14.38749456993816,\n  16.3707055437449,\n  12.0,\n  13.379088160259652,\n  8.18535277187245,\n  12.165525060596439,\n  14.66287829861518,\n  13.114877048604,\n  15.427248620541512,\n  10.770329614269007,\n  12.727922061357855,\n  15.937377450509228,\n  11.661903789690601,\n  16.217274740226856,\n  12.288205727444508,\n  13.856406460551018,\n  14.560219778561036,\n  9.486832980505138,\n  13.601470508735444,\n  10.392304845413264,\n  14.142135623730951,\n  12.165525060596439,\n  11.74734012447073,\n  12.609520212918492,\n  0.0,\n  14.933184523068078,\n  13.820274961085254,\n  15.264337522473747,\n  13.114877048604,\n  14.035668847618199,\n  7.0710678118654755,\n  10.0,\n  13.601470508735444,\n  13.45362404707371,\n  10.392304845413264,\n  12.288205727444508,\n  11.704699910719626,\n  14.177446878757825,\n  8.306623862918075,\n  13.92838827718412,\n  13.820274961085254,\n  6.4031242374328485,\n  9.695359714832659,\n  8.306623862918075,\n  12.328828005937952,\n  9.16515138991168,\n  11.135528725660043,\n  12.569805089976535,\n  16.822603841260722,\n  8.888194417315589,\n  13.416407864998739,\n  14.177446878757825,\n  7.810249675906654,\n  7.14142842854285,\n  9.899494936611665,\n  10.14889156509222,\n  13.379088160259652,\n  17.233687939614086,\n  14.594519519326424,\n  12.36931687685298,\n  13.601470508735444,\n  12.083045973594572,\n  14.422205101855956,\n  17.378147196982766,\n  15.165750888103101,\n  12.206555615733702,\n  10.677078252031311,\n  11.74734012447073,\n  12.68857754044952,\n  9.746794344808963,\n  10.862780491200215,\n  13.564659966250536,\n  11.357816691600547,\n  14.142135623730951,\n  12.0,\n  11.090536506409418,\n  11.832159566199232,\n  16.583123951777,\n  12.409673645990857,\n  11.090536506409418,\n  11.575836902790225,\n  10.488088481701515,\n  12.24744871391589,\n  11.224972160321824,\n  13.0,\n  12.24744871391589,\n  13.19090595827292,\n  14.491376746189438,\n  11.0,\n  14.106735979665885,\n  9.746794344808963,\n  11.661903789690601],\n [11.224972160321824,\n  14.352700094407323,\n  11.832159566199232,\n  14.866068747318506,\n  11.74734012447073,\n  7.0,\n  13.92838827718412,\n  15.231546211727817,\n  12.328828005937952,\n  13.892443989449804,\n  15.7797338380595,\n  11.661903789690601,\n  15.556349186104045,\n  15.905973720586866,\n  14.89966442575134,\n  16.09347693943108,\n  12.206555615733702,\n  14.594519519326424,\n  13.45362404707371,\n  13.379088160259652,\n  8.426149773176359,\n  14.212670403551895,\n  15.0996688705415,\n  12.288205727444508,\n  11.704699910719626,\n  11.445523142259598,\n  13.784048752090222,\n  11.357816691600547,\n  9.848857801796104,\n  9.643650760992955,\n  10.723805294763608,\n  9.899494936611665,\n  14.933184523068078,\n  0.0,\n  13.638181696985855,\n  12.165525060596439,\n  13.0,\n  11.575836902790225,\n  15.132745950421556,\n  13.30413469565007,\n  16.30950643030009,\n  13.114877048604,\n  12.449899597988733,\n  13.19090595827292,\n  15.231546211727817,\n  11.045361017187261,\n  10.198039027185569,\n  10.04987562112089,\n  11.74734012447073,\n  14.491376746189438,\n  12.449899597988733,\n  10.954451150103322,\n  14.66287829861518,\n  13.30413469565007,\n  11.269427669584644,\n  9.327379053088816,\n  9.273618495495704,\n  17.72004514666935,\n  13.152946437965905,\n  16.3707055437449,\n  13.711309200802088,\n  14.071247279470288,\n  13.674794331177344,\n  14.7648230602334,\n  12.884098726725126,\n  7.0710678118654755,\n  11.661903789690601,\n  16.1245154965971,\n  14.2828568570857,\n  11.789826122551595,\n  11.445523142259598,\n  14.035668847618199,\n  9.327379053088816,\n  12.96148139681572,\n  11.445523142259598,\n  11.61895003862225,\n  13.416407864998739,\n  16.3707055437449,\n  11.445523142259598,\n  14.177446878757825,\n  8.602325267042627,\n  14.38749456993816,\n  16.15549442140351,\n  8.831760866327848,\n  10.44030650891055,\n  14.422205101855956,\n  9.9498743710662,\n  13.114877048604,\n  14.730919862656235,\n  13.228756555322953,\n  12.84523257866513,\n  15.968719422671311,\n  10.488088481701515,\n  11.704699910719626,\n  12.041594578792296,\n  16.64331697709324,\n  12.083045973594572,\n  12.328828005937952,\n  12.0,\n  10.04987562112089],\n [14.2828568570857,\n  10.954451150103322,\n  17.944358444926362,\n  14.730919862656235,\n  7.615773105863909,\n  15.905973720586866,\n  16.73320053068151,\n  17.146428199482248,\n  15.297058540778355,\n  19.0,\n  14.035668847618199,\n  17.08800749063506,\n  14.7648230602334,\n  12.288205727444508,\n  13.784048752090222,\n  15.132745950421556,\n  14.247806848775006,\n  8.888194417315589,\n  14.177446878757825,\n  7.0,\n  14.66287829861518,\n  14.142135623730951,\n  17.029386365926403,\n  13.45362404707371,\n  12.529964086141668,\n  14.38749456993816,\n  13.038404810405298,\n  13.30413469565007,\n  12.68857754044952,\n  12.041594578792296,\n  12.609520212918492,\n  9.797958971132712,\n  13.820274961085254,\n  13.638181696985855,\n  0.0,\n  15.620499351813308,\n  10.14889156509222,\n  15.491933384829668,\n  13.30413469565007,\n  9.746794344808963,\n  12.884098726725126,\n  12.569805089976535,\n  14.106735979665885,\n  14.89966442575134,\n  14.89966442575134,\n  10.392304845413264,\n  9.38083151964686,\n  15.524174696260024,\n  15.362291495737216,\n  13.711309200802088,\n  14.247806848775006,\n  13.856406460551018,\n  10.44030650891055,\n  13.820274961085254,\n  14.866068747318506,\n  10.246950765959598,\n  13.341664064126334,\n  14.422205101855956,\n  14.66287829861518,\n  12.649110640673518,\n  14.0,\n  14.89966442575134,\n  11.445523142259598,\n  15.684387141358123,\n  10.862780491200215,\n  14.422205101855956,\n  12.806248474865697,\n  11.916375287812984,\n  15.811388300841896,\n  11.789826122551595,\n  14.594519519326424,\n  15.132745950421556,\n  11.61895003862225,\n  12.083045973594572,\n  11.357816691600547,\n  11.180339887498949,\n  16.431676725154983,\n  16.55294535724685,\n  12.206555615733702,\n  9.746794344808963,\n  13.19090595827292,\n  16.64331697709324,\n  13.45362404707371,\n  15.684387141358123,\n  12.041594578792296,\n  17.146428199482248,\n  12.288205727444508,\n  17.60681686165901,\n  17.233687939614086,\n  10.816653826391969,\n  14.798648586948742,\n  13.96424004376894,\n  13.114877048604,\n  14.106735979665885,\n  12.529964086141668,\n  12.206555615733702,\n  10.583005244258363,\n  11.661903789690601,\n  11.224972160321824,\n  13.152946437965905],\n [5.656854249492381,\n  15.0996688705415,\n  10.862780491200215,\n  15.198684153570664,\n  14.071247279470288,\n  13.076696830622021,\n  12.409673645990857,\n  17.029386365926403,\n  9.273618495495704,\n  13.527749258468683,\n  13.601470508735444,\n  16.06237840420901,\n  12.96148139681572,\n  15.198684153570664,\n  14.422205101855956,\n  16.822603841260722,\n  14.798648586948742,\n  11.445523142259598,\n  15.84297951775486,\n  14.177446878757825,\n  12.529964086141668,\n  12.489995996796797,\n  15.297058540778355,\n  9.0,\n  12.36931687685298,\n  9.643650760992955,\n  12.649110640673518,\n  8.426149773176359,\n  14.035668847618199,\n  12.041594578792296,\n  13.228756555322953,\n  12.489995996796797,\n  15.264337522473747,\n  12.165525060596439,\n  15.620499351813308,\n  0.0,\n  15.905973720586866,\n  13.038404810405298,\n  15.0,\n  13.601470508735444,\n  17.776388834631177,\n  6.928203230275509,\n  11.704699910719626,\n  14.832396974191326,\n  14.560219778561036,\n  11.313708498984761,\n  11.575836902790225,\n  13.674794331177344,\n  10.099504938362077,\n  13.711309200802088,\n  12.68857754044952,\n  12.727922061357855,\n  13.228756555322953,\n  12.767145334803704,\n  14.177446878757825,\n  12.529964086141668,\n  13.416407864998739,\n  14.142135623730951,\n  13.228756555322953,\n  13.038404810405298,\n  17.4928556845359,\n  12.806248474865697,\n  17.804493814764857,\n  13.341664064126334,\n  14.352700094407323,\n  12.727922061357855,\n  10.488088481701515,\n  12.24744871391589,\n  16.30950643030009,\n  9.9498743710662,\n  14.730919862656235,\n  14.45683229480096,\n  12.041594578792296,\n  14.422205101855956,\n  14.933184523068078,\n  11.61895003862225,\n  11.135528725660043,\n  13.2664991614216,\n  9.433981132056603,\n  13.30413469565007,\n  13.19090595827292,\n  16.0312195418814,\n  11.704699910719626,\n  9.055385138137417,\n  11.180339887498949,\n  14.628738838327793,\n  7.416198487095663,\n  11.40175425099138,\n  12.36931687685298,\n  14.52583904633395,\n  14.177446878757825,\n  15.905973720586866,\n  10.099504938362077,\n  14.730919862656235,\n  12.36931687685298,\n  12.206555615733702,\n  17.4928556845359,\n  12.884098726725126,\n  9.38083151964686,\n  11.704699910719626],\n [14.106735979665885,\n  10.816653826391969,\n  14.106735979665885,\n  6.782329983125268,\n  8.660254037844387,\n  12.24744871391589,\n  13.674794331177344,\n  13.228756555322953,\n  13.379088160259652,\n  15.0996688705415,\n  12.083045973594572,\n  12.36931687685298,\n  11.61895003862225,\n  10.295630140987,\n  11.958260743101398,\n  10.862780491200215,\n  9.899494936611665,\n  12.328828005937952,\n  13.114877048604,\n  10.770329614269007,\n  14.560219778561036,\n  8.660254037844387,\n  11.789826122551595,\n  12.24744871391589,\n  11.832159566199232,\n  11.135528725660043,\n  13.820274961085254,\n  13.341664064126334,\n  9.899494936611665,\n  14.89966442575134,\n  10.392304845413264,\n  10.344080432788601,\n  13.114877048604,\n  13.0,\n  10.14889156509222,\n  15.905973720586866,\n  0.0,\n  9.539392014169456,\n  10.770329614269007,\n  11.74734012447073,\n  11.090536506409418,\n  12.449899597988733,\n  15.033296378372908,\n  11.180339887498949,\n  14.177446878757825,\n  8.888194417315589,\n  10.44030650891055,\n  12.328828005937952,\n  11.0,\n  14.177446878757825,\n  11.135528725660043,\n  11.61895003862225,\n  8.246211251235321,\n  15.556349186104045,\n  9.797958971132712,\n  11.74734012447073,\n  13.674794331177344,\n  12.288205727444508,\n  11.575836902790225,\n  11.269427669584644,\n  12.609520212918492,\n  12.206555615733702,\n  9.16515138991168,\n  11.180339887498949,\n  9.327379053088816,\n  13.527749258468683,\n  10.246950765959598,\n  15.524174696260024,\n  8.426149773176359,\n  13.856406460551018,\n  13.856406460551018,\n  11.661903789690601,\n  8.94427190999916,\n  6.557438524302,\n  9.38083151964686,\n  12.489995996796797,\n  13.30413469565007,\n  13.892443989449804,\n  12.0,\n  12.884098726725126,\n  10.816653826391969,\n  11.489125293076057,\n  13.564659966250536,\n  15.066519173319364,\n  13.038404810405298,\n  14.177446878757825,\n  12.727922061357855,\n  16.703293088490067,\n  13.564659966250536,\n  12.409673645990857,\n  9.695359714832659,\n  14.2828568570857,\n  9.327379053088816,\n  9.695359714832659,\n  12.409673645990857,\n  10.295630140987,\n  9.539392014169456,\n  11.090536506409418,\n  12.84523257866513,\n  10.770329614269007],\n [12.0,\n  13.19090595827292,\n  10.488088481701515,\n  10.344080432788601,\n  14.422205101855956,\n  10.816653826391969,\n  14.352700094407323,\n  9.055385138137417,\n  11.916375287812984,\n  12.288205727444508,\n  10.535653752852738,\n  8.717797887081348,\n  12.328828005937952,\n  14.177446878757825,\n  13.856406460551018,\n  15.459624833740307,\n  11.0,\n  16.09347693943108,\n  15.459624833740307,\n  14.933184523068078,\n  15.066519173319364,\n  10.954451150103322,\n  10.583005244258363,\n  11.61895003862225,\n  12.767145334803704,\n  10.14889156509222,\n  13.19090595827292,\n  11.789826122551595,\n  7.681145747868608,\n  15.0,\n  12.041594578792296,\n  10.583005244258363,\n  14.035668847618199,\n  11.575836902790225,\n  15.491933384829668,\n  13.038404810405298,\n  9.539392014169456,\n  0.0,\n  11.532562594670797,\n  15.652475842498529,\n  16.492422502470642,\n  12.884098726725126,\n  15.264337522473747,\n  11.74734012447073,\n  13.92838827718412,\n  9.16515138991168,\n  13.2664991614216,\n  8.06225774829855,\n  7.615773105863909,\n  15.362291495737216,\n  12.36931687685298,\n  8.48528137423857,\n  11.180339887498949,\n  14.52583904633395,\n  9.539392014169456,\n  14.177446878757825,\n  14.212670403551895,\n  14.071247279470288,\n  12.449899597988733,\n  14.966629547095765,\n  13.2664991614216,\n  12.409673645990857,\n  12.041594578792296,\n  9.38083151964686,\n  9.38083151964686,\n  12.569805089976535,\n  10.583005244258363,\n  18.33030277982336,\n  9.695359714832659,\n  15.0,\n  15.968719422671311,\n  12.767145334803704,\n  7.54983443527075,\n  10.488088481701515,\n  10.44030650891055,\n  14.933184523068078,\n  11.916375287812984,\n  13.711309200802088,\n  9.327379053088816,\n  14.730919862656235,\n  9.486832980505138,\n  11.958260743101398,\n  14.933184523068078,\n  12.165525060596439,\n  11.958260743101398,\n  11.575836902790225,\n  11.532562594670797,\n  13.92838827718412,\n  11.704699910719626,\n  16.15549442140351,\n  5.916079783099616,\n  17.11724276862369,\n  10.583005244258363,\n  8.660254037844387,\n  14.45683229480096,\n  12.529964086141668,\n  12.409673645990857,\n  11.40175425099138,\n  11.575836902790225,\n  11.090536506409418],\n [13.379088160259652,\n  11.704699910719626,\n  12.041594578792296,\n  10.954451150103322,\n  12.041594578792296,\n  14.89966442575134,\n  12.12435565298214,\n  15.7797338380595,\n  15.459624833740307,\n  15.297058540778355,\n  11.224972160321824,\n  14.866068747318506,\n  6.855654600401044,\n  12.328828005937952,\n  14.52583904633395,\n  12.884098726725126,\n  13.856406460551018,\n  11.489125293076057,\n  11.832159566199232,\n  15.165750888103101,\n  15.033296378372908,\n  12.922847983320086,\n  11.090536506409418,\n  11.489125293076057,\n  11.832159566199232,\n  9.486832980505138,\n  14.798648586948742,\n  11.661903789690601,\n  12.569805089976535,\n  15.491933384829668,\n  13.92838827718412,\n  9.433981132056603,\n  7.0710678118654755,\n  15.132745950421556,\n  13.30413469565007,\n  15.0,\n  10.770329614269007,\n  11.532562594670797,\n  0.0,\n  13.341664064126334,\n  15.066519173319364,\n  13.30413469565007,\n  13.2664991614216,\n  11.445523142259598,\n  10.63014581273465,\n  13.30413469565007,\n  9.219544457292887,\n  14.89966442575134,\n  11.61895003862225,\n  8.306623862918075,\n  7.745966692414834,\n  6.855654600401044,\n  10.0,\n  12.96148139681572,\n  11.135528725660043,\n  14.89966442575134,\n  18.303005217723125,\n  7.810249675906654,\n  11.224972160321824,\n  14.177446878757825,\n  11.269427669584644,\n  9.9498743710662,\n  9.38083151964686,\n  10.44030650891055,\n  10.816653826391969,\n  17.578395831246947,\n  11.704699910719626,\n  14.247806848775006,\n  10.44030650891055,\n  12.165525060596439,\n  16.431676725154983,\n  17.204650534085253,\n  13.564659966250536,\n  10.535653752852738,\n  10.862780491200215,\n  14.696938456699069,\n  13.892443989449804,\n  9.433981132056603,\n  11.045361017187261,\n  14.142135623730951,\n  12.041594578792296,\n  11.661903789690601,\n  13.2664991614216,\n  13.820274961085254,\n  12.328828005937952,\n  15.132745950421556,\n  12.489995996796797,\n  12.529964086141668,\n  12.489995996796797,\n  13.564659966250536,\n  9.899494936611665,\n  14.0,\n  10.816653826391969,\n  13.564659966250536,\n  14.966629547095765,\n  14.0,\n  9.433981132056603,\n  12.767145334803704,\n  11.0,\n  12.328828005937952],\n [13.076696830622021,\n  8.54400374531753,\n  15.0,\n  13.114877048604,\n  7.937253933193772,\n  14.628738838327793,\n  12.206555615733702,\n  16.278820596099706,\n  10.344080432788601,\n  16.55294535724685,\n  13.856406460551018,\n  14.38749456993816,\n  12.68857754044952,\n  10.770329614269007,\n  13.96424004376894,\n  12.165525060596439,\n  14.89966442575134,\n  7.745966692414834,\n  12.569805089976535,\n  10.488088481701515,\n  9.38083151964686,\n  14.247806848775006,\n  14.594519519326424,\n  13.416407864998739,\n  13.711309200802088,\n  10.295630140987,\n  12.922847983320086,\n  9.899494936611665,\n  14.142135623730951,\n  7.745966692414834,\n  7.211102550927978,\n  13.379088160259652,\n  10.0,\n  13.30413469565007,\n  9.746794344808963,\n  13.601470508735444,\n  11.74734012447073,\n  15.652475842498529,\n  13.341664064126334,\n  0.0,\n  8.426149773176359,\n  10.816653826391969,\n  8.366600265340756,\n  14.035668847618199,\n  14.45683229480096,\n  11.532562594670797,\n  7.14142842854285,\n  14.0,\n  14.38749456993816,\n  10.908712114635714,\n  12.083045973594572,\n  13.228756555322953,\n  10.954451150103322,\n  9.899494936611665,\n  12.649110640673518,\n  6.6332495807108,\n  10.816653826391969,\n  12.449899597988733,\n  13.856406460551018,\n  9.9498743710662,\n  11.090536506409418,\n  9.433981132056603,\n  12.806248474865697,\n  12.84523257866513,\n  14.38749456993816,\n  14.247806848775006,\n  13.45362404707371,\n  10.14889156509222,\n  14.45683229480096,\n  11.575836902790225,\n  9.38083151964686,\n  14.491376746189438,\n  14.0,\n  11.445523142259598,\n  11.40175425099138,\n  5.0990195135927845,\n  11.789826122551595,\n  13.74772708486752,\n  11.74734012447073,\n  10.954451150103322,\n  11.445523142259598,\n  15.427248620541512,\n  10.488088481701515,\n  11.0,\n  11.661903789690601,\n  15.716233645501712,\n  10.198039027185569,\n  12.767145334803704,\n  11.575836902790225,\n  3.1622776601683795,\n  14.832396974191326,\n  8.717797887081348,\n  12.288205727444508,\n  11.832159566199232,\n  6.48074069840786,\n  10.770329614269007,\n  12.288205727444508,\n  12.12435565298214,\n  9.746794344808963,\n  9.486832980505138],\n [16.30950643030009,\n  9.591663046625438,\n  15.362291495737216,\n  11.958260743101398,\n  8.831760866327848,\n  15.588457268119896,\n  15.231546211727817,\n  15.231546211727817,\n  11.40175425099138,\n  16.881943016134134,\n  15.716233645501712,\n  15.033296378372908,\n  14.832396974191326,\n  8.18535277187245,\n  15.0996688705415,\n  11.704699910719626,\n  14.730919862656235,\n  12.206555615733702,\n  13.0,\n  12.84523257866513,\n  13.45362404707371,\n  13.638181696985855,\n  15.033296378372908,\n  16.401219466856727,\n  17.05872210923198,\n  13.45362404707371,\n  16.73320053068151,\n  13.0,\n  15.459624833740307,\n  13.96424004376894,\n  10.04987562112089,\n  14.696938456699069,\n  13.601470508735444,\n  16.30950643030009,\n  12.884098726725126,\n  17.776388834631177,\n  11.090536506409418,\n  16.492422502470642,\n  15.066519173319364,\n  8.426149773176359,\n  0.0,\n  13.564659966250536,\n  12.609520212918492,\n  12.489995996796797,\n  14.7648230602334,\n  13.341664064126334,\n  10.862780491200215,\n  15.968719422671311,\n  14.2828568570857,\n  13.2664991614216,\n  12.449899597988733,\n  16.1245154965971,\n  12.12435565298214,\n  16.09347693943108,\n  13.601470508735444,\n  12.529964086141668,\n  11.661903789690601,\n  13.490737563232042,\n  14.317821063276353,\n  9.591663046625438,\n  11.916375287812984,\n  14.142135623730951,\n  12.767145334803704,\n  14.89966442575134,\n  15.165750888103101,\n  15.620499351813308,\n  16.792855623746664,\n  16.3707055437449,\n  12.489995996796797,\n  16.46207763315433,\n  9.848857801796104,\n  14.035668847618199,\n  16.0312195418814,\n  13.784048752090222,\n  14.594519519326424,\n  11.180339887498949,\n  12.409673645990857,\n  15.231546211727817,\n  14.38749456993816,\n  14.035668847618199,\n  15.362291495737216,\n  12.041594578792296,\n  12.609520212918492,\n  15.033296378372908,\n  16.34013463836819,\n  13.341664064126334,\n  12.36931687685298,\n  15.297058540778355,\n  12.041594578792296,\n  8.18535277187245,\n  16.278820596099706,\n  6.855654600401044,\n  14.696938456699069,\n  12.529964086141668,\n  9.327379053088816,\n  13.228756555322953,\n  12.649110640673518,\n  12.884098726725126,\n  14.352700094407323,\n  10.344080432788601],\n [6.48074069840786,\n  12.649110640673518,\n  10.295630140987,\n  11.958260743101398,\n  10.583005244258363,\n  12.68857754044952,\n  11.135528725660043,\n  16.673332000533065,\n  9.16515138991168,\n  13.076696830622021,\n  11.532562594670797,\n  14.7648230602334,\n  10.0,\n  9.539392014169456,\n  8.94427190999916,\n  12.84523257866513,\n  13.076696830622021,\n  7.54983443527075,\n  14.866068747318506,\n  12.12435565298214,\n  12.041594578792296,\n  9.695359714832659,\n  13.341664064126334,\n  10.344080432788601,\n  13.076696830622021,\n  10.246950765959598,\n  11.135528725660043,\n  8.888194417315589,\n  14.247806848775006,\n  12.288205727444508,\n  12.12435565298214,\n  11.489125293076057,\n  13.45362404707371,\n  13.114877048604,\n  12.569805089976535,\n  6.928203230275509,\n  12.449899597988733,\n  12.884098726725126,\n  13.30413469565007,\n  10.816653826391969,\n  13.564659966250536,\n  0.0,\n  11.445523142259598,\n  11.224972160321824,\n  13.564659966250536,\n  9.38083151964686,\n  9.055385138137417,\n  12.84523257866513,\n  9.486832980505138,\n  11.135528725660043,\n  11.0,\n  13.341664064126334,\n  10.723805294763608,\n  12.922847983320086,\n  12.922847983320086,\n  11.090536506409418,\n  12.409673645990857,\n  10.0,\n  12.68857754044952,\n  8.246211251235321,\n  14.89966442575134,\n  12.165525060596439,\n  14.035668847618199,\n  11.489125293076057,\n  11.313708498984761,\n  11.40175425099138,\n  11.045361017187261,\n  9.273618495495704,\n  14.966629547095765,\n  8.426149773176359,\n  13.892443989449804,\n  11.269427669584644,\n  10.535653752852738,\n  12.884098726725126,\n  13.30413469565007,\n  9.848857801796104,\n  8.94427190999916,\n  10.295630140987,\n  7.681145747868608,\n  10.04987562112089,\n  14.071247279470288,\n  13.892443989449804,\n  7.14142842854285,\n  10.099504938362077,\n  12.041594578792296,\n  14.2828568570857,\n  7.54983443527075,\n  13.038404810405298,\n  12.12435565298214,\n  12.609520212918492,\n  13.228756555322953,\n  12.041594578792296,\n  9.16515138991168,\n  12.449899597988733,\n  11.269427669584644,\n  9.219544457292887,\n  16.06237840420901,\n  11.74734012447073,\n  8.12403840463596,\n  9.746794344808963],\n [12.529964086141668,\n  10.14889156509222,\n  12.206555615733702,\n  16.1245154965971,\n  12.68857754044952,\n  14.071247279470288,\n  10.246950765959598,\n  16.64331697709324,\n  9.9498743710662,\n  11.832159566199232,\n  16.61324772583615,\n  14.177446878757825,\n  11.874342087037917,\n  13.784048752090222,\n  14.933184523068078,\n  11.916375287812984,\n  16.911534525287763,\n  11.313708498984761,\n  9.273618495495704,\n  15.620499351813308,\n  10.099504938362077,\n  14.866068747318506,\n  11.958260743101398,\n  11.916375287812984,\n  11.832159566199232,\n  10.0,\n  13.30413469565007,\n  9.591663046625438,\n  15.620499351813308,\n  8.246211251235321,\n  8.831760866327848,\n  13.30413469565007,\n  10.392304845413264,\n  12.449899597988733,\n  14.106735979665885,\n  11.704699910719626,\n  15.033296378372908,\n  15.264337522473747,\n  13.2664991614216,\n  8.366600265340756,\n  12.609520212918492,\n  11.445523142259598,\n  0.0,\n  13.45362404707371,\n  15.066519173319364,\n  15.0,\n  7.54983443527075,\n  14.352700094407323,\n  12.84523257866513,\n  9.539392014169456,\n  11.916375287812984,\n  12.449899597988733,\n  11.045361017187261,\n  7.0710678118654755,\n  14.966629547095765,\n  9.273618495495704,\n  11.789826122551595,\n  12.529964086141668,\n  12.649110640673518,\n  14.594519519326424,\n  11.180339887498949,\n  10.63014581273465,\n  14.2828568570857,\n  15.0,\n  14.317821063276353,\n  13.892443989449804,\n  13.527749258468683,\n  12.36931687685298,\n  14.317821063276353,\n  10.0,\n  9.273618495495704,\n  15.874507866387544,\n  14.491376746189438,\n  13.892443989449804,\n  10.954451150103322,\n  7.483314773547883,\n  12.84523257866513,\n  11.090536506409418,\n  11.575836902790225,\n  15.165750888103101,\n  12.12435565298214,\n  14.212670403551895,\n  10.099504938362077,\n  8.306623862918075,\n  14.212670403551895,\n  14.38749456993816,\n  9.695359714832659,\n  7.280109889280518,\n  8.602325267042627,\n  8.12403840463596,\n  13.19090595827292,\n  10.770329614269007,\n  13.379088160259652,\n  13.114877048604,\n  8.366600265340756,\n  14.696938456699069,\n  13.0,\n  9.539392014169456,\n  8.306623862918075,\n  7.0710678118654755],\n [11.135528725660043,\n  10.770329614269007,\n  8.12403840463596,\n  11.180339887498949,\n  11.489125293076057,\n  12.767145334803704,\n  14.212670403551895,\n  14.832396974191326,\n  12.96148139681572,\n  13.228756555322953,\n  13.96424004376894,\n  11.575836902790225,\n  9.899494936611665,\n  7.54983443527075,\n  9.899494936611665,\n  11.357816691600547,\n  9.848857801796104,\n  13.152946437965905,\n  12.206555615733702,\n  16.64331697709324,\n  12.922847983320086,\n  12.489995996796797,\n  12.24744871391589,\n  13.0,\n  15.588457268119896,\n  12.206555615733702,\n  12.165525060596439,\n  11.0,\n  12.84523257866513,\n  15.968719422671311,\n  12.767145334803704,\n  10.488088481701515,\n  12.288205727444508,\n  13.19090595827292,\n  14.89966442575134,\n  14.832396974191326,\n  11.180339887498949,\n  11.74734012447073,\n  11.445523142259598,\n  14.035668847618199,\n  12.489995996796797,\n  11.224972160321824,\n  13.45362404707371,\n  0.0,\n  10.392304845413264,\n  12.727922061357855,\n  10.392304845413264,\n  12.68857754044952,\n  7.874007874011811,\n  9.797958971132712,\n  9.433981132056603,\n  11.832159566199232,\n  12.288205727444508,\n  15.264337522473747,\n  10.63014581273465,\n  15.0,\n  14.0,\n  10.392304845413264,\n  10.14889156509222,\n  13.416407864998739,\n  10.099504938362077,\n  14.212670403551895,\n  9.0,\n  13.038404810405298,\n  9.486832980505138,\n  11.916375287812984,\n  15.491933384829668,\n  15.937377450509228,\n  11.916375287812984,\n  12.609520212918492,\n  13.152946437965905,\n  9.9498743710662,\n  11.180339887498949,\n  13.711309200802088,\n  11.958260743101398,\n  13.601470508735444,\n  11.832159566199232,\n  9.486832980505138,\n  9.539392014169456,\n  15.0,\n  14.0,\n  7.14142842854285,\n  10.344080432788601,\n  12.083045973594572,\n  15.394804318340652,\n  13.038404810405298,\n  11.090536506409418,\n  14.142135623730951,\n  12.767145334803704,\n  14.866068747318506,\n  11.789826122551595,\n  11.357816691600547,\n  12.328828005937952,\n  9.643650760992955,\n  15.264337522473747,\n  15.716233645501712,\n  12.083045973594572,\n  11.661903789690601,\n  12.165525060596439,\n  10.14889156509222],\n [10.583005244258363,\n  10.770329614269007,\n  12.0,\n  13.152946437965905,\n  11.575836902790225,\n  16.76305461424021,\n  17.776388834631177,\n  14.966629547095765,\n  13.784048752090222,\n  19.209372712298546,\n  12.767145334803704,\n  16.1245154965971,\n  12.806248474865697,\n  11.269427669584644,\n  17.146428199482248,\n  17.46424919657298,\n  10.246950765959598,\n  12.609520212918492,\n  14.035668847618199,\n  15.198684153570664,\n  14.106735979665885,\n  16.1245154965971,\n  17.776388834631177,\n  11.958260743101398,\n  16.703293088490067,\n  11.0,\n  13.711309200802088,\n  7.937253933193772,\n  11.0,\n  16.401219466856727,\n  14.317821063276353,\n  10.198039027185569,\n  11.704699910719626,\n  15.231546211727817,\n  14.89966442575134,\n  14.560219778561036,\n  14.177446878757825,\n  13.92838827718412,\n  10.63014581273465,\n  14.45683229480096,\n  14.7648230602334,\n  13.564659966250536,\n  15.066519173319364,\n  10.392304845413264,\n  0.0,\n  12.727922061357855,\n  12.165525060596439,\n  16.217274740226856,\n  10.198039027185569,\n  10.770329614269007,\n  9.433981132056603,\n  9.695359714832659,\n  14.38749456993816,\n  16.09347693943108,\n  10.14889156509222,\n  17.291616465790582,\n  16.492422502470642,\n  12.727922061357855,\n  9.848857801796104,\n  13.92838827718412,\n  13.19090595827292,\n  13.784048752090222,\n  13.527749258468683,\n  13.564659966250536,\n  14.071247279470288,\n  17.146428199482248,\n  16.30950643030009,\n  16.673332000533065,\n  13.638181696985855,\n  15.132745950421556,\n  14.247806848775006,\n  14.730919862656235,\n  15.132745950421556,\n  14.628738838327793,\n  15.524174696260024,\n  15.132745950421556,\n  13.784048752090222,\n  14.0,\n  10.908712114635714,\n  14.933184523068078,\n  13.341664064126334,\n  10.535653752852738,\n  13.892443989449804,\n  13.711309200802088,\n  12.041594578792296,\n  13.564659966250536,\n  10.04987562112089,\n  14.071247279470288,\n  14.106735979665885,\n  14.594519519326424,\n  15.652475842498529,\n  12.767145334803704,\n  13.490737563232042,\n  13.674794331177344,\n  16.217274740226856,\n  16.09347693943108,\n  11.74734012447073,\n  14.560219778561036,\n  13.711309200802088,\n  14.866068747318506],\n [9.695359714832659,\n  12.083045973594572,\n  12.884098726725126,\n  10.04987562112089,\n  9.273618495495704,\n  11.269427669584644,\n  15.362291495737216,\n  11.40175425099138,\n  10.099504938362077,\n  16.34013463836819,\n  7.810249675906654,\n  11.916375287812984,\n  13.856406460551018,\n  11.0,\n  12.569805089976535,\n  16.401219466856727,\n  10.04987562112089,\n  11.180339887498949,\n  16.822603841260722,\n  7.54983443527075,\n  12.529964086141668,\n  11.045361017187261,\n  15.165750888103101,\n  12.206555615733702,\n  14.035668847618199,\n  10.723805294763608,\n  12.083045973594572,\n  9.643650760992955,\n  7.681145747868608,\n  11.874342087037917,\n  11.090536506409418,\n  9.591663046625438,\n  14.177446878757825,\n  11.045361017187261,\n  10.392304845413264,\n  11.313708498984761,\n  8.888194417315589,\n  9.16515138991168,\n  13.30413469565007,\n  11.532562594670797,\n  13.341664064126334,\n  9.38083151964686,\n  15.0,\n  12.727922061357855,\n  12.727922061357855,\n  0.0,\n  11.224972160321824,\n  9.219544457292887,\n  10.198039027185569,\n  14.696938456699069,\n  12.288205727444508,\n  11.045361017187261,\n  11.789826122551595,\n  14.66287829861518,\n  9.219544457292887,\n  10.908712114635714,\n  10.677078252031311,\n  14.212670403551895,\n  13.820274961085254,\n  9.273618495495704,\n  14.0,\n  12.649110640673518,\n  12.36931687685298,\n  9.38083151964686,\n  10.488088481701515,\n  10.862780491200215,\n  10.954451150103322,\n  14.352700094407323,\n  13.2664991614216,\n  13.601470508735444,\n  14.317821063276353,\n  11.532562594670797,\n  8.06225774829855,\n  10.954451150103322,\n  12.609520212918492,\n  11.874342087037917,\n  9.797958971132712,\n  15.684387141358123,\n  7.937253933193772,\n  7.810249675906654,\n  10.488088481701515,\n  14.177446878757825,\n  13.379088160259652,\n  11.832159566199232,\n  7.681145747868608,\n  12.489995996796797,\n  8.426149773176359,\n  15.427248620541512,\n  13.892443989449804,\n  12.68857754044952,\n  12.206555615733702,\n  13.892443989449804,\n  9.591663046625438,\n  9.746794344808963,\n  11.445523142259598,\n  8.660254037844387,\n  13.038404810405298,\n  12.649110640673518,\n  10.488088481701515,\n  11.61895003862225],\n [10.583005244258363,\n  9.899494936611665,\n  10.954451150103322,\n  11.874342087037917,\n  6.928203230275509,\n  11.0,\n  9.055385138137417,\n  16.492422502470642,\n  11.40175425099138,\n  13.0,\n  13.076696830622021,\n  13.711309200802088,\n  8.94427190999916,\n  10.04987562112089,\n  11.40175425099138,\n  10.04987562112089,\n  13.228756555322953,\n  6.708203932499369,\n  9.0,\n  11.269427669584644,\n  8.660254037844387,\n  11.489125293076057,\n  11.575836902790225,\n  10.535653752852738,\n  9.848857801796104,\n  8.774964387392123,\n  12.649110640673518,\n  9.1104335791443,\n  12.767145334803704,\n  9.0,\n  9.539392014169456,\n  8.48528137423857,\n  8.306623862918075,\n  10.198039027185569,\n  9.38083151964686,\n  11.575836902790225,\n  10.44030650891055,\n  13.2664991614216,\n  9.219544457292887,\n  7.14142842854285,\n  10.862780491200215,\n  9.055385138137417,\n  7.54983443527075,\n  10.392304845413264,\n  12.165525060596439,\n  11.224972160321824,\n  0.0,\n  13.0,\n  11.40175425099138,\n  6.48074069840786,\n  7.416198487095663,\n  9.899494936611665,\n  9.433981132056603,\n  9.848857801796104,\n  11.357816691600547,\n  7.810249675906654,\n  11.74734012447073,\n  9.695359714832659,\n  10.908712114635714,\n  11.045361017187261,\n  10.099504938362077,\n  9.797958971132712,\n  9.643650760992955,\n  12.165525060596439,\n  10.770329614269007,\n  11.832159566199232,\n  10.488088481701515,\n  9.486832980505138,\n  12.165525060596439,\n  7.0,\n  10.44030650891055,\n  14.247806848775006,\n  11.532562594670797,\n  10.583005244258363,\n  9.539392014169456,\n  8.06225774829855,\n  11.224972160321824,\n  9.899494936611665,\n  9.539392014169456,\n  10.723805294763608,\n  10.770329614269007,\n  11.958260743101398,\n  9.9498743710662,\n  9.273618495495704,\n  10.723805294763608,\n  14.142135623730951,\n  8.306623862918075,\n  10.295630140987,\n  11.357816691600547,\n  7.54983443527075,\n  11.874342087037917,\n  9.433981132056603,\n  8.831760866327848,\n  12.041594578792296,\n  8.888194417315589,\n  12.68857754044952,\n  9.591663046625438,\n  10.0,\n  7.874007874011811,\n  7.14142842854285],\n [12.68857754044952,\n  13.820274961085254,\n  11.269427669584644,\n  13.490737563232042,\n  14.66287829861518,\n  9.695359714832659,\n  14.866068747318506,\n  10.44030650891055,\n  11.532562594670797,\n  13.416407864998739,\n  10.770329614269007,\n  4.795831523312719,\n  14.52583904633395,\n  14.142135623730951,\n  12.529964086141668,\n  16.852299546352718,\n  13.711309200802088,\n  16.06237840420901,\n  17.832554500127006,\n  15.033296378372908,\n  11.916375287812984,\n  14.730919862656235,\n  12.449899597988733,\n  15.748015748023622,\n  16.186414056238647,\n  12.569805089976535,\n  12.767145334803704,\n  12.083045973594572,\n  10.392304845413264,\n  11.313708498984761,\n  11.489125293076057,\n  12.84523257866513,\n  13.92838827718412,\n  10.04987562112089,\n  15.524174696260024,\n  13.674794331177344,\n  12.328828005937952,\n  8.06225774829855,\n  14.89966442575134,\n  14.0,\n  15.968719422671311,\n  12.84523257866513,\n  14.352700094407323,\n  12.68857754044952,\n  16.217274740226856,\n  9.219544457292887,\n  13.0,\n  0.0,\n  11.61895003862225,\n  15.264337522473747,\n  14.628738838327793,\n  11.090536506409418,\n  14.628738838327793,\n  12.727922061357855,\n  10.677078252031311,\n  11.40175425099138,\n  11.090536506409418,\n  15.905973720586866,\n  16.61324772583615,\n  15.066519173319364,\n  11.090536506409418,\n  13.0,\n  11.661903789690601,\n  9.643650760992955,\n  11.0,\n  9.1104335791443,\n  14.247806848775006,\n  17.349351572897472,\n  14.730919862656235,\n  15.033296378372908,\n  15.427248620541512,\n  13.341664064126334,\n  8.717797887081348,\n  13.96424004376894,\n  11.224972160321824,\n  13.341664064126334,\n  10.04987562112089,\n  15.132745950421556,\n  8.366600265340756,\n  12.328828005937952,\n  10.44030650891055,\n  15.362291495737216,\n  14.832396974191326,\n  9.1104335791443,\n  11.313708498984761,\n  13.379088160259652,\n  11.575836902790225,\n  14.035668847618199,\n  13.19090595827292,\n  14.966629547095765,\n  9.899494936611665,\n  15.362291495737216,\n  13.228756555322953,\n  7.0710678118654755,\n  13.2664991614216,\n  13.92838827718412,\n  14.52583904633395,\n  13.601470508735444,\n  10.344080432788601,\n  10.392304845413264],\n [7.874007874011811,\n  11.313708498984761,\n  6.928203230275509,\n  10.246950765959598,\n  12.409673645990857,\n  11.532562594670797,\n  13.416407864998739,\n  11.74734012447073,\n  9.055385138137417,\n  11.269427669584644,\n  12.529964086141668,\n  11.661903789690601,\n  10.677078252031311,\n  11.0,\n  12.727922061357855,\n  13.379088160259652,\n  8.774964387392123,\n  13.527749258468683,\n  12.36931687685298,\n  15.0,\n  13.45362404707371,\n  9.486832980505138,\n  11.74734012447073,\n  8.306623862918075,\n  12.529964086141668,\n  8.660254037844387,\n  11.74734012447073,\n  8.306623862918075,\n  9.746794344808963,\n  15.066519173319364,\n  11.357816691600547,\n  9.591663046625438,\n  13.820274961085254,\n  11.74734012447073,\n  15.362291495737216,\n  10.099504938362077,\n  11.0,\n  7.615773105863909,\n  11.61895003862225,\n  14.38749456993816,\n  14.2828568570857,\n  9.486832980505138,\n  12.84523257866513,\n  7.874007874011811,\n  10.198039027185569,\n  10.198039027185569,\n  11.40175425099138,\n  11.61895003862225,\n  0.0,\n  12.569805089976535,\n  9.433981132056603,\n  9.899494936611665,\n  10.344080432788601,\n  14.66287829861518,\n  9.848857801796104,\n  14.52583904633395,\n  12.884098726725126,\n  11.832159566199232,\n  7.810249675906654,\n  12.727922061357855,\n  13.564659966250536,\n  12.806248474865697,\n  13.152946437965905,\n  11.661903789690601,\n  10.198039027185569,\n  11.832159566199232,\n  11.40175425099138,\n  16.431676725154983,\n  9.591663046625438,\n  12.68857754044952,\n  12.68857754044952,\n  9.643650760992955,\n  9.219544457292887,\n  11.661903789690601,\n  12.12435565298214,\n  13.076696830622021,\n  10.583005244258363,\n  10.954451150103322,\n  8.426149773176359,\n  15.066519173319364,\n  11.489125293076057,\n  7.681145747868608,\n  11.180339887498949,\n  10.770329614269007,\n  13.076696830622021,\n  9.797958971132712,\n  8.06225774829855,\n  11.916375287812984,\n  9.746794344808963,\n  14.866068747318506,\n  9.746794344808963,\n  14.035668847618199,\n  9.591663046625438,\n  9.848857801796104,\n  13.45362404707371,\n  12.767145334803704,\n  12.806248474865697,\n  9.591663046625438,\n  11.135528725660043,\n  9.643650760992955],\n [11.832159566199232,\n  11.224972160321824,\n  10.392304845413264,\n  13.96424004376894,\n  11.224972160321824,\n  14.730919862656235,\n  11.135528725660043,\n  18.16590212458495,\n  14.0,\n  14.730919862656235,\n  13.527749258468683,\n  15.231546211727817,\n  7.615773105863909,\n  10.246950765959598,\n  12.727922061357855,\n  12.12435565298214,\n  15.394804318340652,\n  9.0,\n  11.180339887498949,\n  16.0312195418814,\n  11.445523142259598,\n  14.966629547095765,\n  12.649110640673518,\n  13.152946437965905,\n  14.247806848775006,\n  10.816653826391969,\n  13.92838827718412,\n  9.9498743710662,\n  15.652475842498529,\n  12.922847983320086,\n  13.45362404707371,\n  10.954451150103322,\n  6.4031242374328485,\n  14.491376746189438,\n  13.711309200802088,\n  13.711309200802088,\n  14.177446878757825,\n  15.362291495737216,\n  8.306623862918075,\n  10.908712114635714,\n  13.2664991614216,\n  11.135528725660043,\n  9.539392014169456,\n  9.797958971132712,\n  10.770329614269007,\n  14.696938456699069,\n  6.48074069840786,\n  15.264337522473747,\n  12.569805089976535,\n  0.0,\n  7.810249675906654,\n  10.488088481701515,\n  12.449899597988733,\n  11.090536506409418,\n  12.922847983320086,\n  13.30413469565007,\n  16.06237840420901,\n  7.483314773547883,\n  12.449899597988733,\n  13.2664991614216,\n  9.591663046625438,\n  11.045361017187261,\n  10.246950765959598,\n  12.727922061357855,\n  12.489995996796797,\n  15.556349186104045,\n  14.89966442575134,\n  11.224972160321824,\n  14.422205101855956,\n  9.539392014169456,\n  13.892443989449804,\n  16.583123951777,\n  15.132745950421556,\n  14.422205101855956,\n  12.529964086141668,\n  12.12435565298214,\n  12.165525060596439,\n  7.483314773547883,\n  10.14889156509222,\n  13.152946437965905,\n  14.212670403551895,\n  12.206555615733702,\n  9.9498743710662,\n  10.677078252031311,\n  13.379088160259652,\n  15.556349186104045,\n  10.63014581273465,\n  10.295630140987,\n  12.206555615733702,\n  11.445523142259598,\n  13.674794331177344,\n  9.219544457292887,\n  12.569805089976535,\n  13.96424004376894,\n  13.45362404707371,\n  15.716233645501712,\n  12.083045973594572,\n  13.114877048604,\n  9.38083151964686,\n  10.535653752852738],\n [10.816653826391969,\n  12.529964086141668,\n  8.306623862918075,\n  9.055385138137417,\n  9.1104335791443,\n  11.045361017187261,\n  10.04987562112089,\n  16.217274740226856,\n  12.206555615733702,\n  13.711309200802088,\n  12.649110640673518,\n  14.730919862656235,\n  8.660254037844387,\n  10.488088481701515,\n  14.177446878757825,\n  11.74734012447073,\n  11.74734012447073,\n  10.392304845413264,\n  10.392304845413264,\n  14.0,\n  11.135528725660043,\n  10.63014581273465,\n  12.206555615733702,\n  10.677078252031311,\n  12.083045973594572,\n  7.483314773547883,\n  15.905973720586866,\n  9.486832980505138,\n  12.489995996796797,\n  14.2828568570857,\n  12.409673645990857,\n  9.1104335791443,\n  9.695359714832659,\n  12.449899597988733,\n  14.247806848775006,\n  12.68857754044952,\n  11.135528725660043,\n  12.36931687685298,\n  7.745966692414834,\n  12.083045973594572,\n  12.449899597988733,\n  11.0,\n  11.916375287812984,\n  9.433981132056603,\n  9.433981132056603,\n  12.288205727444508,\n  7.416198487095663,\n  14.628738838327793,\n  9.433981132056603,\n  7.810249675906654,\n  0.0,\n  9.0,\n  11.74734012447073,\n  14.7648230602334,\n  9.055385138137417,\n  13.564659966250536,\n  15.0,\n  9.643650760992955,\n  9.273618495495704,\n  11.269427669584644,\n  12.529964086141668,\n  10.63014581273465,\n  11.575836902790225,\n  11.090536506409418,\n  13.0,\n  14.594519519326424,\n  11.357816691600547,\n  14.177446878757825,\n  9.327379053088816,\n  11.575836902790225,\n  12.489995996796797,\n  15.297058540778355,\n  13.784048752090222,\n  11.180339887498949,\n  13.416407864998739,\n  13.114877048604,\n  10.344080432788601,\n  10.04987562112089,\n  11.313708498984761,\n  13.711309200802088,\n  12.206555615733702,\n  8.246211251235321,\n  12.96148139681572,\n  11.357816691600547,\n  11.74734012447073,\n  12.609520212918492,\n  9.16515138991168,\n  10.535653752852738,\n  10.954451150103322,\n  11.74734012447073,\n  12.727922061357855,\n  11.045361017187261,\n  7.681145747868608,\n  13.564659966250536,\n  12.165525060596439,\n  14.352700094407323,\n  10.816653826391969,\n  13.0,\n  12.206555615733702,\n  10.0],\n [11.045361017187261,\n  11.313708498984761,\n  10.488088481701515,\n  11.958260743101398,\n  12.489995996796797,\n  12.36931687685298,\n  13.2664991614216,\n  12.489995996796797,\n  13.114877048604,\n  14.933184523068078,\n  10.44030650891055,\n  11.489125293076057,\n  10.295630140987,\n  14.106735979665885,\n  15.684387141358123,\n  15.652475842498529,\n  11.874342087037917,\n  13.152946437965905,\n  12.767145334803704,\n  14.45683229480096,\n  12.12435565298214,\n  14.212670403551895,\n  12.409673645990857,\n  10.44030650891055,\n  11.789826122551595,\n  7.54983443527075,\n  12.884098726725126,\n  8.774964387392123,\n  8.06225774829855,\n  12.529964086141668,\n  11.704699910719626,\n  8.48528137423857,\n  8.306623862918075,\n  10.954451150103322,\n  13.856406460551018,\n  12.727922061357855,\n  11.61895003862225,\n  8.48528137423857,\n  6.855654600401044,\n  13.228756555322953,\n  16.1245154965971,\n  13.341664064126334,\n  12.449899597988733,\n  11.832159566199232,\n  9.695359714832659,\n  11.045361017187261,\n  9.899494936611665,\n  11.090536506409418,\n  9.899494936611665,\n  10.488088481701515,\n  9.0,\n  0.0,\n  11.874342087037917,\n  11.180339887498949,\n  8.306623862918075,\n  13.228756555322953,\n  15.362291495737216,\n  12.24744871391589,\n  10.908712114635714,\n  15.297058540778355,\n  10.583005244258363,\n  9.16515138991168,\n  10.816653826391969,\n  9.486832980505138,\n  11.224972160321824,\n  14.7648230602334,\n  11.224972160321824,\n  15.491933384829668,\n  10.954451150103322,\n  12.609520212918492,\n  14.52583904633395,\n  15.905973720586866,\n  11.357816691600547,\n  10.583005244258363,\n  10.04987562112089,\n  13.45362404707371,\n  12.569805089976535,\n  12.24744871391589,\n  9.0,\n  13.74772708486752,\n  7.3484692283495345,\n  12.206555615733702,\n  14.52583904633395,\n  10.198039027185569,\n  8.426149773176359,\n  13.341664064126334,\n  10.14889156509222,\n  10.677078252031311,\n  11.61895003862225,\n  13.228756555322953,\n  9.1104335791443,\n  14.866068747318506,\n  10.392304845413264,\n  11.0,\n  13.820274961085254,\n  14.38749456993816,\n  9.055385138137417,\n  12.328828005937952,\n  10.0,\n  11.61895003862225],\n [13.152946437965905,\n  9.1104335791443,\n  13.96424004376894,\n  11.40175425099138,\n  11.090536506409418,\n  14.966629547095765,\n  12.12435565298214,\n  14.247806848775006,\n  11.958260743101398,\n  12.409673645990857,\n  13.784048752090222,\n  14.730919862656235,\n  9.746794344808963,\n  11.489125293076057,\n  12.609520212918492,\n  9.695359714832659,\n  13.638181696985855,\n  10.862780491200215,\n  10.0,\n  12.489995996796797,\n  15.874507866387544,\n  8.774964387392123,\n  9.848857801796104,\n  9.055385138137417,\n  8.602325267042627,\n  10.392304845413264,\n  12.449899597988733,\n  12.0,\n  12.806248474865697,\n  14.0,\n  10.392304845413264,\n  10.63014581273465,\n  12.328828005937952,\n  14.66287829861518,\n  10.44030650891055,\n  13.228756555322953,\n  8.246211251235321,\n  11.180339887498949,\n  10.0,\n  10.954451150103322,\n  12.12435565298214,\n  10.723805294763608,\n  11.045361017187261,\n  12.288205727444508,\n  14.38749456993816,\n  11.789826122551595,\n  9.433981132056603,\n  14.628738838327793,\n  10.344080432788601,\n  12.449899597988733,\n  11.74734012447073,\n  11.874342087037917,\n  0.0,\n  12.165525060596439,\n  14.0,\n  11.916375287812984,\n  14.45683229480096,\n  9.746794344808963,\n  10.198039027185569,\n  12.288205727444508,\n  13.228756555322953,\n  11.704699910719626,\n  11.74734012447073,\n  13.30413469565007,\n  9.1104335791443,\n  15.264337522473747,\n  9.219544457292887,\n  13.45362404707371,\n  9.643650760992955,\n  11.224972160321824,\n  13.490737563232042,\n  13.114877048604,\n  10.488088481701515,\n  8.660254037844387,\n  8.48528137423857,\n  10.954451150103322,\n  14.38749456993816,\n  10.908712114635714,\n  11.224972160321824,\n  14.212670403551895,\n  12.206555615733702,\n  12.083045973594572,\n  9.899494936611665,\n  14.317821063276353,\n  14.628738838327793,\n  13.601470508735444,\n  11.489125293076057,\n  13.601470508735444,\n  10.583005244258363,\n  11.575836902790225,\n  8.717797887081348,\n  13.92838827718412,\n  10.908712114635714,\n  12.0,\n  11.313708498984761,\n  9.486832980505138,\n  10.63014581273465,\n  6.244997998398398,\n  9.643650760992955,\n  9.273618495495704],\n [13.228756555322953,\n  10.63014581273465,\n  14.45683229480096,\n  17.378147196982766,\n  14.866068747318506,\n  16.0,\n  12.609520212918492,\n  16.46207763315433,\n  12.922847983320086,\n  14.696938456699069,\n  14.966629547095765,\n  13.076696830622021,\n  12.041594578792296,\n  15.684387141358123,\n  14.866068747318506,\n  14.832396974191326,\n  17.663521732655695,\n  12.409673645990857,\n  13.564659966250536,\n  16.30950643030009,\n  11.74734012447073,\n  17.406895185529212,\n  12.922847983320086,\n  13.2664991614216,\n  13.19090595827292,\n  11.313708498984761,\n  10.816653826391969,\n  10.770329614269007,\n  15.033296378372908,\n  8.0,\n  10.295630140987,\n  14.177446878757825,\n  9.16515138991168,\n  13.30413469565007,\n  13.820274961085254,\n  12.767145334803704,\n  15.556349186104045,\n  14.52583904633395,\n  12.96148139681572,\n  9.899494936611665,\n  16.09347693943108,\n  12.922847983320086,\n  7.0710678118654755,\n  15.264337522473747,\n  16.09347693943108,\n  14.66287829861518,\n  9.848857801796104,\n  12.727922061357855,\n  14.66287829861518,\n  11.090536506409418,\n  14.7648230602334,\n  11.180339887498949,\n  12.165525060596439,\n  0.0,\n  15.0996688705415,\n  9.591663046625438,\n  14.317821063276353,\n  13.228756555322953,\n  15.165750888103101,\n  16.703293088490067,\n  10.44030650891055,\n  9.539392014169456,\n  13.638181696985855,\n  13.674794331177344,\n  13.527749258468683,\n  15.132745950421556,\n  14.177446878757825,\n  11.704699910719626,\n  16.76305461424021,\n  10.488088481701515,\n  13.784048752090222,\n  16.852299546352718,\n  13.564659966250536,\n  13.892443989449804,\n  8.94427190999916,\n  8.831760866327848,\n  14.52583904633395,\n  12.206555615733702,\n  10.488088481701515,\n  14.491376746189438,\n  10.816653826391969,\n  17.72004514666935,\n  11.224972160321824,\n  9.0,\n  12.806248474865697,\n  17.406895185529212,\n  12.165525060596439,\n  10.63014581273465,\n  11.74734012447073,\n  10.862780491200215,\n  12.0,\n  14.212670403551895,\n  14.866068747318506,\n  12.165525060596439,\n  11.916375287812984,\n  14.422205101855956,\n  13.74772708486752,\n  11.704699910719626,\n  6.557438524302,\n  10.677078252031311],\n [11.0,\n  11.874342087037917,\n  10.63014581273465,\n  7.483314773547883,\n  10.44030650891055,\n  11.313708498984761,\n  14.035668847618199,\n  13.0,\n  12.041594578792296,\n  16.911534525287763,\n  10.677078252031311,\n  10.44030650891055,\n  11.958260743101398,\n  11.74734012447073,\n  14.730919862656235,\n  14.89966442575134,\n  7.483314773547883,\n  13.416407864998739,\n  15.0996688705415,\n  13.784048752090222,\n  10.198039027185569,\n  13.30413469565007,\n  14.594519519326424,\n  12.489995996796797,\n  15.231546211727817,\n  7.874007874011811,\n  13.45362404707371,\n  9.486832980505138,\n  8.0,\n  14.0,\n  10.295630140987,\n  11.61895003862225,\n  11.135528725660043,\n  11.269427669584644,\n  14.866068747318506,\n  14.177446878757825,\n  9.797958971132712,\n  9.539392014169456,\n  11.135528725660043,\n  12.649110640673518,\n  13.601470508735444,\n  12.922847983320086,\n  14.966629547095765,\n  10.63014581273465,\n  10.14889156509222,\n  9.219544457292887,\n  11.357816691600547,\n  10.677078252031311,\n  9.848857801796104,\n  12.922847983320086,\n  9.055385138137417,\n  8.306623862918075,\n  14.0,\n  15.0996688705415,\n  0.0,\n  13.114877048604,\n  13.892443989449804,\n  13.674794331177344,\n  11.135528725660043,\n  12.449899597988733,\n  11.874342087037917,\n  9.539392014169456,\n  11.832159566199232,\n  8.18535277187245,\n  13.601470508735444,\n  13.601470508735444,\n  12.922847983320086,\n  16.217274740226856,\n  10.723805294763608,\n  14.832396974191326,\n  12.884098726725126,\n  12.409673645990857,\n  11.575836902790225,\n  9.539392014169456,\n  12.489995996796797,\n  12.806248474865697,\n  10.246950765959598,\n  14.177446878757825,\n  10.862780491200215,\n  13.711309200802088,\n  8.18535277187245,\n  11.489125293076057,\n  14.89966442575134,\n  11.180339887498949,\n  9.273618495495704,\n  14.177446878757825,\n  10.954451150103322,\n  14.38749456993816,\n  12.727922061357855,\n  13.038404810405298,\n  12.409673645990857,\n  13.856406460551018,\n  9.1104335791443,\n  8.831760866327848,\n  13.490737563232042,\n  13.341664064126334,\n  11.704699910719626,\n  15.132745950421556,\n  13.527749258468683,\n  12.409673645990857],\n [12.922847983320086,\n  11.958260743101398,\n  14.798648586948742,\n  14.212670403551895,\n  9.848857801796104,\n  11.224972160321824,\n  11.269427669584644,\n  16.583123951777,\n  11.180339887498949,\n  14.628738838327793,\n  14.832396974191326,\n  12.84523257866513,\n  13.96424004376894,\n  13.92838827718412,\n  13.0,\n  12.96148139681572,\n  15.165750888103101,\n  10.488088481701515,\n  13.564659966250536,\n  10.770329614269007,\n  8.366600265340756,\n  13.674794331177344,\n  13.820274961085254,\n  13.341664064126334,\n  11.661903789690601,\n  11.135528725660043,\n  12.84523257866513,\n  11.74734012447073,\n  13.416407864998739,\n  5.477225575051661,\n  7.615773105863909,\n  12.922847983320086,\n  12.569805089976535,\n  9.327379053088816,\n  10.246950765959598,\n  12.529964086141668,\n  11.74734012447073,\n  14.177446878757825,\n  14.89966442575134,\n  6.6332495807108,\n  12.529964086141668,\n  11.090536506409418,\n  9.273618495495704,\n  15.0,\n  17.291616465790582,\n  10.908712114635714,\n  7.810249675906654,\n  11.40175425099138,\n  14.52583904633395,\n  13.30413469565007,\n  13.564659966250536,\n  13.228756555322953,\n  11.916375287812984,\n  9.591663046625438,\n  13.114877048604,\n  0.0,\n  9.1104335791443,\n  15.132745950421556,\n  15.033296378372908,\n  12.84523257866513,\n  12.529964086141668,\n  10.816653826391969,\n  13.19090595827292,\n  13.45362404707371,\n  13.45362404707371,\n  10.535653752852738,\n  11.269427669584644,\n  11.0,\n  15.198684153570664,\n  10.198039027185569,\n  10.677078252031311,\n  14.422205101855956,\n  11.135528725660043,\n  11.180339887498949,\n  9.797958971132712,\n  5.830951894845301,\n  12.529964086141668,\n  15.0,\n  11.74734012447073,\n  11.313708498984761,\n  9.848857801796104,\n  16.911534525287763,\n  12.727922061357855,\n  9.643650760992955,\n  11.045361017187261,\n  16.522711641858304,\n  10.862780491200215,\n  13.379088160259652,\n  13.2664991614216,\n  7.615773105863909,\n  13.341664064126334,\n  13.038404810405298,\n  11.090536506409418,\n  11.489125293076057,\n  7.211102550927978,\n  12.083045973594572,\n  13.076696830622021,\n  11.874342087037917,\n  9.433981132056603,\n  8.602325267042627],\n [13.038404810405298,\n  12.489995996796797,\n  13.92838827718412,\n  15.716233645501712,\n  11.313708498984761,\n  10.908712114635714,\n  16.186414056238647,\n  13.2664991614216,\n  8.366600265340756,\n  14.730919862656235,\n  16.217274740226856,\n  12.165525060596439,\n  17.88854381999832,\n  13.527749258468683,\n  15.165750888103101,\n  16.34013463836819,\n  14.177446878757825,\n  14.45683229480096,\n  14.933184523068078,\n  11.874342087037917,\n  10.14889156509222,\n  14.628738838327793,\n  16.3707055437449,\n  15.132745950421556,\n  15.588457268119896,\n  13.674794331177344,\n  14.422205101855956,\n  11.357816691600547,\n  12.449899597988733,\n  8.888194417315589,\n  9.1104335791443,\n  13.114877048604,\n  16.822603841260722,\n  9.273618495495704,\n  13.341664064126334,\n  13.416407864998739,\n  13.674794331177344,\n  14.212670403551895,\n  18.303005217723125,\n  10.816653826391969,\n  11.661903789690601,\n  12.409673645990857,\n  11.789826122551595,\n  14.0,\n  16.492422502470642,\n  10.677078252031311,\n  11.74734012447073,\n  11.090536506409418,\n  12.884098726725126,\n  16.06237840420901,\n  15.0,\n  15.362291495737216,\n  14.45683229480096,\n  14.317821063276353,\n  13.892443989449804,\n  9.1104335791443,\n  0.0,\n  18.275666882497067,\n  15.394804318340652,\n  13.416407864998739,\n  13.784048752090222,\n  15.874507866387544,\n  15.198684153570664,\n  16.0,\n  14.352700094407323,\n  7.745966692414834,\n  15.231546211727817,\n  17.029386365926403,\n  15.491933384829668,\n  14.933184523068078,\n  8.774964387392123,\n  12.529964086141668,\n  11.874342087037917,\n  15.427248620541512,\n  13.96424004376894,\n  9.9498743710662,\n  11.916375287812984,\n  17.88854381999832,\n  11.958260743101398,\n  13.076696830622021,\n  12.569805089976535,\n  14.798648586948742,\n  14.45683229480096,\n  10.392304845413264,\n  13.379088160259652,\n  11.916375287812984,\n  9.1104335791443,\n  13.92838827718412,\n  13.30413469565007,\n  10.816653826391969,\n  15.524174696260024,\n  12.288205727444508,\n  14.142135623730951,\n  11.180339887498949,\n  8.426149773176359,\n  14.730919862656235,\n  14.2828568570857,\n  11.489125293076057,\n  12.328828005937952,\n  9.0],\n [12.727922061357855,\n  11.74734012447073,\n  11.661903789690601,\n  11.357816691600547,\n  12.727922061357855,\n  16.583123951777,\n  10.954451150103322,\n  17.776388834631177,\n  14.2828568570857,\n  14.317821063276353,\n  11.958260743101398,\n  15.811388300841896,\n  4.242640687119285,\n  9.0,\n  10.862780491200215,\n  10.344080432788601,\n  15.394804318340652,\n  9.539392014169456,\n  13.45362404707371,\n  16.401219466856727,\n  15.652475842498529,\n  12.083045973594572,\n  10.583005244258363,\n  12.84523257866513,\n  14.45683229480096,\n  11.180339887498949,\n  13.856406460551018,\n  12.041594578792296,\n  16.522711641858304,\n  16.278820596099706,\n  14.38749456993816,\n  12.884098726725126,\n  8.888194417315589,\n  17.72004514666935,\n  14.422205101855956,\n  14.142135623730951,\n  12.288205727444508,\n  14.071247279470288,\n  7.810249675906654,\n  12.449899597988733,\n  13.490737563232042,\n  10.0,\n  12.529964086141668,\n  10.392304845413264,\n  12.727922061357855,\n  14.212670403551895,\n  9.695359714832659,\n  15.905973720586866,\n  11.832159566199232,\n  7.483314773547883,\n  9.643650760992955,\n  12.24744871391589,\n  9.746794344808963,\n  13.228756555322953,\n  13.674794331177344,\n  15.132745950421556,\n  18.275666882497067,\n  0.0,\n  12.767145334803704,\n  11.40175425099138,\n  12.24744871391589,\n  10.862780491200215,\n  11.0,\n  10.954451150103322,\n  11.40175425099138,\n  17.549928774784245,\n  13.784048752090222,\n  11.575836902790225,\n  13.19090595827292,\n  11.180339887498949,\n  16.703293088490067,\n  15.394804318340652,\n  14.52583904633395,\n  12.806248474865697,\n  12.609520212918492,\n  13.527749258468683,\n  12.24744871391589,\n  5.0990195135927845,\n  10.63014581273465,\n  13.74772708486752,\n  15.748015748023622,\n  12.529964086141668,\n  8.06225774829855,\n  13.92838827718412,\n  15.394804318340652,\n  16.1245154965971,\n  12.68857754044952,\n  13.416407864998739,\n  11.789826122551595,\n  13.74772708486752,\n  11.958260743101398,\n  11.704699910719626,\n  12.165525060596439,\n  13.74772708486752,\n  14.730919862656235,\n  12.12435565298214,\n  14.2828568570857,\n  13.114877048604,\n  10.198039027185569,\n  11.704699910719626],\n [10.723805294763608,\n  10.344080432788601,\n  11.789826122551595,\n  11.575836902790225,\n  11.357816691600547,\n  14.89966442575134,\n  14.106735979665885,\n  16.217274740226856,\n  12.68857754044952,\n  15.033296378372908,\n  16.73320053068151,\n  15.84297951775486,\n  11.180339887498949,\n  12.884098726725126,\n  15.7797338380595,\n  12.0,\n  8.717797887081348,\n  13.038404810405298,\n  8.366600265340756,\n  15.748015748023622,\n  13.856406460551018,\n  11.789826122551595,\n  14.45683229480096,\n  6.164414002968976,\n  10.862780491200215,\n  8.717797887081348,\n  12.68857754044952,\n  10.0,\n  11.489125293076057,\n  16.24807680927192,\n  11.045361017187261,\n  10.816653826391969,\n  13.416407864998739,\n  13.152946437965905,\n  14.66287829861518,\n  13.228756555322953,\n  11.575836902790225,\n  12.449899597988733,\n  11.224972160321824,\n  13.856406460551018,\n  14.317821063276353,\n  12.68857754044952,\n  12.649110640673518,\n  10.14889156509222,\n  9.848857801796104,\n  13.820274961085254,\n  10.908712114635714,\n  16.61324772583615,\n  7.810249675906654,\n  12.449899597988733,\n  9.273618495495704,\n  10.908712114635714,\n  10.198039027185569,\n  15.165750888103101,\n  11.135528725660043,\n  15.033296378372908,\n  15.394804318340652,\n  12.767145334803704,\n  0.0,\n  14.933184523068078,\n  14.730919862656235,\n  12.609520212918492,\n  14.491376746189438,\n  15.329709716755891,\n  13.30413469565007,\n  15.588457268119896,\n  11.789826122551595,\n  15.905973720586866,\n  9.539392014169456,\n  12.328828005937952,\n  10.954451150103322,\n  11.661903789690601,\n  12.489995996796797,\n  9.9498743710662,\n  11.916375287812984,\n  12.409673645990857,\n  15.394804318340652,\n  12.288205727444508,\n  13.038404810405298,\n  18.05547008526779,\n  11.180339887498949,\n  8.717797887081348,\n  12.569805089976535,\n  13.74772708486752,\n  14.696938456699069,\n  14.38749456993816,\n  11.135528725660043,\n  13.74772708486752,\n  12.0,\n  13.784048752090222,\n  12.727922061357855,\n  15.165750888103101,\n  10.14889156509222,\n  12.884098726725126,\n  14.422205101855956,\n  14.966629547095765,\n  10.908712114635714,\n  10.44030650891055,\n  13.892443989449804,\n  12.083045973594572],\n [12.083045973594572,\n  13.038404810405298,\n  13.784048752090222,\n  9.539392014169456,\n  8.717797887081348,\n  14.594519519326424,\n  13.711309200802088,\n  16.24807680927192,\n  10.295630140987,\n  17.11724276862369,\n  10.723805294763608,\n  16.3707055437449,\n  12.884098726725126,\n  7.810249675906654,\n  12.884098726725126,\n  14.035668847618199,\n  13.892443989449804,\n  8.54400374531753,\n  16.76305461424021,\n  9.9498743710662,\n  13.820274961085254,\n  10.488088481701515,\n  15.620499351813308,\n  14.38749456993816,\n  16.401219466856727,\n  11.704699910719626,\n  15.811388300841896,\n  11.269427669584644,\n  14.933184523068078,\n  14.38749456993816,\n  12.767145334803704,\n  13.638181696985855,\n  14.177446878757825,\n  16.3707055437449,\n  12.649110640673518,\n  13.038404810405298,\n  11.269427669584644,\n  14.966629547095765,\n  14.177446878757825,\n  9.9498743710662,\n  9.591663046625438,\n  8.246211251235321,\n  14.594519519326424,\n  13.416407864998739,\n  13.92838827718412,\n  9.273618495495704,\n  11.045361017187261,\n  15.066519173319364,\n  12.727922061357855,\n  13.2664991614216,\n  11.269427669584644,\n  15.297058540778355,\n  12.288205727444508,\n  16.703293088490067,\n  12.449899597988733,\n  12.84523257866513,\n  13.416407864998739,\n  11.40175425099138,\n  14.933184523068078,\n  0.0,\n  15.620499351813308,\n  12.96148139681572,\n  14.52583904633395,\n  11.045361017187261,\n  14.491376746189438,\n  15.165750888103101,\n  13.638181696985855,\n  12.806248474865697,\n  14.142135623730951,\n  14.38749456993816,\n  14.317821063276353,\n  13.74772708486752,\n  14.45683229480096,\n  13.114877048604,\n  16.278820596099706,\n  12.041594578792296,\n  8.602325267042627,\n  14.142135623730951,\n  11.704699910719626,\n  9.327379053088816,\n  15.748015748023622,\n  14.106735979665885,\n  11.357816691600547,\n  14.142135623730951,\n  12.84523257866513,\n  14.0,\n  10.04987562112089,\n  15.620499351813308,\n  13.076696830622021,\n  11.180339887498949,\n  16.15549442140351,\n  9.9498743710662,\n  10.954451150103322,\n  13.820274961085254,\n  10.44030650891055,\n  8.06225774829855,\n  16.06237840420901,\n  14.832396974191326,\n  12.649110640673518,\n  12.041594578792296],\n [15.297058540778355,\n  8.717797887081348,\n  12.649110640673518,\n  14.38749456993816,\n  12.884098726725126,\n  14.594519519326424,\n  14.832396974191326,\n  13.341664064126334,\n  14.0,\n  15.329709716755891,\n  13.527749258468683,\n  9.16515138991168,\n  12.0,\n  11.180339887498949,\n  13.564659966250536,\n  13.527749258468683,\n  14.933184523068078,\n  14.106735979665885,\n  13.152946437965905,\n  16.64331697709324,\n  11.874342087037917,\n  17.146428199482248,\n  12.083045973594572,\n  16.401219466856727,\n  16.703293088490067,\n  12.922847983320086,\n  13.038404810405298,\n  11.874342087037917,\n  13.30413469565007,\n  11.958260743101398,\n  10.908712114635714,\n  12.727922061357855,\n  7.810249675906654,\n  13.711309200802088,\n  14.0,\n  17.4928556845359,\n  12.609520212918492,\n  13.2664991614216,\n  11.269427669584644,\n  11.090536506409418,\n  11.916375287812984,\n  14.89966442575134,\n  11.180339887498949,\n  10.099504938362077,\n  13.19090595827292,\n  14.0,\n  10.099504938362077,\n  11.090536506409418,\n  13.564659966250536,\n  9.591663046625438,\n  12.529964086141668,\n  10.583005244258363,\n  13.228756555322953,\n  10.44030650891055,\n  11.874342087037917,\n  12.529964086141668,\n  13.784048752090222,\n  12.24744871391589,\n  14.730919862656235,\n  15.620499351813308,\n  0.0,\n  11.832159566199232,\n  7.0,\n  12.328828005937952,\n  11.489125293076057,\n  14.2828568570857,\n  17.26267650163207,\n  16.1245154965971,\n  13.856406460551018,\n  14.45683229480096,\n  13.152946437965905,\n  15.264337522473747,\n  13.674794331177344,\n  14.352700094407323,\n  9.643650760992955,\n  12.288205727444508,\n  13.038404810405298,\n  12.083045973594572,\n  10.44030650891055,\n  14.177446878757825,\n  12.0,\n  12.922847983320086,\n  12.609520212918492,\n  11.135528725660043,\n  14.177446878757825,\n  14.628738838327793,\n  12.922847983320086,\n  12.649110640673518,\n  12.206555615733702,\n  11.532562594670797,\n  11.61895003862225,\n  10.246950765959598,\n  15.684387141358123,\n  8.774964387392123,\n  13.45362404707371,\n  16.34013463836819,\n  10.0,\n  12.569805089976535,\n  10.488088481701515,\n  10.14889156509222],\n [12.328828005937952,\n  11.135528725660043,\n  12.727922061357855,\n  10.816653826391969,\n  12.569805089976535,\n  14.52583904633395,\n  9.591663046625438,\n  15.937377450509228,\n  11.916375287812984,\n  15.652475842498529,\n  12.041594578792296,\n  12.806248474865697,\n  8.94427190999916,\n  13.74772708486752,\n  15.0996688705415,\n  12.68857754044952,\n  14.177446878757825,\n  11.269427669584644,\n  13.892443989449804,\n  15.132745950421556,\n  10.816653826391969,\n  14.142135623730951,\n  12.083045973594572,\n  11.704699910719626,\n  13.076696830622021,\n  5.744562646538029,\n  13.038404810405298,\n  9.848857801796104,\n  13.228756555322953,\n  11.61895003862225,\n  9.0,\n  14.422205101855956,\n  7.14142842854285,\n  14.071247279470288,\n  14.89966442575134,\n  12.806248474865697,\n  12.206555615733702,\n  12.409673645990857,\n  9.9498743710662,\n  9.433981132056603,\n  14.142135623730951,\n  12.165525060596439,\n  10.63014581273465,\n  14.212670403551895,\n  13.784048752090222,\n  12.649110640673518,\n  9.797958971132712,\n  13.0,\n  12.806248474865697,\n  11.045361017187261,\n  10.63014581273465,\n  9.16515138991168,\n  11.704699910719626,\n  9.539392014169456,\n  9.539392014169456,\n  10.816653826391969,\n  15.874507866387544,\n  10.862780491200215,\n  12.609520212918492,\n  12.96148139681572,\n  11.832159566199232,\n  0.0,\n  13.601470508735444,\n  8.246211251235321,\n  15.033296378372908,\n  16.73320053068151,\n  11.489125293076057,\n  12.0,\n  12.489995996796797,\n  12.288205727444508,\n  13.379088160259652,\n  15.716233645501712,\n  13.96424004376894,\n  8.717797887081348,\n  10.63014581273465,\n  9.643650760992955,\n  11.40175425099138,\n  11.224972160321824,\n  11.704699910719626,\n  14.38749456993816,\n  8.717797887081348,\n  15.264337522473747,\n  12.288205727444508,\n  10.295630140987,\n  10.723805294763608,\n  16.911534525287763,\n  12.12435565298214,\n  11.575836902790225,\n  9.848857801796104,\n  10.14889156509222,\n  11.704699910719626,\n  13.74772708486752,\n  10.198039027185569,\n  11.269427669584644,\n  11.269427669584644,\n  11.180339887498949,\n  13.416407864998739,\n  14.352700094407323,\n  10.583005244258363,\n  11.445523142259598],\n [15.264337522473747,\n  11.0,\n  13.152946437965905,\n  12.24744871391589,\n  11.180339887498949,\n  13.416407864998739,\n  14.730919862656235,\n  14.594519519326424,\n  16.0312195418814,\n  15.362291495737216,\n  12.165525060596439,\n  11.180339887498949,\n  10.816653826391969,\n  9.899494936611665,\n  10.723805294763608,\n  12.489995996796797,\n  13.564659966250536,\n  13.038404810405298,\n  13.638181696985855,\n  14.696938456699069,\n  14.142135623730951,\n  14.317821063276353,\n  11.532562594670797,\n  15.811388300841896,\n  15.0996688705415,\n  13.92838827718412,\n  13.74772708486752,\n  13.856406460551018,\n  12.649110640673518,\n  14.422205101855956,\n  13.341664064126334,\n  9.9498743710662,\n  9.899494936611665,\n  13.674794331177344,\n  11.445523142259598,\n  17.804493814764857,\n  9.16515138991168,\n  12.041594578792296,\n  9.38083151964686,\n  12.806248474865697,\n  12.767145334803704,\n  14.035668847618199,\n  14.2828568570857,\n  9.0,\n  13.527749258468683,\n  12.36931687685298,\n  9.643650760992955,\n  11.661903789690601,\n  13.152946437965905,\n  10.246950765959598,\n  11.575836902790225,\n  10.816653826391969,\n  11.74734012447073,\n  13.638181696985855,\n  11.832159566199232,\n  13.19090595827292,\n  15.198684153570664,\n  11.0,\n  14.491376746189438,\n  14.52583904633395,\n  7.0,\n  13.601470508735444,\n  0.0,\n  12.041594578792296,\n  7.54983443527075,\n  13.601470508735444,\n  15.198684153570664,\n  15.524174696260024,\n  12.84523257866513,\n  13.341664064126334,\n  15.811388300841896,\n  14.7648230602334,\n  11.313708498984761,\n  12.84523257866513,\n  9.273618495495704,\n  14.212670403551895,\n  13.892443989449804,\n  11.874342087037917,\n  10.392304845413264,\n  12.409673645990857,\n  13.152946437965905,\n  12.24744871391589,\n  13.19090595827292,\n  13.892443989449804,\n  14.071247279470288,\n  15.264337522473747,\n  13.638181696985855,\n  15.588457268119896,\n  14.966629547095765,\n  13.638181696985855,\n  10.295630140987,\n  12.328828005937952,\n  13.674794331177344,\n  10.198039027185569,\n  15.033296378372908,\n  15.362291495737216,\n  9.0,\n  12.449899597988733,\n  11.180339887498949,\n  11.045361017187261],\n [12.165525060596439,\n  13.564659966250536,\n  11.135528725660043,\n  8.660254037844387,\n  13.341664064126334,\n  12.922847983320086,\n  12.328828005937952,\n  13.038404810405298,\n  12.165525060596439,\n  15.652475842498529,\n  5.744562646538029,\n  10.677078252031311,\n  10.099504938362077,\n  12.041594578792296,\n  13.2664991614216,\n  15.394804318340652,\n  13.527749258468683,\n  12.922847983320086,\n  17.86057109949175,\n  14.45683229480096,\n  13.228756555322953,\n  12.96148139681572,\n  12.0,\n  14.45683229480096,\n  16.09347693943108,\n  9.1104335791443,\n  14.352700094407323,\n  11.0,\n  11.958260743101398,\n  14.035668847618199,\n  12.609520212918492,\n  13.490737563232042,\n  10.14889156509222,\n  14.7648230602334,\n  15.684387141358123,\n  13.341664064126334,\n  11.180339887498949,\n  9.38083151964686,\n  10.44030650891055,\n  12.84523257866513,\n  14.89966442575134,\n  11.489125293076057,\n  15.0,\n  13.038404810405298,\n  13.564659966250536,\n  9.38083151964686,\n  12.165525060596439,\n  9.643650760992955,\n  11.661903789690601,\n  12.727922061357855,\n  11.090536506409418,\n  9.486832980505138,\n  13.30413469565007,\n  13.674794331177344,\n  8.18535277187245,\n  13.45362404707371,\n  16.0,\n  10.954451150103322,\n  15.329709716755891,\n  11.045361017187261,\n  12.328828005937952,\n  8.246211251235321,\n  12.041594578792296,\n  0.0,\n  12.96148139681572,\n  15.427248620541512,\n  12.727922061357855,\n  14.832396974191326,\n  12.806248474865697,\n  14.866068747318506,\n  16.941074346097416,\n  15.264337522473747,\n  12.529964086141668,\n  11.313708498984761,\n  13.076696830622021,\n  13.892443989449804,\n  7.874007874011811,\n  12.24744871391589,\n  9.327379053088816,\n  11.357816691600547,\n  11.489125293076057,\n  14.66287829861518,\n  13.601470508735444,\n  11.40175425099138,\n  9.9498743710662,\n  14.696938456699069,\n  11.874342087037917,\n  13.711309200802088,\n  11.704699910719626,\n  13.96424004376894,\n  10.908712114635714,\n  14.035668847618199,\n  10.583005244258363,\n  10.246950765959598,\n  13.45362404707371,\n  10.246950765959598,\n  14.89966442575134,\n  15.811388300841896,\n  11.045361017187261,\n  12.36931687685298],\n [12.569805089976535,\n  11.661903789690601,\n  12.489995996796797,\n  13.152946437965905,\n  12.489995996796797,\n  13.152946437965905,\n  15.0996688705415,\n  13.416407864998739,\n  14.491376746189438,\n  12.922847983320086,\n  11.874342087037917,\n  12.0,\n  11.045361017187261,\n  11.090536506409418,\n  9.055385138137417,\n  13.45362404707371,\n  12.84523257866513,\n  13.0,\n  13.96424004376894,\n  13.74772708486752,\n  15.968719422671311,\n  11.575836902790225,\n  11.045361017187261,\n  12.68857754044952,\n  12.529964086141668,\n  13.820274961085254,\n  11.224972160321824,\n  13.076696830622021,\n  11.532562594670797,\n  14.730919862656235,\n  13.820274961085254,\n  8.0,\n  13.379088160259652,\n  12.884098726725126,\n  10.862780491200215,\n  14.352700094407323,\n  9.327379053088816,\n  9.38083151964686,\n  10.816653826391969,\n  14.38749456993816,\n  15.165750888103101,\n  11.313708498984761,\n  14.317821063276353,\n  9.486832980505138,\n  14.071247279470288,\n  10.488088481701515,\n  10.770329614269007,\n  11.0,\n  10.198039027185569,\n  12.489995996796797,\n  13.0,\n  11.224972160321824,\n  9.1104335791443,\n  13.527749258468683,\n  13.601470508735444,\n  13.45362404707371,\n  14.352700094407323,\n  11.40175425099138,\n  13.30413469565007,\n  14.491376746189438,\n  11.489125293076057,\n  15.033296378372908,\n  7.54983443527075,\n  12.96148139681572,\n  0.0,\n  11.661903789690601,\n  12.489995996796797,\n  15.0996688705415,\n  13.114877048604,\n  11.532562594670797,\n  16.64331697709324,\n  12.449899597988733,\n  6.855654600401044,\n  12.727922061357855,\n  8.774964387392123,\n  14.177446878757825,\n  14.212670403551895,\n  11.661903789690601,\n  7.937253933193772,\n  12.206555615733702,\n  13.341664064126334,\n  12.529964086141668,\n  11.532562594670797,\n  13.711309200802088,\n  14.035668847618199,\n  13.784048752090222,\n  11.958260743101398,\n  15.556349186104045,\n  14.66287829861518,\n  15.588457268119896,\n  7.810249675906654,\n  15.0,\n  12.649110640673518,\n  10.44030650891055,\n  15.264337522473747,\n  13.30413469565007,\n  11.135528725660043,\n  8.94427190999916,\n  9.055385138137417,\n  10.63014581273465],\n [11.575836902790225,\n  15.231546211727817,\n  11.661903789690601,\n  15.459624833740307,\n  12.806248474865697,\n  7.810249675906654,\n  15.0996688705415,\n  15.491933384829668,\n  11.916375287812984,\n  12.84523257866513,\n  15.84297951775486,\n  11.135528725660043,\n  16.24807680927192,\n  13.96424004376894,\n  11.313708498984761,\n  15.84297951775486,\n  13.30413469565007,\n  15.066519173319364,\n  16.0312195418814,\n  14.247806848775006,\n  10.723805294763608,\n  13.638181696985855,\n  15.033296378372908,\n  14.933184523068078,\n  15.0,\n  14.52583904633395,\n  13.490737563232042,\n  13.0,\n  12.84523257866513,\n  11.532562594670797,\n  12.449899597988733,\n  11.832159566199232,\n  17.233687939614086,\n  7.0710678118654755,\n  14.422205101855956,\n  12.727922061357855,\n  13.527749258468683,\n  12.569805089976535,\n  17.578395831246947,\n  14.247806848775006,\n  15.620499351813308,\n  11.40175425099138,\n  13.892443989449804,\n  11.916375287812984,\n  17.146428199482248,\n  10.862780491200215,\n  11.832159566199232,\n  9.1104335791443,\n  11.832159566199232,\n  15.556349186104045,\n  14.594519519326424,\n  14.7648230602334,\n  15.264337522473747,\n  15.132745950421556,\n  13.601470508735444,\n  10.535653752852738,\n  7.745966692414834,\n  17.549928774784245,\n  15.588457268119896,\n  15.165750888103101,\n  14.2828568570857,\n  16.73320053068151,\n  13.601470508735444,\n  15.427248620541512,\n  11.661903789690601,\n  0.0,\n  14.2828568570857,\n  16.431676725154983,\n  16.30950643030009,\n  12.609520212918492,\n  13.152946437965905,\n  11.61895003862225,\n  8.54400374531753,\n  15.620499351813308,\n  13.076696830622021,\n  12.449899597988733,\n  12.24744871391589,\n  16.1245154965971,\n  10.63014581273465,\n  13.228756555322953,\n  13.2664991614216,\n  14.798648586948742,\n  14.45683229480096,\n  10.0,\n  13.74772708486752,\n  14.212670403551895,\n  10.63014581273465,\n  15.297058540778355,\n  15.652475842498529,\n  15.066519173319364,\n  13.74772708486752,\n  15.132745950421556,\n  12.649110640673518,\n  11.090536506409418,\n  13.0,\n  16.217274740226856,\n  15.362291495737216,\n  12.569805089976535,\n  12.0,\n  9.643650760992955],\n [11.832159566199232,\n  15.033296378372908,\n  13.711309200802088,\n  11.357816691600547,\n  12.083045973594572,\n  11.445523142259598,\n  10.295630140987,\n  16.792855623746664,\n  13.038404810405298,\n  13.152946437965905,\n  13.96424004376894,\n  16.0,\n  11.74734012447073,\n  15.905973720586866,\n  14.696938456699069,\n  13.379088160259652,\n  13.74772708486752,\n  12.12435565298214,\n  13.228756555322953,\n  11.958260743101398,\n  14.52583904633395,\n  8.0,\n  12.24744871391589,\n  7.937253933193772,\n  5.5677643628300215,\n  8.888194417315589,\n  15.0996688705415,\n  12.84523257866513,\n  12.12435565298214,\n  13.74772708486752,\n  12.288205727444508,\n  10.770329614269007,\n  14.594519519326424,\n  11.661903789690601,\n  12.806248474865697,\n  10.488088481701515,\n  10.246950765959598,\n  10.583005244258363,\n  11.704699910719626,\n  13.45362404707371,\n  16.792855623746664,\n  11.045361017187261,\n  13.527749258468683,\n  15.491933384829668,\n  16.30950643030009,\n  10.954451150103322,\n  10.488088481701515,\n  14.247806848775006,\n  11.40175425099138,\n  14.89966442575134,\n  11.357816691600547,\n  11.224972160321824,\n  9.219544457292887,\n  14.177446878757825,\n  12.922847983320086,\n  11.269427669584644,\n  15.231546211727817,\n  13.784048752090222,\n  11.789826122551595,\n  13.638181696985855,\n  17.26267650163207,\n  11.489125293076057,\n  15.198684153570664,\n  12.727922061357855,\n  12.489995996796797,\n  14.2828568570857,\n  0.0,\n  13.638181696985855,\n  11.224972160321824,\n  10.63014581273465,\n  15.329709716755891,\n  15.588457268119896,\n  10.14889156509222,\n  7.745966692414834,\n  11.357816691600547,\n  12.609520212918492,\n  14.142135623730951,\n  13.92838827718412,\n  12.767145334803704,\n  14.317821063276353,\n  10.583005244258363,\n  15.0,\n  14.730919862656235,\n  13.490737563232042,\n  11.61895003862225,\n  15.684387141358123,\n  11.61895003862225,\n  14.071247279470288,\n  13.30413469565007,\n  13.74772708486752,\n  10.44030650891055,\n  17.86057109949175,\n  5.830951894845301,\n  14.594519519326424,\n  12.041594578792296,\n  10.908712114635714,\n  13.416407864998739,\n  11.575836902790225,\n  11.74734012447073,\n  11.357816691600547],\n [11.832159566199232,\n  14.2828568570857,\n  16.431676725154983,\n  16.09347693943108,\n  12.083045973594572,\n  17.52141546793523,\n  12.409673645990857,\n  22.360679774997898,\n  15.556349186104045,\n  18.520259177452136,\n  15.264337522473747,\n  18.973665961010276,\n  11.224972160321824,\n  13.674794331177344,\n  12.083045973594572,\n  14.106735979665885,\n  17.233687939614086,\n  5.916079783099616,\n  16.278820596099706,\n  14.106735979665885,\n  13.076696830622021,\n  15.620499351813308,\n  16.911534525287763,\n  13.379088160259652,\n  14.317821063276353,\n  13.152946437965905,\n  12.409673645990857,\n  12.84523257866513,\n  18.193405398660254,\n  12.609520212918492,\n  14.317821063276353,\n  14.966629547095765,\n  12.36931687685298,\n  16.1245154965971,\n  11.916375287812984,\n  12.24744871391589,\n  15.524174696260024,\n  18.33030277982336,\n  14.247806848775006,\n  10.14889156509222,\n  16.3707055437449,\n  9.273618495495704,\n  12.36931687685298,\n  15.937377450509228,\n  16.673332000533065,\n  14.352700094407323,\n  9.486832980505138,\n  17.349351572897472,\n  16.431676725154983,\n  11.224972160321824,\n  14.177446878757825,\n  15.491933384829668,\n  13.45362404707371,\n  11.704699910719626,\n  16.217274740226856,\n  11.0,\n  17.029386365926403,\n  11.575836902790225,\n  15.905973720586866,\n  12.806248474865697,\n  16.1245154965971,\n  12.0,\n  15.524174696260024,\n  14.832396974191326,\n  15.0996688705415,\n  16.431676725154983,\n  13.638181696985855,\n  0.0,\n  19.339079605813716,\n  7.14142842854285,\n  16.46207763315433,\n  16.46207763315433,\n  14.933184523068078,\n  14.071247279470288,\n  13.820274961085254,\n  9.746794344808963,\n  15.033296378372908,\n  12.489995996796797,\n  12.609520212918492,\n  12.041594578792296,\n  15.556349186104045,\n  19.4164878389476,\n  9.848857801796104,\n  13.416407864998739,\n  13.527749258468683,\n  21.2602916254693,\n  13.30413469565007,\n  16.30950643030009,\n  16.76305461424021,\n  12.449899597988733,\n  16.881943016134134,\n  14.594519519326424,\n  12.569805089976535,\n  16.34013463836819,\n  14.035668847618199,\n  12.609520212918492,\n  17.378147196982766,\n  15.748015748023622,\n  10.295630140987,\n  14.177446878757825],\n [15.362291495737216,\n  12.328828005937952,\n  12.165525060596439,\n  8.306623862918075,\n  12.409673645990857,\n  12.609520212918492,\n  12.96148139681572,\n  12.569805089976535,\n  12.727922061357855,\n  12.84523257866513,\n  14.933184523068078,\n  13.490737563232042,\n  12.165525060596439,\n  13.30413469565007,\n  16.673332000533065,\n  11.532562594670797,\n  12.041594578792296,\n  15.716233645501712,\n  10.535653752852738,\n  15.394804318340652,\n  15.716233645501712,\n  9.38083151964686,\n  10.392304845413264,\n  11.704699910719626,\n  11.704699910719626,\n  9.539392014169456,\n  17.378147196982766,\n  13.30413469565007,\n  11.357816691600547,\n  16.881943016134134,\n  11.357816691600547,\n  11.832159566199232,\n  13.601470508735444,\n  14.2828568570857,\n  15.811388300841896,\n  16.30950643030009,\n  8.426149773176359,\n  9.695359714832659,\n  10.44030650891055,\n  14.45683229480096,\n  12.489995996796797,\n  14.966629547095765,\n  14.317821063276353,\n  11.916375287812984,\n  13.638181696985855,\n  13.2664991614216,\n  12.165525060596439,\n  14.730919862656235,\n  9.591663046625438,\n  14.422205101855956,\n  9.327379053088816,\n  10.954451150103322,\n  9.643650760992955,\n  16.76305461424021,\n  10.723805294763608,\n  15.198684153570664,\n  15.491933384829668,\n  13.19090595827292,\n  9.539392014169456,\n  14.142135623730951,\n  13.856406460551018,\n  12.489995996796797,\n  12.84523257866513,\n  12.806248474865697,\n  13.114877048604,\n  16.30950643030009,\n  11.224972160321824,\n  19.339079605813716,\n  0.0,\n  16.278820596099706,\n  13.076696830622021,\n  14.866068747318506,\n  13.228756555322953,\n  9.055385138137417,\n  12.206555615733702,\n  15.0,\n  13.711309200802088,\n  13.564659966250536,\n  14.317821063276353,\n  17.635192088548397,\n  11.661903789690601,\n  7.681145747868608,\n  15.716233645501712,\n  15.165750888103101,\n  15.394804318340652,\n  11.224972160321824,\n  12.922847983320086,\n  13.490737563232042,\n  9.9498743710662,\n  13.674794331177344,\n  9.9498743710662,\n  15.0,\n  10.488088481701515,\n  12.36931687685298,\n  12.84523257866513,\n  14.035668847618199,\n  9.899494936611665,\n  11.135528725660043,\n  14.966629547095765,\n  10.535653752852738],\n [9.539392014169456,\n  13.45362404707371,\n  12.609520212918492,\n  15.231546211727817,\n  11.61895003862225,\n  13.564659966250536,\n  10.14889156509222,\n  20.223748416156685,\n  14.177446878757825,\n  13.711309200802088,\n  15.620499351813308,\n  16.46207763315433,\n  9.433981132056603,\n  13.564659966250536,\n  10.44030650891055,\n  11.916375287812984,\n  14.966629547095765,\n  8.246211251235321,\n  12.083045973594572,\n  14.491376746189438,\n  11.661903789690601,\n  12.922847983320086,\n  13.527749258468683,\n  9.797958971132712,\n  9.797958971132712,\n  11.40175425099138,\n  11.180339887498949,\n  11.489125293076057,\n  15.620499351813308,\n  11.74734012447073,\n  13.038404810405298,\n  11.0,\n  12.083045973594572,\n  11.789826122551595,\n  11.789826122551595,\n  9.9498743710662,\n  13.856406460551018,\n  15.0,\n  12.165525060596439,\n  11.575836902790225,\n  16.46207763315433,\n  8.426149773176359,\n  10.0,\n  12.609520212918492,\n  15.132745950421556,\n  13.601470508735444,\n  7.0,\n  15.033296378372908,\n  12.68857754044952,\n  9.539392014169456,\n  11.575836902790225,\n  12.609520212918492,\n  11.224972160321824,\n  10.488088481701515,\n  14.832396974191326,\n  10.198039027185569,\n  14.933184523068078,\n  11.180339887498949,\n  12.328828005937952,\n  14.38749456993816,\n  14.45683229480096,\n  12.288205727444508,\n  13.341664064126334,\n  14.866068747318506,\n  11.532562594670797,\n  12.609520212918492,\n  10.63014581273465,\n  7.14142842854285,\n  16.278820596099706,\n  0.0,\n  14.422205101855956,\n  14.560219778561036,\n  11.313708498984761,\n  12.68857754044952,\n  10.677078252031311,\n  9.797958971132712,\n  14.45683229480096,\n  9.9498743710662,\n  10.583005244258363,\n  13.2664991614216,\n  13.228756555322953,\n  15.748015748023622,\n  9.591663046625438,\n  10.816653826391969,\n  13.114877048604,\n  18.24828759089466,\n  11.045361017187261,\n  13.30413469565007,\n  14.7648230602334,\n  12.96148139681572,\n  13.114877048604,\n  14.7648230602334,\n  10.04987562112089,\n  14.560219778561036,\n  13.416407864998739,\n  14.142135623730951,\n  14.38749456993816,\n  11.704699910719626,\n  8.426149773176359,\n  10.770329614269007],\n [13.601470508735444,\n  9.9498743710662,\n  13.892443989449804,\n  14.696938456699069,\n  10.44030650891055,\n  13.711309200802088,\n  14.594519519326424,\n  15.905973720586866,\n  9.539392014169456,\n  15.620499351813308,\n  18.65475810617763,\n  14.45683229480096,\n  15.968719422671311,\n  13.416407864998739,\n  17.233687939614086,\n  13.19090595827292,\n  13.114877048604,\n  13.711309200802088,\n  9.899494936611665,\n  14.560219778561036,\n  9.16515138991168,\n  15.132745950421556,\n  16.217274740226856,\n  12.884098726725126,\n  14.352700094407323,\n  11.045361017187261,\n  14.730919862656235,\n  10.392304845413264,\n  13.638181696985855,\n  11.045361017187261,\n  6.6332495807108,\n  14.177446878757825,\n  14.422205101855956,\n  11.445523142259598,\n  14.594519519326424,\n  14.730919862656235,\n  13.856406460551018,\n  15.968719422671311,\n  16.431676725154983,\n  9.38083151964686,\n  9.848857801796104,\n  13.892443989449804,\n  9.273618495495704,\n  13.152946437965905,\n  14.247806848775006,\n  14.317821063276353,\n  10.44030650891055,\n  15.427248620541512,\n  12.68857754044952,\n  13.892443989449804,\n  12.489995996796797,\n  14.52583904633395,\n  13.490737563232042,\n  13.784048752090222,\n  12.884098726725126,\n  10.677078252031311,\n  8.774964387392123,\n  16.703293088490067,\n  10.954451150103322,\n  14.317821063276353,\n  13.152946437965905,\n  13.379088160259652,\n  15.811388300841896,\n  16.941074346097416,\n  16.64331697709324,\n  13.152946437965905,\n  15.329709716755891,\n  16.46207763315433,\n  13.076696830622021,\n  14.422205101855956,\n  0.0,\n  13.038404810405298,\n  14.89966442575134,\n  13.379088160259652,\n  13.416407864998739,\n  8.246211251235321,\n  13.892443989449804,\n  16.09347693943108,\n  14.491376746189438,\n  17.029386365926403,\n  11.532562594670797,\n  12.409673645990857,\n  13.711309200802088,\n  11.357816691600547,\n  14.966629547095765,\n  13.820274961085254,\n  10.488088481701515,\n  12.529964086141668,\n  11.224972160321824,\n  8.246211251235321,\n  16.24807680927192,\n  11.224972160321824,\n  13.527749258468683,\n  12.328828005937952,\n  8.717797887081348,\n  16.0,\n  12.36931687685298,\n  11.532562594670797,\n  14.106735979665885,\n  9.591663046625438],\n [11.180339887498949,\n  11.61895003862225,\n  13.601470508735444,\n  12.489995996796797,\n  12.922847983320086,\n  15.231546211727817,\n  17.291616465790582,\n  15.394804318340652,\n  12.041594578792296,\n  16.30950643030009,\n  16.186414056238647,\n  12.922847983320086,\n  14.594519519326424,\n  10.954451150103322,\n  11.180339887498949,\n  13.784048752090222,\n  8.246211251235321,\n  14.7648230602334,\n  16.06237840420901,\n  15.811388300841896,\n  14.491376746189438,\n  13.0,\n  16.278820596099706,\n  12.806248474865697,\n  16.73320053068151,\n  13.784048752090222,\n  9.433981132056603,\n  12.489995996796797,\n  12.884098726725126,\n  16.55294535724685,\n  11.313708498984761,\n  14.594519519326424,\n  17.378147196982766,\n  14.035668847618199,\n  15.132745950421556,\n  14.45683229480096,\n  11.661903789690601,\n  12.767145334803704,\n  17.204650534085253,\n  14.491376746189438,\n  14.035668847618199,\n  11.269427669584644,\n  15.874507866387544,\n  9.9498743710662,\n  14.730919862656235,\n  11.532562594670797,\n  14.247806848775006,\n  13.341664064126334,\n  9.643650760992955,\n  16.583123951777,\n  15.297058540778355,\n  15.905973720586866,\n  13.114877048604,\n  16.852299546352718,\n  12.409673645990857,\n  14.422205101855956,\n  12.529964086141668,\n  15.394804318340652,\n  11.661903789690601,\n  13.74772708486752,\n  15.264337522473747,\n  15.716233645501712,\n  14.7648230602334,\n  15.264337522473747,\n  12.449899597988733,\n  11.61895003862225,\n  15.588457268119896,\n  16.46207763315433,\n  14.866068747318506,\n  14.560219778561036,\n  13.038404810405298,\n  0.0,\n  9.486832980505138,\n  13.076696830622021,\n  12.96148139681572,\n  12.0,\n  14.177446878757825,\n  15.0,\n  11.916375287812984,\n  16.431676725154983,\n  13.892443989449804,\n  13.19090595827292,\n  11.135528725660043,\n  14.247806848775006,\n  16.431676725154983,\n  16.09347693943108,\n  12.884098726725126,\n  18.57417562100671,\n  15.0996688705415,\n  16.06237840420901,\n  14.212670403551895,\n  15.684387141358123,\n  13.379088160259652,\n  8.831760866327848,\n  15.556349186104045,\n  13.341664064126334,\n  16.09347693943108,\n  12.68857754044952,\n  14.317821063276353,\n  12.96148139681572],\n [10.44030650891055,\n  12.529964086141668,\n  12.449899597988733,\n  12.24744871391589,\n  12.206555615733702,\n  10.770329614269007,\n  14.66287829861518,\n  13.152946437965905,\n  12.609520212918492,\n  13.19090595827292,\n  12.649110640673518,\n  10.535653752852738,\n  12.84523257866513,\n  13.114877048604,\n  9.9498743710662,\n  14.212670403551895,\n  10.099504938362077,\n  13.638181696985855,\n  14.966629547095765,\n  12.649110640673518,\n  13.711309200802088,\n  10.816653826391969,\n  12.68857754044952,\n  10.862780491200215,\n  11.489125293076057,\n  12.165525060596439,\n  9.539392014169456,\n  12.165525060596439,\n  9.055385138137417,\n  13.19090595827292,\n  11.40175425099138,\n  9.539392014169456,\n  15.165750888103101,\n  9.327379053088816,\n  11.61895003862225,\n  12.041594578792296,\n  8.94427190999916,\n  7.54983443527075,\n  13.564659966250536,\n  14.0,\n  16.0312195418814,\n  10.535653752852738,\n  14.491376746189438,\n  11.180339887498949,\n  15.132745950421556,\n  8.06225774829855,\n  11.532562594670797,\n  8.717797887081348,\n  9.219544457292887,\n  15.132745950421556,\n  13.784048752090222,\n  11.357816691600547,\n  10.488088481701515,\n  13.564659966250536,\n  11.575836902790225,\n  11.135528725660043,\n  11.874342087037917,\n  14.52583904633395,\n  12.489995996796797,\n  14.45683229480096,\n  13.674794331177344,\n  13.96424004376894,\n  11.313708498984761,\n  12.529964086141668,\n  6.855654600401044,\n  8.54400374531753,\n  10.14889156509222,\n  14.933184523068078,\n  13.228756555322953,\n  11.313708498984761,\n  14.89966442575134,\n  9.486832980505138,\n  0.0,\n  10.535653752852738,\n  8.48528137423857,\n  12.165525060596439,\n  13.527749258468683,\n  14.035668847618199,\n  8.602325267042627,\n  12.806248474865697,\n  10.14889156509222,\n  13.92838827718412,\n  12.727922061357855,\n  12.041594578792296,\n  12.083045973594572,\n  14.594519519326424,\n  11.224972160321824,\n  16.09347693943108,\n  14.696938456699069,\n  15.297058540778355,\n  8.48528137423857,\n  16.852299546352718,\n  10.246950765959598,\n  8.602325267042627,\n  14.071247279470288,\n  12.083045973594572,\n  12.68857754044952,\n  9.9498743710662,\n  10.14889156509222,\n  10.677078252031311],\n [13.341664064126334,\n  11.40175425099138,\n  14.696938456699069,\n  7.937253933193772,\n  10.392304845413264,\n  13.527749258468683,\n  11.832159566199232,\n  15.556349186104045,\n  13.490737563232042,\n  15.7797338380595,\n  13.74772708486752,\n  13.92838827718412,\n  10.770329614269007,\n  13.674794331177344,\n  14.422205101855956,\n  11.0,\n  10.535653752852738,\n  12.206555615733702,\n  12.449899597988733,\n  12.529964086141668,\n  13.674794331177344,\n  10.099504938362077,\n  12.489995996796797,\n  9.433981132056603,\n  9.539392014169456,\n  8.06225774829855,\n  13.2664991614216,\n  12.609520212918492,\n  10.63014581273465,\n  14.38749456993816,\n  9.1104335791443,\n  12.328828005937952,\n  12.206555615733702,\n  12.96148139681572,\n  12.083045973594572,\n  14.422205101855956,\n  6.557438524302,\n  10.488088481701515,\n  10.535653752852738,\n  11.445523142259598,\n  13.784048752090222,\n  12.884098726725126,\n  13.892443989449804,\n  13.711309200802088,\n  14.628738838327793,\n  10.954451150103322,\n  10.583005244258363,\n  13.96424004376894,\n  11.661903789690601,\n  14.422205101855956,\n  11.180339887498949,\n  10.583005244258363,\n  8.660254037844387,\n  13.892443989449804,\n  9.539392014169456,\n  11.180339887498949,\n  15.427248620541512,\n  12.806248474865697,\n  9.9498743710662,\n  13.114877048604,\n  14.352700094407323,\n  8.717797887081348,\n  12.84523257866513,\n  11.313708498984761,\n  12.727922061357855,\n  15.620499351813308,\n  7.745966692414834,\n  14.071247279470288,\n  9.055385138137417,\n  12.68857754044952,\n  13.379088160259652,\n  13.076696830622021,\n  10.535653752852738,\n  0.0,\n  8.888194417315589,\n  11.0,\n  14.491376746189438,\n  13.711309200802088,\n  13.379088160259652,\n  15.264337522473747,\n  8.12403840463596,\n  13.674794331177344,\n  13.96424004376894,\n  14.352700094407323,\n  12.206555615733702,\n  16.73320053068151,\n  13.30413469565007,\n  15.811388300841896,\n  12.84523257866513,\n  11.958260743101398,\n  10.246950765959598,\n  16.401219466856727,\n  7.615773105863909,\n  11.180339887498949,\n  12.36931687685298,\n  10.246950765959598,\n  10.954451150103322,\n  12.24744871391589,\n  13.114877048604,\n  11.958260743101398],\n [13.820274961085254,\n  9.327379053088816,\n  14.035668847618199,\n  13.341664064126334,\n  12.609520212918492,\n  13.638181696985855,\n  12.68857754044952,\n  14.52583904633395,\n  14.106735979665885,\n  13.2664991614216,\n  14.696938456699069,\n  10.63014581273465,\n  10.63014581273465,\n  13.784048752090222,\n  11.958260743101398,\n  10.954451150103322,\n  13.19090595827292,\n  13.2664991614216,\n  11.224972160321824,\n  14.89966442575134,\n  13.19090595827292,\n  13.527749258468683,\n  10.14889156509222,\n  11.489125293076057,\n  10.198039027185569,\n  11.224972160321824,\n  9.848857801796104,\n  12.727922061357855,\n  11.575836902790225,\n  11.832159566199232,\n  9.055385138137417,\n  11.445523142259598,\n  10.677078252031311,\n  11.445523142259598,\n  11.357816691600547,\n  14.933184523068078,\n  9.38083151964686,\n  10.44030650891055,\n  10.862780491200215,\n  11.40175425099138,\n  14.594519519326424,\n  13.30413469565007,\n  10.954451150103322,\n  11.958260743101398,\n  15.524174696260024,\n  12.609520212918492,\n  9.539392014169456,\n  11.224972160321824,\n  12.12435565298214,\n  12.529964086141668,\n  13.416407864998739,\n  10.04987562112089,\n  8.48528137423857,\n  8.94427190999916,\n  12.489995996796797,\n  9.797958971132712,\n  13.96424004376894,\n  12.609520212918492,\n  11.916375287812984,\n  16.278820596099706,\n  9.643650760992955,\n  10.63014581273465,\n  9.273618495495704,\n  13.076696830622021,\n  8.774964387392123,\n  13.076696830622021,\n  11.357816691600547,\n  13.820274961085254,\n  12.206555615733702,\n  10.677078252031311,\n  13.416407864998739,\n  12.96148139681572,\n  8.48528137423857,\n  8.888194417315589,\n  0.0,\n  10.099504938362077,\n  15.459624833740307,\n  11.874342087037917,\n  10.862780491200215,\n  15.0996688705415,\n  8.54400374531753,\n  14.2828568570857,\n  11.916375287812984,\n  12.12435565298214,\n  13.638181696985855,\n  16.522711641858304,\n  13.341664064126334,\n  14.247806848775006,\n  12.806248474865697,\n  12.328828005937952,\n  7.0710678118654755,\n  15.556349186104045,\n  12.206555615733702,\n  8.717797887081348,\n  13.114877048604,\n  13.416407864998739,\n  9.539392014169456,\n  8.888194417315589,\n  9.327379053088816,\n  9.695359714832659],\n [11.180339887498949,\n  8.888194417315589,\n  14.247806848775006,\n  13.92838827718412,\n  9.746794344808963,\n  14.142135623730951,\n  11.874342087037917,\n  16.76305461424021,\n  9.539392014169456,\n  15.297058540778355,\n  15.491933384829668,\n  13.674794331177344,\n  12.68857754044952,\n  12.24744871391589,\n  13.076696830622021,\n  11.74734012447073,\n  13.711309200802088,\n  9.16515138991168,\n  12.165525060596439,\n  12.328828005937952,\n  8.48528137423857,\n  14.035668847618199,\n  14.52583904633395,\n  11.40175425099138,\n  12.569805089976535,\n  9.797958971132712,\n  10.14889156509222,\n  9.38083151964686,\n  13.856406460551018,\n  7.615773105863909,\n  5.656854249492381,\n  13.820274961085254,\n  11.74734012447073,\n  11.61895003862225,\n  11.180339887498949,\n  11.61895003862225,\n  12.489995996796797,\n  14.933184523068078,\n  14.696938456699069,\n  5.0990195135927845,\n  11.180339887498949,\n  9.848857801796104,\n  7.483314773547883,\n  13.601470508735444,\n  15.132745950421556,\n  11.874342087037917,\n  8.06225774829855,\n  13.341664064126334,\n  13.076696830622021,\n  12.12435565298214,\n  13.114877048604,\n  13.45362404707371,\n  10.954451150103322,\n  8.831760866327848,\n  12.806248474865697,\n  5.830951894845301,\n  9.9498743710662,\n  13.527749258468683,\n  12.409673645990857,\n  12.041594578792296,\n  12.288205727444508,\n  9.643650760992955,\n  14.212670403551895,\n  13.892443989449804,\n  14.177446878757825,\n  12.449899597988733,\n  12.609520212918492,\n  9.746794344808963,\n  15.0,\n  9.797958971132712,\n  8.246211251235321,\n  12.0,\n  12.165525060596439,\n  11.0,\n  10.099504938362077,\n  0.0,\n  12.609520212918492,\n  13.379088160259652,\n  11.40175425099138,\n  13.114877048604,\n  10.246950765959598,\n  15.684387141358123,\n  9.38083151964686,\n  9.539392014169456,\n  12.328828005937952,\n  16.522711641858304,\n  10.099504938362077,\n  12.922847983320086,\n  11.575836902790225,\n  6.782329983125268,\n  14.142135623730951,\n  11.575836902790225,\n  11.704699910719626,\n  10.770329614269007,\n  7.874007874011811,\n  11.313708498984761,\n  13.527749258468683,\n  11.090536506409418,\n  9.433981132056603,\n  9.16515138991168],\n [10.583005244258363,\n  14.0,\n  8.246211251235321,\n  10.63014581273465,\n  12.328828005937952,\n  10.535653752852738,\n  11.661903789690601,\n  13.490737563232042,\n  7.874007874011811,\n  13.30413469565007,\n  9.539392014169456,\n  11.313708498984761,\n  12.24744871391589,\n  10.344080432788601,\n  12.806248474865697,\n  15.066519173319364,\n  14.247806848775006,\n  12.36931687685298,\n  16.941074346097416,\n  14.106735979665885,\n  10.723805294763608,\n  12.165525060596439,\n  12.806248474865697,\n  14.933184523068078,\n  16.881943016134134,\n  9.9498743710662,\n  15.491933384829668,\n  9.433981132056603,\n  13.74772708486752,\n  12.36931687685298,\n  12.041594578792296,\n  13.564659966250536,\n  12.68857754044952,\n  13.416407864998739,\n  16.431676725154983,\n  11.135528725660043,\n  13.30413469565007,\n  11.916375287812984,\n  13.892443989449804,\n  11.789826122551595,\n  12.409673645990857,\n  8.94427190999916,\n  12.84523257866513,\n  11.832159566199232,\n  13.784048752090222,\n  9.797958971132712,\n  11.224972160321824,\n  10.04987562112089,\n  10.583005244258363,\n  12.165525060596439,\n  10.344080432788601,\n  12.569805089976535,\n  14.38749456993816,\n  14.52583904633395,\n  10.246950765959598,\n  12.529964086141668,\n  11.916375287812984,\n  12.24744871391589,\n  15.394804318340652,\n  8.602325267042627,\n  13.038404810405298,\n  11.40175425099138,\n  13.892443989449804,\n  7.874007874011811,\n  14.212670403551895,\n  12.24744871391589,\n  14.142135623730951,\n  15.033296378372908,\n  13.711309200802088,\n  14.45683229480096,\n  13.892443989449804,\n  14.177446878757825,\n  13.527749258468683,\n  14.491376746189438,\n  15.459624833740307,\n  12.609520212918492,\n  0.0,\n  12.489995996796797,\n  9.1104335791443,\n  10.816653826391969,\n  13.784048752090222,\n  13.0,\n  12.288205727444508,\n  8.717797887081348,\n  11.532562594670797,\n  11.40175425099138,\n  8.426149773176359,\n  11.224972160321824,\n  9.9498743710662,\n  12.529964086141668,\n  13.74772708486752,\n  10.246950765959598,\n  11.045361017187261,\n  11.269427669584644,\n  10.44030650891055,\n  11.704699910719626,\n  16.30950643030009,\n  14.89966442575134,\n  10.954451150103322,\n  9.539392014169456],\n [12.165525060596439,\n  12.806248474865697,\n  9.38083151964686,\n  13.0,\n  14.560219778561036,\n  15.329709716755891,\n  9.273618495495704,\n  18.33030277982336,\n  14.071247279470288,\n  11.357816691600547,\n  14.317821063276353,\n  14.628738838327793,\n  4.0,\n  11.180339887498949,\n  10.392304845413264,\n  9.539392014169456,\n  15.7797338380595,\n  11.789826122551595,\n  12.449899597988733,\n  18.734993995195193,\n  14.66287829861518,\n  12.649110640673518,\n  8.831760866327848,\n  12.449899597988733,\n  13.892443989449804,\n  11.090536506409418,\n  13.416407864998739,\n  12.206555615733702,\n  17.11724276862369,\n  15.968719422671311,\n  14.177446878757825,\n  13.490737563232042,\n  9.746794344808963,\n  16.3707055437449,\n  16.55294535724685,\n  13.2664991614216,\n  13.892443989449804,\n  13.711309200802088,\n  9.433981132056603,\n  13.74772708486752,\n  15.231546211727817,\n  10.295630140987,\n  11.090536506409418,\n  9.486832980505138,\n  14.0,\n  15.684387141358123,\n  9.899494936611665,\n  15.132745950421556,\n  10.954451150103322,\n  7.483314773547883,\n  10.04987562112089,\n  12.24744871391589,\n  10.908712114635714,\n  12.206555615733702,\n  14.177446878757825,\n  15.0,\n  17.88854381999832,\n  5.0990195135927845,\n  12.288205727444508,\n  14.142135623730951,\n  12.083045973594572,\n  11.224972160321824,\n  11.874342087037917,\n  12.24744871391589,\n  11.661903789690601,\n  16.1245154965971,\n  13.92838827718412,\n  12.489995996796797,\n  13.564659966250536,\n  9.9498743710662,\n  16.09347693943108,\n  15.0,\n  14.035668847618199,\n  13.711309200802088,\n  11.874342087037917,\n  13.379088160259652,\n  12.489995996796797,\n  0.0,\n  10.723805294763608,\n  15.968719422671311,\n  15.427248620541512,\n  12.206555615733702,\n  8.06225774829855,\n  12.083045973594572,\n  16.46207763315433,\n  16.30950643030009,\n  12.84523257866513,\n  11.832159566199232,\n  11.0,\n  14.866068747318506,\n  11.0,\n  13.0,\n  12.328828005937952,\n  13.379088160259652,\n  15.198684153570664,\n  14.52583904633395,\n  15.0996688705415,\n  12.569805089976535,\n  10.0,\n  10.44030650891055],\n [7.416198487095663,\n  10.44030650891055,\n  9.1104335791443,\n  12.806248474865697,\n  11.789826122551595,\n  12.24744871391589,\n  13.74772708486752,\n  11.958260743101398,\n  9.9498743710662,\n  13.341664064126334,\n  8.12403840463596,\n  10.344080432788601,\n  10.344080432788601,\n  10.0,\n  10.14889156509222,\n  15.231546211727817,\n  12.165525060596439,\n  10.583005244258363,\n  15.033296378372908,\n  12.806248474865697,\n  11.832159566199232,\n  12.922847983320086,\n  12.449899597988733,\n  11.575836902790225,\n  14.071247279470288,\n  10.392304845413264,\n  9.0,\n  7.211102550927978,\n  10.392304845413264,\n  10.954451150103322,\n  11.74734012447073,\n  8.888194417315589,\n  10.862780491200215,\n  11.445523142259598,\n  12.206555615733702,\n  9.433981132056603,\n  12.0,\n  9.327379053088816,\n  11.045361017187261,\n  11.74734012447073,\n  14.38749456993816,\n  7.681145747868608,\n  11.575836902790225,\n  9.539392014169456,\n  10.908712114635714,\n  7.937253933193772,\n  9.539392014169456,\n  8.366600265340756,\n  8.426149773176359,\n  10.14889156509222,\n  11.313708498984761,\n  9.0,\n  11.224972160321824,\n  10.488088481701515,\n  10.862780491200215,\n  11.74734012447073,\n  11.958260743101398,\n  10.63014581273465,\n  13.038404810405298,\n  11.704699910719626,\n  10.44030650891055,\n  11.704699910719626,\n  10.392304845413264,\n  9.327379053088816,\n  7.937253933193772,\n  10.63014581273465,\n  12.767145334803704,\n  12.609520212918492,\n  14.317821063276353,\n  10.583005244258363,\n  14.491376746189438,\n  11.916375287812984,\n  8.602325267042627,\n  13.379088160259652,\n  10.862780491200215,\n  11.40175425099138,\n  9.1104335791443,\n  10.723805294763608,\n  0.0,\n  9.16515138991168,\n  11.445523142259598,\n  12.96148139681572,\n  9.273618495495704,\n  8.18535277187245,\n  9.591663046625438,\n  12.041594578792296,\n  7.0710678118654755,\n  11.61895003862225,\n  11.661903789690601,\n  13.19090595827292,\n  10.099504938362077,\n  12.0,\n  11.532562594670797,\n  8.94427190999916,\n  12.649110640673518,\n  11.40175425099138,\n  13.0,\n  10.723805294763608,\n  5.385164807134504,\n  9.695359714832659],\n [12.449899597988733,\n  14.247806848775006,\n  15.198684153570664,\n  14.142135623730951,\n  10.14889156509222,\n  13.92838827718412,\n  15.84297951775486,\n  16.0312195418814,\n  13.379088160259652,\n  18.384776310850235,\n  8.366600265340756,\n  15.394804318340652,\n  14.594519519326424,\n  11.313708498984761,\n  12.609520212918492,\n  17.832554500127006,\n  15.874507866387544,\n  9.16515138991168,\n  18.708286933869708,\n  8.246211251235321,\n  13.416407864998739,\n  14.52583904633395,\n  16.822603841260722,\n  16.186414056238647,\n  16.55294535724685,\n  14.142135623730951,\n  14.730919862656235,\n  12.0,\n  13.711309200802088,\n  11.313708498984761,\n  14.628738838327793,\n  11.357816691600547,\n  13.564659966250536,\n  14.177446878757825,\n  9.746794344808963,\n  13.30413469565007,\n  12.884098726725126,\n  14.730919862656235,\n  14.142135623730951,\n  10.954451150103322,\n  14.035668847618199,\n  10.04987562112089,\n  15.165750888103101,\n  15.0,\n  14.933184523068078,\n  7.810249675906654,\n  10.723805294763608,\n  12.328828005937952,\n  15.066519173319364,\n  13.152946437965905,\n  13.711309200802088,\n  13.74772708486752,\n  14.212670403551895,\n  14.491376746189438,\n  13.711309200802088,\n  11.313708498984761,\n  13.076696830622021,\n  13.74772708486752,\n  18.05547008526779,\n  9.327379053088816,\n  14.177446878757825,\n  14.38749456993816,\n  12.409673645990857,\n  11.357816691600547,\n  12.206555615733702,\n  13.228756555322953,\n  14.317821063276353,\n  12.041594578792296,\n  17.635192088548397,\n  13.2664991614216,\n  17.029386365926403,\n  16.431676725154983,\n  12.806248474865697,\n  15.264337522473747,\n  15.0996688705415,\n  13.114877048604,\n  10.816653826391969,\n  15.968719422671311,\n  9.16515138991168,\n  0.0,\n  14.933184523068078,\n  17.549928774784245,\n  13.564659966250536,\n  13.0,\n  9.273618495495704,\n  15.524174696260024,\n  10.295630140987,\n  16.0312195418814,\n  16.431676725154983,\n  12.489995996796797,\n  15.620499351813308,\n  12.24744871391589,\n  13.0,\n  14.0,\n  12.328828005937952,\n  11.135528725660043,\n  15.198684153570664,\n  15.329709716755891,\n  9.848857801796104,\n  13.114877048604],\n [12.0,\n  10.770329614269007,\n  13.416407864998739,\n  12.288205727444508,\n  11.916375287812984,\n  11.958260743101398,\n  13.784048752090222,\n  12.806248474865697,\n  12.0,\n  15.905973720586866,\n  13.527749258468683,\n  10.583005244258363,\n  13.416407864998739,\n  15.588457268119896,\n  16.3707055437449,\n  15.264337522473747,\n  10.816653826391969,\n  14.035668847618199,\n  13.076696830622021,\n  13.30413469565007,\n  10.14889156509222,\n  14.560219778561036,\n  14.071247279470288,\n  10.44030650891055,\n  11.269427669584644,\n  7.681145747868608,\n  11.74734012447073,\n  9.848857801796104,\n  7.14142842854285,\n  10.344080432788601,\n  7.416198487095663,\n  11.489125293076057,\n  11.357816691600547,\n  8.602325267042627,\n  13.19090595827292,\n  13.19090595827292,\n  10.816653826391969,\n  9.486832980505138,\n  12.041594578792296,\n  11.445523142259598,\n  15.362291495737216,\n  14.071247279470288,\n  12.12435565298214,\n  14.0,\n  13.341664064126334,\n  10.488088481701515,\n  10.770329614269007,\n  10.44030650891055,\n  11.489125293076057,\n  14.212670403551895,\n  12.206555615733702,\n  7.3484692283495345,\n  12.206555615733702,\n  10.816653826391969,\n  8.18535277187245,\n  9.848857801796104,\n  12.569805089976535,\n  15.748015748023622,\n  11.180339887498949,\n  15.748015748023622,\n  12.0,\n  8.717797887081348,\n  13.152946437965905,\n  11.489125293076057,\n  13.341664064126334,\n  13.2664991614216,\n  10.583005244258363,\n  15.556349186104045,\n  11.661903789690601,\n  13.228756555322953,\n  11.532562594670797,\n  13.892443989449804,\n  10.14889156509222,\n  8.12403840463596,\n  8.54400374531753,\n  10.246950765959598,\n  13.784048752090222,\n  15.427248620541512,\n  11.445523142259598,\n  14.933184523068078,\n  0.0,\n  14.52583904633395,\n  15.329709716755891,\n  10.198039027185569,\n  8.774964387392123,\n  15.231546211727817,\n  11.269427669584644,\n  13.038404810405298,\n  12.288205727444508,\n  11.445523142259598,\n  10.535653752852738,\n  16.15549442140351,\n  10.295630140987,\n  9.219544457292887,\n  11.789826122551595,\n  13.527749258468683,\n  10.0,\n  12.24744871391589,\n  11.575836902790225,\n  11.445523142259598],\n [13.601470508735444,\n  12.041594578792296,\n  9.219544457292887,\n  10.770329614269007,\n  12.206555615733702,\n  13.038404810405298,\n  14.798648586948742,\n  13.74772708486752,\n  12.609520212918492,\n  12.96148139681572,\n  15.748015748023622,\n  13.96424004376894,\n  12.288205727444508,\n  10.488088481701515,\n  15.264337522473747,\n  12.328828005937952,\n  11.045361017187261,\n  15.362291495737216,\n  10.295630140987,\n  16.911534525287763,\n  15.033296378372908,\n  11.357816691600547,\n  12.529964086141668,\n  12.649110640673518,\n  14.7648230602334,\n  11.661903789690601,\n  16.583123951777,\n  12.0,\n  12.727922061357855,\n  17.663521732655695,\n  13.2664991614216,\n  10.816653826391969,\n  14.142135623730951,\n  14.38749456993816,\n  16.64331697709324,\n  16.0312195418814,\n  11.489125293076057,\n  11.958260743101398,\n  11.661903789690601,\n  15.427248620541512,\n  12.041594578792296,\n  13.892443989449804,\n  14.212670403551895,\n  7.14142842854285,\n  10.535653752852738,\n  14.177446878757825,\n  11.958260743101398,\n  15.362291495737216,\n  7.681145747868608,\n  12.206555615733702,\n  8.246211251235321,\n  12.206555615733702,\n  12.083045973594572,\n  17.72004514666935,\n  11.489125293076057,\n  16.911534525287763,\n  14.798648586948742,\n  12.529964086141668,\n  8.717797887081348,\n  14.106735979665885,\n  12.922847983320086,\n  15.264337522473747,\n  12.24744871391589,\n  14.66287829861518,\n  12.529964086141668,\n  14.798648586948742,\n  15.0,\n  19.4164878389476,\n  7.681145747868608,\n  15.748015748023622,\n  12.409673645990857,\n  13.19090595827292,\n  13.92838827718412,\n  13.674794331177344,\n  14.2828568570857,\n  15.684387141358123,\n  13.0,\n  12.206555615733702,\n  12.96148139681572,\n  17.549928774784245,\n  14.52583904633395,\n  0.0,\n  14.0,\n  14.317821063276353,\n  16.61324772583615,\n  9.746794344808963,\n  11.40175425099138,\n  13.152946437965905,\n  11.135528725660043,\n  14.966629547095765,\n  12.649110640673518,\n  12.409673645990857,\n  12.449899597988733,\n  12.649110640673518,\n  14.628738838327793,\n  16.673332000533065,\n  11.090536506409418,\n  11.357816691600547,\n  14.933184523068078,\n  10.583005244258363],\n [10.344080432788601,\n  9.643650760992955,\n  12.288205727444508,\n  14.0,\n  12.529964086141668,\n  16.73320053068151,\n  12.68857754044952,\n  17.406895185529212,\n  11.269427669584644,\n  13.92838827718412,\n  14.212670403551895,\n  14.933184523068078,\n  9.0,\n  8.717797887081348,\n  9.1104335791443,\n  10.862780491200215,\n  14.628738838327793,\n  9.055385138137417,\n  13.564659966250536,\n  15.684387141358123,\n  13.856406460551018,\n  13.076696830622021,\n  12.84523257866513,\n  12.0,\n  14.89966442575134,\n  12.083045973594572,\n  9.327379053088816,\n  10.295630140987,\n  16.431676725154983,\n  13.711309200802088,\n  11.832159566199232,\n  13.892443989449804,\n  12.0,\n  16.15549442140351,\n  13.45362404707371,\n  11.704699910719626,\n  13.564659966250536,\n  14.933184523068078,\n  13.2664991614216,\n  10.488088481701515,\n  12.609520212918492,\n  7.14142842854285,\n  10.099504938362077,\n  10.344080432788601,\n  13.892443989449804,\n  13.379088160259652,\n  9.9498743710662,\n  14.832396974191326,\n  11.180339887498949,\n  9.9498743710662,\n  12.96148139681572,\n  14.52583904633395,\n  9.899494936611665,\n  11.224972160321824,\n  14.89966442575134,\n  12.727922061357855,\n  14.45683229480096,\n  8.06225774829855,\n  12.569805089976535,\n  11.357816691600547,\n  12.609520212918492,\n  12.288205727444508,\n  13.19090595827292,\n  13.601470508735444,\n  11.532562594670797,\n  14.45683229480096,\n  14.730919862656235,\n  9.848857801796104,\n  15.716233645501712,\n  9.591663046625438,\n  13.711309200802088,\n  11.135528725660043,\n  12.727922061357855,\n  13.96424004376894,\n  11.916375287812984,\n  9.38083151964686,\n  12.288205727444508,\n  8.06225774829855,\n  9.273618495495704,\n  13.564659966250536,\n  15.329709716755891,\n  14.0,\n  0.0,\n  11.874342087037917,\n  15.748015748023622,\n  16.09347693943108,\n  10.954451150103322,\n  13.74772708486752,\n  11.661903789690601,\n  12.569805089976535,\n  13.341664064126334,\n  11.045361017187261,\n  13.45362404707371,\n  11.832159566199232,\n  13.038404810405298,\n  11.313708498984761,\n  15.7797338380595,\n  10.908712114635714,\n  8.426149773176359,\n  10.392304845413264],\n [8.831760866327848,\n  12.569805089976535,\n  8.246211251235321,\n  14.730919862656235,\n  13.19090595827292,\n  10.14889156509222,\n  11.135528725660043,\n  14.628738838327793,\n  8.717797887081348,\n  12.206555615733702,\n  13.228756555322953,\n  10.198039027185569,\n  12.328828005937952,\n  13.74772708486752,\n  13.564659966250536,\n  15.198684153570664,\n  14.38749456993816,\n  12.609520212918492,\n  14.106735979665885,\n  15.459624833740307,\n  6.557438524302,\n  15.033296378372908,\n  12.96148139681572,\n  12.609520212918492,\n  14.177446878757825,\n  9.0,\n  12.083045973594572,\n  7.416198487095663,\n  12.767145334803704,\n  7.681145747868608,\n  9.848857801796104,\n  12.409673645990857,\n  11.090536506409418,\n  8.831760866327848,\n  15.684387141358123,\n  9.055385138137417,\n  15.066519173319364,\n  12.165525060596439,\n  13.820274961085254,\n  11.0,\n  15.033296378372908,\n  10.099504938362077,\n  8.306623862918075,\n  12.083045973594572,\n  13.711309200802088,\n  11.832159566199232,\n  9.273618495495704,\n  9.1104335791443,\n  10.770329614269007,\n  10.677078252031311,\n  11.357816691600547,\n  10.198039027185569,\n  14.317821063276353,\n  9.0,\n  11.180339887498949,\n  9.643650760992955,\n  10.392304845413264,\n  13.92838827718412,\n  13.74772708486752,\n  14.142135623730951,\n  11.135528725660043,\n  10.295630140987,\n  13.892443989449804,\n  11.40175425099138,\n  13.711309200802088,\n  10.0,\n  13.490737563232042,\n  13.416407864998739,\n  15.165750888103101,\n  10.816653826391969,\n  11.357816691600547,\n  14.247806848775006,\n  12.041594578792296,\n  14.352700094407323,\n  12.12435565298214,\n  9.539392014169456,\n  8.717797887081348,\n  12.083045973594572,\n  8.18535277187245,\n  13.0,\n  10.198039027185569,\n  14.317821063276353,\n  11.874342087037917,\n  0.0,\n  10.344080432788601,\n  13.490737563232042,\n  7.681145747868608,\n  8.0,\n  10.14889156509222,\n  11.532562594670797,\n  12.609520212918492,\n  12.206555615733702,\n  11.661903789690601,\n  10.535653752852738,\n  10.44030650891055,\n  14.730919862656235,\n  14.560219778561036,\n  12.727922061357855,\n  8.12403840463596,\n  8.306623862918075],\n [10.04987562112089,\n  13.601470508735444,\n  13.674794331177344,\n  13.19090595827292,\n  10.816653826391969,\n  12.409673645990857,\n  15.066519173319364,\n  14.52583904633395,\n  12.449899597988733,\n  18.49324200890693,\n  9.16515138991168,\n  13.96424004376894,\n  14.247806848775006,\n  14.7648230602334,\n  16.34013463836819,\n  18.708286933869708,\n  12.806248474865697,\n  11.224972160321824,\n  16.97056274847714,\n  9.899494936611665,\n  10.488088481701515,\n  15.264337522473747,\n  17.05872210923198,\n  12.489995996796797,\n  14.0,\n  9.486832980505138,\n  13.601470508735444,\n  8.717797887081348,\n  8.831760866327848,\n  10.0,\n  12.24744871391589,\n  10.246950765959598,\n  11.832159566199232,\n  10.44030650891055,\n  12.041594578792296,\n  11.180339887498949,\n  13.038404810405298,\n  11.958260743101398,\n  12.328828005937952,\n  11.661903789690601,\n  16.34013463836819,\n  12.041594578792296,\n  14.212670403551895,\n  15.394804318340652,\n  12.041594578792296,\n  7.681145747868608,\n  10.723805294763608,\n  11.313708498984761,\n  13.076696830622021,\n  13.379088160259652,\n  11.74734012447073,\n  8.426149773176359,\n  14.628738838327793,\n  12.806248474865697,\n  9.273618495495704,\n  11.045361017187261,\n  13.379088160259652,\n  15.394804318340652,\n  14.696938456699069,\n  12.84523257866513,\n  14.177446878757825,\n  10.723805294763608,\n  14.071247279470288,\n  9.9498743710662,\n  14.035668847618199,\n  13.74772708486752,\n  11.61895003862225,\n  13.527749258468683,\n  15.394804318340652,\n  13.114877048604,\n  14.966629547095765,\n  16.431676725154983,\n  12.083045973594572,\n  12.206555615733702,\n  13.638181696985855,\n  12.328828005937952,\n  11.532562594670797,\n  16.46207763315433,\n  9.591663046625438,\n  9.273618495495704,\n  8.774964387392123,\n  16.61324772583615,\n  15.748015748023622,\n  10.344080432788601,\n  0.0,\n  15.264337522473747,\n  9.055385138137417,\n  13.601470508735444,\n  14.832396974191326,\n  12.165525060596439,\n  14.212670403551895,\n  15.033296378372908,\n  10.246950765959598,\n  12.884098726725126,\n  12.328828005937952,\n  12.569805089976535,\n  13.0,\n  15.329709716755891,\n  10.723805294763608,\n  13.564659966250536],\n [14.422205101855956,\n  13.784048752090222,\n  11.224972160321824,\n  14.38749456993816,\n  14.491376746189438,\n  12.84523257866513,\n  17.029386365926403,\n  8.831760866327848,\n  9.486832980505138,\n  12.922847983320086,\n  14.106735979665885,\n  13.564659966250536,\n  16.61324772583615,\n  13.527749258468683,\n  17.944358444926362,\n  17.69180601295413,\n  15.264337522473747,\n  17.0,\n  14.730919862656235,\n  15.132745950421556,\n  16.15549442140351,\n  13.114877048604,\n  14.071247279470288,\n  15.0,\n  16.278820596099706,\n  13.228756555322953,\n  18.2208671582886,\n  11.704699910719626,\n  12.288205727444508,\n  15.459624833740307,\n  13.892443989449804,\n  11.74734012447073,\n  16.583123951777,\n  14.422205101855956,\n  17.146428199482248,\n  14.628738838327793,\n  14.177446878757825,\n  11.575836902790225,\n  15.132745950421556,\n  15.716233645501712,\n  13.341664064126334,\n  14.2828568570857,\n  14.38749456993816,\n  13.038404810405298,\n  13.564659966250536,\n  12.489995996796797,\n  14.142135623730951,\n  13.379088160259652,\n  9.797958971132712,\n  15.556349186104045,\n  12.609520212918492,\n  13.341664064126334,\n  13.601470508735444,\n  17.406895185529212,\n  14.177446878757825,\n  16.522711641858304,\n  11.916375287812984,\n  16.1245154965971,\n  14.38749456993816,\n  14.0,\n  14.628738838327793,\n  16.911534525287763,\n  15.264337522473747,\n  14.696938456699069,\n  13.784048752090222,\n  14.212670403551895,\n  15.684387141358123,\n  21.2602916254693,\n  11.224972160321824,\n  18.24828759089466,\n  13.820274961085254,\n  16.09347693943108,\n  14.594519519326424,\n  16.73320053068151,\n  16.522711641858304,\n  16.522711641858304,\n  11.40175425099138,\n  16.30950643030009,\n  12.041594578792296,\n  15.524174696260024,\n  15.231546211727817,\n  9.746794344808963,\n  16.09347693943108,\n  13.490737563232042,\n  15.264337522473747,\n  0.0,\n  9.327379053088816,\n  11.489125293076057,\n  10.246950765959598,\n  14.933184523068078,\n  13.601470508735444,\n  13.0,\n  14.966629547095765,\n  13.674794331177344,\n  12.36931687685298,\n  15.716233645501712,\n  13.638181696985855,\n  11.313708498984761,\n  13.784048752090222,\n  10.535653752852738],\n [6.708203932499369,\n  10.816653826391969,\n  9.0,\n  12.727922061357855,\n  9.433981132056603,\n  10.862780491200215,\n  13.0,\n  12.767145334803704,\n  6.4031242374328485,\n  13.2664991614216,\n  11.313708498984761,\n  13.228756555322953,\n  12.529964086141668,\n  10.770329614269007,\n  13.820274961085254,\n  15.231546211727817,\n  12.0,\n  9.695359714832659,\n  12.649110640673518,\n  10.677078252031311,\n  9.797958971132712,\n  11.704699910719626,\n  14.177446878757825,\n  9.797958971132712,\n  12.569805089976535,\n  8.48528137423857,\n  12.449899597988733,\n  4.69041575982343,\n  10.392304845413264,\n  9.591663046625438,\n  10.295630140987,\n  8.426149773176359,\n  12.409673645990857,\n  9.9498743710662,\n  12.288205727444508,\n  7.416198487095663,\n  12.727922061357855,\n  11.532562594670797,\n  12.489995996796797,\n  10.198039027185569,\n  12.36931687685298,\n  7.54983443527075,\n  9.695359714832659,\n  11.090536506409418,\n  10.04987562112089,\n  8.426149773176359,\n  8.306623862918075,\n  11.575836902790225,\n  8.06225774829855,\n  10.63014581273465,\n  9.16515138991168,\n  10.14889156509222,\n  11.489125293076057,\n  12.165525060596439,\n  10.954451150103322,\n  10.862780491200215,\n  9.1104335791443,\n  12.68857754044952,\n  11.135528725660043,\n  10.04987562112089,\n  12.922847983320086,\n  12.12435565298214,\n  13.638181696985855,\n  11.874342087037917,\n  11.958260743101398,\n  10.63014581273465,\n  11.61895003862225,\n  13.30413469565007,\n  12.922847983320086,\n  11.045361017187261,\n  10.488088481701515,\n  12.884098726725126,\n  11.224972160321824,\n  13.30413469565007,\n  13.341664064126334,\n  10.099504938362077,\n  8.426149773176359,\n  12.84523257866513,\n  7.0710678118654755,\n  10.295630140987,\n  11.269427669584644,\n  11.40175425099138,\n  10.954451150103322,\n  7.681145747868608,\n  9.055385138137417,\n  9.327379053088816,\n  0.0,\n  9.1104335791443,\n  10.0,\n  10.392304845413264,\n  13.114877048604,\n  10.295630140987,\n  9.9498743710662,\n  11.74734012447073,\n  8.94427190999916,\n  11.916375287812984,\n  12.529964086141668,\n  10.14889156509222,\n  8.306623862918075,\n  8.48528137423857],\n [12.727922061357855,\n  13.490737563232042,\n  9.486832980505138,\n  16.15549442140351,\n  15.0996688705415,\n  13.0,\n  10.954451150103322,\n  15.0996688705415,\n  10.099504938362077,\n  11.090536506409418,\n  15.264337522473747,\n  14.142135623730951,\n  12.649110640673518,\n  15.524174696260024,\n  17.549928774784245,\n  15.459624833740307,\n  17.804493814764857,\n  14.247806848775006,\n  11.789826122551595,\n  17.349351572897472,\n  11.789826122551595,\n  15.297058540778355,\n  11.832159566199232,\n  13.0,\n  13.45362404707371,\n  9.433981132056603,\n  16.673332000533065,\n  9.433981132056603,\n  15.198684153570664,\n  11.090536506409418,\n  12.288205727444508,\n  13.038404810405298,\n  11.090536506409418,\n  13.114877048604,\n  17.60681686165901,\n  11.40175425099138,\n  16.703293088490067,\n  13.92838827718412,\n  12.529964086141668,\n  12.767145334803704,\n  15.297058540778355,\n  13.038404810405298,\n  7.280109889280518,\n  14.142135623730951,\n  14.071247279470288,\n  15.427248620541512,\n  10.295630140987,\n  14.035668847618199,\n  11.916375287812984,\n  10.295630140987,\n  10.535653752852738,\n  10.677078252031311,\n  13.601470508735444,\n  10.63014581273465,\n  14.38749456993816,\n  13.379088160259652,\n  13.92838827718412,\n  13.416407864998739,\n  13.74772708486752,\n  15.620499351813308,\n  12.649110640673518,\n  11.575836902790225,\n  15.588457268119896,\n  13.711309200802088,\n  15.556349186104045,\n  15.297058540778355,\n  14.071247279470288,\n  16.30950643030009,\n  13.490737563232042,\n  13.30413469565007,\n  12.529964086141668,\n  18.57417562100671,\n  16.09347693943108,\n  15.811388300841896,\n  14.247806848775006,\n  12.922847983320086,\n  11.224972160321824,\n  11.832159566199232,\n  11.61895003862225,\n  16.0312195418814,\n  13.038404810405298,\n  13.152946437965905,\n  13.74772708486752,\n  8.0,\n  13.601470508735444,\n  11.489125293076057,\n  9.1104335791443,\n  0.0,\n  7.280109889280518,\n  11.874342087037917,\n  13.152946437965905,\n  12.288205727444508,\n  13.564659966250536,\n  14.730919862656235,\n  10.63014581273465,\n  16.46207763315433,\n  14.071247279470288,\n  12.083045973594572,\n  10.099504938362077,\n  8.774964387392123],\n [13.076696830622021,\n  10.816653826391969,\n  9.9498743710662,\n  12.489995996796797,\n  14.317821063276353,\n  13.784048752090222,\n  10.816653826391969,\n  12.206555615733702,\n  7.280109889280518,\n  10.392304845413264,\n  14.212670403551895,\n  12.12435565298214,\n  11.445523142259598,\n  13.038404810405298,\n  16.09347693943108,\n  12.489995996796797,\n  15.556349186104045,\n  14.2828568570857,\n  11.74734012447073,\n  16.673332000533065,\n  13.19090595827292,\n  12.449899597988733,\n  9.539392014169456,\n  12.165525060596439,\n  13.711309200802088,\n  8.0,\n  15.264337522473747,\n  9.591663046625438,\n  14.142135623730951,\n  12.884098726725126,\n  9.273618495495704,\n  14.317821063276353,\n  11.575836902790225,\n  14.730919862656235,\n  17.233687939614086,\n  12.36931687685298,\n  13.564659966250536,\n  11.704699910719626,\n  12.489995996796797,\n  11.575836902790225,\n  12.041594578792296,\n  12.12435565298214,\n  8.602325267042627,\n  12.767145334803704,\n  14.106735979665885,\n  13.892443989449804,\n  11.357816691600547,\n  13.19090595827292,\n  9.746794344808963,\n  12.206555615733702,\n  10.954451150103322,\n  11.61895003862225,\n  10.583005244258363,\n  11.74734012447073,\n  12.727922061357855,\n  13.2664991614216,\n  13.30413469565007,\n  11.789826122551595,\n  12.0,\n  13.076696830622021,\n  12.206555615733702,\n  9.848857801796104,\n  14.966629547095765,\n  11.704699910719626,\n  14.66287829861518,\n  15.652475842498529,\n  13.30413469565007,\n  16.76305461424021,\n  9.9498743710662,\n  14.7648230602334,\n  11.224972160321824,\n  15.0996688705415,\n  14.696938456699069,\n  12.84523257866513,\n  12.806248474865697,\n  11.575836902790225,\n  9.9498743710662,\n  11.0,\n  11.661903789690601,\n  16.431676725154983,\n  12.288205727444508,\n  11.135528725660043,\n  11.661903789690601,\n  10.14889156509222,\n  14.832396974191326,\n  10.246950765959598,\n  10.0,\n  7.280109889280518,\n  0.0,\n  11.135528725660043,\n  11.135528725660043,\n  11.661903789690601,\n  12.767145334803704,\n  11.575836902790225,\n  9.38083151964686,\n  12.727922061357855,\n  13.892443989449804,\n  10.535653752852738,\n  10.908712114635714,\n  7.745966692414834],\n [14.317821063276353,\n  9.219544457292887,\n  15.329709716755891,\n  13.711309200802088,\n  8.306623862918075,\n  14.491376746189438,\n  12.529964086141668,\n  16.15549442140351,\n  10.535653752852738,\n  16.61324772583615,\n  15.0996688705415,\n  15.066519173319364,\n  13.892443989449804,\n  12.165525060596439,\n  16.15549442140351,\n  12.806248474865697,\n  15.620499351813308,\n  9.486832980505138,\n  11.489125293076057,\n  10.954451150103322,\n  9.591663046625438,\n  14.730919862656235,\n  14.933184523068078,\n  13.784048752090222,\n  13.490737563232042,\n  10.295630140987,\n  15.0,\n  10.392304845413264,\n  14.212670403551895,\n  8.0,\n  7.3484692283495345,\n  13.45362404707371,\n  10.488088481701515,\n  13.228756555322953,\n  10.816653826391969,\n  14.52583904633395,\n  12.409673645990857,\n  16.15549442140351,\n  13.564659966250536,\n  3.1622776601683795,\n  8.18535277187245,\n  12.609520212918492,\n  8.12403840463596,\n  14.866068747318506,\n  14.594519519326424,\n  12.68857754044952,\n  7.54983443527075,\n  14.966629547095765,\n  14.866068747318506,\n  11.445523142259598,\n  11.74734012447073,\n  13.228756555322953,\n  11.575836902790225,\n  10.862780491200215,\n  13.038404810405298,\n  7.615773105863909,\n  10.816653826391969,\n  13.74772708486752,\n  13.784048752090222,\n  11.180339887498949,\n  11.532562594670797,\n  10.14889156509222,\n  13.638181696985855,\n  13.96424004376894,\n  15.588457268119896,\n  15.066519173319364,\n  13.74772708486752,\n  12.449899597988733,\n  13.674794331177344,\n  12.96148139681572,\n  8.246211251235321,\n  16.06237840420901,\n  15.297058540778355,\n  11.958260743101398,\n  12.328828005937952,\n  6.782329983125268,\n  12.529964086141668,\n  14.866068747318506,\n  13.19090595827292,\n  12.489995996796797,\n  11.445523142259598,\n  14.966629547095765,\n  12.569805089976535,\n  11.532562594670797,\n  12.165525060596439,\n  14.933184523068078,\n  10.392304845413264,\n  11.874342087037917,\n  11.135528725660043,\n  0.0,\n  15.427248620541512,\n  8.831760866327848,\n  12.767145334803704,\n  13.038404810405298,\n  5.477225575051661,\n  12.489995996796797,\n  11.445523142259598,\n  12.206555615733702,\n  11.180339887498949,\n  9.486832980505138],\n [13.820274961085254,\n  12.36931687685298,\n  11.532562594670797,\n  12.0,\n  15.0,\n  12.328828005937952,\n  12.288205727444508,\n  11.874342087037917,\n  13.527749258468683,\n  10.099504938362077,\n  12.569805089976535,\n  9.643650760992955,\n  10.04987562112089,\n  14.352700094407323,\n  12.529964086141668,\n  12.569805089976535,\n  13.92838827718412,\n  15.491933384829668,\n  13.2664991614216,\n  16.30950643030009,\n  15.748015748023622,\n  11.269427669584644,\n  6.557438524302,\n  11.832159566199232,\n  10.862780491200215,\n  10.954451150103322,\n  12.922847983320086,\n  13.2664991614216,\n  11.313708498984761,\n  14.628738838327793,\n  12.0,\n  11.180339887498949,\n  12.24744871391589,\n  12.84523257866513,\n  14.798648586948742,\n  14.177446878757825,\n  9.695359714832659,\n  5.916079783099616,\n  9.899494936611665,\n  14.832396974191326,\n  16.278820596099706,\n  13.228756555322953,\n  13.19090595827292,\n  11.789826122551595,\n  15.652475842498529,\n  12.206555615733702,\n  11.874342087037917,\n  9.899494936611665,\n  9.746794344808963,\n  13.674794331177344,\n  12.727922061357855,\n  9.1104335791443,\n  8.717797887081348,\n  12.0,\n  12.409673645990857,\n  13.341664064126334,\n  15.524174696260024,\n  11.958260743101398,\n  12.727922061357855,\n  16.15549442140351,\n  11.61895003862225,\n  11.704699910719626,\n  10.295630140987,\n  10.908712114635714,\n  7.810249675906654,\n  13.74772708486752,\n  10.44030650891055,\n  16.881943016134134,\n  9.9498743710662,\n  13.114877048604,\n  16.24807680927192,\n  14.212670403551895,\n  8.48528137423857,\n  10.246950765959598,\n  7.0710678118654755,\n  14.142135623730951,\n  13.74772708486752,\n  11.0,\n  10.099504938362077,\n  15.620499351813308,\n  10.535653752852738,\n  12.649110640673518,\n  13.341664064126334,\n  12.609520212918492,\n  14.212670403551895,\n  13.601470508735444,\n  13.114877048604,\n  13.152946437965905,\n  11.135528725660043,\n  15.427248620541512,\n  0.0,\n  16.792855623746664,\n  11.704699910719626,\n  9.591663046625438,\n  14.352700094407323,\n  13.114877048604,\n  11.532562594670797,\n  9.433981132056603,\n  9.9498743710662,\n  9.695359714832659],\n [14.317821063276353,\n  10.44030650891055,\n  12.84523257866513,\n  14.071247279470288,\n  10.04987562112089,\n  15.362291495737216,\n  14.45683229480096,\n  16.15549442140351,\n  11.180339887498949,\n  16.3707055437449,\n  14.2828568570857,\n  15.0,\n  13.45362404707371,\n  7.615773105863909,\n  14.38749456993816,\n  13.564659966250536,\n  16.1245154965971,\n  10.677078252031311,\n  13.638181696985855,\n  14.2828568570857,\n  11.661903789690601,\n  15.524174696260024,\n  15.132745950421556,\n  16.673332000533065,\n  18.0,\n  13.19090595827292,\n  16.15549442140351,\n  10.770329614269007,\n  16.3707055437449,\n  12.489995996796797,\n  12.083045973594572,\n  13.820274961085254,\n  11.224972160321824,\n  15.968719422671311,\n  13.96424004376894,\n  15.905973720586866,\n  14.2828568570857,\n  17.11724276862369,\n  14.0,\n  8.717797887081348,\n  6.855654600401044,\n  12.041594578792296,\n  10.770329614269007,\n  11.357816691600547,\n  12.767145334803704,\n  13.892443989449804,\n  9.433981132056603,\n  15.362291495737216,\n  14.035668847618199,\n  9.219544457292887,\n  11.045361017187261,\n  14.866068747318506,\n  13.92838827718412,\n  14.212670403551895,\n  13.856406460551018,\n  13.038404810405298,\n  12.288205727444508,\n  11.704699910719626,\n  15.165750888103101,\n  9.9498743710662,\n  10.246950765959598,\n  13.74772708486752,\n  12.328828005937952,\n  14.035668847618199,\n  15.0,\n  15.132745950421556,\n  17.86057109949175,\n  14.594519519326424,\n  15.0,\n  14.7648230602334,\n  11.224972160321824,\n  15.684387141358123,\n  16.852299546352718,\n  16.401219466856727,\n  15.556349186104045,\n  11.575836902790225,\n  10.246950765959598,\n  13.0,\n  12.0,\n  12.24744871391589,\n  16.15549442140351,\n  12.409673645990857,\n  11.045361017187261,\n  12.206555615733702,\n  15.033296378372908,\n  13.0,\n  10.295630140987,\n  12.288205727444508,\n  11.661903789690601,\n  8.831760866327848,\n  16.792855623746664,\n  0.0,\n  15.198684153570664,\n  13.416407864998739,\n  10.295630140987,\n  14.832396974191326,\n  13.74772708486752,\n  13.820274961085254,\n  12.041594578792296,\n  10.099504938362077],\n [9.38083151964686,\n  14.212670403551895,\n  10.677078252031311,\n  7.937253933193772,\n  9.38083151964686,\n  9.327379053088816,\n  9.16515138991168,\n  16.792855623746664,\n  11.832159566199232,\n  13.601470508735444,\n  12.529964086141668,\n  14.628738838327793,\n  10.0,\n  12.84523257866513,\n  12.806248474865697,\n  12.041594578792296,\n  10.535653752852738,\n  10.344080432788601,\n  13.0,\n  11.789826122551595,\n  11.357816691600547,\n  7.483314773547883,\n  12.649110640673518,\n  8.426149773176359,\n  9.219544457292887,\n  7.0,\n  14.422205101855956,\n  10.816653826391969,\n  11.357816691600547,\n  13.601470508735444,\n  11.445523142259598,\n  10.099504938362077,\n  13.0,\n  10.488088481701515,\n  13.114877048604,\n  10.099504938362077,\n  9.327379053088816,\n  10.583005244258363,\n  10.816653826391969,\n  12.288205727444508,\n  14.696938456699069,\n  9.16515138991168,\n  13.379088160259652,\n  12.328828005937952,\n  13.490737563232042,\n  9.591663046625438,\n  8.831760866327848,\n  13.228756555322953,\n  9.591663046625438,\n  12.569805089976535,\n  7.681145747868608,\n  10.392304845413264,\n  10.908712114635714,\n  14.866068747318506,\n  9.1104335791443,\n  11.090536506409418,\n  14.142135623730951,\n  12.165525060596439,\n  10.14889156509222,\n  10.954451150103322,\n  15.684387141358123,\n  10.198039027185569,\n  13.674794331177344,\n  10.583005244258363,\n  12.649110640673518,\n  12.649110640673518,\n  5.830951894845301,\n  12.569805089976535,\n  10.488088481701515,\n  10.04987562112089,\n  13.527749258468683,\n  13.379088160259652,\n  10.246950765959598,\n  7.615773105863909,\n  12.206555615733702,\n  11.704699910719626,\n  11.045361017187261,\n  12.328828005937952,\n  11.532562594670797,\n  13.0,\n  10.295630140987,\n  12.449899597988733,\n  13.45362404707371,\n  11.661903789690601,\n  10.246950765959598,\n  14.966629547095765,\n  9.9498743710662,\n  13.564659966250536,\n  12.767145334803704,\n  12.767145334803704,\n  11.704699910719626,\n  15.198684153570664,\n  0.0,\n  13.0,\n  11.704699910719626,\n  11.180339887498949,\n  13.114877048604,\n  13.038404810405298,\n  12.083045973594572,\n  10.63014581273465],\n [12.288205727444508,\n  8.888194417315589,\n  11.704699910719626,\n  11.135528725660043,\n  12.609520212918492,\n  12.649110640673518,\n  15.0,\n  10.14889156509222,\n  10.723805294763608,\n  14.352700094407323,\n  12.083045973594572,\n  5.196152422706632,\n  12.609520212918492,\n  10.954451150103322,\n  11.61895003862225,\n  13.490737563232042,\n  10.099504938362077,\n  14.628738838327793,\n  15.033296378372908,\n  14.966629547095765,\n  11.74734012447073,\n  13.96424004376894,\n  12.206555615733702,\n  13.784048752090222,\n  15.748015748023622,\n  11.135528725660043,\n  9.433981132056603,\n  10.677078252031311,\n  9.591663046625438,\n  12.489995996796797,\n  8.0,\n  13.0,\n  12.24744871391589,\n  11.704699910719626,\n  14.106735979665885,\n  14.730919862656235,\n  9.695359714832659,\n  8.660254037844387,\n  13.564659966250536,\n  11.832159566199232,\n  12.529964086141668,\n  12.449899597988733,\n  13.114877048604,\n  9.643650760992955,\n  13.674794331177344,\n  9.746794344808963,\n  12.041594578792296,\n  7.0710678118654755,\n  9.848857801796104,\n  13.96424004376894,\n  13.564659966250536,\n  11.0,\n  12.0,\n  12.165525060596439,\n  8.831760866327848,\n  11.489125293076057,\n  11.180339887498949,\n  13.74772708486752,\n  12.884098726725126,\n  13.820274961085254,\n  8.774964387392123,\n  11.269427669584644,\n  10.198039027185569,\n  10.246950765959598,\n  10.44030650891055,\n  11.090536506409418,\n  14.594519519326424,\n  16.34013463836819,\n  12.36931687685298,\n  14.560219778561036,\n  12.328828005937952,\n  8.831760866327848,\n  8.602325267042627,\n  11.180339887498949,\n  8.717797887081348,\n  10.770329614269007,\n  11.269427669584644,\n  13.379088160259652,\n  8.94427190999916,\n  14.0,\n  9.219544457292887,\n  12.649110640673518,\n  11.832159566199232,\n  10.535653752852738,\n  12.884098726725126,\n  13.674794331177344,\n  11.74734012447073,\n  14.730919862656235,\n  11.575836902790225,\n  13.038404810405298,\n  9.591663046625438,\n  13.416407864998739,\n  13.0,\n  0.0,\n  12.884098726725126,\n  12.489995996796797,\n  12.288205727444508,\n  11.61895003862225,\n  10.908712114635714,\n  10.0],\n [13.601470508735444,\n  11.532562594670797,\n  13.892443989449804,\n  13.341664064126334,\n  9.9498743710662,\n  11.916375287812984,\n  11.357816691600547,\n  14.52583904633395,\n  7.416198487095663,\n  13.638181696985855,\n  14.696938456699069,\n  14.035668847618199,\n  14.66287829861518,\n  13.038404810405298,\n  15.7797338380595,\n  13.2664991614216,\n  16.0,\n  11.224972160321824,\n  12.569805089976535,\n  10.677078252031311,\n  10.198039027185569,\n  12.36931687685298,\n  13.45362404707371,\n  13.416407864998739,\n  12.649110640673518,\n  10.0,\n  15.905973720586866,\n  10.583005244258363,\n  13.92838827718412,\n  7.745966692414834,\n  7.483314773547883,\n  13.45362404707371,\n  13.19090595827292,\n  12.041594578792296,\n  12.529964086141668,\n  12.36931687685298,\n  12.409673645990857,\n  14.45683229480096,\n  14.966629547095765,\n  6.48074069840786,\n  9.327379053088816,\n  11.269427669584644,\n  8.366600265340756,\n  15.264337522473747,\n  16.217274740226856,\n  11.445523142259598,\n  8.888194417315589,\n  13.2664991614216,\n  13.45362404707371,\n  13.45362404707371,\n  12.165525060596439,\n  13.820274961085254,\n  11.313708498984761,\n  11.916375287812984,\n  13.490737563232042,\n  7.211102550927978,\n  8.426149773176359,\n  14.730919862656235,\n  14.422205101855956,\n  10.44030650891055,\n  13.45362404707371,\n  11.269427669584644,\n  15.033296378372908,\n  13.45362404707371,\n  15.264337522473747,\n  13.0,\n  12.041594578792296,\n  14.035668847618199,\n  12.84523257866513,\n  13.416407864998739,\n  8.717797887081348,\n  15.556349186104045,\n  14.071247279470288,\n  12.36931687685298,\n  13.114877048604,\n  7.874007874011811,\n  10.44030650891055,\n  15.198684153570664,\n  12.649110640673518,\n  12.328828005937952,\n  11.789826122551595,\n  14.628738838327793,\n  13.038404810405298,\n  10.44030650891055,\n  12.328828005937952,\n  12.36931687685298,\n  8.94427190999916,\n  10.63014581273465,\n  9.38083151964686,\n  5.477225575051661,\n  14.352700094407323,\n  10.295630140987,\n  11.704699910719626,\n  12.884098726725126,\n  0.0,\n  11.313708498984761,\n  13.30413469565007,\n  11.180339887498949,\n  10.816653826391969,\n  7.3484692283495345],\n [12.529964086141668,\n  12.36931687685298,\n  15.7797338380595,\n  10.488088481701515,\n  11.958260743101398,\n  16.1245154965971,\n  13.96424004376894,\n  14.798648586948742,\n  10.816653826391969,\n  16.73320053068151,\n  10.295630140987,\n  15.459624833740307,\n  12.609520212918492,\n  11.916375287812984,\n  13.30413469565007,\n  14.491376746189438,\n  14.352700094407323,\n  10.488088481701515,\n  17.435595774162696,\n  10.488088481701515,\n  15.937377450509228,\n  10.44030650891055,\n  14.317821063276353,\n  12.489995996796797,\n  14.212670403551895,\n  11.045361017187261,\n  13.228756555322953,\n  12.083045973594572,\n  13.711309200802088,\n  14.142135623730951,\n  11.575836902790225,\n  14.52583904633395,\n  14.491376746189438,\n  16.64331697709324,\n  12.206555615733702,\n  12.206555615733702,\n  10.295630140987,\n  12.529964086141668,\n  14.0,\n  10.770329614269007,\n  13.228756555322953,\n  9.219544457292887,\n  14.696938456699069,\n  15.716233645501712,\n  16.09347693943108,\n  8.660254037844387,\n  12.68857754044952,\n  13.92838827718412,\n  12.767145334803704,\n  15.716233645501712,\n  14.352700094407323,\n  14.38749456993816,\n  9.486832980505138,\n  14.422205101855956,\n  13.341664064126334,\n  12.083045973594572,\n  14.730919862656235,\n  12.12435565298214,\n  14.966629547095765,\n  8.06225774829855,\n  16.34013463836819,\n  11.180339887498949,\n  15.362291495737216,\n  10.246950765959598,\n  13.30413469565007,\n  16.217274740226856,\n  10.908712114635714,\n  12.609520212918492,\n  14.035668847618199,\n  14.142135623730951,\n  16.0,\n  13.341664064126334,\n  12.083045973594572,\n  10.246950765959598,\n  13.416407864998739,\n  11.313708498984761,\n  11.704699910719626,\n  14.52583904633395,\n  11.40175425099138,\n  11.135528725660043,\n  13.527749258468683,\n  16.673332000533065,\n  11.313708498984761,\n  14.730919862656235,\n  12.569805089976535,\n  15.716233645501712,\n  11.916375287812984,\n  16.46207763315433,\n  12.727922061357855,\n  12.489995996796797,\n  13.114877048604,\n  14.832396974191326,\n  11.180339887498949,\n  12.489995996796797,\n  11.313708498984761,\n  0.0,\n  16.217274740226856,\n  13.30413469565007,\n  11.180339887498949,\n  12.806248474865697],\n [15.556349186104045,\n  9.38083151964686,\n  14.832396974191326,\n  13.228756555322953,\n  10.0,\n  14.035668847618199,\n  15.874507866387544,\n  13.564659966250536,\n  15.165750888103101,\n  16.522711641858304,\n  15.066519173319364,\n  13.856406460551018,\n  13.564659966250536,\n  13.379088160259652,\n  16.73320053068151,\n  13.96424004376894,\n  12.529964086141668,\n  13.820274961085254,\n  9.219544457292887,\n  13.076696830622021,\n  13.96424004376894,\n  14.628738838327793,\n  13.92838827718412,\n  12.767145334803704,\n  11.704699910719626,\n  11.958260743101398,\n  15.033296378372908,\n  12.529964086141668,\n  9.643650760992955,\n  13.601470508735444,\n  11.269427669584644,\n  8.246211251235321,\n  11.0,\n  12.083045973594572,\n  10.583005244258363,\n  17.4928556845359,\n  9.539392014169456,\n  12.409673645990857,\n  9.433981132056603,\n  12.288205727444508,\n  12.649110640673518,\n  16.06237840420901,\n  13.0,\n  12.083045973594572,\n  11.74734012447073,\n  13.038404810405298,\n  9.591663046625438,\n  14.52583904633395,\n  12.806248474865697,\n  12.083045973594572,\n  10.816653826391969,\n  9.055385138137417,\n  10.63014581273465,\n  13.74772708486752,\n  11.704699910719626,\n  13.076696830622021,\n  14.2828568570857,\n  14.2828568570857,\n  10.908712114635714,\n  16.06237840420901,\n  10.0,\n  13.416407864998739,\n  9.0,\n  14.89966442575134,\n  11.135528725660043,\n  15.362291495737216,\n  13.416407864998739,\n  17.378147196982766,\n  9.899494936611665,\n  14.38749456993816,\n  12.36931687685298,\n  16.09347693943108,\n  12.68857754044952,\n  10.954451150103322,\n  9.539392014169456,\n  13.527749258468683,\n  16.30950643030009,\n  15.0996688705415,\n  13.0,\n  15.198684153570664,\n  10.0,\n  11.090536506409418,\n  15.7797338380595,\n  14.560219778561036,\n  13.0,\n  13.638181696985855,\n  12.529964086141668,\n  14.071247279470288,\n  13.892443989449804,\n  11.445523142259598,\n  11.532562594670797,\n  13.74772708486752,\n  13.114877048604,\n  12.288205727444508,\n  13.30413469565007,\n  16.217274740226856,\n  0.0,\n  10.295630140987,\n  12.96148139681572,\n  11.532562594670797],\n [12.884098726725126,\n  9.16515138991168,\n  13.038404810405298,\n  14.66287829861518,\n  12.328828005937952,\n  13.820274961085254,\n  14.0,\n  12.884098726725126,\n  10.862780491200215,\n  10.63014581273465,\n  15.905973720586866,\n  13.564659966250536,\n  12.806248474865697,\n  12.84523257866513,\n  13.638181696985855,\n  11.958260743101398,\n  14.035668847618199,\n  13.228756555322953,\n  8.774964387392123,\n  13.74772708486752,\n  15.0,\n  11.224972160321824,\n  10.954451150103322,\n  9.848857801796104,\n  9.433981132056603,\n  11.958260743101398,\n  12.165525060596439,\n  11.445523142259598,\n  12.288205727444508,\n  12.609520212918492,\n  10.14889156509222,\n  9.797958971132712,\n  14.106735979665885,\n  12.328828005937952,\n  11.661903789690601,\n  12.884098726725126,\n  11.090536506409418,\n  11.40175425099138,\n  12.767145334803704,\n  12.12435565298214,\n  12.884098726725126,\n  11.74734012447073,\n  9.539392014169456,\n  11.661903789690601,\n  14.560219778561036,\n  12.649110640673518,\n  10.0,\n  13.601470508735444,\n  9.591663046625438,\n  13.114877048604,\n  13.0,\n  12.328828005937952,\n  6.244997998398398,\n  11.704699910719626,\n  15.132745950421556,\n  11.874342087037917,\n  11.489125293076057,\n  13.114877048604,\n  10.44030650891055,\n  14.832396974191326,\n  12.569805089976535,\n  14.352700094407323,\n  12.449899597988733,\n  15.811388300841896,\n  8.94427190999916,\n  12.569805089976535,\n  11.575836902790225,\n  15.748015748023622,\n  11.135528725660043,\n  11.704699910719626,\n  11.532562594670797,\n  12.68857754044952,\n  9.9498743710662,\n  12.24744871391589,\n  8.888194417315589,\n  11.090536506409418,\n  14.89966442575134,\n  12.569805089976535,\n  10.723805294763608,\n  15.329709716755891,\n  12.24744871391589,\n  11.357816691600547,\n  10.908712114635714,\n  12.727922061357855,\n  15.329709716755891,\n  11.313708498984761,\n  10.14889156509222,\n  12.083045973594572,\n  10.535653752852738,\n  12.206555615733702,\n  9.433981132056603,\n  13.820274961085254,\n  13.038404810405298,\n  11.61895003862225,\n  11.180339887498949,\n  13.30413469565007,\n  10.295630140987,\n  0.0,\n  9.38083151964686,\n  7.681145747868608],\n [9.695359714832659,\n  10.295630140987,\n  11.313708498984761,\n  14.594519519326424,\n  12.24744871391589,\n  13.228756555322953,\n  11.661903789690601,\n  14.142135623730951,\n  10.488088481701515,\n  12.288205727444508,\n  10.723805294763608,\n  12.083045973594572,\n  9.899494936611665,\n  11.874342087037917,\n  10.862780491200215,\n  13.892443989449804,\n  15.329709716755891,\n  9.433981132056603,\n  13.527749258468683,\n  12.922847983320086,\n  11.874342087037917,\n  13.341664064126334,\n  11.135528725660043,\n  11.445523142259598,\n  11.958260743101398,\n  10.44030650891055,\n  9.797958971132712,\n  8.660254037844387,\n  12.922847983320086,\n  8.54400374531753,\n  11.0,\n  10.198039027185569,\n  9.746794344808963,\n  12.0,\n  11.224972160321824,\n  9.38083151964686,\n  12.84523257866513,\n  11.575836902790225,\n  11.0,\n  9.746794344808963,\n  14.352700094407323,\n  8.12403840463596,\n  8.306623862918075,\n  12.165525060596439,\n  13.711309200802088,\n  10.488088481701515,\n  7.874007874011811,\n  10.344080432788601,\n  11.135528725660043,\n  9.38083151964686,\n  12.206555615733702,\n  10.0,\n  9.643650760992955,\n  6.557438524302,\n  13.527749258468683,\n  9.433981132056603,\n  12.328828005937952,\n  10.198039027185569,\n  13.892443989449804,\n  12.649110640673518,\n  10.488088481701515,\n  10.583005244258363,\n  11.180339887498949,\n  11.045361017187261,\n  9.055385138137417,\n  12.0,\n  11.74734012447073,\n  10.295630140987,\n  14.966629547095765,\n  8.426149773176359,\n  14.106735979665885,\n  14.317821063276353,\n  10.14889156509222,\n  13.114877048604,\n  9.327379053088816,\n  9.433981132056603,\n  10.954451150103322,\n  10.0,\n  5.385164807134504,\n  9.848857801796104,\n  11.575836902790225,\n  14.933184523068078,\n  8.426149773176359,\n  8.12403840463596,\n  10.723805294763608,\n  13.784048752090222,\n  8.306623862918075,\n  10.099504938362077,\n  10.908712114635714,\n  11.180339887498949,\n  9.9498743710662,\n  12.041594578792296,\n  12.083045973594572,\n  10.908712114635714,\n  10.816653826391969,\n  11.180339887498949,\n  12.96148139681572,\n  9.38083151964686,\n  0.0,\n  8.426149773176359],\n [11.958260743101398,\n  10.63014581273465,\n  9.1104335791443,\n  12.165525060596439,\n  10.816653826391969,\n  8.94427190999916,\n  9.0,\n  13.228756555322953,\n  8.18535277187245,\n  7.615773105863909,\n  14.071247279470288,\n  10.344080432788601,\n  11.0,\n  10.954451150103322,\n  11.445523142259598,\n  9.695359714832659,\n  14.212670403551895,\n  11.916375287812984,\n  9.797958971132712,\n  13.638181696985855,\n  10.198039027185569,\n  10.14889156509222,\n  8.06225774829855,\n  12.0,\n  11.045361017187261,\n  9.695359714832659,\n  13.674794331177344,\n  10.295630140987,\n  13.038404810405298,\n  9.591663046625438,\n  8.246211251235321,\n  10.816653826391969,\n  11.661903789690601,\n  10.04987562112089,\n  13.152946437965905,\n  11.704699910719626,\n  10.770329614269007,\n  11.090536506409418,\n  12.328828005937952,\n  9.486832980505138,\n  10.344080432788601,\n  9.746794344808963,\n  7.0710678118654755,\n  10.14889156509222,\n  14.866068747318506,\n  11.61895003862225,\n  7.14142842854285,\n  10.392304845413264,\n  9.643650760992955,\n  10.535653752852738,\n  10.0,\n  11.61895003862225,\n  9.273618495495704,\n  10.677078252031311,\n  12.409673645990857,\n  8.602325267042627,\n  9.0,\n  11.704699910719626,\n  12.083045973594572,\n  12.041594578792296,\n  10.14889156509222,\n  11.445523142259598,\n  11.045361017187261,\n  12.36931687685298,\n  10.63014581273465,\n  9.643650760992955,\n  11.357816691600547,\n  14.177446878757825,\n  10.535653752852738,\n  10.770329614269007,\n  9.591663046625438,\n  12.96148139681572,\n  10.677078252031311,\n  11.958260743101398,\n  9.695359714832659,\n  9.16515138991168,\n  9.539392014169456,\n  10.44030650891055,\n  9.695359714832659,\n  13.114877048604,\n  11.445523142259598,\n  10.583005244258363,\n  10.392304845413264,\n  8.306623862918075,\n  13.564659966250536,\n  10.535653752852738,\n  8.48528137423857,\n  8.774964387392123,\n  7.745966692414834,\n  9.486832980505138,\n  9.695359714832659,\n  10.099504938362077,\n  10.63014581273465,\n  10.0,\n  7.3484692283495345,\n  12.806248474865697,\n  11.532562594670797,\n  7.681145747868608,\n  8.426149773176359,\n  0.0]]"
     },
     "execution_count": 37,
     "metadata": {},
     "output_type": "execute_result"
    }
   ],
   "source": [
    "\n",
    "points = np.random.randint(10, size=(100, 10))\n",
    "\n",
    "distances = [[np.linalg.norm(v1 - v2) for v2 in points] for v1 in points]\n",
    "distances"
   ]
  },
  {
   "cell_type": "markdown",
   "metadata": {},
   "source": [
    "# Zadanie 2\n",
    "\n",
    "Wygeneruj losową tablicę z wielowymiarowego rozkładu normalnego (procedura random.multivariate_normal), która będzie reprezentować 100 punktów w 5 wymiarowej przestrzeni. Napisz funkcję do normalizacji zbioru punktów (zrób to w jednej linijce, bez użycia pętli):\n",
    "\n",
    "$$\n",
    "x_{ij} = \\frac{x_{ij}-\\mu_j}{\\sigma_j},\n",
    "$$\n",
    "\n",
    "gdzie  $μ_j$  to średnia, a  $σ_j$  to odchylenie standardowe po  $j$-tej kolumnie, zaś  $x_{ij}$  to  $j$-ta współrzędna  $i$ -tego wektora.\n",
    "\n",
    "Policz średnią i macierz kowariancji tak przekształconych danych. Co zaobserwowałeś?"
   ]
  },
  {
   "cell_type": "code",
   "execution_count": 38,
   "metadata": {},
   "outputs": [
    {
     "name": "stdout",
     "output_type": "stream",
     "text": [
      "[[105.9474734   33.43790315  11.5878689   23.51225074  65.22520442]\n",
      " [ 33.43790315 126.56675035  56.12050872  64.20253127  54.36764288]\n",
      " [ 11.5878689   56.12050872  70.07534158  41.28187448  16.86920527]\n",
      " [ 23.51225074  64.20253127  41.28187448  91.22536771  38.97265025]\n",
      " [ 65.22520442  54.36764288  16.86920527  38.97265025  65.62396273]]\n",
      "[62.78507935  4.13496302 69.86831082 58.39748878 38.48748827]\n"
     ]
    },
    {
     "name": "stderr",
     "output_type": "stream",
     "text": [
      "C:\\Users\\krzys\\AppData\\Local\\Temp\\ipykernel_12888\\3508268149.py:3: RuntimeWarning: covariance is not positive-semidefinite.\n",
      "  rand = np.random.multivariate_normal(mean, cov, 100)\n"
     ]
    }
   ],
   "source": [
    "mean = np.random.randint(100, size=(5))\n",
    "cov = np.random.randint(100, size=(5,5))\n",
    "rand = np.random.multivariate_normal(mean, cov, 100)\n",
    "norm=(rand-rand.mean(axis=0)/rand.std(axis=0))\n",
    "\n",
    "print(np.cov(norm.T))\n",
    "print(norm.mean(axis=0))\n"
   ]
  },
  {
   "cell_type": "markdown",
   "metadata": {},
   "source": [
    "# Zadanie 3\n",
    "\n",
    "Wypełni 100-elementową tablicę liczbami losowymi naturalnymi z zakresu  $[5,15]$  i policz liczbę wystąpień tych liczb. Która z tych liczb najczęściej występuje w tak wygenerowanej tablicy?\n",
    "Wskazówka: zobacz funkcje: bincount, argmax."
   ]
  },
  {
   "cell_type": "code",
   "execution_count": 39,
   "metadata": {},
   "outputs": [
    {
     "name": "stdout",
     "output_type": "stream",
     "text": [
      "[ 0  0  0  0  0  8 14 10 16  3  7 10  9  8  7  8]\n",
      "8\n"
     ]
    }
   ],
   "source": [
    "arr = np.random.randint(5,16,100)\n",
    "count = np.bincount(arr)\n",
    "print(count)\n",
    "print(np.argmax(count))"
   ]
  },
  {
   "cell_type": "markdown",
   "metadata": {},
   "source": [
    "# Zadanie 4\n",
    "\n",
    "Korzystając z poniższego kodu zaimportuj dane **breast cancer**, który składa się z 2 elementów: macierzy  $X$  o wymiarach 569 x 30 oraz wektora  $y$ o długości 569. Macierz  $X$  opisuje badania 683 pacjentów, a wektor  $y$  ich diagnozy."
   ]
  },
  {
   "cell_type": "code",
   "execution_count": 40,
   "metadata": {},
   "outputs": [
    {
     "name": "stdout",
     "output_type": "stream",
     "text": [
      "(569, 30)\n",
      "(569,)\n"
     ]
    }
   ],
   "source": [
    "from sklearn.datasets import load_breast_cancer\n",
    "X, y  = load_breast_cancer(return_X_y=True)\n",
    "print(X.shape)\n",
    "print(y.shape)"
   ]
  },
  {
   "cell_type": "markdown",
   "metadata": {},
   "source": [
    "Za pomocą biblioteki **numpy** przenumeruj wektor  $y$ , tzn zamień wartości $0$ i $1$ na $-1$ i $+1$. Przeskaluj macierz  $X$ , tak żeby wartości w każdej kolumnie mieściły się w zakresie  $[0,1]$ , innymi słowy przeskaluj niezależnie każdą kolumnę  $X_i$  według poniższej procedury: \n",
    "\n",
    "$$\n",
    "X_i=\\frac{X_i-min(X_i)}{max(X_i)-min(X_i)}.\n",
    "$$"
   ]
  },
  {
   "cell_type": "code",
   "execution_count": 41,
   "metadata": {},
   "outputs": [
    {
     "name": "stdout",
     "output_type": "stream",
     "text": [
      "[[0.52103744 0.0226581  0.54598853 ... 0.91202749 0.59846245 0.41886396]\n",
      " [0.64314449 0.27257355 0.61578329 ... 0.63917526 0.23358959 0.22287813]\n",
      " [0.60149557 0.3902604  0.59574321 ... 0.83505155 0.40370589 0.21343303]\n",
      " ...\n",
      " [0.45525108 0.62123774 0.44578813 ... 0.48728522 0.12872068 0.1519087 ]\n",
      " [0.64456434 0.66351031 0.66553797 ... 0.91065292 0.49714173 0.45231536]\n",
      " [0.03686876 0.50152181 0.02853984 ... 0.         0.25744136 0.10068215]]\n"
     ]
    }
   ],
   "source": [
    "y = np.where(y == 0, -1, 1)\n",
    "Xmin = np.min(X, axis=0)\n",
    "Xmax = np.max(X, axis=0)\n",
    "z = (X - Xmin) / (Xmax - Xmin)\n",
    "print(z)"
   ]
  },
  {
   "cell_type": "markdown",
   "metadata": {},
   "source": [
    "# Biblioteka Pandas\n",
    "\n",
    "**Pandas** jest darmową biblioteką języka Python, która służy do analizy danych. Zawiera łatwe w użyciu struktury i narzędzia do analizy danych spotykane w języku R.\n",
    "\n",
    "Biblioteka ta pozwala między innymi na:\n",
    "  \n",
    "  * tworzenie własnych danych w odpowiednich strukturach,\n",
    "  * importowanie i eksportowanie danych do różnych plików,\n",
    "  * przygotowanie danych do analizy (pozbycie się anomalii w danych, np. brakujących wartości),\n",
    "  * analizę danych,\n",
    "  * prezentację danych.\n",
    "\n",
    "Do instalacji tej biblioteki można użyć procedury **pip** albo **conda** [http://pandas.pydata.org/pandas-docs/stable/install.html]"
   ]
  },
  {
   "cell_type": "markdown",
   "metadata": {},
   "source": [
    "Aby skorzystać z biblioteki pandas należy ją wcześniej zaimportować, np.:"
   ]
  },
  {
   "cell_type": "code",
   "execution_count": 42,
   "metadata": {},
   "outputs": [
    {
     "name": "stdout",
     "output_type": "stream",
     "text": [
      "1.4.1\n"
     ]
    }
   ],
   "source": [
    "# import pandas\n",
    "import pandas as pd\n",
    "\n",
    "print(pd.__version__) # wersja biblioteki\n",
    "%matplotlib inline"
   ]
  },
  {
   "cell_type": "markdown",
   "metadata": {},
   "source": [
    "## Struktury danych\n",
    "\n",
    "Biblioteka pandas wprowadza dwie nowe struktury danych do Pythona: **Series** i **DataFrame**.\n",
    "\n",
    "1. **Serie**\n",
    "\n",
    "Seria to jednowymiarowy obiekt podobny do tablicy, listy, który może zawierać różnego rodzaju dane (liczby całkowite, zmiennoprzecinkowe, ciągi, obiekty Pythona, itd.). Każdy element serii ma przypisany indeks/etykietę (domyślnie od 0 do N, gdzie N jest długość serii minus 1)."
   ]
  },
  {
   "cell_type": "code",
   "execution_count": 43,
   "metadata": {},
   "outputs": [
    {
     "name": "stdout",
     "output_type": "stream",
     "text": [
      "0                7\n",
      "1       Heisenberg\n",
      "2             3.14\n",
      "3      -1789710578\n",
      "4    Happy Eating!\n",
      "dtype: object\n"
     ]
    }
   ],
   "source": [
    "from pandas import Series, DataFrame\n",
    "import pandas as pd\n",
    "s = pd.Series([7, 'Heisenberg', 3.14, -1789710578, 'Happy Eating!'])\n",
    "print(s)"
   ]
  },
  {
   "cell_type": "markdown",
   "metadata": {},
   "source": [
    "Alternatywnie, można zdefiniować indeksy elementów serii w trakcje jej definicji:"
   ]
  },
  {
   "cell_type": "code",
   "execution_count": 44,
   "metadata": {},
   "outputs": [
    {
     "name": "stdout",
     "output_type": "stream",
     "text": [
      "a    0.731445\n",
      "b   -1.296628\n",
      "c   -0.354773\n",
      "i   -0.122137\n",
      "e    0.956644\n",
      "dtype: float64\n"
     ]
    }
   ],
   "source": [
    "import numpy as np\n",
    "\n",
    "# Series(dane, index=indeks)\n",
    "s = Series(np.random.randn(5), index=['a', 'b', 'c', 'i', 'e'])\n",
    "print(s)"
   ]
  },
  {
   "cell_type": "markdown",
   "metadata": {},
   "source": [
    "Konstruktor **Series** może przetwarzać słowniki Pythona:"
   ]
  },
  {
   "cell_type": "code",
   "execution_count": 45,
   "metadata": {},
   "outputs": [
    {
     "name": "stdout",
     "output_type": "stream",
     "text": [
      "a    0.0\n",
      "b    1.0\n",
      "c    2.0\n",
      "dtype: float64\n"
     ]
    }
   ],
   "source": [
    "d = {'a' : 0., 'b' : 1., 'c' : 2.}\n",
    "print(Series(d))"
   ]
  },
  {
   "cell_type": "code",
   "execution_count": 46,
   "metadata": {},
   "outputs": [
    {
     "name": "stdout",
     "output_type": "stream",
     "text": [
      "b    1.0\n",
      "c    2.0\n",
      "d    NaN\n",
      "a    0.0\n",
      "dtype: float64\n"
     ]
    }
   ],
   "source": [
    "print(Series(d, index=['b', 'c', 'd', 'a']))"
   ]
  },
  {
   "cell_type": "code",
   "execution_count": 47,
   "metadata": {},
   "outputs": [
    {
     "name": "stdout",
     "output_type": "stream",
     "text": [
      "a    1\n",
      "b    1\n",
      "c    1\n",
      "d    1\n",
      "e    1\n",
      "dtype: int64 \n",
      "\n",
      "a    1.0\n",
      "b    1.0\n",
      "c    1.0\n",
      "d    1.0\n",
      "e    1.0\n",
      "dtype: float64\n"
     ]
    }
   ],
   "source": [
    "print(Series(1, index=['a', 'b', 'c', 'd', 'e']), '\\n')\n",
    "print(Series(1., index=['a', 'b', 'c', 'd', 'e']))"
   ]
  },
  {
   "cell_type": "markdown",
   "metadata": {},
   "source": [
    "## 1.1 Odwoływanie się do elementów serii\n",
    "\n",
    "Struktura Series działa jak tablica. Można odwołać się do poszczególnego elementu serii za pomocą indeksu, używać logicznego indeksowania, itd.:"
   ]
  },
  {
   "cell_type": "code",
   "execution_count": 48,
   "metadata": {},
   "outputs": [
    {
     "name": "stdout",
     "output_type": "stream",
     "text": [
      "a   -1.122792\n",
      "b    0.074134\n",
      "c   -0.065522\n",
      "i   -0.910618\n",
      "e    0.584105\n",
      "dtype: float64 \n",
      "\n",
      "-1.1227921628382536 -0.910617610022983\n"
     ]
    }
   ],
   "source": [
    "s = Series(np.random.randn(5), index=['a', 'b', 'c', 'i', 'e'])\n",
    "print(s, '\\n')\n",
    "\n",
    "print(s[0], s[3])"
   ]
  },
  {
   "cell_type": "code",
   "execution_count": 49,
   "metadata": {},
   "outputs": [
    {
     "name": "stdout",
     "output_type": "stream",
     "text": [
      "e    0.584105\n",
      "dtype: float64 \n",
      "\n",
      "b    0.074134\n",
      "c   -0.065522\n",
      "e    0.584105\n",
      "dtype: float64\n"
     ]
    }
   ],
   "source": [
    "print(s[s > 0.5], '\\n')\n",
    "print(s[s > s.mean()])"
   ]
  },
  {
   "cell_type": "markdown",
   "metadata": {},
   "source": [
    "## 1.2 Zmiana wartości wybranych elementów"
   ]
  },
  {
   "cell_type": "code",
   "execution_count": 50,
   "metadata": {},
   "outputs": [
    {
     "name": "stdout",
     "output_type": "stream",
     "text": [
      "a   -0.000523\n",
      "b   -0.765484\n",
      "c    0.676786\n",
      "i    0.633320\n",
      "e    1.551228\n",
      "dtype: float64 \n",
      "\n",
      "stara wartosc: -0.0005228444066637936\n",
      "nowa wartosc: 10.0 \n",
      "\n",
      "stara wartosc: -0.7654837499783728\n",
      "nowa wartosc: 15.0\n"
     ]
    }
   ],
   "source": [
    "s = Series(np.random.randn(5), index=['a', 'b', 'c', 'i', 'e'])\n",
    "print(s, '\\n')\n",
    "print(\"stara wartosc:\",  s[0])\n",
    "s[0] = 10. \n",
    "print(\"nowa wartosc:\",  s[0], '\\n')\n",
    "\n",
    "print(\"stara wartosc:\",  s['b'])\n",
    "s['b'] = 15. \n",
    "print(\"nowa wartosc:\",  s['b'])"
   ]
  },
  {
   "cell_type": "code",
   "execution_count": 51,
   "metadata": {},
   "outputs": [
    {
     "name": "stdout",
     "output_type": "stream",
     "text": [
      "stare:\n",
      " a    0.695724\n",
      "b   -1.909846\n",
      "c    0.106486\n",
      "i   -0.905921\n",
      "e    0.709052\n",
      "dtype: float64 \n",
      "\n",
      "nowe:\n",
      " a    0.695724\n",
      "b    1.000000\n",
      "c    0.106486\n",
      "i    1.000000\n",
      "e    0.709052\n",
      "dtype: float64\n"
     ]
    }
   ],
   "source": [
    "s = Series(np.random.randn(5), index=['a', 'b', 'c', 'i', 'e'])\n",
    "print(\"stare:\\n\",  s, '\\n')\n",
    "s[s < s.mean()] = 1\n",
    "print(\"nowe:\\n\",  s)"
   ]
  },
  {
   "cell_type": "markdown",
   "metadata": {},
   "source": [
    "## 1.5 Niezdefiniowane wartości, obiekty"
   ]
  },
  {
   "cell_type": "code",
   "execution_count": 52,
   "metadata": {},
   "outputs": [
    {
     "name": "stdout",
     "output_type": "stream",
     "text": [
      "Chicago          1000.0\n",
      "New York         1300.0\n",
      "Portland          900.0\n",
      "San Francisco    1100.0\n",
      "Austin            450.0\n",
      "Boston              NaN\n",
      "dtype: float64 \n",
      "\n",
      "False\n",
      "True\n"
     ]
    }
   ],
   "source": [
    "cities = Series({'Chicago': 1000, 'New York': 1300, 'Portland': 900,\n",
    "                 'San Francisco': 1100, 'Austin': 450, 'Boston': None})\n",
    "print(cities, '\\n')\n",
    "\n",
    "print('Seattle' in cities)\n",
    "print('San Francisco' in cities)"
   ]
  },
  {
   "cell_type": "code",
   "execution_count": 53,
   "metadata": {},
   "outputs": [
    {
     "name": "stdout",
     "output_type": "stream",
     "text": [
      "Chicago          1000.0\n",
      "New York         1300.0\n",
      "Portland          900.0\n",
      "San Francisco    1100.0\n",
      "Austin            450.0\n",
      "Boston              NaN\n",
      "dtype: float64 \n",
      "\n",
      "Chicago           True\n",
      "New York          True\n",
      "Portland          True\n",
      "San Francisco     True\n",
      "Austin            True\n",
      "Boston           False\n",
      "dtype: bool\n"
     ]
    }
   ],
   "source": [
    "print(cities, '\\n')\n",
    "print(cities.notnull()) # które są zdefiniowane"
   ]
  },
  {
   "cell_type": "code",
   "execution_count": 54,
   "metadata": {},
   "outputs": [
    {
     "name": "stdout",
     "output_type": "stream",
     "text": [
      "Chicago          False\n",
      "New York         False\n",
      "Portland         False\n",
      "San Francisco    False\n",
      "Austin           False\n",
      "Boston            True\n",
      "dtype: bool\n"
     ]
    }
   ],
   "source": [
    "print(cities.isnull()) # które nie są zdefiniowane"
   ]
  },
  {
   "cell_type": "code",
   "execution_count": 55,
   "metadata": {},
   "outputs": [
    {
     "name": "stdout",
     "output_type": "stream",
     "text": [
      "Boston   NaN\n",
      "dtype: float64\n",
      "\n",
      "Chicago          False\n",
      "New York         False\n",
      "Portland         False\n",
      "San Francisco    False\n",
      "Austin           False\n",
      "Boston           False\n",
      "dtype: bool\n",
      "\n",
      "Chicago          1000.0\n",
      "New York         1300.0\n",
      "Portland          900.0\n",
      "San Francisco    1100.0\n",
      "Austin            450.0\n",
      "Boston              1.0\n",
      "dtype: float64\n"
     ]
    }
   ],
   "source": [
    "print(cities[cities.isnull()]) # tylko te które nie są zdefiniowane \n",
    "cities[cities.isnull()] = 1\n",
    "print() \n",
    "print(cities.isnull())\n",
    "print()\n",
    "print(cities)"
   ]
  },
  {
   "cell_type": "markdown",
   "metadata": {},
   "source": [
    "# 2. DataFrame\n",
    "\n",
    "<i>DataFrame</i> to struktura danych składa się z wierszy i kolumn, podobna do arkusza kalkulacyjnego, baz danych, tabeli 2-wymiarowej lub data.frame obiektu z języka R.\n",
    "\n",
    "Poniżej przedstawiam kilka sposobów definiowania struktury DataFrame:\n",
    "\n",
    "  * ze słownika list/tablic"
   ]
  },
  {
   "cell_type": "code",
   "execution_count": 56,
   "metadata": {},
   "outputs": [
    {
     "name": "stdout",
     "output_type": "stream",
     "text": [
      "   one  two\n",
      "0  1.0  4.0\n",
      "1  2.0  3.0\n",
      "2  3.0  2.0\n",
      "3  4.0  1.0\n"
     ]
    },
    {
     "data": {
      "text/plain": "   one  two\n0  1.0  4.0\n1  2.0  3.0\n2  3.0  2.0\n3  4.0  1.0",
      "text/html": "<div>\n<style scoped>\n    .dataframe tbody tr th:only-of-type {\n        vertical-align: middle;\n    }\n\n    .dataframe tbody tr th {\n        vertical-align: top;\n    }\n\n    .dataframe thead th {\n        text-align: right;\n    }\n</style>\n<table border=\"1\" class=\"dataframe\">\n  <thead>\n    <tr style=\"text-align: right;\">\n      <th></th>\n      <th>one</th>\n      <th>two</th>\n    </tr>\n  </thead>\n  <tbody>\n    <tr>\n      <th>0</th>\n      <td>1.0</td>\n      <td>4.0</td>\n    </tr>\n    <tr>\n      <th>1</th>\n      <td>2.0</td>\n      <td>3.0</td>\n    </tr>\n    <tr>\n      <th>2</th>\n      <td>3.0</td>\n      <td>2.0</td>\n    </tr>\n    <tr>\n      <th>3</th>\n      <td>4.0</td>\n      <td>1.0</td>\n    </tr>\n  </tbody>\n</table>\n</div>"
     },
     "execution_count": 56,
     "metadata": {},
     "output_type": "execute_result"
    }
   ],
   "source": [
    "d = {'one' : [1., 2., 3., 4.],\n",
    "     'two' : [4., 3., 2., 1.]}\n",
    "print(DataFrame(d))\n",
    "DataFrame(d)"
   ]
  },
  {
   "cell_type": "code",
   "execution_count": 57,
   "metadata": {},
   "outputs": [
    {
     "data": {
      "text/plain": "   year     team  wins  losses\n0  2010    Bears    11       5\n1  2011    Bears     8       8\n2  2012    Bears    10       6\n3  2011  Packers    15       1\n4  2012  Packers    11       5\n5  2010    Lions     6      10\n6  2011    Lions    10       6\n7  2012    Lions     4      12",
      "text/html": "<div>\n<style scoped>\n    .dataframe tbody tr th:only-of-type {\n        vertical-align: middle;\n    }\n\n    .dataframe tbody tr th {\n        vertical-align: top;\n    }\n\n    .dataframe thead th {\n        text-align: right;\n    }\n</style>\n<table border=\"1\" class=\"dataframe\">\n  <thead>\n    <tr style=\"text-align: right;\">\n      <th></th>\n      <th>year</th>\n      <th>team</th>\n      <th>wins</th>\n      <th>losses</th>\n    </tr>\n  </thead>\n  <tbody>\n    <tr>\n      <th>0</th>\n      <td>2010</td>\n      <td>Bears</td>\n      <td>11</td>\n      <td>5</td>\n    </tr>\n    <tr>\n      <th>1</th>\n      <td>2011</td>\n      <td>Bears</td>\n      <td>8</td>\n      <td>8</td>\n    </tr>\n    <tr>\n      <th>2</th>\n      <td>2012</td>\n      <td>Bears</td>\n      <td>10</td>\n      <td>6</td>\n    </tr>\n    <tr>\n      <th>3</th>\n      <td>2011</td>\n      <td>Packers</td>\n      <td>15</td>\n      <td>1</td>\n    </tr>\n    <tr>\n      <th>4</th>\n      <td>2012</td>\n      <td>Packers</td>\n      <td>11</td>\n      <td>5</td>\n    </tr>\n    <tr>\n      <th>5</th>\n      <td>2010</td>\n      <td>Lions</td>\n      <td>6</td>\n      <td>10</td>\n    </tr>\n    <tr>\n      <th>6</th>\n      <td>2011</td>\n      <td>Lions</td>\n      <td>10</td>\n      <td>6</td>\n    </tr>\n    <tr>\n      <th>7</th>\n      <td>2012</td>\n      <td>Lions</td>\n      <td>4</td>\n      <td>12</td>\n    </tr>\n  </tbody>\n</table>\n</div>"
     },
     "execution_count": 57,
     "metadata": {},
     "output_type": "execute_result"
    }
   ],
   "source": [
    "data = {'year': [2010, 2011, 2012, 2011, 2012, 2010, 2011, 2012],\n",
    "        'team': ['Bears', 'Bears', 'Bears', 'Packers', 'Packers', 'Lions', 'Lions', 'Lions'],\n",
    "        'wins': [11, 8, 10, 15, 11, 6, 10, 4],\n",
    "        'losses': [5, 8, 6, 1, 5, 10, 6, 12]}\n",
    "football = pd.DataFrame(data, columns=['year', 'team', 'wins', 'losses'])\n",
    "football"
   ]
  },
  {
   "cell_type": "markdown",
   "metadata": {},
   "source": [
    "## 2.1 Podstawowe informacje\n",
    "Biblioteka pandas ma wiele funkcji, które dostarczają nam podstawowej informacji na DataFrame. Jedną z takich funkcji jest metoda **info**."
   ]
  },
  {
   "cell_type": "code",
   "execution_count": 58,
   "metadata": {},
   "outputs": [
    {
     "name": "stdout",
     "output_type": "stream",
     "text": [
      "<class 'pandas.core.frame.DataFrame'>\n",
      "RangeIndex: 2 entries, 0 to 1\n",
      "Data columns (total 3 columns):\n",
      " #   Column  Non-Null Count  Dtype  \n",
      "---  ------  --------------  -----  \n",
      " 0   a       2 non-null      int64  \n",
      " 1   b       2 non-null      int64  \n",
      " 2   c       1 non-null      float64\n",
      "dtypes: float64(1), int64(2)\n",
      "memory usage: 176.0 bytes\n"
     ]
    }
   ],
   "source": [
    "data = [{'a': 1, 'b': 2}, \n",
    "         {'a': 5, 'b': 10, 'c': 20}]\n",
    "df = DataFrame(data)\n",
    "\n",
    "df.info()"
   ]
  },
  {
   "cell_type": "markdown",
   "metadata": {},
   "source": [
    "## 2.2 Wybieranie rekordów, kolumn, elementów\n",
    "\n",
    "Jak już wspomniałem strukturę DataFrame możemy traktować jako grupę/tablicę serii, które dzielą indeks (w tym przypadku nagłówki kolumn). Dzięki temu możemy w łatwy sposób wybrać konkretne rekordy."
   ]
  },
  {
   "cell_type": "code",
   "execution_count": 59,
   "metadata": {},
   "outputs": [
    {
     "name": "stdout",
     "output_type": "stream",
     "text": [
      "   year     team  wins  losses\n",
      "0  2010    Bears    11       5\n",
      "1  2011    Bears     8       8\n",
      "2  2012    Bears    10       6\n",
      "3  2011  Packers    15       1\n",
      "4  2012  Packers    11       5\n",
      "5  2010    Lions     6      10\n",
      "6  2011    Lions    10       6\n",
      "7  2012    Lions     4      12\n"
     ]
    },
    {
     "data": {
      "text/plain": "   year   team  wins  losses\n0  2010  Bears    11       5\n1  2011  Bears     8       8\n2  2012  Bears    10       6",
      "text/html": "<div>\n<style scoped>\n    .dataframe tbody tr th:only-of-type {\n        vertical-align: middle;\n    }\n\n    .dataframe tbody tr th {\n        vertical-align: top;\n    }\n\n    .dataframe thead th {\n        text-align: right;\n    }\n</style>\n<table border=\"1\" class=\"dataframe\">\n  <thead>\n    <tr style=\"text-align: right;\">\n      <th></th>\n      <th>year</th>\n      <th>team</th>\n      <th>wins</th>\n      <th>losses</th>\n    </tr>\n  </thead>\n  <tbody>\n    <tr>\n      <th>0</th>\n      <td>2010</td>\n      <td>Bears</td>\n      <td>11</td>\n      <td>5</td>\n    </tr>\n    <tr>\n      <th>1</th>\n      <td>2011</td>\n      <td>Bears</td>\n      <td>8</td>\n      <td>8</td>\n    </tr>\n    <tr>\n      <th>2</th>\n      <td>2012</td>\n      <td>Bears</td>\n      <td>10</td>\n      <td>6</td>\n    </tr>\n  </tbody>\n</table>\n</div>"
     },
     "execution_count": 59,
     "metadata": {},
     "output_type": "execute_result"
    }
   ],
   "source": [
    "data = {'year': [2010, 2011, 2012, 2011, 2012, 2010, 2011, 2012],\n",
    "        'team': ['Bears', 'Bears', 'Bears', 'Packers', 'Packers', 'Lions', 'Lions', 'Lions'],\n",
    "        'wins': [11, 8, 10, 15, 11, 6, 10, 4],\n",
    "        'losses': [5, 8, 6, 1, 5, 10, 6, 12]}\n",
    "football = pd.DataFrame(data, columns=['year', 'team', 'wins', 'losses'])\n",
    "print (football)\n",
    "\n",
    "football.head(3)"
   ]
  },
  {
   "cell_type": "code",
   "execution_count": 60,
   "metadata": {},
   "outputs": [
    {
     "data": {
      "text/plain": "0    2010\n1    2011\n2    2012\n3    2011\nName: year, dtype: int64"
     },
     "execution_count": 60,
     "metadata": {},
     "output_type": "execute_result"
    }
   ],
   "source": [
    "football['year'].head(4)"
   ]
  },
  {
   "cell_type": "code",
   "execution_count": 61,
   "metadata": {},
   "outputs": [
    {
     "data": {
      "text/plain": "   year   team  wins  losses\n5  2010  Lions     6      10\n6  2011  Lions    10       6\n7  2012  Lions     4      12",
      "text/html": "<div>\n<style scoped>\n    .dataframe tbody tr th:only-of-type {\n        vertical-align: middle;\n    }\n\n    .dataframe tbody tr th {\n        vertical-align: top;\n    }\n\n    .dataframe thead th {\n        text-align: right;\n    }\n</style>\n<table border=\"1\" class=\"dataframe\">\n  <thead>\n    <tr style=\"text-align: right;\">\n      <th></th>\n      <th>year</th>\n      <th>team</th>\n      <th>wins</th>\n      <th>losses</th>\n    </tr>\n  </thead>\n  <tbody>\n    <tr>\n      <th>5</th>\n      <td>2010</td>\n      <td>Lions</td>\n      <td>6</td>\n      <td>10</td>\n    </tr>\n    <tr>\n      <th>6</th>\n      <td>2011</td>\n      <td>Lions</td>\n      <td>10</td>\n      <td>6</td>\n    </tr>\n    <tr>\n      <th>7</th>\n      <td>2012</td>\n      <td>Lions</td>\n      <td>4</td>\n      <td>12</td>\n    </tr>\n  </tbody>\n</table>\n</div>"
     },
     "execution_count": 61,
     "metadata": {},
     "output_type": "execute_result"
    }
   ],
   "source": [
    "football.tail(3)"
   ]
  },
  {
   "cell_type": "markdown",
   "metadata": {},
   "source": [
    "Możemy też modyfikować DataFrame na podstawie wybranej kolumny."
   ]
  },
  {
   "cell_type": "code",
   "execution_count": 62,
   "metadata": {},
   "outputs": [
    {
     "data": {
      "text/plain": "         year  wins  losses\nteam                       \nBears    2010    11       5\nBears    2011     8       8\nBears    2012    10       6\nPackers  2011    15       1\nPackers  2012    11       5\nLions    2010     6      10\nLions    2011    10       6\nLions    2012     4      12",
      "text/html": "<div>\n<style scoped>\n    .dataframe tbody tr th:only-of-type {\n        vertical-align: middle;\n    }\n\n    .dataframe tbody tr th {\n        vertical-align: top;\n    }\n\n    .dataframe thead th {\n        text-align: right;\n    }\n</style>\n<table border=\"1\" class=\"dataframe\">\n  <thead>\n    <tr style=\"text-align: right;\">\n      <th></th>\n      <th>year</th>\n      <th>wins</th>\n      <th>losses</th>\n    </tr>\n    <tr>\n      <th>team</th>\n      <th></th>\n      <th></th>\n      <th></th>\n    </tr>\n  </thead>\n  <tbody>\n    <tr>\n      <th>Bears</th>\n      <td>2010</td>\n      <td>11</td>\n      <td>5</td>\n    </tr>\n    <tr>\n      <th>Bears</th>\n      <td>2011</td>\n      <td>8</td>\n      <td>8</td>\n    </tr>\n    <tr>\n      <th>Bears</th>\n      <td>2012</td>\n      <td>10</td>\n      <td>6</td>\n    </tr>\n    <tr>\n      <th>Packers</th>\n      <td>2011</td>\n      <td>15</td>\n      <td>1</td>\n    </tr>\n    <tr>\n      <th>Packers</th>\n      <td>2012</td>\n      <td>11</td>\n      <td>5</td>\n    </tr>\n    <tr>\n      <th>Lions</th>\n      <td>2010</td>\n      <td>6</td>\n      <td>10</td>\n    </tr>\n    <tr>\n      <th>Lions</th>\n      <td>2011</td>\n      <td>10</td>\n      <td>6</td>\n    </tr>\n    <tr>\n      <th>Lions</th>\n      <td>2012</td>\n      <td>4</td>\n      <td>12</td>\n    </tr>\n  </tbody>\n</table>\n</div>"
     },
     "execution_count": 62,
     "metadata": {},
     "output_type": "execute_result"
    }
   ],
   "source": [
    "football.set_index('team')"
   ]
  },
  {
   "cell_type": "markdown",
   "metadata": {},
   "source": [
    "Aby wybrać którąś z kolumn należy użyć jej nazwy:"
   ]
  },
  {
   "cell_type": "code",
   "execution_count": 63,
   "metadata": {},
   "outputs": [
    {
     "data": {
      "text/plain": "0    2010\n1    2011\n2    2012\n3    2011\n4    2012\n5    2010\n6    2011\n7    2012\nName: year, dtype: int64"
     },
     "execution_count": 63,
     "metadata": {},
     "output_type": "execute_result"
    }
   ],
   "source": [
    "data = {'year': [2010, 2011, 2012, 2011, 2012, 2010, 2011, 2012],\n",
    "        'team': ['Bears', 'Bears', 'Bears', 'Packers', 'Packers', 'Lions', 'Lions', 'Lions'],\n",
    "        'wins': [11, 8, 10, 15, 11, 6, 10, 4],\n",
    "        'losses': [5, 8, 6, 1, 5, 10, 6, 12]}\n",
    "football = pd.DataFrame(data, columns=['year', 'team', 'wins', 'losses'])\n",
    "\n",
    "football['year'] # wybieramy kolumnę 'year'"
   ]
  },
  {
   "cell_type": "code",
   "execution_count": 64,
   "metadata": {},
   "outputs": [
    {
     "data": {
      "text/plain": "0    2010\n1    2011\n2    2012\n3    2011\n4    2012\n5    2010\n6    2011\n7    2012\nName: year, dtype: int64"
     },
     "execution_count": 64,
     "metadata": {},
     "output_type": "execute_result"
    }
   ],
   "source": [
    "football.year"
   ]
  },
  {
   "cell_type": "code",
   "execution_count": 65,
   "metadata": {},
   "outputs": [
    {
     "data": {
      "text/plain": "   year  wins\n0  2010    11\n1  2011     8\n2  2012    10\n3  2011    15\n4  2012    11\n5  2010     6\n6  2011    10\n7  2012     4",
      "text/html": "<div>\n<style scoped>\n    .dataframe tbody tr th:only-of-type {\n        vertical-align: middle;\n    }\n\n    .dataframe tbody tr th {\n        vertical-align: top;\n    }\n\n    .dataframe thead th {\n        text-align: right;\n    }\n</style>\n<table border=\"1\" class=\"dataframe\">\n  <thead>\n    <tr style=\"text-align: right;\">\n      <th></th>\n      <th>year</th>\n      <th>wins</th>\n    </tr>\n  </thead>\n  <tbody>\n    <tr>\n      <th>0</th>\n      <td>2010</td>\n      <td>11</td>\n    </tr>\n    <tr>\n      <th>1</th>\n      <td>2011</td>\n      <td>8</td>\n    </tr>\n    <tr>\n      <th>2</th>\n      <td>2012</td>\n      <td>10</td>\n    </tr>\n    <tr>\n      <th>3</th>\n      <td>2011</td>\n      <td>15</td>\n    </tr>\n    <tr>\n      <th>4</th>\n      <td>2012</td>\n      <td>11</td>\n    </tr>\n    <tr>\n      <th>5</th>\n      <td>2010</td>\n      <td>6</td>\n    </tr>\n    <tr>\n      <th>6</th>\n      <td>2011</td>\n      <td>10</td>\n    </tr>\n    <tr>\n      <th>7</th>\n      <td>2012</td>\n      <td>4</td>\n    </tr>\n  </tbody>\n</table>\n</div>"
     },
     "execution_count": 65,
     "metadata": {},
     "output_type": "execute_result"
    }
   ],
   "source": [
    "football[['year', 'wins']]"
   ]
  },
  {
   "cell_type": "markdown",
   "metadata": {},
   "source": [
    "Do wybierania wierszy/obserwacji służy funkcja **loc** (indeksowanie oparte na etykietach) lub **iloc** (indeksowanie oparte na pozycji)."
   ]
  },
  {
   "cell_type": "code",
   "execution_count": 66,
   "metadata": {},
   "outputs": [
    {
     "data": {
      "text/plain": "year       2010\nteam      Bears\nwins         11\nlosses        5\nName: 0, dtype: object"
     },
     "execution_count": 66,
     "metadata": {},
     "output_type": "execute_result"
    }
   ],
   "source": [
    "football.loc[0]"
   ]
  },
  {
   "cell_type": "code",
   "execution_count": 67,
   "metadata": {},
   "outputs": [
    {
     "data": {
      "text/plain": "   year     team  wins  losses\n0  2010    Bears    11       5\n3  2011  Packers    15       1",
      "text/html": "<div>\n<style scoped>\n    .dataframe tbody tr th:only-of-type {\n        vertical-align: middle;\n    }\n\n    .dataframe tbody tr th {\n        vertical-align: top;\n    }\n\n    .dataframe thead th {\n        text-align: right;\n    }\n</style>\n<table border=\"1\" class=\"dataframe\">\n  <thead>\n    <tr style=\"text-align: right;\">\n      <th></th>\n      <th>year</th>\n      <th>team</th>\n      <th>wins</th>\n      <th>losses</th>\n    </tr>\n  </thead>\n  <tbody>\n    <tr>\n      <th>0</th>\n      <td>2010</td>\n      <td>Bears</td>\n      <td>11</td>\n      <td>5</td>\n    </tr>\n    <tr>\n      <th>3</th>\n      <td>2011</td>\n      <td>Packers</td>\n      <td>15</td>\n      <td>1</td>\n    </tr>\n  </tbody>\n</table>\n</div>"
     },
     "execution_count": 67,
     "metadata": {},
     "output_type": "execute_result"
    }
   ],
   "source": [
    "football.loc[[0,3]]"
   ]
  },
  {
   "cell_type": "markdown",
   "metadata": {},
   "source": [
    "# 2.3 Podstawowe operacje na DataFrame"
   ]
  },
  {
   "cell_type": "code",
   "execution_count": 68,
   "metadata": {},
   "outputs": [
    {
     "data": {
      "text/plain": "   year     team  wins  losses\n0  2010    Bears    11       5\n3  2011  Packers    15       1\n4  2012  Packers    11       5",
      "text/html": "<div>\n<style scoped>\n    .dataframe tbody tr th:only-of-type {\n        vertical-align: middle;\n    }\n\n    .dataframe tbody tr th {\n        vertical-align: top;\n    }\n\n    .dataframe thead th {\n        text-align: right;\n    }\n</style>\n<table border=\"1\" class=\"dataframe\">\n  <thead>\n    <tr style=\"text-align: right;\">\n      <th></th>\n      <th>year</th>\n      <th>team</th>\n      <th>wins</th>\n      <th>losses</th>\n    </tr>\n  </thead>\n  <tbody>\n    <tr>\n      <th>0</th>\n      <td>2010</td>\n      <td>Bears</td>\n      <td>11</td>\n      <td>5</td>\n    </tr>\n    <tr>\n      <th>3</th>\n      <td>2011</td>\n      <td>Packers</td>\n      <td>15</td>\n      <td>1</td>\n    </tr>\n    <tr>\n      <th>4</th>\n      <td>2012</td>\n      <td>Packers</td>\n      <td>11</td>\n      <td>5</td>\n    </tr>\n  </tbody>\n</table>\n</div>"
     },
     "execution_count": 68,
     "metadata": {},
     "output_type": "execute_result"
    }
   ],
   "source": [
    "football[football.wins > 10]"
   ]
  },
  {
   "cell_type": "code",
   "execution_count": 69,
   "metadata": {},
   "outputs": [
    {
     "data": {
      "text/plain": "15"
     },
     "execution_count": 69,
     "metadata": {},
     "output_type": "execute_result"
    }
   ],
   "source": [
    "football['wins'].max()"
   ]
  },
  {
   "cell_type": "code",
   "execution_count": 70,
   "metadata": {},
   "outputs": [
    {
     "data": {
      "text/plain": "wins      9.375\nlosses    6.625\ndtype: float64"
     },
     "execution_count": 70,
     "metadata": {},
     "output_type": "execute_result"
    }
   ],
   "source": [
    "football[['wins', 'losses']].mean()"
   ]
  },
  {
   "cell_type": "code",
   "execution_count": 71,
   "metadata": {},
   "outputs": [
    {
     "data": {
      "text/plain": "   year     team  wins  losses\n0  2010    Bears     0       5\n1  2011    Bears     0       8\n2  2012    Bears     0       6\n3  2011  Packers     0       1\n4  2012  Packers     0       5\n5  2010    Lions     0       0\n6  2011    Lions     0       6\n7  2012    Lions     0      12",
      "text/html": "<div>\n<style scoped>\n    .dataframe tbody tr th:only-of-type {\n        vertical-align: middle;\n    }\n\n    .dataframe tbody tr th {\n        vertical-align: top;\n    }\n\n    .dataframe thead th {\n        text-align: right;\n    }\n</style>\n<table border=\"1\" class=\"dataframe\">\n  <thead>\n    <tr style=\"text-align: right;\">\n      <th></th>\n      <th>year</th>\n      <th>team</th>\n      <th>wins</th>\n      <th>losses</th>\n    </tr>\n  </thead>\n  <tbody>\n    <tr>\n      <th>0</th>\n      <td>2010</td>\n      <td>Bears</td>\n      <td>0</td>\n      <td>5</td>\n    </tr>\n    <tr>\n      <th>1</th>\n      <td>2011</td>\n      <td>Bears</td>\n      <td>0</td>\n      <td>8</td>\n    </tr>\n    <tr>\n      <th>2</th>\n      <td>2012</td>\n      <td>Bears</td>\n      <td>0</td>\n      <td>6</td>\n    </tr>\n    <tr>\n      <th>3</th>\n      <td>2011</td>\n      <td>Packers</td>\n      <td>0</td>\n      <td>1</td>\n    </tr>\n    <tr>\n      <th>4</th>\n      <td>2012</td>\n      <td>Packers</td>\n      <td>0</td>\n      <td>5</td>\n    </tr>\n    <tr>\n      <th>5</th>\n      <td>2010</td>\n      <td>Lions</td>\n      <td>0</td>\n      <td>0</td>\n    </tr>\n    <tr>\n      <th>6</th>\n      <td>2011</td>\n      <td>Lions</td>\n      <td>0</td>\n      <td>6</td>\n    </tr>\n    <tr>\n      <th>7</th>\n      <td>2012</td>\n      <td>Lions</td>\n      <td>0</td>\n      <td>12</td>\n    </tr>\n  </tbody>\n</table>\n</div>"
     },
     "execution_count": 71,
     "metadata": {},
     "output_type": "execute_result"
    }
   ],
   "source": [
    "football['wins'] = 0\n",
    "football.at[5, 'losses'] = 0\n",
    "football"
   ]
  },
  {
   "cell_type": "markdown",
   "metadata": {},
   "source": [
    "## 2.6 Importowanie i eksportowanie danych\n",
    "\n",
    "  * eksport to CSV:"
   ]
  },
  {
   "cell_type": "code",
   "execution_count": 72,
   "metadata": {},
   "outputs": [],
   "source": [
    "data = {'year': [2010, 2011, 2012, 2011, 2012, 2010, 2011, 2012],\n",
    "        'team': ['Bears', 'Bears', 'Bears', 'Packers', 'Packers', 'Lions', 'Lions', 'Lions'],\n",
    "        'wins': [11, 8, 10, 15, 11, 6, 10, 4],\n",
    "        'losses': [5, 8, 6, 1, 5, 10, 6, 12]}\n",
    "football = pd.DataFrame(data, columns=['year', 'team', 'wins', 'losses'])\n",
    "\n",
    "football.to_csv('dane.csv', index=False)"
   ]
  },
  {
   "cell_type": "markdown",
   "metadata": {},
   "source": [
    "  * import z CSV:"
   ]
  },
  {
   "cell_type": "code",
   "execution_count": 73,
   "metadata": {},
   "outputs": [
    {
     "data": {
      "text/plain": "   year     team  wins  losses\n0  2010    Bears    11       5\n1  2011    Bears     8       8\n2  2012    Bears    10       6\n3  2011  Packers    15       1\n4  2012  Packers    11       5\n5  2010    Lions     6      10\n6  2011    Lions    10       6\n7  2012    Lions     4      12",
      "text/html": "<div>\n<style scoped>\n    .dataframe tbody tr th:only-of-type {\n        vertical-align: middle;\n    }\n\n    .dataframe tbody tr th {\n        vertical-align: top;\n    }\n\n    .dataframe thead th {\n        text-align: right;\n    }\n</style>\n<table border=\"1\" class=\"dataframe\">\n  <thead>\n    <tr style=\"text-align: right;\">\n      <th></th>\n      <th>year</th>\n      <th>team</th>\n      <th>wins</th>\n      <th>losses</th>\n    </tr>\n  </thead>\n  <tbody>\n    <tr>\n      <th>0</th>\n      <td>2010</td>\n      <td>Bears</td>\n      <td>11</td>\n      <td>5</td>\n    </tr>\n    <tr>\n      <th>1</th>\n      <td>2011</td>\n      <td>Bears</td>\n      <td>8</td>\n      <td>8</td>\n    </tr>\n    <tr>\n      <th>2</th>\n      <td>2012</td>\n      <td>Bears</td>\n      <td>10</td>\n      <td>6</td>\n    </tr>\n    <tr>\n      <th>3</th>\n      <td>2011</td>\n      <td>Packers</td>\n      <td>15</td>\n      <td>1</td>\n    </tr>\n    <tr>\n      <th>4</th>\n      <td>2012</td>\n      <td>Packers</td>\n      <td>11</td>\n      <td>5</td>\n    </tr>\n    <tr>\n      <th>5</th>\n      <td>2010</td>\n      <td>Lions</td>\n      <td>6</td>\n      <td>10</td>\n    </tr>\n    <tr>\n      <th>6</th>\n      <td>2011</td>\n      <td>Lions</td>\n      <td>10</td>\n      <td>6</td>\n    </tr>\n    <tr>\n      <th>7</th>\n      <td>2012</td>\n      <td>Lions</td>\n      <td>4</td>\n      <td>12</td>\n    </tr>\n  </tbody>\n</table>\n</div>"
     },
     "execution_count": 73,
     "metadata": {},
     "output_type": "execute_result"
    }
   ],
   "source": [
    "pd.read_csv('dane.csv')"
   ]
  },
  {
   "cell_type": "markdown",
   "metadata": {},
   "source": [
    "Więcej informacji na temat biblioteki pandas można znaleźć tutaj: [http://pandas.pydata.org]"
   ]
  },
  {
   "cell_type": "markdown",
   "metadata": {},
   "source": [
    "# Zadanie 5\n",
    "\n",
    "Zaimportuj dane z pliku ,,airports.csv'' i wykonaj na nich poniższe polecenia:\n",
    "\n",
    "  * wybierz nazwy państw ostatnich 12 lotnisk w tabeli,\n",
    "  * wybierz wiersz o indeksie 1 korzystając z indeksera .loc oraz .iloc (porównaj otrzymane wyniki),\n",
    "  * wybierz wszystkie lotniska w Polsce,\n",
    "  * wybierz wszystkie lotniska, których nazwa różni się od nazwy miasta, w którym się znajdują.\n",
    "  * przelicz wartości wysokości na metry i zapisz zmodyfikowaną kolumnę w miejsce starej (w naszej tabeli wysokość jest podana w   * stopach nad poziomem morza; jedna stopa angielska równa się 30,48 cm),\n",
    "  * znajdź wszystkie państwa, w których znajduje się wyłącznie 1 lotnisko (zobacz procedurę .unique())."
   ]
  },
  {
   "cell_type": "code",
   "execution_count": 86,
   "metadata": {},
   "outputs": [
    {
     "data": {
      "text/plain": "         1                                  2                3  \\\n0        1                             Goroka           Goroka   \n1        2                             Madang           Madang   \n2        3                        Mount Hagen      Mount Hagen   \n3        4                             Nadzab           Nadzab   \n4        5         Port Moresby Jacksons Intl     Port Moresby   \n...    ...                                ...              ...   \n8102  9537    Mansons Landing Water Aerodrome  Mansons Landing   \n8103  9538               Port McNeill Airport     Port McNeill   \n8104  9539       Sullivan Bay Water Aerodrome     Sullivan Bay   \n8105  9540               Deer Harbor Seaplane      Deer Harbor   \n8106  9541  San Diego Old Town Transit Center        San Diego   \n\n                     4    5     6          7           8     9    10 11  \\\n0     Papua New Guinea  GKA  AYGA  -6.081689  145.391881  5282  10.0  U   \n1     Papua New Guinea  MAG  AYMD  -5.207083  145.788700    20  10.0  U   \n2     Papua New Guinea  HGU  AYMH  -5.826789  144.295861  5388  10.0  U   \n3     Papua New Guinea  LAE  AYNZ  -6.569828  146.726242   239  10.0  U   \n4     Papua New Guinea  POM  AYPY  -9.443383  147.220050   146  10.0  U   \n...                ...  ...   ...        ...         ...   ...   ... ..   \n8102            Canada  YMU    \\N  50.066667 -124.983333     0  -8.0  A   \n8103            Canada  YMP    \\N  50.575556 -127.028611   225  -8.0  A   \n8104            Canada  YTG    \\N  50.883333 -126.833333     0  -8.0  A   \n8105     United States  DHB    \\N  48.618397 -123.005960     0  -8.0  A   \n8106     United States  OLT    \\N  32.755200 -117.199500     0  -8.0  A   \n\n                        12  \n0     Pacific/Port_Moresby  \n1     Pacific/Port_Moresby  \n2     Pacific/Port_Moresby  \n3     Pacific/Port_Moresby  \n4     Pacific/Port_Moresby  \n...                    ...  \n8102     America/Vancouver  \n8103     America/Vancouver  \n8104     America/Vancouver  \n8105   America/Los_Angeles  \n8106   America/Los_Angeles  \n\n[8107 rows x 12 columns]",
      "text/html": "<div>\n<style scoped>\n    .dataframe tbody tr th:only-of-type {\n        vertical-align: middle;\n    }\n\n    .dataframe tbody tr th {\n        vertical-align: top;\n    }\n\n    .dataframe thead th {\n        text-align: right;\n    }\n</style>\n<table border=\"1\" class=\"dataframe\">\n  <thead>\n    <tr style=\"text-align: right;\">\n      <th></th>\n      <th>1</th>\n      <th>2</th>\n      <th>3</th>\n      <th>4</th>\n      <th>5</th>\n      <th>6</th>\n      <th>7</th>\n      <th>8</th>\n      <th>9</th>\n      <th>10</th>\n      <th>11</th>\n      <th>12</th>\n    </tr>\n  </thead>\n  <tbody>\n    <tr>\n      <th>0</th>\n      <td>1</td>\n      <td>Goroka</td>\n      <td>Goroka</td>\n      <td>Papua New Guinea</td>\n      <td>GKA</td>\n      <td>AYGA</td>\n      <td>-6.081689</td>\n      <td>145.391881</td>\n      <td>5282</td>\n      <td>10.0</td>\n      <td>U</td>\n      <td>Pacific/Port_Moresby</td>\n    </tr>\n    <tr>\n      <th>1</th>\n      <td>2</td>\n      <td>Madang</td>\n      <td>Madang</td>\n      <td>Papua New Guinea</td>\n      <td>MAG</td>\n      <td>AYMD</td>\n      <td>-5.207083</td>\n      <td>145.788700</td>\n      <td>20</td>\n      <td>10.0</td>\n      <td>U</td>\n      <td>Pacific/Port_Moresby</td>\n    </tr>\n    <tr>\n      <th>2</th>\n      <td>3</td>\n      <td>Mount Hagen</td>\n      <td>Mount Hagen</td>\n      <td>Papua New Guinea</td>\n      <td>HGU</td>\n      <td>AYMH</td>\n      <td>-5.826789</td>\n      <td>144.295861</td>\n      <td>5388</td>\n      <td>10.0</td>\n      <td>U</td>\n      <td>Pacific/Port_Moresby</td>\n    </tr>\n    <tr>\n      <th>3</th>\n      <td>4</td>\n      <td>Nadzab</td>\n      <td>Nadzab</td>\n      <td>Papua New Guinea</td>\n      <td>LAE</td>\n      <td>AYNZ</td>\n      <td>-6.569828</td>\n      <td>146.726242</td>\n      <td>239</td>\n      <td>10.0</td>\n      <td>U</td>\n      <td>Pacific/Port_Moresby</td>\n    </tr>\n    <tr>\n      <th>4</th>\n      <td>5</td>\n      <td>Port Moresby Jacksons Intl</td>\n      <td>Port Moresby</td>\n      <td>Papua New Guinea</td>\n      <td>POM</td>\n      <td>AYPY</td>\n      <td>-9.443383</td>\n      <td>147.220050</td>\n      <td>146</td>\n      <td>10.0</td>\n      <td>U</td>\n      <td>Pacific/Port_Moresby</td>\n    </tr>\n    <tr>\n      <th>...</th>\n      <td>...</td>\n      <td>...</td>\n      <td>...</td>\n      <td>...</td>\n      <td>...</td>\n      <td>...</td>\n      <td>...</td>\n      <td>...</td>\n      <td>...</td>\n      <td>...</td>\n      <td>...</td>\n      <td>...</td>\n    </tr>\n    <tr>\n      <th>8102</th>\n      <td>9537</td>\n      <td>Mansons Landing Water Aerodrome</td>\n      <td>Mansons Landing</td>\n      <td>Canada</td>\n      <td>YMU</td>\n      <td>\\N</td>\n      <td>50.066667</td>\n      <td>-124.983333</td>\n      <td>0</td>\n      <td>-8.0</td>\n      <td>A</td>\n      <td>America/Vancouver</td>\n    </tr>\n    <tr>\n      <th>8103</th>\n      <td>9538</td>\n      <td>Port McNeill Airport</td>\n      <td>Port McNeill</td>\n      <td>Canada</td>\n      <td>YMP</td>\n      <td>\\N</td>\n      <td>50.575556</td>\n      <td>-127.028611</td>\n      <td>225</td>\n      <td>-8.0</td>\n      <td>A</td>\n      <td>America/Vancouver</td>\n    </tr>\n    <tr>\n      <th>8104</th>\n      <td>9539</td>\n      <td>Sullivan Bay Water Aerodrome</td>\n      <td>Sullivan Bay</td>\n      <td>Canada</td>\n      <td>YTG</td>\n      <td>\\N</td>\n      <td>50.883333</td>\n      <td>-126.833333</td>\n      <td>0</td>\n      <td>-8.0</td>\n      <td>A</td>\n      <td>America/Vancouver</td>\n    </tr>\n    <tr>\n      <th>8105</th>\n      <td>9540</td>\n      <td>Deer Harbor Seaplane</td>\n      <td>Deer Harbor</td>\n      <td>United States</td>\n      <td>DHB</td>\n      <td>\\N</td>\n      <td>48.618397</td>\n      <td>-123.005960</td>\n      <td>0</td>\n      <td>-8.0</td>\n      <td>A</td>\n      <td>America/Los_Angeles</td>\n    </tr>\n    <tr>\n      <th>8106</th>\n      <td>9541</td>\n      <td>San Diego Old Town Transit Center</td>\n      <td>San Diego</td>\n      <td>United States</td>\n      <td>OLT</td>\n      <td>\\N</td>\n      <td>32.755200</td>\n      <td>-117.199500</td>\n      <td>0</td>\n      <td>-8.0</td>\n      <td>A</td>\n      <td>America/Los_Angeles</td>\n    </tr>\n  </tbody>\n</table>\n<p>8107 rows × 12 columns</p>\n</div>"
     },
     "execution_count": 86,
     "metadata": {},
     "output_type": "execute_result"
    }
   ],
   "source": [
    "df = pd.read_csv('Data/airports.csv', names=['1', '2', '3', '4', '5', '6', '7', '8', '9', '10', '11', '12'])\n",
    "df"
   ]
  },
  {
   "cell_type": "code",
   "execution_count": 100,
   "metadata": {},
   "outputs": [
    {
     "name": "stdout",
     "output_type": "stream",
     "text": [
      "['Cambodia' 'Taiwan' 'Australia' 'United States' 'Spain' 'Canada']\n",
      "1                        2\n",
      "2                   Madang\n",
      "3                   Madang\n",
      "4         Papua New Guinea\n",
      "5                      MAG\n",
      "6                     AYMD\n",
      "7                -5.207083\n",
      "8                 145.7887\n",
      "9                 1.858061\n",
      "10                    10.0\n",
      "11                       U\n",
      "12    Pacific/Port_Moresby\n",
      "Name: 1, dtype: object\n",
      "\n",
      "1                        2\n",
      "2                   Madang\n",
      "3                   Madang\n",
      "4         Papua New Guinea\n",
      "5                      MAG\n",
      "6                     AYMD\n",
      "7                -5.207083\n",
      "8                 145.7887\n",
      "9                 1.858061\n",
      "10                    10.0\n",
      "11                       U\n",
      "12    Pacific/Port_Moresby\n",
      "Name: 1, dtype: object\n",
      "         1                                        2               3       4  \\\n",
      "658    667                                   Babice          Warsaw  Poland   \n",
      "659    668                              Lech Walesa          Gdansk  Poland   \n",
      "660    669                                   Balice          Krakow  Poland   \n",
      "661    670                                Muchowiec        Katowice  Poland   \n",
      "662    671                                Pyrzowice        Katowice  Poland   \n",
      "663    673                                   Mielec          Mielec  Poland   \n",
      "664    674                                   Lawica          Poznan  Poland   \n",
      "665    675                                 Jasionka         Rzeszow  Poland   \n",
      "666    676                                 Goleniow        Szczecin  Poland   \n",
      "667    677                                Redzikowo          Slupsk  Poland   \n",
      "668    678                                  Swidwin         Shapaja  Poland   \n",
      "669    679                                   Okecie          Warsaw  Poland   \n",
      "670    680                              Strachowice         Wroclaw  Poland   \n",
      "671    681                                 Babimost    Zielona Gora  Poland   \n",
      "4729  5592           Łódź Władysław Reymont Airport            Lodz  Poland   \n",
      "4730  5591  Bydgoszcz Ignacy Jan Paderewski Airport       Bydgoszcz  Poland   \n",
      "5296  6425                           Szczecin-Dabie        Szczecin  Poland   \n",
      "5367  6499                           Aleksandrowice   Bielsko-Biala  Poland   \n",
      "6259  7685      Koszalin - Zegrze Pomorskie Airport        Koszalin  Poland   \n",
      "6382  7807                          Chojna Air Base          Chojna  Poland   \n",
      "6387  7812                                   Gdynia          Gdynia  Poland   \n",
      "6388  7813                                  Malbork         Malbork  Poland   \n",
      "6389  7814                                     Lask            Lask  Poland   \n",
      "6390  7815                              Miroslawiec     Miroslawiec  Poland   \n",
      "6391  7816                                 Krzesiny          Poznan  Poland   \n",
      "6602  8029                                    RADOM           RADOM  Poland   \n",
      "6985  8414                            Warsaw Modlin          Warsaw  Poland   \n",
      "7201  8633                 Inowroclaw Inowr Airport      Inowroclaw  Poland   \n",
      "7202  8634                   Pruszcz Gdansk Airport  Pruszcz Gdansk  Poland   \n",
      "7309  8741                         Gryzliny - Lansk        Gryzliny  Poland   \n",
      "7319  8751                                 Goraszka        Goraszka  Poland   \n",
      "7400  8832                                   Lublin          Lublin  Poland   \n",
      "7415  8849                                 RUDNIKI          RUDNIKI  Poland   \n",
      "7474  8908                            Krakow Glowny          Krakow  Poland   \n",
      "\n",
      "        5     6          7          8          9   10 11             12  \n",
      "658   NaN  EPBC  52.268494  20.911047  32.701870  1.0  E  Europe/Warsaw  \n",
      "659   GDN  EPGD  54.377569  18.466222  45.429587  1.0  E  Europe/Warsaw  \n",
      "660   KRK  EPKK  50.077731  19.784836  73.486305  1.0  E  Europe/Warsaw  \n",
      "661   NaN  EPKM  50.238147  19.034181  84.448863  1.0  E  Europe/Warsaw  \n",
      "662   KTW  EPKT  50.474253  19.080019  92.438525  1.0  E  Europe/Warsaw  \n",
      "663   NaN  EPML  50.322275  21.462131  50.910866  1.0  E  Europe/Warsaw  \n",
      "664   POZ  EPPO  52.421031  16.826325  28.614136  1.0  E  Europe/Warsaw  \n",
      "665   RZE  EPRZ  50.109958  22.019000  62.709552  1.0  E  Europe/Warsaw  \n",
      "666   SZZ  EPSC  53.584731  14.902206  14.307068  1.0  E  Europe/Warsaw  \n",
      "667   OSP  EPSK  54.478889  17.107500  20.159960  1.0  E  Europe/Warsaw  \n",
      "668   NaN  EPSN  53.790639  15.826250  35.767670  1.0  E  Europe/Warsaw  \n",
      "669   WAW  EPWA  52.165750  20.967122  33.630900  1.0  E  Europe/Warsaw  \n",
      "670   WRO  EPWR  51.102683  16.885836  37.532828  1.0  E  Europe/Warsaw  \n",
      "671   IEG  EPZG  52.138517  15.798556  18.023190  1.0  E  Europe/Warsaw  \n",
      "4729  LCJ  EPLL  51.721881  19.398133  56.113436  1.0  E  Europe/Warsaw  \n",
      "4730  BZG  EPBY  53.096800  17.977700  21.832214  1.0  E  Europe/Warsaw  \n",
      "5296  NaN  EPSD  53.471138  14.637750   0.278709  1.0  E  Europe/Warsaw  \n",
      "5367  NaN  EPBA  49.849970  19.020193  79.896614  1.0  E  Europe/Warsaw  \n",
      "6259  OSZ  EPKO  54.041000  16.266000  10.312237  1.0  E  Europe/Warsaw  \n",
      "6382  NaN    \\N  52.939400  14.421700  17.372868  1.0  E  Europe/Warsaw  \n",
      "6387  QYD  EPOK  54.579700  18.517200  13.378038  1.0  E  Europe/Warsaw  \n",
      "6388  NaN  EPMB  54.026944  19.134167   1.486449  1.0  E  Europe/Warsaw  \n",
      "6389  NaN  EPLK  51.551667  19.179058  58.807624  1.0  E  Europe/Warsaw  \n",
      "6390  NaN  EPMI  53.395072  16.082814  42.642495  1.0  E  Europe/Warsaw  \n",
      "6391  NaN  EPKS  52.331719  16.966428  24.619306  1.0  E  Europe/Warsaw  \n",
      "6602  QXR  EPRA  51.231978  21.124183  44.500556  1.0  E  Europe/Warsaw  \n",
      "6985  WMI  EPMO  52.451111  20.651667  31.679937  1.0  E  Europe/Warsaw  \n",
      "7201  NaN  EPIR  52.829444  18.330556  24.061887  1.0  E  Europe/Warsaw  \n",
      "7202  NaN  EPPR  54.248056  18.671667   1.950964  1.0  E  Europe/Warsaw  \n",
      "7309  NaN  EPGR  53.362900  20.204000  48.309581  1.0  E  Europe/Warsaw  \n",
      "7319  NaN  EPGO  52.110400  21.165200  10.219334  1.0  E  Europe/Warsaw  \n",
      "7400  LUZ  EPLB  51.239333  22.714083  18.859317  1.0  E  Europe/Warsaw  \n",
      "7415  CZW  EPRU  50.884722  19.202222  24.340596  1.0  E  Europe/Warsaw  \n",
      "7474  NaN    \\N  50.065556  19.947222  66.797286  1.0  E  Europe/Warsaw  \n",
      "         1                                  2                3  \\\n",
      "4        5         Port Moresby Jacksons Intl     Port Moresby   \n",
      "5        6                         Wewak Intl            Wewak   \n",
      "6        7                         Narsarsuaq     Narssarssuaq   \n",
      "7        8                               Nuuk         Godthaab   \n",
      "8        9                  Sondre Stromfjord      Sondrestrom   \n",
      "...    ...                                ...              ...   \n",
      "8102  9537    Mansons Landing Water Aerodrome  Mansons Landing   \n",
      "8103  9538               Port McNeill Airport     Port McNeill   \n",
      "8104  9539       Sullivan Bay Water Aerodrome     Sullivan Bay   \n",
      "8105  9540               Deer Harbor Seaplane      Deer Harbor   \n",
      "8106  9541  San Diego Old Town Transit Center        San Diego   \n",
      "\n",
      "                     4    5     6          7           8          9    10 11  \\\n",
      "4     Papua New Guinea  POM  AYPY  -9.443383  147.220050  13.563844  10.0  U   \n",
      "5     Papua New Guinea  WWK  AYWK  -3.583828  143.669186   1.765158  10.0  U   \n",
      "6            Greenland  UAK  BGBW  61.160517  -45.425978  10.405140  -3.0  E   \n",
      "7            Greenland  GOH  BGGH  64.190922  -51.678064  26.291560  -3.0  E   \n",
      "8            Greenland  SFJ  BGSF  67.016969  -50.689325  15.329002  -3.0  E   \n",
      "...                ...  ...   ...        ...         ...        ...   ... ..   \n",
      "8102            Canada  YMU    \\N  50.066667 -124.983333   0.000000  -8.0  A   \n",
      "8103            Canada  YMP    \\N  50.575556 -127.028611  20.903184  -8.0  A   \n",
      "8104            Canada  YTG    \\N  50.883333 -126.833333   0.000000  -8.0  A   \n",
      "8105     United States  DHB    \\N  48.618397 -123.005960   0.000000  -8.0  A   \n",
      "8106     United States  OLT    \\N  32.755200 -117.199500   0.000000  -8.0  A   \n",
      "\n",
      "                        12  \n",
      "4     Pacific/Port_Moresby  \n",
      "5     Pacific/Port_Moresby  \n",
      "6          America/Godthab  \n",
      "7          America/Godthab  \n",
      "8          America/Godthab  \n",
      "...                    ...  \n",
      "8102     America/Vancouver  \n",
      "8103     America/Vancouver  \n",
      "8104     America/Vancouver  \n",
      "8105   America/Los_Angeles  \n",
      "8106   America/Los_Angeles  \n",
      "\n",
      "[5889 rows x 12 columns]\n",
      "0       149.569584\n",
      "1         0.566337\n",
      "2       152.571169\n",
      "3         6.767726\n",
      "4         4.134260\n",
      "           ...    \n",
      "8102      0.000000\n",
      "8103      6.371290\n",
      "8104      0.000000\n",
      "8105      0.000000\n",
      "8106      0.000000\n",
      "Name: 9, Length: 8107, dtype: float64\n",
      "['Papua New Guinea' 'Greenland' 'Iceland' 'Canada' 'Algeria' 'Benin'\n",
      " 'Burkina Faso' 'Ghana' \"Cote d'Ivoire\" 'Nigeria' 'Niger' 'Tunisia' 'Togo'\n",
      " 'Belgium' 'Germany' 'United States' 'Estonia' 'Finland' 'United Kingdom'\n",
      " 'Guernsey' 'Jersey' 'Isle of Man' 'Falkland Islands' 'Netherlands'\n",
      " 'Ireland' 'Denmark' 'Faroe Islands' 'Luxembourg' 'Norway' 'Poland'\n",
      " 'Sweden' 'South Africa' 'Botswana' 'Congo (Brazzaville)'\n",
      " 'Congo (Kinshasa)' 'Swaziland' 'Central African Republic'\n",
      " 'Equatorial Guinea' 'Saint Helena' 'Mauritius'\n",
      " 'British Indian Ocean Territory' 'Cameroon' 'Zambia' 'Comoros' 'Mayotte'\n",
      " 'Reunion' 'Madagascar' 'Angola' 'Puerto Rico' 'Gabon'\n",
      " 'Sao Tome and Principe' 'Mozambique' 'Seychelles' 'Chad' 'Zimbabwe'\n",
      " 'Malawi' 'Lesotho' 'Mali' 'Gambia' 'Spain' 'Sierra Leone' 'Guinea-Bissau'\n",
      " 'Liberia' 'Morocco' 'Senegal' 'Mauritania' 'Guinea' 'Cape Verde'\n",
      " 'Ethiopia' 'Maldives' 'Burundi' 'Somalia' 'Egypt' 'Kenya' 'Libya'\n",
      " 'Rwanda' 'Sudan' 'South Sudan' 'Tanzania' 'Uganda' 'Albania' 'Bulgaria'\n",
      " 'Cyprus' 'Croatia' 'Greece' 'France' 'Saint Pierre and Miquelon'\n",
      " 'Hungary' 'Italy' 'Slovenia' 'Czech Republic' 'Israel' 'Malta' 'Austria'\n",
      " 'Portugal' 'Bosnia and Herzegovina' 'Romania' 'Switzerland' 'Turkey'\n",
      " 'Moldova' 'Macedonia' 'Gibraltar' 'Serbia' 'Montenegro' 'Slovakia'\n",
      " 'Turks and Caicos Islands' 'Dominican Republic' 'Guatemala' 'Honduras'\n",
      " 'Jamaica' 'Mexico' 'Nicaragua' 'Panama' 'Costa Rica' 'El Salvador'\n",
      " 'Haiti' 'Cuba' 'Cayman Islands' 'Bahamas' 'Belize' 'Cook Islands' 'Fiji'\n",
      " 'Tonga' 'Kiribati' 'Australia' 'Wallis and Futuna' 'Samoa'\n",
      " 'American Samoa' 'French Polynesia' 'Vanuatu' 'New Caledonia'\n",
      " 'New Zealand' 'Antarctica' 'Afghanistan' 'Bahrain' 'Saudi Arabia' 'Iran'\n",
      " 'Argentina' 'Jordan' 'West Bank' 'Kuwait' 'Lebanon'\n",
      " 'United Arab Emirates' 'Oman' 'Pakistan' 'Iraq' 'Syria' 'Qatar'\n",
      " 'Northern Mariana Islands' 'Guam' 'Marshall Islands' 'Midway Islands'\n",
      " 'Micronesia' 'Palau' 'Taiwan' 'Japan' 'South Korea' 'Philippines'\n",
      " 'Turkmenistan' 'Brazil' 'Chile' 'Ecuador' 'Paraguay' 'Colombia' 'Bolivia'\n",
      " 'Suriname' 'French Guiana' 'Peru' 'Uruguay' 'Venezuela' 'Guyana'\n",
      " 'Antigua and Barbuda' 'Barbados' 'Dominica' 'Martinique' 'Guadeloupe'\n",
      " 'Grenada' 'Virgin Islands' 'Saint Kitts and Nevis' 'Saint Lucia' 'Aruba'\n",
      " 'Netherlands Antilles' 'Anguilla' 'Trinidad and Tobago'\n",
      " 'British Virgin Islands' 'Saint Vincent and the Grenadines' 'Kazakhstan'\n",
      " 'Kyrgyzstan' 'Azerbaijan' 'Russia' 'Ukraine' 'Belarus' 'Tajikistan'\n",
      " 'Uzbekistan' 'India' 'Sri Lanka' 'Cambodia' 'Bangladesh' 'Hong Kong'\n",
      " 'Laos' 'Macau' 'Nepal' 'Bhutan' 'Thailand' 'Indonesia' 'Vietnam' 'Burma'\n",
      " 'Malaysia' 'Brunei' 'East Timor' 'Singapore' 'Christmas Island'\n",
      " 'Norfolk Island' 'China' 'Korea' 'Mongolia' 'Latvia' 'Lithuania'\n",
      " 'Armenia' 'Eritrea' 'Palestine' 'Yemen' 'Georgia' 'Bermuda'\n",
      " 'Solomon Islands' 'Nauru' 'Tuvalu' 'Namibia' 'Djibouti' 'Montserrat'\n",
      " 'Monaco' 'Johnston Atoll' 'Niue' 'Western Sahara'\n",
      " 'Cocos (Keeling) Islands' 'South Georgia and the Islands' 'Myanmar'\n",
      " 'Svalbard' 'North Korea' 'Wake Island']\n"
     ]
    }
   ],
   "source": [
    "print(df['4'].tail(12).unique())\n",
    "\n",
    "print(df.loc[1])\n",
    "print()\n",
    "print(df.iloc[1])\n",
    "\n",
    "print(df[df['4'] == 'Poland'])\n",
    "\n",
    "print(df[df['2'] != df['3']])\n",
    "\n",
    "df['9'] = (df['9'] * 30.48)/100\n",
    "print(df['9'])\n",
    "\n",
    "print(pd.unique(df['4']))"
   ]
  },
  {
   "cell_type": "markdown",
   "metadata": {},
   "source": [
    "# Dane do kolejnych zadań\n",
    "Wczytanie dancyh:\n",
    "\n",
    "  * Powinieneś być w stanie zobaczyć wszystkie kolumny i 10 wierszy danych:\n",
    "  * survival – Survival (0 = No; 1 = Yes)\n",
    "  * pclass – Passenger Class (1 = 1st; 2 = 2nd; 3 = 3rd)\n",
    "  * sex – Sex\n",
    "  * age – Age\n",
    "  * sibsp – Number of Siblings/Spouses Aboard\n",
    "  * parch – Number of Parents/Children Aboard\n",
    "  * ticket – Ticket Number\n",
    "  * fare – Passenger Fare\n",
    "  * cabin – Cabin\n",
    "  * embarked – Port of Embarkation (C = Cherbourg; Q = Queenstown; S = Southampton)\n"
   ]
  },
  {
   "cell_type": "code",
   "execution_count": 102,
   "metadata": {},
   "outputs": [
    {
     "ename": "HTTPError",
     "evalue": "HTTP Error 403: Forbidden",
     "output_type": "error",
     "traceback": [
      "\u001B[1;31m---------------------------------------------------------------------------\u001B[0m",
      "\u001B[1;31mHTTPError\u001B[0m                                 Traceback (most recent call last)",
      "Input \u001B[1;32mIn [102]\u001B[0m, in \u001B[0;36m<cell line: 1>\u001B[1;34m()\u001B[0m\n\u001B[1;32m----> 1\u001B[0m df \u001B[38;5;241m=\u001B[39m \u001B[43mpd\u001B[49m\u001B[38;5;241;43m.\u001B[39;49m\u001B[43mread_csv\u001B[49m\u001B[43m(\u001B[49m\u001B[38;5;124;43m'\u001B[39;49m\u001B[38;5;124;43mhttp://stamfordresearch.com/wp-content/uploads/2016/08/Titanic.csv\u001B[39;49m\u001B[38;5;124;43m'\u001B[39;49m\u001B[43m)\u001B[49m \n\u001B[0;32m      2\u001B[0m \u001B[38;5;28mprint\u001B[39m(df\u001B[38;5;241m.\u001B[39mshape)\n\u001B[0;32m      3\u001B[0m df\u001B[38;5;241m.\u001B[39mhead()\n",
      "File \u001B[1;32mc:\\python39\\lib\\site-packages\\pandas\\util\\_decorators.py:311\u001B[0m, in \u001B[0;36mdeprecate_nonkeyword_arguments.<locals>.decorate.<locals>.wrapper\u001B[1;34m(*args, **kwargs)\u001B[0m\n\u001B[0;32m    305\u001B[0m \u001B[38;5;28;01mif\u001B[39;00m \u001B[38;5;28mlen\u001B[39m(args) \u001B[38;5;241m>\u001B[39m num_allow_args:\n\u001B[0;32m    306\u001B[0m     warnings\u001B[38;5;241m.\u001B[39mwarn(\n\u001B[0;32m    307\u001B[0m         msg\u001B[38;5;241m.\u001B[39mformat(arguments\u001B[38;5;241m=\u001B[39marguments),\n\u001B[0;32m    308\u001B[0m         \u001B[38;5;167;01mFutureWarning\u001B[39;00m,\n\u001B[0;32m    309\u001B[0m         stacklevel\u001B[38;5;241m=\u001B[39mstacklevel,\n\u001B[0;32m    310\u001B[0m     )\n\u001B[1;32m--> 311\u001B[0m \u001B[38;5;28;01mreturn\u001B[39;00m func(\u001B[38;5;241m*\u001B[39margs, \u001B[38;5;241m*\u001B[39m\u001B[38;5;241m*\u001B[39mkwargs)\n",
      "File \u001B[1;32mc:\\python39\\lib\\site-packages\\pandas\\io\\parsers\\readers.py:680\u001B[0m, in \u001B[0;36mread_csv\u001B[1;34m(filepath_or_buffer, sep, delimiter, header, names, index_col, usecols, squeeze, prefix, mangle_dupe_cols, dtype, engine, converters, true_values, false_values, skipinitialspace, skiprows, skipfooter, nrows, na_values, keep_default_na, na_filter, verbose, skip_blank_lines, parse_dates, infer_datetime_format, keep_date_col, date_parser, dayfirst, cache_dates, iterator, chunksize, compression, thousands, decimal, lineterminator, quotechar, quoting, doublequote, escapechar, comment, encoding, encoding_errors, dialect, error_bad_lines, warn_bad_lines, on_bad_lines, delim_whitespace, low_memory, memory_map, float_precision, storage_options)\u001B[0m\n\u001B[0;32m    665\u001B[0m kwds_defaults \u001B[38;5;241m=\u001B[39m _refine_defaults_read(\n\u001B[0;32m    666\u001B[0m     dialect,\n\u001B[0;32m    667\u001B[0m     delimiter,\n\u001B[1;32m   (...)\u001B[0m\n\u001B[0;32m    676\u001B[0m     defaults\u001B[38;5;241m=\u001B[39m{\u001B[38;5;124m\"\u001B[39m\u001B[38;5;124mdelimiter\u001B[39m\u001B[38;5;124m\"\u001B[39m: \u001B[38;5;124m\"\u001B[39m\u001B[38;5;124m,\u001B[39m\u001B[38;5;124m\"\u001B[39m},\n\u001B[0;32m    677\u001B[0m )\n\u001B[0;32m    678\u001B[0m kwds\u001B[38;5;241m.\u001B[39mupdate(kwds_defaults)\n\u001B[1;32m--> 680\u001B[0m \u001B[38;5;28;01mreturn\u001B[39;00m \u001B[43m_read\u001B[49m\u001B[43m(\u001B[49m\u001B[43mfilepath_or_buffer\u001B[49m\u001B[43m,\u001B[49m\u001B[43m \u001B[49m\u001B[43mkwds\u001B[49m\u001B[43m)\u001B[49m\n",
      "File \u001B[1;32mc:\\python39\\lib\\site-packages\\pandas\\io\\parsers\\readers.py:575\u001B[0m, in \u001B[0;36m_read\u001B[1;34m(filepath_or_buffer, kwds)\u001B[0m\n\u001B[0;32m    572\u001B[0m _validate_names(kwds\u001B[38;5;241m.\u001B[39mget(\u001B[38;5;124m\"\u001B[39m\u001B[38;5;124mnames\u001B[39m\u001B[38;5;124m\"\u001B[39m, \u001B[38;5;28;01mNone\u001B[39;00m))\n\u001B[0;32m    574\u001B[0m \u001B[38;5;66;03m# Create the parser.\u001B[39;00m\n\u001B[1;32m--> 575\u001B[0m parser \u001B[38;5;241m=\u001B[39m TextFileReader(filepath_or_buffer, \u001B[38;5;241m*\u001B[39m\u001B[38;5;241m*\u001B[39mkwds)\n\u001B[0;32m    577\u001B[0m \u001B[38;5;28;01mif\u001B[39;00m chunksize \u001B[38;5;129;01mor\u001B[39;00m iterator:\n\u001B[0;32m    578\u001B[0m     \u001B[38;5;28;01mreturn\u001B[39;00m parser\n",
      "File \u001B[1;32mc:\\python39\\lib\\site-packages\\pandas\\io\\parsers\\readers.py:933\u001B[0m, in \u001B[0;36mTextFileReader.__init__\u001B[1;34m(self, f, engine, **kwds)\u001B[0m\n\u001B[0;32m    930\u001B[0m     \u001B[38;5;28mself\u001B[39m\u001B[38;5;241m.\u001B[39moptions[\u001B[38;5;124m\"\u001B[39m\u001B[38;5;124mhas_index_names\u001B[39m\u001B[38;5;124m\"\u001B[39m] \u001B[38;5;241m=\u001B[39m kwds[\u001B[38;5;124m\"\u001B[39m\u001B[38;5;124mhas_index_names\u001B[39m\u001B[38;5;124m\"\u001B[39m]\n\u001B[0;32m    932\u001B[0m \u001B[38;5;28mself\u001B[39m\u001B[38;5;241m.\u001B[39mhandles: IOHandles \u001B[38;5;241m|\u001B[39m \u001B[38;5;28;01mNone\u001B[39;00m \u001B[38;5;241m=\u001B[39m \u001B[38;5;28;01mNone\u001B[39;00m\n\u001B[1;32m--> 933\u001B[0m \u001B[38;5;28mself\u001B[39m\u001B[38;5;241m.\u001B[39m_engine \u001B[38;5;241m=\u001B[39m \u001B[38;5;28;43mself\u001B[39;49m\u001B[38;5;241;43m.\u001B[39;49m\u001B[43m_make_engine\u001B[49m\u001B[43m(\u001B[49m\u001B[43mf\u001B[49m\u001B[43m,\u001B[49m\u001B[43m \u001B[49m\u001B[38;5;28;43mself\u001B[39;49m\u001B[38;5;241;43m.\u001B[39;49m\u001B[43mengine\u001B[49m\u001B[43m)\u001B[49m\n",
      "File \u001B[1;32mc:\\python39\\lib\\site-packages\\pandas\\io\\parsers\\readers.py:1217\u001B[0m, in \u001B[0;36mTextFileReader._make_engine\u001B[1;34m(self, f, engine)\u001B[0m\n\u001B[0;32m   1213\u001B[0m     mode \u001B[38;5;241m=\u001B[39m \u001B[38;5;124m\"\u001B[39m\u001B[38;5;124mrb\u001B[39m\u001B[38;5;124m\"\u001B[39m\n\u001B[0;32m   1214\u001B[0m \u001B[38;5;66;03m# error: No overload variant of \"get_handle\" matches argument types\u001B[39;00m\n\u001B[0;32m   1215\u001B[0m \u001B[38;5;66;03m# \"Union[str, PathLike[str], ReadCsvBuffer[bytes], ReadCsvBuffer[str]]\"\u001B[39;00m\n\u001B[0;32m   1216\u001B[0m \u001B[38;5;66;03m# , \"str\", \"bool\", \"Any\", \"Any\", \"Any\", \"Any\", \"Any\"\u001B[39;00m\n\u001B[1;32m-> 1217\u001B[0m \u001B[38;5;28mself\u001B[39m\u001B[38;5;241m.\u001B[39mhandles \u001B[38;5;241m=\u001B[39m \u001B[43mget_handle\u001B[49m\u001B[43m(\u001B[49m\u001B[43m  \u001B[49m\u001B[38;5;66;43;03m# type: ignore[call-overload]\u001B[39;49;00m\n\u001B[0;32m   1218\u001B[0m \u001B[43m    \u001B[49m\u001B[43mf\u001B[49m\u001B[43m,\u001B[49m\n\u001B[0;32m   1219\u001B[0m \u001B[43m    \u001B[49m\u001B[43mmode\u001B[49m\u001B[43m,\u001B[49m\n\u001B[0;32m   1220\u001B[0m \u001B[43m    \u001B[49m\u001B[43mencoding\u001B[49m\u001B[38;5;241;43m=\u001B[39;49m\u001B[38;5;28;43mself\u001B[39;49m\u001B[38;5;241;43m.\u001B[39;49m\u001B[43moptions\u001B[49m\u001B[38;5;241;43m.\u001B[39;49m\u001B[43mget\u001B[49m\u001B[43m(\u001B[49m\u001B[38;5;124;43m\"\u001B[39;49m\u001B[38;5;124;43mencoding\u001B[39;49m\u001B[38;5;124;43m\"\u001B[39;49m\u001B[43m,\u001B[49m\u001B[43m \u001B[49m\u001B[38;5;28;43;01mNone\u001B[39;49;00m\u001B[43m)\u001B[49m\u001B[43m,\u001B[49m\n\u001B[0;32m   1221\u001B[0m \u001B[43m    \u001B[49m\u001B[43mcompression\u001B[49m\u001B[38;5;241;43m=\u001B[39;49m\u001B[38;5;28;43mself\u001B[39;49m\u001B[38;5;241;43m.\u001B[39;49m\u001B[43moptions\u001B[49m\u001B[38;5;241;43m.\u001B[39;49m\u001B[43mget\u001B[49m\u001B[43m(\u001B[49m\u001B[38;5;124;43m\"\u001B[39;49m\u001B[38;5;124;43mcompression\u001B[39;49m\u001B[38;5;124;43m\"\u001B[39;49m\u001B[43m,\u001B[49m\u001B[43m \u001B[49m\u001B[38;5;28;43;01mNone\u001B[39;49;00m\u001B[43m)\u001B[49m\u001B[43m,\u001B[49m\n\u001B[0;32m   1222\u001B[0m \u001B[43m    \u001B[49m\u001B[43mmemory_map\u001B[49m\u001B[38;5;241;43m=\u001B[39;49m\u001B[38;5;28;43mself\u001B[39;49m\u001B[38;5;241;43m.\u001B[39;49m\u001B[43moptions\u001B[49m\u001B[38;5;241;43m.\u001B[39;49m\u001B[43mget\u001B[49m\u001B[43m(\u001B[49m\u001B[38;5;124;43m\"\u001B[39;49m\u001B[38;5;124;43mmemory_map\u001B[39;49m\u001B[38;5;124;43m\"\u001B[39;49m\u001B[43m,\u001B[49m\u001B[43m \u001B[49m\u001B[38;5;28;43;01mFalse\u001B[39;49;00m\u001B[43m)\u001B[49m\u001B[43m,\u001B[49m\n\u001B[0;32m   1223\u001B[0m \u001B[43m    \u001B[49m\u001B[43mis_text\u001B[49m\u001B[38;5;241;43m=\u001B[39;49m\u001B[43mis_text\u001B[49m\u001B[43m,\u001B[49m\n\u001B[0;32m   1224\u001B[0m \u001B[43m    \u001B[49m\u001B[43merrors\u001B[49m\u001B[38;5;241;43m=\u001B[39;49m\u001B[38;5;28;43mself\u001B[39;49m\u001B[38;5;241;43m.\u001B[39;49m\u001B[43moptions\u001B[49m\u001B[38;5;241;43m.\u001B[39;49m\u001B[43mget\u001B[49m\u001B[43m(\u001B[49m\u001B[38;5;124;43m\"\u001B[39;49m\u001B[38;5;124;43mencoding_errors\u001B[39;49m\u001B[38;5;124;43m\"\u001B[39;49m\u001B[43m,\u001B[49m\u001B[43m \u001B[49m\u001B[38;5;124;43m\"\u001B[39;49m\u001B[38;5;124;43mstrict\u001B[39;49m\u001B[38;5;124;43m\"\u001B[39;49m\u001B[43m)\u001B[49m\u001B[43m,\u001B[49m\n\u001B[0;32m   1225\u001B[0m \u001B[43m    \u001B[49m\u001B[43mstorage_options\u001B[49m\u001B[38;5;241;43m=\u001B[39;49m\u001B[38;5;28;43mself\u001B[39;49m\u001B[38;5;241;43m.\u001B[39;49m\u001B[43moptions\u001B[49m\u001B[38;5;241;43m.\u001B[39;49m\u001B[43mget\u001B[49m\u001B[43m(\u001B[49m\u001B[38;5;124;43m\"\u001B[39;49m\u001B[38;5;124;43mstorage_options\u001B[39;49m\u001B[38;5;124;43m\"\u001B[39;49m\u001B[43m,\u001B[49m\u001B[43m \u001B[49m\u001B[38;5;28;43;01mNone\u001B[39;49;00m\u001B[43m)\u001B[49m\u001B[43m,\u001B[49m\n\u001B[0;32m   1226\u001B[0m \u001B[43m\u001B[49m\u001B[43m)\u001B[49m\n\u001B[0;32m   1227\u001B[0m \u001B[38;5;28;01massert\u001B[39;00m \u001B[38;5;28mself\u001B[39m\u001B[38;5;241m.\u001B[39mhandles \u001B[38;5;129;01mis\u001B[39;00m \u001B[38;5;129;01mnot\u001B[39;00m \u001B[38;5;28;01mNone\u001B[39;00m\n\u001B[0;32m   1228\u001B[0m f \u001B[38;5;241m=\u001B[39m \u001B[38;5;28mself\u001B[39m\u001B[38;5;241m.\u001B[39mhandles\u001B[38;5;241m.\u001B[39mhandle\n",
      "File \u001B[1;32mc:\\python39\\lib\\site-packages\\pandas\\io\\common.py:670\u001B[0m, in \u001B[0;36mget_handle\u001B[1;34m(path_or_buf, mode, encoding, compression, memory_map, is_text, errors, storage_options)\u001B[0m\n\u001B[0;32m    667\u001B[0m     codecs\u001B[38;5;241m.\u001B[39mlookup_error(errors)\n\u001B[0;32m    669\u001B[0m \u001B[38;5;66;03m# open URLs\u001B[39;00m\n\u001B[1;32m--> 670\u001B[0m ioargs \u001B[38;5;241m=\u001B[39m \u001B[43m_get_filepath_or_buffer\u001B[49m\u001B[43m(\u001B[49m\n\u001B[0;32m    671\u001B[0m \u001B[43m    \u001B[49m\u001B[43mpath_or_buf\u001B[49m\u001B[43m,\u001B[49m\n\u001B[0;32m    672\u001B[0m \u001B[43m    \u001B[49m\u001B[43mencoding\u001B[49m\u001B[38;5;241;43m=\u001B[39;49m\u001B[43mencoding\u001B[49m\u001B[43m,\u001B[49m\n\u001B[0;32m    673\u001B[0m \u001B[43m    \u001B[49m\u001B[43mcompression\u001B[49m\u001B[38;5;241;43m=\u001B[39;49m\u001B[43mcompression\u001B[49m\u001B[43m,\u001B[49m\n\u001B[0;32m    674\u001B[0m \u001B[43m    \u001B[49m\u001B[43mmode\u001B[49m\u001B[38;5;241;43m=\u001B[39;49m\u001B[43mmode\u001B[49m\u001B[43m,\u001B[49m\n\u001B[0;32m    675\u001B[0m \u001B[43m    \u001B[49m\u001B[43mstorage_options\u001B[49m\u001B[38;5;241;43m=\u001B[39;49m\u001B[43mstorage_options\u001B[49m\u001B[43m,\u001B[49m\n\u001B[0;32m    676\u001B[0m \u001B[43m\u001B[49m\u001B[43m)\u001B[49m\n\u001B[0;32m    678\u001B[0m handle \u001B[38;5;241m=\u001B[39m ioargs\u001B[38;5;241m.\u001B[39mfilepath_or_buffer\n\u001B[0;32m    679\u001B[0m handles: \u001B[38;5;28mlist\u001B[39m[BaseBuffer]\n",
      "File \u001B[1;32mc:\\python39\\lib\\site-packages\\pandas\\io\\common.py:339\u001B[0m, in \u001B[0;36m_get_filepath_or_buffer\u001B[1;34m(filepath_or_buffer, encoding, compression, mode, storage_options)\u001B[0m\n\u001B[0;32m    337\u001B[0m \u001B[38;5;66;03m# assuming storage_options is to be interpreted as headers\u001B[39;00m\n\u001B[0;32m    338\u001B[0m req_info \u001B[38;5;241m=\u001B[39m urllib\u001B[38;5;241m.\u001B[39mrequest\u001B[38;5;241m.\u001B[39mRequest(filepath_or_buffer, headers\u001B[38;5;241m=\u001B[39mstorage_options)\n\u001B[1;32m--> 339\u001B[0m \u001B[38;5;28;01mwith\u001B[39;00m \u001B[43murlopen\u001B[49m\u001B[43m(\u001B[49m\u001B[43mreq_info\u001B[49m\u001B[43m)\u001B[49m \u001B[38;5;28;01mas\u001B[39;00m req:\n\u001B[0;32m    340\u001B[0m     content_encoding \u001B[38;5;241m=\u001B[39m req\u001B[38;5;241m.\u001B[39mheaders\u001B[38;5;241m.\u001B[39mget(\u001B[38;5;124m\"\u001B[39m\u001B[38;5;124mContent-Encoding\u001B[39m\u001B[38;5;124m\"\u001B[39m, \u001B[38;5;28;01mNone\u001B[39;00m)\n\u001B[0;32m    341\u001B[0m     \u001B[38;5;28;01mif\u001B[39;00m content_encoding \u001B[38;5;241m==\u001B[39m \u001B[38;5;124m\"\u001B[39m\u001B[38;5;124mgzip\u001B[39m\u001B[38;5;124m\"\u001B[39m:\n\u001B[0;32m    342\u001B[0m         \u001B[38;5;66;03m# Override compression based on Content-Encoding header\u001B[39;00m\n",
      "File \u001B[1;32mc:\\python39\\lib\\site-packages\\pandas\\io\\common.py:239\u001B[0m, in \u001B[0;36murlopen\u001B[1;34m(*args, **kwargs)\u001B[0m\n\u001B[0;32m    233\u001B[0m \u001B[38;5;124;03m\"\"\"\u001B[39;00m\n\u001B[0;32m    234\u001B[0m \u001B[38;5;124;03mLazy-import wrapper for stdlib urlopen, as that imports a big chunk of\u001B[39;00m\n\u001B[0;32m    235\u001B[0m \u001B[38;5;124;03mthe stdlib.\u001B[39;00m\n\u001B[0;32m    236\u001B[0m \u001B[38;5;124;03m\"\"\"\u001B[39;00m\n\u001B[0;32m    237\u001B[0m \u001B[38;5;28;01mimport\u001B[39;00m \u001B[38;5;21;01murllib\u001B[39;00m\u001B[38;5;21;01m.\u001B[39;00m\u001B[38;5;21;01mrequest\u001B[39;00m\n\u001B[1;32m--> 239\u001B[0m \u001B[38;5;28;01mreturn\u001B[39;00m urllib\u001B[38;5;241m.\u001B[39mrequest\u001B[38;5;241m.\u001B[39murlopen(\u001B[38;5;241m*\u001B[39margs, \u001B[38;5;241m*\u001B[39m\u001B[38;5;241m*\u001B[39mkwargs)\n",
      "File \u001B[1;32mc:\\python39\\lib\\urllib\\request.py:214\u001B[0m, in \u001B[0;36murlopen\u001B[1;34m(url, data, timeout, cafile, capath, cadefault, context)\u001B[0m\n\u001B[0;32m    212\u001B[0m \u001B[38;5;28;01melse\u001B[39;00m:\n\u001B[0;32m    213\u001B[0m     opener \u001B[38;5;241m=\u001B[39m _opener\n\u001B[1;32m--> 214\u001B[0m \u001B[38;5;28;01mreturn\u001B[39;00m \u001B[43mopener\u001B[49m\u001B[38;5;241;43m.\u001B[39;49m\u001B[43mopen\u001B[49m\u001B[43m(\u001B[49m\u001B[43murl\u001B[49m\u001B[43m,\u001B[49m\u001B[43m \u001B[49m\u001B[43mdata\u001B[49m\u001B[43m,\u001B[49m\u001B[43m \u001B[49m\u001B[43mtimeout\u001B[49m\u001B[43m)\u001B[49m\n",
      "File \u001B[1;32mc:\\python39\\lib\\urllib\\request.py:523\u001B[0m, in \u001B[0;36mOpenerDirector.open\u001B[1;34m(self, fullurl, data, timeout)\u001B[0m\n\u001B[0;32m    521\u001B[0m \u001B[38;5;28;01mfor\u001B[39;00m processor \u001B[38;5;129;01min\u001B[39;00m \u001B[38;5;28mself\u001B[39m\u001B[38;5;241m.\u001B[39mprocess_response\u001B[38;5;241m.\u001B[39mget(protocol, []):\n\u001B[0;32m    522\u001B[0m     meth \u001B[38;5;241m=\u001B[39m \u001B[38;5;28mgetattr\u001B[39m(processor, meth_name)\n\u001B[1;32m--> 523\u001B[0m     response \u001B[38;5;241m=\u001B[39m \u001B[43mmeth\u001B[49m\u001B[43m(\u001B[49m\u001B[43mreq\u001B[49m\u001B[43m,\u001B[49m\u001B[43m \u001B[49m\u001B[43mresponse\u001B[49m\u001B[43m)\u001B[49m\n\u001B[0;32m    525\u001B[0m \u001B[38;5;28;01mreturn\u001B[39;00m response\n",
      "File \u001B[1;32mc:\\python39\\lib\\urllib\\request.py:632\u001B[0m, in \u001B[0;36mHTTPErrorProcessor.http_response\u001B[1;34m(self, request, response)\u001B[0m\n\u001B[0;32m    629\u001B[0m \u001B[38;5;66;03m# According to RFC 2616, \"2xx\" code indicates that the client's\u001B[39;00m\n\u001B[0;32m    630\u001B[0m \u001B[38;5;66;03m# request was successfully received, understood, and accepted.\u001B[39;00m\n\u001B[0;32m    631\u001B[0m \u001B[38;5;28;01mif\u001B[39;00m \u001B[38;5;129;01mnot\u001B[39;00m (\u001B[38;5;241m200\u001B[39m \u001B[38;5;241m<\u001B[39m\u001B[38;5;241m=\u001B[39m code \u001B[38;5;241m<\u001B[39m \u001B[38;5;241m300\u001B[39m):\n\u001B[1;32m--> 632\u001B[0m     response \u001B[38;5;241m=\u001B[39m \u001B[38;5;28;43mself\u001B[39;49m\u001B[38;5;241;43m.\u001B[39;49m\u001B[43mparent\u001B[49m\u001B[38;5;241;43m.\u001B[39;49m\u001B[43merror\u001B[49m\u001B[43m(\u001B[49m\n\u001B[0;32m    633\u001B[0m \u001B[43m        \u001B[49m\u001B[38;5;124;43m'\u001B[39;49m\u001B[38;5;124;43mhttp\u001B[39;49m\u001B[38;5;124;43m'\u001B[39;49m\u001B[43m,\u001B[49m\u001B[43m \u001B[49m\u001B[43mrequest\u001B[49m\u001B[43m,\u001B[49m\u001B[43m \u001B[49m\u001B[43mresponse\u001B[49m\u001B[43m,\u001B[49m\u001B[43m \u001B[49m\u001B[43mcode\u001B[49m\u001B[43m,\u001B[49m\u001B[43m \u001B[49m\u001B[43mmsg\u001B[49m\u001B[43m,\u001B[49m\u001B[43m \u001B[49m\u001B[43mhdrs\u001B[49m\u001B[43m)\u001B[49m\n\u001B[0;32m    635\u001B[0m \u001B[38;5;28;01mreturn\u001B[39;00m response\n",
      "File \u001B[1;32mc:\\python39\\lib\\urllib\\request.py:555\u001B[0m, in \u001B[0;36mOpenerDirector.error\u001B[1;34m(self, proto, *args)\u001B[0m\n\u001B[0;32m    553\u001B[0m     http_err \u001B[38;5;241m=\u001B[39m \u001B[38;5;241m0\u001B[39m\n\u001B[0;32m    554\u001B[0m args \u001B[38;5;241m=\u001B[39m (\u001B[38;5;28mdict\u001B[39m, proto, meth_name) \u001B[38;5;241m+\u001B[39m args\n\u001B[1;32m--> 555\u001B[0m result \u001B[38;5;241m=\u001B[39m \u001B[38;5;28;43mself\u001B[39;49m\u001B[38;5;241;43m.\u001B[39;49m\u001B[43m_call_chain\u001B[49m\u001B[43m(\u001B[49m\u001B[38;5;241;43m*\u001B[39;49m\u001B[43margs\u001B[49m\u001B[43m)\u001B[49m\n\u001B[0;32m    556\u001B[0m \u001B[38;5;28;01mif\u001B[39;00m result:\n\u001B[0;32m    557\u001B[0m     \u001B[38;5;28;01mreturn\u001B[39;00m result\n",
      "File \u001B[1;32mc:\\python39\\lib\\urllib\\request.py:494\u001B[0m, in \u001B[0;36mOpenerDirector._call_chain\u001B[1;34m(self, chain, kind, meth_name, *args)\u001B[0m\n\u001B[0;32m    492\u001B[0m \u001B[38;5;28;01mfor\u001B[39;00m handler \u001B[38;5;129;01min\u001B[39;00m handlers:\n\u001B[0;32m    493\u001B[0m     func \u001B[38;5;241m=\u001B[39m \u001B[38;5;28mgetattr\u001B[39m(handler, meth_name)\n\u001B[1;32m--> 494\u001B[0m     result \u001B[38;5;241m=\u001B[39m \u001B[43mfunc\u001B[49m\u001B[43m(\u001B[49m\u001B[38;5;241;43m*\u001B[39;49m\u001B[43margs\u001B[49m\u001B[43m)\u001B[49m\n\u001B[0;32m    495\u001B[0m     \u001B[38;5;28;01mif\u001B[39;00m result \u001B[38;5;129;01mis\u001B[39;00m \u001B[38;5;129;01mnot\u001B[39;00m \u001B[38;5;28;01mNone\u001B[39;00m:\n\u001B[0;32m    496\u001B[0m         \u001B[38;5;28;01mreturn\u001B[39;00m result\n",
      "File \u001B[1;32mc:\\python39\\lib\\urllib\\request.py:747\u001B[0m, in \u001B[0;36mHTTPRedirectHandler.http_error_302\u001B[1;34m(self, req, fp, code, msg, headers)\u001B[0m\n\u001B[0;32m    744\u001B[0m fp\u001B[38;5;241m.\u001B[39mread()\n\u001B[0;32m    745\u001B[0m fp\u001B[38;5;241m.\u001B[39mclose()\n\u001B[1;32m--> 747\u001B[0m \u001B[38;5;28;01mreturn\u001B[39;00m \u001B[38;5;28;43mself\u001B[39;49m\u001B[38;5;241;43m.\u001B[39;49m\u001B[43mparent\u001B[49m\u001B[38;5;241;43m.\u001B[39;49m\u001B[43mopen\u001B[49m\u001B[43m(\u001B[49m\u001B[43mnew\u001B[49m\u001B[43m,\u001B[49m\u001B[43m \u001B[49m\u001B[43mtimeout\u001B[49m\u001B[38;5;241;43m=\u001B[39;49m\u001B[43mreq\u001B[49m\u001B[38;5;241;43m.\u001B[39;49m\u001B[43mtimeout\u001B[49m\u001B[43m)\u001B[49m\n",
      "File \u001B[1;32mc:\\python39\\lib\\urllib\\request.py:523\u001B[0m, in \u001B[0;36mOpenerDirector.open\u001B[1;34m(self, fullurl, data, timeout)\u001B[0m\n\u001B[0;32m    521\u001B[0m \u001B[38;5;28;01mfor\u001B[39;00m processor \u001B[38;5;129;01min\u001B[39;00m \u001B[38;5;28mself\u001B[39m\u001B[38;5;241m.\u001B[39mprocess_response\u001B[38;5;241m.\u001B[39mget(protocol, []):\n\u001B[0;32m    522\u001B[0m     meth \u001B[38;5;241m=\u001B[39m \u001B[38;5;28mgetattr\u001B[39m(processor, meth_name)\n\u001B[1;32m--> 523\u001B[0m     response \u001B[38;5;241m=\u001B[39m \u001B[43mmeth\u001B[49m\u001B[43m(\u001B[49m\u001B[43mreq\u001B[49m\u001B[43m,\u001B[49m\u001B[43m \u001B[49m\u001B[43mresponse\u001B[49m\u001B[43m)\u001B[49m\n\u001B[0;32m    525\u001B[0m \u001B[38;5;28;01mreturn\u001B[39;00m response\n",
      "File \u001B[1;32mc:\\python39\\lib\\urllib\\request.py:632\u001B[0m, in \u001B[0;36mHTTPErrorProcessor.http_response\u001B[1;34m(self, request, response)\u001B[0m\n\u001B[0;32m    629\u001B[0m \u001B[38;5;66;03m# According to RFC 2616, \"2xx\" code indicates that the client's\u001B[39;00m\n\u001B[0;32m    630\u001B[0m \u001B[38;5;66;03m# request was successfully received, understood, and accepted.\u001B[39;00m\n\u001B[0;32m    631\u001B[0m \u001B[38;5;28;01mif\u001B[39;00m \u001B[38;5;129;01mnot\u001B[39;00m (\u001B[38;5;241m200\u001B[39m \u001B[38;5;241m<\u001B[39m\u001B[38;5;241m=\u001B[39m code \u001B[38;5;241m<\u001B[39m \u001B[38;5;241m300\u001B[39m):\n\u001B[1;32m--> 632\u001B[0m     response \u001B[38;5;241m=\u001B[39m \u001B[38;5;28;43mself\u001B[39;49m\u001B[38;5;241;43m.\u001B[39;49m\u001B[43mparent\u001B[49m\u001B[38;5;241;43m.\u001B[39;49m\u001B[43merror\u001B[49m\u001B[43m(\u001B[49m\n\u001B[0;32m    633\u001B[0m \u001B[43m        \u001B[49m\u001B[38;5;124;43m'\u001B[39;49m\u001B[38;5;124;43mhttp\u001B[39;49m\u001B[38;5;124;43m'\u001B[39;49m\u001B[43m,\u001B[49m\u001B[43m \u001B[49m\u001B[43mrequest\u001B[49m\u001B[43m,\u001B[49m\u001B[43m \u001B[49m\u001B[43mresponse\u001B[49m\u001B[43m,\u001B[49m\u001B[43m \u001B[49m\u001B[43mcode\u001B[49m\u001B[43m,\u001B[49m\u001B[43m \u001B[49m\u001B[43mmsg\u001B[49m\u001B[43m,\u001B[49m\u001B[43m \u001B[49m\u001B[43mhdrs\u001B[49m\u001B[43m)\u001B[49m\n\u001B[0;32m    635\u001B[0m \u001B[38;5;28;01mreturn\u001B[39;00m response\n",
      "File \u001B[1;32mc:\\python39\\lib\\urllib\\request.py:561\u001B[0m, in \u001B[0;36mOpenerDirector.error\u001B[1;34m(self, proto, *args)\u001B[0m\n\u001B[0;32m    559\u001B[0m \u001B[38;5;28;01mif\u001B[39;00m http_err:\n\u001B[0;32m    560\u001B[0m     args \u001B[38;5;241m=\u001B[39m (\u001B[38;5;28mdict\u001B[39m, \u001B[38;5;124m'\u001B[39m\u001B[38;5;124mdefault\u001B[39m\u001B[38;5;124m'\u001B[39m, \u001B[38;5;124m'\u001B[39m\u001B[38;5;124mhttp_error_default\u001B[39m\u001B[38;5;124m'\u001B[39m) \u001B[38;5;241m+\u001B[39m orig_args\n\u001B[1;32m--> 561\u001B[0m     \u001B[38;5;28;01mreturn\u001B[39;00m \u001B[38;5;28;43mself\u001B[39;49m\u001B[38;5;241;43m.\u001B[39;49m\u001B[43m_call_chain\u001B[49m\u001B[43m(\u001B[49m\u001B[38;5;241;43m*\u001B[39;49m\u001B[43margs\u001B[49m\u001B[43m)\u001B[49m\n",
      "File \u001B[1;32mc:\\python39\\lib\\urllib\\request.py:494\u001B[0m, in \u001B[0;36mOpenerDirector._call_chain\u001B[1;34m(self, chain, kind, meth_name, *args)\u001B[0m\n\u001B[0;32m    492\u001B[0m \u001B[38;5;28;01mfor\u001B[39;00m handler \u001B[38;5;129;01min\u001B[39;00m handlers:\n\u001B[0;32m    493\u001B[0m     func \u001B[38;5;241m=\u001B[39m \u001B[38;5;28mgetattr\u001B[39m(handler, meth_name)\n\u001B[1;32m--> 494\u001B[0m     result \u001B[38;5;241m=\u001B[39m \u001B[43mfunc\u001B[49m\u001B[43m(\u001B[49m\u001B[38;5;241;43m*\u001B[39;49m\u001B[43margs\u001B[49m\u001B[43m)\u001B[49m\n\u001B[0;32m    495\u001B[0m     \u001B[38;5;28;01mif\u001B[39;00m result \u001B[38;5;129;01mis\u001B[39;00m \u001B[38;5;129;01mnot\u001B[39;00m \u001B[38;5;28;01mNone\u001B[39;00m:\n\u001B[0;32m    496\u001B[0m         \u001B[38;5;28;01mreturn\u001B[39;00m result\n",
      "File \u001B[1;32mc:\\python39\\lib\\urllib\\request.py:641\u001B[0m, in \u001B[0;36mHTTPDefaultErrorHandler.http_error_default\u001B[1;34m(self, req, fp, code, msg, hdrs)\u001B[0m\n\u001B[0;32m    640\u001B[0m \u001B[38;5;28;01mdef\u001B[39;00m \u001B[38;5;21mhttp_error_default\u001B[39m(\u001B[38;5;28mself\u001B[39m, req, fp, code, msg, hdrs):\n\u001B[1;32m--> 641\u001B[0m     \u001B[38;5;28;01mraise\u001B[39;00m HTTPError(req\u001B[38;5;241m.\u001B[39mfull_url, code, msg, hdrs, fp)\n",
      "\u001B[1;31mHTTPError\u001B[0m: HTTP Error 403: Forbidden"
     ]
    }
   ],
   "source": [
    "df = pd.read_csv('http://stamfordresearch.com/wp-content/uploads/2016/08/Titanic.csv') \n",
    "print(df.shape)\n",
    "df.head()"
   ]
  },
  {
   "cell_type": "code",
   "execution_count": null,
   "metadata": {},
   "outputs": [],
   "source": [
    "df.columns"
   ]
  },
  {
   "cell_type": "markdown",
   "metadata": {},
   "source": [
    "# Zadanie 6\n",
    "\n",
    "Usuń kolumny: \"PassengerId\", \"Name\" i \"Ticket\".\n",
    "\n",
    "Powody:\n",
    "\n",
    "  * PassengerId - jest to unikalny numer\n",
    "  * Imię - nie ma wpływu na predykcje\n",
    "  * Bilet - wygląda niechlujnie i jest losowe"
   ]
  },
  {
   "cell_type": "code",
   "execution_count": null,
   "metadata": {},
   "outputs": [],
   "source": []
  },
  {
   "cell_type": "markdown",
   "metadata": {},
   "source": [
    "# Następnie musimy spojrzeć na kolumnę Cabin.\n",
    "\n",
    "Następnie musimy spojrzeć na kolumnę Cabin. Będziemy leniwi i zmienimy wartości na Tak lub Nie (w zależności czy posiadał kabinę). Lepszym sposobem na to może być podzielenie opisu tak aby uzyskać pierwszą literę, ponieważ zwykle oznacza ona, na którym pokładzie znajdowała się kabina. Może to być użyteczne przy predykcji (ale my na razie jej nie wykonujemy)."
   ]
  },
  {
   "cell_type": "code",
   "execution_count": null,
   "metadata": {},
   "outputs": [],
   "source": [
    "df.loc[df.Cabin.isnull()]"
   ]
  },
  {
   "cell_type": "markdown",
   "metadata": {},
   "source": [
    "# Zadanie 7\n",
    "Utwórz nową kolumną o nazwie HasCabin, która zawiera 1 jeżeli ktoś miał swoją kabinę i 0 jeśli nie."
   ]
  },
  {
   "cell_type": "code",
   "execution_count": null,
   "metadata": {},
   "outputs": [],
   "source": []
  },
  {
   "cell_type": "markdown",
   "metadata": {},
   "source": [
    "# Zadanie 8\n",
    "Usuń brakujące wartości"
   ]
  },
  {
   "cell_type": "code",
   "execution_count": null,
   "metadata": {},
   "outputs": [],
   "source": []
  },
  {
   "cell_type": "markdown",
   "metadata": {},
   "source": [
    "# Matplotlib - rysowanie wykresów w Pythonie\n",
    "\n",
    "**Matplotlib** jest biblioteką do tworzenia wysokiej jakości wykresów dla języka Python i jego rozszerzenia numerycznego NumPy. Umożliwia prezentację danych w różnych formatach (np. PNG, PDF, XLS). Zapewnia kontrolę nad wyglądem, stylami i właściwościami wykresów, pracę w środowisku interaktywnym, jak i możliwość osadzania wyników w aplikacjach destkopowych czy webowych.\n",
    "\n",
    "Funkcje i narzędzia tej biblioteki są napisane w taki sposób aby jak najbardziej odzwierciedlały metody rysowania wykresów z języka MatLab, dzięki czemu użytkownicy Matlaba w łatwy sposób mogą przenieść się do języka Python.\n",
    "Niektóre zalety korzystania z Pythona, NumPy i matplotlib nad MatLabem:\n",
    "  \n",
    "  * nowoczesny język programowania w pełni funkcjonalny obiektowo, odpowiedni do tworzenia oprogramowania na dużą skalę,\n",
    "  * darmowy (open source),\n",
    "  * wsparcie SVG.\n",
    "\n",
    "Aby skorzystać z biblioteki matplotlib należy ją wcześniej zaimportować, np.:"
   ]
  },
  {
   "cell_type": "code",
   "execution_count": null,
   "metadata": {},
   "outputs": [],
   "source": [
    "import matplotlib.pyplot as plt\n",
    "# from matplotlib import pyplot as plt\n",
    "\n",
    "%matplotlib inline"
   ]
  },
  {
   "cell_type": "markdown",
   "metadata": {},
   "source": [
    "# Pierwszy wykres"
   ]
  },
  {
   "cell_type": "code",
   "execution_count": null,
   "metadata": {},
   "outputs": [],
   "source": [
    "plt.plot([1, 5, 2, 7, 4, 1]) # wartości funkcji\n",
    "plt.show()"
   ]
  },
  {
   "cell_type": "code",
   "execution_count": null,
   "metadata": {},
   "outputs": [],
   "source": [
    "plt.plot([1, 2, 4, 7], [-1, 3, -2, 10])\n",
    "plt.show()"
   ]
  },
  {
   "cell_type": "markdown",
   "metadata": {},
   "source": [
    "Własności wykresów\n",
    "Za pomocą specjalnych poleceń można też zmieniać właściwości wykresów, takie jak np.: rodzaj linii, kolor, czy też symbole punktów.\n",
    "Rodzaje linii:\n",
    "  \n",
    "  * **\\-** - ciągła,\n",
    "  * **:** - punktowa,\n",
    "  * **-.** - kropka-kreska,\n",
    "  * **--** - kreskowana.\n",
    "\n",
    "Kolory:\n",
    "\n",
    "  * **y** - yellow,\n",
    "  * **m** - magenta,\n",
    "  * **c** - cyan,\n",
    "  * **r** - red,\n",
    "  * **g** - green,\n",
    "  * **b** - blue,\n",
    "  * **w** - white,\n",
    "  * **k** - black.\n",
    "\n",
    "Symbole:\n",
    "\n",
    "  * **.** - punkt,\n",
    "  * **o** - kółko,\n",
    "  * **x** - x,\n",
    "  * **\\+** - plus,\n",
    "  * ** \\* ** - gwiazdka,\n",
    "  * **s** - kwadraty,\n",
    "  * **d** - romb,\n",
    "  * **v** - trójkąt w dół,\n",
    "  * **^** - trójkąt w górę,\n",
    "  * **<** - trójkąt w lewo,\n",
    "  * **\\>** - trójkąt w prawo,\n",
    "  * **p** - pięciokąt,\n",
    "  * **h** - sześciokąt."
   ]
  },
  {
   "cell_type": "code",
   "execution_count": null,
   "metadata": {},
   "outputs": [],
   "source": [
    "import numpy as np\n",
    "\n",
    "x = np.arange(0., 5., 0.2)\n",
    "\n",
    "plt.plot(x, x, 'r--', x, x**2, 'bs', x, x**3, 'g^')\n",
    "plt.show()"
   ]
  },
  {
   "cell_type": "code",
   "execution_count": null,
   "metadata": {},
   "outputs": [],
   "source": [
    "x = [1,2,3,4]\n",
    "y = [20, 21, 20.5, 20.8]\n",
    "\n",
    "plt.plot(x, y, linestyle=\"dashed\", marker=\"o\", color=\"green\")\n",
    "\n",
    "# ustawienie granic osi X, \n",
    "plt.xlim(0.5,4.5)\n",
    "plt.ylim(19.8,21.2)\n",
    "\n",
    "plt.show()"
   ]
  },
  {
   "cell_type": "code",
   "execution_count": null,
   "metadata": {},
   "outputs": [],
   "source": [
    "x = np.linspace(0, 20, 1000)\n",
    "y1 = np.sin(x)\n",
    "y2 = np.cos(x)\n",
    "\n",
    "# rozmiar czcionki\n",
    "plt.rc(\"font\", size=10)\n",
    "\n",
    "# dodanie legendy\n",
    "plt.plot(x, y1, '-b', label=r'$\\sin(x)$')\n",
    "plt.plot(x, y2, '-r', label='cosine')\n",
    "plt.legend(loc='upper right') # pozycja legendy\n",
    "# plt.legend(loc='upper left', frameon=False)\n",
    "plt.ylim(-1.5, 2.0)\n",
    "\n",
    "plt.title(\"Dwa wykresy\", size=20)\n",
    "\n",
    "plt.show()"
   ]
  },
  {
   "cell_type": "code",
   "execution_count": null,
   "metadata": {},
   "outputs": [],
   "source": []
  },
  {
   "cell_type": "markdown",
   "metadata": {},
   "source": [
    "Więcej na temat wyszczególnienia obiektów na wykresie odsyłam do dokumntacji: [http://matplotlib.org/users/annotations_guide.html]\n"
   ]
  },
  {
   "cell_type": "markdown",
   "metadata": {},
   "source": [
    "#  Statystyka\n"
   ]
  },
  {
   "cell_type": "code",
   "execution_count": null,
   "metadata": {},
   "outputs": [],
   "source": [
    "inFile = 'http://ww2.amstat.org/publications/jse/datasets/babyboom.dat.txt'\n",
    "data = pd.read_csv(inFile, sep='[ ]+', header=None, engine='python',names= ['sex', 'Weight', 'Minutes'])\n",
    "df = data[['Minutes', 'sex', 'Weight']]"
   ]
  },
  {
   "cell_type": "markdown",
   "metadata": {},
   "source": [
    "  * Narysujmy dane <tt>df.Weight.values</tt> jako szereg czasowy"
   ]
  },
  {
   "cell_type": "code",
   "execution_count": null,
   "metadata": {},
   "outputs": [],
   "source": [
    "x=df.Weight.values\n",
    "plt.scatter(np.arange(len(x)), x)\n",
    "plt.show()"
   ]
  },
  {
   "cell_type": "markdown",
   "metadata": {},
   "source": [
    " Narysujmy histogram dla <tt>df.Weight.values</tt>"
   ]
  },
  {
   "cell_type": "code",
   "execution_count": null,
   "metadata": {},
   "outputs": [],
   "source": [
    "plt.hist(x, bins=25)\n",
    "plt.show()"
   ]
  },
  {
   "cell_type": "markdown",
   "metadata": {},
   "source": [
    "Narysujmy gęstość dla <tt> df.Weight.values</tt> (estymacja jądrowa):"
   ]
  },
  {
   "cell_type": "code",
   "execution_count": null,
   "metadata": {},
   "outputs": [],
   "source": [
    "import seaborn as sns\n",
    "sns.kdeplot(x)\n",
    "plt.show()"
   ]
  },
  {
   "cell_type": "markdown",
   "metadata": {},
   "source": [
    "Narysujmy dystrybuantę empiryczną dla </tt> df.Weight.values<tt>"
   ]
  },
  {
   "cell_type": "code",
   "execution_count": null,
   "metadata": {},
   "outputs": [],
   "source": [
    "from scipy import stats\n",
    "plt.plot(stats.cumfreq(x,numbins=25)[0])\n",
    "plt.show()"
   ]
  },
  {
   "cell_type": "markdown",
   "metadata": {},
   "source": [
    "Narysujmy wykres pudełkowy dla <tt>df.Weight.values</tt>"
   ]
  },
  {
   "cell_type": "code",
   "execution_count": null,
   "metadata": {},
   "outputs": [],
   "source": [
    "plt.boxplot(x, sym='*')\n",
    "plt.show()"
   ]
  },
  {
   "cell_type": "markdown",
   "metadata": {},
   "source": [
    "Narysujmy wykres skrzypcowy dla <tt>df.Weight.values</tt>"
   ]
  },
  {
   "cell_type": "code",
   "execution_count": null,
   "metadata": {},
   "outputs": [],
   "source": [
    "sns.violinplot(x)\n",
    "plt.show()"
   ]
  },
  {
   "cell_type": "markdown",
   "metadata": {},
   "source": [
    "# Zadanie\n",
    "Proszę podzielić próbkę na dwie grupy ze względu na płeć (kolumna ``sex'') i narysować dla nich:\n",
    "<ul>\n",
    "<li>wykres w kształcie szeregu czasowego</li>\n",
    "<li>histogramy</li>\n",
    "<li>estymacje gęstości</li>\n",
    "<li>dystrybuanty empiryczne</li>\n",
    "<li>wykresy pudełkowe</li>\n",
    "<li>wykresy skrzypcowe</li>\n",
    "</ul>"
   ]
  },
  {
   "cell_type": "code",
   "execution_count": null,
   "metadata": {},
   "outputs": [],
   "source": []
  },
  {
   "cell_type": "code",
   "execution_count": null,
   "metadata": {},
   "outputs": [],
   "source": []
  },
  {
   "cell_type": "code",
   "execution_count": null,
   "metadata": {},
   "outputs": [],
   "source": []
  },
  {
   "cell_type": "code",
   "execution_count": null,
   "metadata": {},
   "outputs": [],
   "source": []
  },
  {
   "cell_type": "code",
   "execution_count": null,
   "metadata": {},
   "outputs": [],
   "source": []
  },
  {
   "cell_type": "code",
   "execution_count": null,
   "metadata": {},
   "outputs": [],
   "source": []
  },
  {
   "cell_type": "markdown",
   "metadata": {},
   "source": [
    "# Zadanie 9\n",
    "\n",
    "\n",
    "## Reguła Trzech Sigm\n",
    "Reguła Trzech Sigm dla danego rozkładu normalnego $N(mean,\\sigma)$ oznacza, że w przedziale $[mean-3\\sigma,mean+3\\sigma]$ znajduje się 99.7\\% wszystkich obserwacji.\n",
    "\n",
    "Napisz program, który:\n",
    "\n",
    "  * rysuje gęstość rozkładu normalnego o zadanych parametrach $mean$ i $\\sigma$,\n",
    "  * wylicza pole pod krzywą\n",
    "  * zaznacza obszar po krzywą\n",
    "\n",
    "Policz prawdopodobieństwa:\n",
    "\n",
    "  * $P(X \\in [mean-\\sigma,mean+\\sigma])$\n",
    "  * $P(X \\in [mean-2\\sigma,mean+2\\sigma])$\n",
    "  * $P(X \\in [mean-3\\sigma,mean+3\\sigma])$\n",
    "\n"
   ]
  },
  {
   "cell_type": "code",
   "execution_count": null,
   "metadata": {},
   "outputs": [],
   "source": []
  },
  {
   "cell_type": "code",
   "execution_count": null,
   "metadata": {
    "collapsed": true
   },
   "outputs": [],
   "source": []
  }
 ],
 "metadata": {
  "kernelspec": {
   "display_name": "Python 3",
   "language": "python",
   "name": "python3"
  },
  "language_info": {
   "codemirror_mode": {
    "name": "ipython",
    "version": 3
   },
   "file_extension": ".py",
   "mimetype": "text/x-python",
   "name": "python",
   "nbconvert_exporter": "python",
   "pygments_lexer": "ipython3",
   "version": "3.7.3"
  }
 },
 "nbformat": 4,
 "nbformat_minor": 2
}